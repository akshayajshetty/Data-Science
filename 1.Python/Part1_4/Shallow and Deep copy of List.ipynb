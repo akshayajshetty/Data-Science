{
 "cells": [
  {
   "cell_type": "code",
   "execution_count": 18,
   "id": "587ed8de",
   "metadata": {},
   "outputs": [
    {
     "data": {
      "text/plain": [
       "['a', 'b', 'c', 'd']"
      ]
     },
     "execution_count": 18,
     "metadata": {},
     "output_type": "execute_result"
    }
   ],
   "source": [
    "names = [\"a\",\"b\",\"c\",\"d\"]\n",
    "names"
   ]
  },
  {
   "cell_type": "code",
   "execution_count": 19,
   "id": "93cfd3af",
   "metadata": {},
   "outputs": [],
   "source": [
    "new_names = names"
   ]
  },
  {
   "cell_type": "code",
   "execution_count": 20,
   "id": "cc29098c",
   "metadata": {},
   "outputs": [
    {
     "name": "stdout",
     "output_type": "stream",
     "text": [
      "Original : ['a', 'b', 'c', 'd']\n",
      "copy : ['a', 'b', 'c', 'd']\n"
     ]
    }
   ],
   "source": [
    "print(f\"Original : {names}\")\n",
    "print(f\"copy : {new_names}\")"
   ]
  },
  {
   "cell_type": "code",
   "execution_count": 21,
   "id": "64b17a56",
   "metadata": {},
   "outputs": [],
   "source": [
    "new_names[0] = \"e\""
   ]
  },
  {
   "cell_type": "code",
   "execution_count": 22,
   "id": "879417d2",
   "metadata": {},
   "outputs": [
    {
     "name": "stdout",
     "output_type": "stream",
     "text": [
      "Original : ['e', 'b', 'c', 'd']\n",
      "copy : ['e', 'b', 'c', 'd']\n"
     ]
    }
   ],
   "source": [
    "print(f\"Original : {names}\")\n",
    "print(f\"copy : {new_names}\")"
   ]
  },
  {
   "cell_type": "code",
   "execution_count": 23,
   "id": "097e2f35",
   "metadata": {},
   "outputs": [],
   "source": [
    "import copy"
   ]
  },
  {
   "cell_type": "code",
   "execution_count": 24,
   "id": "2ccef216",
   "metadata": {},
   "outputs": [
    {
     "data": {
      "text/plain": [
       "['Google', 'Microsoft', 'Amazon']"
      ]
     },
     "execution_count": 24,
     "metadata": {},
     "output_type": "execute_result"
    }
   ],
   "source": [
    "companies = [\"Google\",\"Microsoft\",\"Amazon\"]\n",
    "companies"
   ]
  },
  {
   "cell_type": "code",
   "execution_count": 25,
   "id": "343d58ef",
   "metadata": {},
   "outputs": [],
   "source": [
    "new_companies = copy.copy(companies)"
   ]
  },
  {
   "cell_type": "code",
   "execution_count": 27,
   "id": "0560b0d2",
   "metadata": {},
   "outputs": [
    {
     "name": "stdout",
     "output_type": "stream",
     "text": [
      "Original : ['Google', 'Microsoft', 'Amazon']\n",
      "copy : ['Google', 'Microsoft', 'Amazon']\n"
     ]
    }
   ],
   "source": [
    "print(f\"Original : {companies}\")\n",
    "print(f\"copy : {new_companies}\")"
   ]
  },
  {
   "cell_type": "code",
   "execution_count": 28,
   "id": "ebf03c23",
   "metadata": {},
   "outputs": [],
   "source": [
    "new_companies[1] = \"Facebook\""
   ]
  },
  {
   "cell_type": "code",
   "execution_count": 29,
   "id": "a2965372",
   "metadata": {},
   "outputs": [
    {
     "name": "stdout",
     "output_type": "stream",
     "text": [
      "Original : ['Google', 'Microsoft', 'Amazon']\n",
      "copy : ['Google', 'Facebook', 'Amazon']\n"
     ]
    }
   ],
   "source": [
    "print(f\"Original : {companies}\")\n",
    "print(f\"copy : {new_companies}\")"
   ]
  },
  {
   "cell_type": "code",
   "execution_count": 30,
   "id": "4b0a8fbe",
   "metadata": {},
   "outputs": [
    {
     "data": {
      "text/plain": [
       "[[1, 2, 3], [4, 5, 6], [7, 8, 9]]"
      ]
     },
     "execution_count": 30,
     "metadata": {},
     "output_type": "execute_result"
    }
   ],
   "source": [
    "old_list = [[1,2,3],[4,5,6],[7,8,9]]\n",
    "old_list"
   ]
  },
  {
   "cell_type": "code",
   "execution_count": 31,
   "id": "ef0f5c01",
   "metadata": {},
   "outputs": [],
   "source": [
    "new_list = copy.copy(old_list)"
   ]
  },
  {
   "cell_type": "code",
   "execution_count": 32,
   "id": "62b6cf5c",
   "metadata": {},
   "outputs": [
    {
     "name": "stdout",
     "output_type": "stream",
     "text": [
      "Original : [[1, 2, 3], [4, 5, 6], [7, 8, 9]]\n",
      "copy : [[1, 2, 3], [4, 5, 6], [7, 8, 9]]\n"
     ]
    }
   ],
   "source": [
    "print(f\"Original : {old_list}\")\n",
    "print(f\"copy : {new_list}\")"
   ]
  },
  {
   "cell_type": "code",
   "execution_count": 33,
   "id": "b32f2e70",
   "metadata": {},
   "outputs": [],
   "source": [
    "new_list[1][1] =\"five\""
   ]
  },
  {
   "cell_type": "code",
   "execution_count": 34,
   "id": "a5b1a956",
   "metadata": {},
   "outputs": [
    {
     "name": "stdout",
     "output_type": "stream",
     "text": [
      "Original : [[1, 2, 3], [4, 'five', 6], [7, 8, 9]]\n",
      "copy : [[1, 2, 3], [4, 'five', 6], [7, 8, 9]]\n"
     ]
    }
   ],
   "source": [
    "print(f\"Original : {old_list}\")\n",
    "print(f\"copy : {new_list}\")"
   ]
  },
  {
   "cell_type": "code",
   "execution_count": 35,
   "id": "8aa74ab1",
   "metadata": {},
   "outputs": [],
   "source": [
    "new_list[2].append(\"Ten\")"
   ]
  },
  {
   "cell_type": "code",
   "execution_count": 36,
   "id": "9573a5f3",
   "metadata": {},
   "outputs": [
    {
     "name": "stdout",
     "output_type": "stream",
     "text": [
      "Original : [[1, 2, 3], [4, 'five', 6], [7, 8, 9, 'Ten']]\n",
      "copy : [[1, 2, 3], [4, 'five', 6], [7, 8, 9, 'Ten']]\n"
     ]
    }
   ],
   "source": [
    "print(f\"Original : {old_list}\")\n",
    "print(f\"copy : {new_list}\")"
   ]
  },
  {
   "cell_type": "code",
   "execution_count": 38,
   "id": "15e65a6a",
   "metadata": {},
   "outputs": [],
   "source": [
    "old_list.append([10,11,12])"
   ]
  },
  {
   "cell_type": "code",
   "execution_count": 39,
   "id": "087baab6",
   "metadata": {},
   "outputs": [
    {
     "name": "stdout",
     "output_type": "stream",
     "text": [
      "Original : [[1, 2, 3], [4, 'five', 6], [7, 8, 9, 'Ten'], [10, 11, 12]]\n",
      "copy : [[1, 2, 3], [4, 'five', 6], [7, 8, 9, 'Ten']]\n"
     ]
    }
   ],
   "source": [
    "print(f\"Original : {old_list}\")\n",
    "print(f\"copy : {new_list}\")"
   ]
  },
  {
   "cell_type": "code",
   "execution_count": 40,
   "id": "cb0d1378",
   "metadata": {},
   "outputs": [
    {
     "data": {
      "text/plain": [
       "['US', 'UK', 'USSR', 'UAE']"
      ]
     },
     "execution_count": 40,
     "metadata": {},
     "output_type": "execute_result"
    }
   ],
   "source": [
    "names = [\"US\",\"UK\",\"USSR\",\"UAE\"]\n",
    "names"
   ]
  },
  {
   "cell_type": "code",
   "execution_count": 42,
   "id": "60ae0f68",
   "metadata": {},
   "outputs": [],
   "source": [
    "new_names = names.copy()"
   ]
  },
  {
   "cell_type": "code",
   "execution_count": 43,
   "id": "42cd852b",
   "metadata": {},
   "outputs": [
    {
     "name": "stdout",
     "output_type": "stream",
     "text": [
      "Original : ['US', 'UK', 'USSR', 'UAE']\n",
      "copy : ['US', 'UK', 'USSR', 'UAE']\n"
     ]
    }
   ],
   "source": [
    "print(f\"Original : {names}\")\n",
    "print(f\"copy : {new_names}\")"
   ]
  },
  {
   "cell_type": "code",
   "execution_count": 44,
   "id": "6ec0e899",
   "metadata": {},
   "outputs": [],
   "source": [
    "new_names[1] = \"India\""
   ]
  },
  {
   "cell_type": "code",
   "execution_count": 45,
   "id": "eac98e65",
   "metadata": {},
   "outputs": [
    {
     "name": "stdout",
     "output_type": "stream",
     "text": [
      "Original : ['US', 'UK', 'USSR', 'UAE']\n",
      "copy : ['US', 'India', 'USSR', 'UAE']\n"
     ]
    }
   ],
   "source": [
    "print(f\"Original : {names}\")\n",
    "print(f\"copy : {new_names}\")"
   ]
  },
  {
   "cell_type": "code",
   "execution_count": 46,
   "id": "dffa61e9",
   "metadata": {},
   "outputs": [],
   "source": [
    "# copy.copy() and copy.deepcopy()  produce deep copy of non nested list"
   ]
  },
  {
   "cell_type": "code",
   "execution_count": 47,
   "id": "a38cc7f8",
   "metadata": {},
   "outputs": [
    {
     "data": {
      "text/plain": [
       "[[1, 2, 3], [4, 5, 6], [7, 8, 9]]"
      ]
     },
     "execution_count": 47,
     "metadata": {},
     "output_type": "execute_result"
    }
   ],
   "source": [
    "old_list = [[1,2,3],[4,5,6],[7,8,9]]\n",
    "old_list"
   ]
  },
  {
   "cell_type": "code",
   "execution_count": 48,
   "id": "3150c97b",
   "metadata": {},
   "outputs": [],
   "source": [
    "new_list = copy.deepcopy(old_list)"
   ]
  },
  {
   "cell_type": "code",
   "execution_count": 49,
   "id": "7ccc1ada",
   "metadata": {},
   "outputs": [
    {
     "name": "stdout",
     "output_type": "stream",
     "text": [
      "Original : [[1, 2, 3], [4, 5, 6], [7, 8, 9]]\n",
      "copy : [[1, 2, 3], [4, 5, 6], [7, 8, 9]]\n"
     ]
    }
   ],
   "source": [
    "print(f\"Original : {old_list}\")\n",
    "print(f\"copy : {new_list}\")"
   ]
  },
  {
   "cell_type": "code",
   "execution_count": 50,
   "id": "22ca6417",
   "metadata": {},
   "outputs": [],
   "source": [
    "old_list[2][2] =\"Nine\""
   ]
  },
  {
   "cell_type": "code",
   "execution_count": 51,
   "id": "0eb5b76b",
   "metadata": {},
   "outputs": [
    {
     "name": "stdout",
     "output_type": "stream",
     "text": [
      "Original : [[1, 2, 3], [4, 5, 6], [7, 8, 'Nine']]\n",
      "copy : [[1, 2, 3], [4, 5, 6], [7, 8, 9]]\n"
     ]
    }
   ],
   "source": [
    "print(f\"Original : {old_list}\")\n",
    "print(f\"copy : {new_list}\")"
   ]
  },
  {
   "cell_type": "code",
   "execution_count": 52,
   "id": "31ec1fdc",
   "metadata": {},
   "outputs": [],
   "source": [
    "# copy.deepcopy(list) deep copy of nested list"
   ]
  },
  {
   "cell_type": "code",
   "execution_count": 53,
   "id": "919d7511",
   "metadata": {},
   "outputs": [
    {
     "data": {
      "text/plain": [
       "['Google', 'Microsoft', 'Amazon']"
      ]
     },
     "execution_count": 53,
     "metadata": {},
     "output_type": "execute_result"
    }
   ],
   "source": [
    "companies"
   ]
  },
  {
   "cell_type": "code",
   "execution_count": 54,
   "id": "131df7e7",
   "metadata": {},
   "outputs": [],
   "source": [
    "new_companies = companies[:]   # Deep copy"
   ]
  },
  {
   "cell_type": "code",
   "execution_count": 55,
   "id": "590f5adc",
   "metadata": {},
   "outputs": [
    {
     "data": {
      "text/plain": [
       "['Google', 'Microsoft', 'Amazon']"
      ]
     },
     "execution_count": 55,
     "metadata": {},
     "output_type": "execute_result"
    }
   ],
   "source": [
    "new_companies"
   ]
  },
  {
   "cell_type": "code",
   "execution_count": 56,
   "id": "3ff5a207",
   "metadata": {},
   "outputs": [],
   "source": [
    "new_companies[2] = 'facebook'"
   ]
  },
  {
   "cell_type": "code",
   "execution_count": 57,
   "id": "c07ea772",
   "metadata": {},
   "outputs": [
    {
     "name": "stdout",
     "output_type": "stream",
     "text": [
      "Original : ['Google', 'Microsoft', 'Amazon']\n",
      "copy : ['Google', 'Microsoft', 'facebook']\n"
     ]
    }
   ],
   "source": [
    "print(f\"Original : {companies}\")\n",
    "print(f\"copy : {new_companies}\")"
   ]
  },
  {
   "cell_type": "code",
   "execution_count": null,
   "id": "3bedef3c",
   "metadata": {},
   "outputs": [],
   "source": []
  }
 ],
 "metadata": {
  "kernelspec": {
   "display_name": "Python 3 (ipykernel)",
   "language": "python",
   "name": "python3"
  },
  "language_info": {
   "codemirror_mode": {
    "name": "ipython",
    "version": 3
   },
   "file_extension": ".py",
   "mimetype": "text/x-python",
   "name": "python",
   "nbconvert_exporter": "python",
   "pygments_lexer": "ipython3",
   "version": "3.11.3"
  }
 },
 "nbformat": 4,
 "nbformat_minor": 5
}
