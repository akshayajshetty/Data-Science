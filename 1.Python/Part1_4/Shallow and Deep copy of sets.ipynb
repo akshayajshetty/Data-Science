{
 "cells": [
  {
   "cell_type": "code",
   "execution_count": 2,
   "id": "c652b1c9",
   "metadata": {},
   "outputs": [
    {
     "data": {
      "text/plain": [
       "{'C', 'C++', 'HTML', 'Java', 'python'}"
      ]
     },
     "execution_count": 2,
     "metadata": {},
     "output_type": "execute_result"
    }
   ],
   "source": [
    "set_1 = {\"python\",\"C\",\"C++\",\"HTML\",\"Java\"}\n",
    "set_1"
   ]
  },
  {
   "cell_type": "code",
   "execution_count": 3,
   "id": "beff9e12",
   "metadata": {},
   "outputs": [],
   "source": [
    "set_2 = set_1"
   ]
  },
  {
   "cell_type": "code",
   "execution_count": 4,
   "id": "073541a4",
   "metadata": {},
   "outputs": [
    {
     "name": "stdout",
     "output_type": "stream",
     "text": [
      "Original : {'C', 'python', 'Java', 'C++', 'HTML'}\n",
      "Copy : {'C', 'python', 'Java', 'C++', 'HTML'}\n"
     ]
    }
   ],
   "source": [
    "print(f\"Original : {set_1}\")\n",
    "print(f\"Copy : {set_2}\")"
   ]
  },
  {
   "cell_type": "code",
   "execution_count": 5,
   "id": "7b3f7533",
   "metadata": {},
   "outputs": [],
   "source": [
    "set_2.add(\"SQL\")"
   ]
  },
  {
   "cell_type": "code",
   "execution_count": 6,
   "id": "7c17f21a",
   "metadata": {},
   "outputs": [
    {
     "name": "stdout",
     "output_type": "stream",
     "text": [
      "Original : {'C', 'SQL', 'python', 'Java', 'C++', 'HTML'}\n",
      "Copy : {'C', 'SQL', 'python', 'Java', 'C++', 'HTML'}\n"
     ]
    }
   ],
   "source": [
    "print(f\"Original : {set_1}\")\n",
    "print(f\"Copy : {set_2}\")"
   ]
  },
  {
   "cell_type": "code",
   "execution_count": 8,
   "id": "f88d3405",
   "metadata": {},
   "outputs": [
    {
     "data": {
      "text/plain": [
       "{('RR', 'Jguar', 'Bentley'), 'Audi', 'BMW', 'Honda'}"
      ]
     },
     "execution_count": 8,
     "metadata": {},
     "output_type": "execute_result"
    }
   ],
   "source": [
    "new_set_1 = {\"Honda\",\"BMW\",\"Audi\",(\"RR\",\"Jguar\",\"Bentley\")}\n",
    "new_set_1"
   ]
  },
  {
   "cell_type": "code",
   "execution_count": 9,
   "id": "ac1f2bd4",
   "metadata": {},
   "outputs": [],
   "source": [
    "new_set_2 = new_set_1"
   ]
  },
  {
   "cell_type": "code",
   "execution_count": 10,
   "id": "1d42bf10",
   "metadata": {},
   "outputs": [
    {
     "name": "stdout",
     "output_type": "stream",
     "text": [
      "Original : {('RR', 'Jguar', 'Bentley'), 'BMW', 'Audi', 'Honda'}\n",
      "Copy : {('RR', 'Jguar', 'Bentley'), 'BMW', 'Audi', 'Honda'}\n"
     ]
    }
   ],
   "source": [
    "print(f\"Original : {new_set_1}\")\n",
    "print(f\"Copy : {new_set_2}\")"
   ]
  },
  {
   "cell_type": "code",
   "execution_count": 11,
   "id": "d2ef0e89",
   "metadata": {},
   "outputs": [],
   "source": [
    "import copy"
   ]
  },
  {
   "cell_type": "code",
   "execution_count": 12,
   "id": "f484ff60",
   "metadata": {},
   "outputs": [
    {
     "data": {
      "text/plain": [
       "{('RR', 'Jguar', 'Bentley'), 'Audi', 'BMW', 'Honda'}"
      ]
     },
     "execution_count": 12,
     "metadata": {},
     "output_type": "execute_result"
    }
   ],
   "source": [
    "original_set = {\"Honda\",\"BMW\",\"Audi\",(\"RR\",\"Jguar\",\"Bentley\")}\n",
    "original_set"
   ]
  },
  {
   "cell_type": "code",
   "execution_count": 16,
   "id": "34732750",
   "metadata": {},
   "outputs": [],
   "source": [
    "copy_set = copy.copy(original_set)"
   ]
  },
  {
   "cell_type": "code",
   "execution_count": 17,
   "id": "13eb4624",
   "metadata": {},
   "outputs": [
    {
     "name": "stdout",
     "output_type": "stream",
     "text": [
      "Original : {('RR', 'Jguar', 'Bentley'), 'BMW', 'Audi', 'Honda'}\n",
      "Copy : {('RR', 'Jguar', 'Bentley'), 'BMW', 'Audi', 'Honda'}\n"
     ]
    }
   ],
   "source": [
    "print(f\"Original : {original_set}\")\n",
    "print(f\"Copy : {copy_set}\")"
   ]
  },
  {
   "cell_type": "code",
   "execution_count": 18,
   "id": "d9ecf580",
   "metadata": {},
   "outputs": [],
   "source": [
    "copy_set.add(\"RangeRover\")"
   ]
  },
  {
   "cell_type": "code",
   "execution_count": 19,
   "id": "dad07702",
   "metadata": {},
   "outputs": [
    {
     "name": "stdout",
     "output_type": "stream",
     "text": [
      "Original : {('RR', 'Jguar', 'Bentley'), 'BMW', 'Audi', 'Honda'}\n",
      "Copy : {'BMW', 'Audi', 'Honda', ('RR', 'Jguar', 'Bentley'), 'RangeRover'}\n"
     ]
    }
   ],
   "source": [
    "print(f\"Original : {original_set}\")\n",
    "print(f\"Copy : {copy_set}\")"
   ]
  },
  {
   "cell_type": "code",
   "execution_count": 20,
   "id": "a59cec83",
   "metadata": {},
   "outputs": [],
   "source": [
    "# copy() and Deepcopy() work same in sets"
   ]
  },
  {
   "cell_type": "code",
   "execution_count": null,
   "id": "ad70435b",
   "metadata": {},
   "outputs": [],
   "source": []
  }
 ],
 "metadata": {
  "kernelspec": {
   "display_name": "Python 3 (ipykernel)",
   "language": "python",
   "name": "python3"
  },
  "language_info": {
   "codemirror_mode": {
    "name": "ipython",
    "version": 3
   },
   "file_extension": ".py",
   "mimetype": "text/x-python",
   "name": "python",
   "nbconvert_exporter": "python",
   "pygments_lexer": "ipython3",
   "version": "3.11.3"
  }
 },
 "nbformat": 4,
 "nbformat_minor": 5
}
