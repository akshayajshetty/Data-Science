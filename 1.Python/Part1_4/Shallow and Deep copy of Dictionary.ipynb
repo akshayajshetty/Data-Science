{
 "cells": [
  {
   "cell_type": "code",
   "execution_count": 1,
   "id": "3dc8b870",
   "metadata": {},
   "outputs": [
    {
     "data": {
      "text/plain": [
       "{'jan': 1, 'feb': 2, 'mar': 3}"
      ]
     },
     "execution_count": 1,
     "metadata": {},
     "output_type": "execute_result"
    }
   ],
   "source": [
    "months = {\"jan\" : 1, \"feb\" : 2, \"mar\" : 3}\n",
    "months"
   ]
  },
  {
   "cell_type": "code",
   "execution_count": 2,
   "id": "348ab7af",
   "metadata": {},
   "outputs": [],
   "source": [
    "new_months = months   # Both variables refers same dictionary in memory"
   ]
  },
  {
   "cell_type": "code",
   "execution_count": 4,
   "id": "438cce08",
   "metadata": {},
   "outputs": [
    {
     "name": "stdout",
     "output_type": "stream",
     "text": [
      "older : {'jan': 1, 'feb': 2, 'mar': 3}\n",
      "copy : {'jan': 1, 'feb': 2, 'mar': 3}\n"
     ]
    }
   ],
   "source": [
    "print(f\"older : {months}\")\n",
    "print(f\"copy : {new_months}\")"
   ]
  },
  {
   "cell_type": "code",
   "execution_count": 6,
   "id": "412bde9c",
   "metadata": {},
   "outputs": [
    {
     "data": {
      "text/plain": [
       "1"
      ]
     },
     "execution_count": 6,
     "metadata": {},
     "output_type": "execute_result"
    }
   ],
   "source": [
    "new_months[\"jan\"]"
   ]
  },
  {
   "cell_type": "code",
   "execution_count": 8,
   "id": "c0dca1bb",
   "metadata": {},
   "outputs": [],
   "source": [
    "new_months[\"jan\"] = \"One\""
   ]
  },
  {
   "cell_type": "code",
   "execution_count": 9,
   "id": "ebb8d24c",
   "metadata": {},
   "outputs": [
    {
     "name": "stdout",
     "output_type": "stream",
     "text": [
      "older : {'jan': 'One', 'feb': 2, 'mar': 3}\n",
      "copy : {'jan': 'One', 'feb': 2, 'mar': 3}\n"
     ]
    }
   ],
   "source": [
    "print(f\"older : {months}\")\n",
    "print(f\"copy : {new_months}\")"
   ]
  },
  {
   "cell_type": "code",
   "execution_count": 10,
   "id": "c5ac6bff",
   "metadata": {},
   "outputs": [],
   "source": [
    "import copy"
   ]
  },
  {
   "cell_type": "code",
   "execution_count": 11,
   "id": "aa48b3bc",
   "metadata": {},
   "outputs": [
    {
     "data": {
      "text/plain": [
       "{'Apple': 180, 'Banana': 30, 'Orange': 80, 'Grapes': 120}"
      ]
     },
     "execution_count": 11,
     "metadata": {},
     "output_type": "execute_result"
    }
   ],
   "source": [
    "fruits = {\"Apple\" : 180, \"Banana\" : 30, \"Orange\" : 80, \"Grapes\" : 120}\n",
    "fruits"
   ]
  },
  {
   "cell_type": "code",
   "execution_count": 12,
   "id": "6f3c35f8",
   "metadata": {},
   "outputs": [],
   "source": [
    "new_fruits = copy.copy(fruits)   # Deep copy"
   ]
  },
  {
   "cell_type": "code",
   "execution_count": 13,
   "id": "27483c3c",
   "metadata": {},
   "outputs": [
    {
     "name": "stdout",
     "output_type": "stream",
     "text": [
      "older : {'Apple': 180, 'Banana': 30, 'Orange': 80, 'Grapes': 120}\n",
      "copy : {'Apple': 180, 'Banana': 30, 'Orange': 80, 'Grapes': 120}\n"
     ]
    }
   ],
   "source": [
    "print(f\"older : {fruits}\")\n",
    "print(f\"copy : {new_fruits}\")"
   ]
  },
  {
   "cell_type": "code",
   "execution_count": 14,
   "id": "8c27a605",
   "metadata": {},
   "outputs": [
    {
     "data": {
      "text/plain": [
       "180"
      ]
     },
     "execution_count": 14,
     "metadata": {},
     "output_type": "execute_result"
    }
   ],
   "source": [
    "new_fruits[\"Apple\"]"
   ]
  },
  {
   "cell_type": "code",
   "execution_count": 15,
   "id": "f3ca833f",
   "metadata": {},
   "outputs": [],
   "source": [
    "new_fruits[\"Apple\"] = 200"
   ]
  },
  {
   "cell_type": "code",
   "execution_count": 16,
   "id": "34c83eff",
   "metadata": {},
   "outputs": [
    {
     "name": "stdout",
     "output_type": "stream",
     "text": [
      "older : {'Apple': 180, 'Banana': 30, 'Orange': 80, 'Grapes': 120}\n",
      "copy : {'Apple': 200, 'Banana': 30, 'Orange': 80, 'Grapes': 120}\n"
     ]
    }
   ],
   "source": [
    "print(f\"older : {fruits}\")\n",
    "print(f\"copy : {new_fruits}\")"
   ]
  },
  {
   "cell_type": "code",
   "execution_count": 17,
   "id": "3a84135f",
   "metadata": {},
   "outputs": [
    {
     "data": {
      "text/plain": [
       "{'Apple': 180, 'Banana': 30, 'Orange': 80, 'Grapes': [120, 100, 80]}"
      ]
     },
     "execution_count": 17,
     "metadata": {},
     "output_type": "execute_result"
    }
   ],
   "source": [
    "original_dict = {'Apple': 180, 'Banana': 30, 'Orange': 80, 'Grapes': [120,100,80]}\n",
    "original_dict"
   ]
  },
  {
   "cell_type": "code",
   "execution_count": 18,
   "id": "3ff4666a",
   "metadata": {},
   "outputs": [],
   "source": [
    "copy_dict = copy.copy(original_dict)"
   ]
  },
  {
   "cell_type": "code",
   "execution_count": 19,
   "id": "c2d8e189",
   "metadata": {},
   "outputs": [
    {
     "name": "stdout",
     "output_type": "stream",
     "text": [
      "older : {'Apple': 180, 'Banana': 30, 'Orange': 80, 'Grapes': [120, 100, 80]}\n",
      "copy : {'Apple': 180, 'Banana': 30, 'Orange': 80, 'Grapes': [120, 100, 80]}\n"
     ]
    }
   ],
   "source": [
    "print(f\"older : {original_dict}\")\n",
    "print(f\"copy : {copy_dict}\")"
   ]
  },
  {
   "cell_type": "code",
   "execution_count": 21,
   "id": "73ccd609",
   "metadata": {},
   "outputs": [
    {
     "data": {
      "text/plain": [
       "[120, 100, 80]"
      ]
     },
     "execution_count": 21,
     "metadata": {},
     "output_type": "execute_result"
    }
   ],
   "source": [
    "copy_dict[\"Grapes\"]"
   ]
  },
  {
   "cell_type": "code",
   "execution_count": 22,
   "id": "31dd0acc",
   "metadata": {},
   "outputs": [],
   "source": [
    "copy_dict[\"Grapes\"][0] = 200"
   ]
  },
  {
   "cell_type": "code",
   "execution_count": 23,
   "id": "03e1dc20",
   "metadata": {},
   "outputs": [
    {
     "name": "stdout",
     "output_type": "stream",
     "text": [
      "older : {'Apple': 180, 'Banana': 30, 'Orange': 80, 'Grapes': [200, 100, 80]}\n",
      "copy : {'Apple': 180, 'Banana': 30, 'Orange': 80, 'Grapes': [200, 100, 80]}\n"
     ]
    }
   ],
   "source": [
    "print(f\"older : {original_dict}\")\n",
    "print(f\"copy : {copy_dict}\")"
   ]
  },
  {
   "cell_type": "code",
   "execution_count": 24,
   "id": "09a6d14e",
   "metadata": {},
   "outputs": [],
   "source": [
    "copy_dict[\"Grapes\"].append(5)"
   ]
  },
  {
   "cell_type": "code",
   "execution_count": 25,
   "id": "173c3519",
   "metadata": {},
   "outputs": [
    {
     "name": "stdout",
     "output_type": "stream",
     "text": [
      "older : {'Apple': 180, 'Banana': 30, 'Orange': 80, 'Grapes': [200, 100, 80, 5]}\n",
      "copy : {'Apple': 180, 'Banana': 30, 'Orange': 80, 'Grapes': [200, 100, 80, 5]}\n"
     ]
    }
   ],
   "source": [
    "print(f\"older : {original_dict}\")\n",
    "print(f\"copy : {copy_dict}\")"
   ]
  },
  {
   "cell_type": "code",
   "execution_count": 27,
   "id": "dd5e4fba",
   "metadata": {},
   "outputs": [
    {
     "data": {
      "text/plain": [
       "{'Apple': 180, 'Banana': {'Mon': 30, 'Tue': 50}, 'Orange': 80, 'Grapes': 80}"
      ]
     },
     "execution_count": 27,
     "metadata": {},
     "output_type": "execute_result"
    }
   ],
   "source": [
    "new_dict = {'Apple': 180, 'Banana': {\"Mon\" : 30, \"Tue\" : 50} , 'Orange': 80, 'Grapes': 80}\n",
    "new_dict"
   ]
  },
  {
   "cell_type": "code",
   "execution_count": 28,
   "id": "e16b783d",
   "metadata": {},
   "outputs": [],
   "source": [
    "copy_dict = copy.copy(new_dict)"
   ]
  },
  {
   "cell_type": "code",
   "execution_count": 29,
   "id": "19c49a1c",
   "metadata": {},
   "outputs": [
    {
     "name": "stdout",
     "output_type": "stream",
     "text": [
      "older : {'Apple': 180, 'Banana': {'Mon': 30, 'Tue': 50}, 'Orange': 80, 'Grapes': 80}\n",
      "copy : {'Apple': 180, 'Banana': {'Mon': 30, 'Tue': 50}, 'Orange': 80, 'Grapes': 80}\n"
     ]
    }
   ],
   "source": [
    "print(f\"older : {new_dict}\")\n",
    "print(f\"copy : {copy_dict}\")"
   ]
  },
  {
   "cell_type": "code",
   "execution_count": 31,
   "id": "69001ef1",
   "metadata": {},
   "outputs": [
    {
     "data": {
      "text/plain": [
       "30"
      ]
     },
     "execution_count": 31,
     "metadata": {},
     "output_type": "execute_result"
    }
   ],
   "source": [
    "copy_dict[\"Banana\"][\"Mon\"]"
   ]
  },
  {
   "cell_type": "code",
   "execution_count": 32,
   "id": "8f9d74ff",
   "metadata": {},
   "outputs": [],
   "source": [
    "copy_dict[\"Banana\"][\"Mon\"] = 40"
   ]
  },
  {
   "cell_type": "code",
   "execution_count": 33,
   "id": "3e0464a0",
   "metadata": {},
   "outputs": [
    {
     "name": "stdout",
     "output_type": "stream",
     "text": [
      "older : {'Apple': 180, 'Banana': {'Mon': 40, 'Tue': 50}, 'Orange': 80, 'Grapes': 80}\n",
      "copy : {'Apple': 180, 'Banana': {'Mon': 40, 'Tue': 50}, 'Orange': 80, 'Grapes': 80}\n"
     ]
    }
   ],
   "source": [
    "print(f\"older : {new_dict}\")\n",
    "print(f\"copy : {copy_dict}\")"
   ]
  },
  {
   "cell_type": "code",
   "execution_count": 34,
   "id": "eb6d6122",
   "metadata": {},
   "outputs": [
    {
     "data": {
      "text/plain": [
       "{'jan': 'One', 'feb': 2, 'mar': 3}"
      ]
     },
     "execution_count": 34,
     "metadata": {},
     "output_type": "execute_result"
    }
   ],
   "source": [
    "months"
   ]
  },
  {
   "cell_type": "code",
   "execution_count": 37,
   "id": "d2ef9734",
   "metadata": {},
   "outputs": [
    {
     "data": {
      "text/plain": [
       "{'jan': 'One', 'feb': 2, 'mar': 3}"
      ]
     },
     "execution_count": 37,
     "metadata": {},
     "output_type": "execute_result"
    }
   ],
   "source": [
    "new_months = months.copy()\n",
    "new_months"
   ]
  },
  {
   "cell_type": "code",
   "execution_count": 38,
   "id": "6e57a11b",
   "metadata": {},
   "outputs": [
    {
     "name": "stdout",
     "output_type": "stream",
     "text": [
      "older : {'jan': 'One', 'feb': 2, 'mar': 3}\n",
      "copy : {'jan': 'One', 'feb': 2, 'mar': 3}\n"
     ]
    }
   ],
   "source": [
    "print(f\"older : {months}\")\n",
    "print(f\"copy : {new_months}\")"
   ]
  },
  {
   "cell_type": "code",
   "execution_count": 39,
   "id": "384f37a5",
   "metadata": {},
   "outputs": [],
   "source": [
    "new_months[\"feb\"] = \"FEB\""
   ]
  },
  {
   "cell_type": "code",
   "execution_count": 40,
   "id": "8128ca9b",
   "metadata": {},
   "outputs": [
    {
     "name": "stdout",
     "output_type": "stream",
     "text": [
      "older : {'jan': 'One', 'feb': 2, 'mar': 3}\n",
      "copy : {'jan': 'One', 'feb': 'FEB', 'mar': 3}\n"
     ]
    }
   ],
   "source": [
    "print(f\"older : {months}\")\n",
    "print(f\"copy : {new_months}\")"
   ]
  },
  {
   "cell_type": "code",
   "execution_count": 43,
   "id": "eda7a0cc",
   "metadata": {},
   "outputs": [
    {
     "data": {
      "text/plain": [
       "{'Apple': 180, 'Banana': 30, 'Orange': 80, 'Grapes': [120, 100, 80]}"
      ]
     },
     "execution_count": 43,
     "metadata": {},
     "output_type": "execute_result"
    }
   ],
   "source": [
    "older_dict = {'Apple': 180, 'Banana': 30, 'Orange': 80, 'Grapes': [120, 100, 80]}\n",
    "older_dict"
   ]
  },
  {
   "cell_type": "code",
   "execution_count": 44,
   "id": "0c8a09fb",
   "metadata": {},
   "outputs": [],
   "source": [
    "new_dict = copy.deepcopy(older_dict)"
   ]
  },
  {
   "cell_type": "code",
   "execution_count": 46,
   "id": "cf233d34",
   "metadata": {},
   "outputs": [
    {
     "name": "stdout",
     "output_type": "stream",
     "text": [
      "older : {'Apple': 180, 'Banana': 30, 'Orange': 80, 'Grapes': [120, 100, 80]}\n",
      "copy : {'Apple': 180, 'Banana': 30, 'Orange': 80, 'Grapes': [120, 100, 80]}\n"
     ]
    }
   ],
   "source": [
    "print(f\"older : {older_dict}\")\n",
    "print(f\"copy : {new_dict}\")"
   ]
  },
  {
   "cell_type": "code",
   "execution_count": 47,
   "id": "0c4a0372",
   "metadata": {},
   "outputs": [
    {
     "data": {
      "text/plain": [
       "[120, 100, 80]"
      ]
     },
     "execution_count": 47,
     "metadata": {},
     "output_type": "execute_result"
    }
   ],
   "source": [
    "new_dict[\"Grapes\"]"
   ]
  },
  {
   "cell_type": "code",
   "execution_count": 48,
   "id": "b374a6e3",
   "metadata": {},
   "outputs": [],
   "source": [
    "new_dict[\"Grapes\"][0] = 150"
   ]
  },
  {
   "cell_type": "code",
   "execution_count": 49,
   "id": "cd35b67c",
   "metadata": {},
   "outputs": [
    {
     "name": "stdout",
     "output_type": "stream",
     "text": [
      "older : {'Apple': 180, 'Banana': 30, 'Orange': 80, 'Grapes': [120, 100, 80]}\n",
      "copy : {'Apple': 180, 'Banana': 30, 'Orange': 80, 'Grapes': [150, 100, 80]}\n"
     ]
    }
   ],
   "source": [
    "print(f\"older : {older_dict}\")\n",
    "print(f\"copy : {new_dict}\")"
   ]
  },
  {
   "cell_type": "code",
   "execution_count": 50,
   "id": "71d986e0",
   "metadata": {},
   "outputs": [],
   "source": [
    "new_dict[\"Grapes\"].append(100)"
   ]
  },
  {
   "cell_type": "code",
   "execution_count": 51,
   "id": "6d55d874",
   "metadata": {},
   "outputs": [
    {
     "name": "stdout",
     "output_type": "stream",
     "text": [
      "older : {'Apple': 180, 'Banana': 30, 'Orange': 80, 'Grapes': [120, 100, 80]}\n",
      "copy : {'Apple': 180, 'Banana': 30, 'Orange': 80, 'Grapes': [150, 100, 80, 100]}\n"
     ]
    }
   ],
   "source": [
    "print(f\"older : {older_dict}\")\n",
    "print(f\"copy : {new_dict}\")"
   ]
  },
  {
   "cell_type": "code",
   "execution_count": 52,
   "id": "29539b9c",
   "metadata": {},
   "outputs": [
    {
     "data": {
      "text/plain": [
       "{'Apple': 180, 'Banana': {'Mon': 40, 'Tue': 50}, 'Orange': 80, 'Grapes': 80}"
      ]
     },
     "execution_count": 52,
     "metadata": {},
     "output_type": "execute_result"
    }
   ],
   "source": [
    "new_dict = {'Apple': 180, 'Banana': {'Mon': 40, 'Tue': 50}, 'Orange': 80, 'Grapes': 80}\n",
    "new_dict"
   ]
  },
  {
   "cell_type": "code",
   "execution_count": 53,
   "id": "939f12d8",
   "metadata": {},
   "outputs": [],
   "source": [
    "copy_dict = copy.deepcopy(new_dict)"
   ]
  },
  {
   "cell_type": "code",
   "execution_count": 54,
   "id": "519eeab3",
   "metadata": {},
   "outputs": [
    {
     "name": "stdout",
     "output_type": "stream",
     "text": [
      "older : {'Apple': 180, 'Banana': {'Mon': 40, 'Tue': 50}, 'Orange': 80, 'Grapes': 80}\n",
      "copy : {'Apple': 180, 'Banana': {'Mon': 40, 'Tue': 50}, 'Orange': 80, 'Grapes': 80}\n"
     ]
    }
   ],
   "source": [
    "print(f\"older : {new_dict}\")\n",
    "print(f\"copy : {copy_dict}\")"
   ]
  },
  {
   "cell_type": "code",
   "execution_count": 55,
   "id": "2934b2e6",
   "metadata": {},
   "outputs": [
    {
     "data": {
      "text/plain": [
       "{'Mon': 40, 'Tue': 50}"
      ]
     },
     "execution_count": 55,
     "metadata": {},
     "output_type": "execute_result"
    }
   ],
   "source": [
    "copy_dict[\"Banana\"]"
   ]
  },
  {
   "cell_type": "code",
   "execution_count": 56,
   "id": "0878802c",
   "metadata": {},
   "outputs": [],
   "source": [
    "copy_dict[\"Banana\"][\"Mon\"] = 100"
   ]
  },
  {
   "cell_type": "code",
   "execution_count": 57,
   "id": "aefd4abe",
   "metadata": {},
   "outputs": [
    {
     "name": "stdout",
     "output_type": "stream",
     "text": [
      "older : {'Apple': 180, 'Banana': {'Mon': 40, 'Tue': 50}, 'Orange': 80, 'Grapes': 80}\n",
      "copy : {'Apple': 180, 'Banana': {'Mon': 100, 'Tue': 50}, 'Orange': 80, 'Grapes': 80}\n"
     ]
    }
   ],
   "source": [
    "print(f\"older : {new_dict}\")\n",
    "print(f\"copy : {copy_dict}\")"
   ]
  },
  {
   "cell_type": "code",
   "execution_count": null,
   "id": "d88bbb9c",
   "metadata": {},
   "outputs": [],
   "source": []
  },
  {
   "cell_type": "code",
   "execution_count": null,
   "id": "ae486978",
   "metadata": {},
   "outputs": [],
   "source": []
  }
 ],
 "metadata": {
  "kernelspec": {
   "display_name": "Python 3 (ipykernel)",
   "language": "python",
   "name": "python3"
  },
  "language_info": {
   "codemirror_mode": {
    "name": "ipython",
    "version": 3
   },
   "file_extension": ".py",
   "mimetype": "text/x-python",
   "name": "python",
   "nbconvert_exporter": "python",
   "pygments_lexer": "ipython3",
   "version": "3.11.3"
  }
 },
 "nbformat": 4,
 "nbformat_minor": 5
}
