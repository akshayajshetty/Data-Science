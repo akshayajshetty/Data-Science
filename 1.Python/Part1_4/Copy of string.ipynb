{
 "cells": [
  {
   "cell_type": "code",
   "execution_count": 1,
   "id": "a13dfedb",
   "metadata": {},
   "outputs": [
    {
     "data": {
      "text/plain": [
       "'python'"
      ]
     },
     "execution_count": 1,
     "metadata": {},
     "output_type": "execute_result"
    }
   ],
   "source": [
    "old_str = \"python\"\n",
    "old_str"
   ]
  },
  {
   "cell_type": "code",
   "execution_count": 2,
   "id": "3d0dea4a",
   "metadata": {},
   "outputs": [],
   "source": [
    "new_str = old_str"
   ]
  },
  {
   "cell_type": "code",
   "execution_count": 3,
   "id": "373081bb",
   "metadata": {},
   "outputs": [
    {
     "name": "stdout",
     "output_type": "stream",
     "text": [
      "python\n",
      "python\n"
     ]
    }
   ],
   "source": [
    "print(old_str)\n",
    "print(new_str)"
   ]
  },
  {
   "cell_type": "code",
   "execution_count": 4,
   "id": "6c7d20f3",
   "metadata": {},
   "outputs": [],
   "source": [
    "import copy"
   ]
  },
  {
   "cell_type": "code",
   "execution_count": 5,
   "id": "52bd0db3",
   "metadata": {},
   "outputs": [
    {
     "data": {
      "text/plain": [
       "'Python'"
      ]
     },
     "execution_count": 5,
     "metadata": {},
     "output_type": "execute_result"
    }
   ],
   "source": [
    "first_str = \"Python\"\n",
    "first_str"
   ]
  },
  {
   "cell_type": "code",
   "execution_count": 6,
   "id": "75238390",
   "metadata": {},
   "outputs": [],
   "source": [
    "second_str = copy.copy(first_str)"
   ]
  },
  {
   "cell_type": "code",
   "execution_count": 7,
   "id": "c03a7a6d",
   "metadata": {},
   "outputs": [
    {
     "name": "stdout",
     "output_type": "stream",
     "text": [
      "First string : Python\n",
      "second string : Python\n"
     ]
    }
   ],
   "source": [
    "print(f\"First string : {first_str}\")\n",
    "print(f\"second string : {second_str}\")"
   ]
  },
  {
   "cell_type": "code",
   "execution_count": 8,
   "id": "53604a9b",
   "metadata": {},
   "outputs": [],
   "source": [
    "second_str = \"World\""
   ]
  },
  {
   "cell_type": "code",
   "execution_count": 9,
   "id": "986fc9c6",
   "metadata": {},
   "outputs": [
    {
     "name": "stdout",
     "output_type": "stream",
     "text": [
      "First string : Python\n",
      "second string : World\n"
     ]
    }
   ],
   "source": [
    "print(f\"First string : {first_str}\")\n",
    "print(f\"second string : {second_str}\")"
   ]
  },
  {
   "cell_type": "code",
   "execution_count": 1,
   "id": "b47128e9",
   "metadata": {},
   "outputs": [],
   "source": [
    "# assigment, copy.copy() and copy.deepcopy()  produces deep copy."
   ]
  },
  {
   "cell_type": "code",
   "execution_count": null,
   "id": "00256ae4",
   "metadata": {},
   "outputs": [],
   "source": []
  }
 ],
 "metadata": {
  "kernelspec": {
   "display_name": "Python 3 (ipykernel)",
   "language": "python",
   "name": "python3"
  },
  "language_info": {
   "codemirror_mode": {
    "name": "ipython",
    "version": 3
   },
   "file_extension": ".py",
   "mimetype": "text/x-python",
   "name": "python",
   "nbconvert_exporter": "python",
   "pygments_lexer": "ipython3",
   "version": "3.11.3"
  }
 },
 "nbformat": 4,
 "nbformat_minor": 5
}
