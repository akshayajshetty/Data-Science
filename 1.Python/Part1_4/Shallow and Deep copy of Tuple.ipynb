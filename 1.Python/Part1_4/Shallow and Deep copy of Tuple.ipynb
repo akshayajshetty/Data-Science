{
 "cells": [
  {
   "cell_type": "code",
   "execution_count": 1,
   "id": "16a51898",
   "metadata": {},
   "outputs": [
    {
     "data": {
      "text/plain": [
       "('Apple', 'Banana', 'Orange')"
      ]
     },
     "execution_count": 1,
     "metadata": {},
     "output_type": "execute_result"
    }
   ],
   "source": [
    "fruit = (\"Apple\", \"Banana\",\"Orange\")\n",
    "fruit"
   ]
  },
  {
   "cell_type": "code",
   "execution_count": 2,
   "id": "8f3caa16",
   "metadata": {},
   "outputs": [],
   "source": [
    "new_fruit = fruit  # Both variable refers same Tuple"
   ]
  },
  {
   "cell_type": "code",
   "execution_count": 3,
   "id": "4f341051",
   "metadata": {},
   "outputs": [
    {
     "name": "stdout",
     "output_type": "stream",
     "text": [
      "Original : ('Apple', 'Banana', 'Orange')\n",
      "Copy : ('Apple', 'Banana', 'Orange')\n"
     ]
    }
   ],
   "source": [
    "print(f\"Original : {fruit}\")\n",
    "print(f\"Copy : {new_fruit}\")"
   ]
  },
  {
   "cell_type": "code",
   "execution_count": 4,
   "id": "dc7ea5a7",
   "metadata": {},
   "outputs": [
    {
     "data": {
      "text/plain": [
       "('Apple', ['Banana', 'Oranage'], 'Cherry')"
      ]
     },
     "execution_count": 4,
     "metadata": {},
     "output_type": "execute_result"
    }
   ],
   "source": [
    "fruits = (\"Apple\",[\"Banana\",\"Oranage\"],\"Cherry\")\n",
    "fruits"
   ]
  },
  {
   "cell_type": "code",
   "execution_count": 5,
   "id": "3de1ef91",
   "metadata": {},
   "outputs": [],
   "source": [
    "new_fruits = fruits  # Shallow copy"
   ]
  },
  {
   "cell_type": "code",
   "execution_count": 6,
   "id": "5f4cea92",
   "metadata": {},
   "outputs": [
    {
     "name": "stdout",
     "output_type": "stream",
     "text": [
      "Original : ('Apple', ['Banana', 'Oranage'], 'Cherry')\n",
      "Copy : ('Apple', ['Banana', 'Oranage'], 'Cherry')\n"
     ]
    }
   ],
   "source": [
    "print(f\"Original : {fruits}\")\n",
    "print(f\"Copy : {new_fruits}\")"
   ]
  },
  {
   "cell_type": "code",
   "execution_count": 7,
   "id": "8a07d4ad",
   "metadata": {},
   "outputs": [],
   "source": [
    "new_fruits[1][0] = \"Grapes\""
   ]
  },
  {
   "cell_type": "code",
   "execution_count": 8,
   "id": "4dcfc674",
   "metadata": {},
   "outputs": [
    {
     "name": "stdout",
     "output_type": "stream",
     "text": [
      "Original : ('Apple', ['Grapes', 'Oranage'], 'Cherry')\n",
      "Copy : ('Apple', ['Grapes', 'Oranage'], 'Cherry')\n"
     ]
    }
   ],
   "source": [
    "print(f\"Original : {fruits}\")\n",
    "print(f\"Copy : {new_fruits}\")"
   ]
  },
  {
   "cell_type": "code",
   "execution_count": 9,
   "id": "b4226cc5",
   "metadata": {},
   "outputs": [],
   "source": [
    "import copy"
   ]
  },
  {
   "cell_type": "code",
   "execution_count": 16,
   "id": "4a3ceed4",
   "metadata": {},
   "outputs": [
    {
     "data": {
      "text/plain": [
       "('BMW', 'Audi', 'Tata', 'Benz', ['RR', 'MG'])"
      ]
     },
     "execution_count": 16,
     "metadata": {},
     "output_type": "execute_result"
    }
   ],
   "source": [
    "cars = (\"BMW\",\"Audi\",\"Tata\",\"Benz\",[\"RR\",\"MG\"])\n",
    "cars"
   ]
  },
  {
   "cell_type": "code",
   "execution_count": 17,
   "id": "21d5c78b",
   "metadata": {},
   "outputs": [],
   "source": [
    "new_cars = copy.copy(cars)   # Shallow copy"
   ]
  },
  {
   "cell_type": "code",
   "execution_count": 18,
   "id": "f4d36f42",
   "metadata": {},
   "outputs": [
    {
     "name": "stdout",
     "output_type": "stream",
     "text": [
      "Original : ('BMW', 'Audi', 'Tata', 'Benz', ['RR', 'MG'])\n",
      "Copy : ('BMW', 'Audi', 'Tata', 'Benz', ['RR', 'MG'])\n"
     ]
    }
   ],
   "source": [
    "print(f\"Original : {cars}\")\n",
    "print(f\"Copy : {new_cars}\")"
   ]
  },
  {
   "cell_type": "code",
   "execution_count": 13,
   "id": "59798b1f",
   "metadata": {},
   "outputs": [],
   "source": [
    "new_cars[4][0] = \"Ferrory\""
   ]
  },
  {
   "cell_type": "code",
   "execution_count": 14,
   "id": "f9475147",
   "metadata": {},
   "outputs": [
    {
     "name": "stdout",
     "output_type": "stream",
     "text": [
      "Original : ('BMW', 'Audi', 'Tata', 'Benz', ['Ferrory', 'MG'])\n",
      "Copy : ('BMW', 'Audi', 'Tata', 'Benz', ['Ferrory', 'MG'])\n"
     ]
    }
   ],
   "source": [
    "print(f\"Original : {cars}\")\n",
    "print(f\"Copy : {new_cars}\")"
   ]
  },
  {
   "cell_type": "code",
   "execution_count": 19,
   "id": "13b76fda",
   "metadata": {},
   "outputs": [],
   "source": [
    "new_cars = copy.deepcopy(cars) "
   ]
  },
  {
   "cell_type": "code",
   "execution_count": 20,
   "id": "d81662a4",
   "metadata": {},
   "outputs": [],
   "source": [
    "new_cars[4][0] = \"RangeRover\""
   ]
  },
  {
   "cell_type": "code",
   "execution_count": 21,
   "id": "16bb2922",
   "metadata": {},
   "outputs": [
    {
     "name": "stdout",
     "output_type": "stream",
     "text": [
      "Original : ('BMW', 'Audi', 'Tata', 'Benz', ['RR', 'MG'])\n",
      "Copy : ('BMW', 'Audi', 'Tata', 'Benz', ['RangeRover', 'MG'])\n"
     ]
    }
   ],
   "source": [
    "print(f\"Original : {cars}\")\n",
    "print(f\"Copy : {new_cars}\")"
   ]
  },
  {
   "cell_type": "code",
   "execution_count": null,
   "id": "64c3f3ba",
   "metadata": {},
   "outputs": [],
   "source": [
    "# We need to deepcopy the nested lit within tuple use copy.deepcopy()"
   ]
  }
 ],
 "metadata": {
  "kernelspec": {
   "display_name": "Python 3 (ipykernel)",
   "language": "python",
   "name": "python3"
  },
  "language_info": {
   "codemirror_mode": {
    "name": "ipython",
    "version": 3
   },
   "file_extension": ".py",
   "mimetype": "text/x-python",
   "name": "python",
   "nbconvert_exporter": "python",
   "pygments_lexer": "ipython3",
   "version": "3.11.3"
  }
 },
 "nbformat": 4,
 "nbformat_minor": 5
}
