{
 "cells": [
  {
   "cell_type": "markdown",
   "id": "e27bc908",
   "metadata": {},
   "source": [
    "# Multiple Inheritance"
   ]
  },
  {
   "cell_type": "code",
   "execution_count": 1,
   "id": "9e0bdb69",
   "metadata": {},
   "outputs": [],
   "source": [
    "class Father():\n",
    "    pass"
   ]
  },
  {
   "cell_type": "code",
   "execution_count": 2,
   "id": "26c66a5a",
   "metadata": {},
   "outputs": [],
   "source": [
    "class Mother():\n",
    "    pass"
   ]
  },
  {
   "cell_type": "code",
   "execution_count": 6,
   "id": "e4373923",
   "metadata": {},
   "outputs": [],
   "source": [
    "class Child1(Father,Mother):\n",
    "    pass"
   ]
  },
  {
   "cell_type": "code",
   "execution_count": 7,
   "id": "741cfcae",
   "metadata": {},
   "outputs": [
    {
     "name": "stdout",
     "output_type": "stream",
     "text": [
      "Help on class Child1 in module __main__:\n",
      "\n",
      "class Child1(Father, Mother)\n",
      " |  Method resolution order:\n",
      " |      Child1\n",
      " |      Father\n",
      " |      Mother\n",
      " |      builtins.object\n",
      " |  \n",
      " |  Data descriptors inherited from Father:\n",
      " |  \n",
      " |  __dict__\n",
      " |      dictionary for instance variables (if defined)\n",
      " |  \n",
      " |  __weakref__\n",
      " |      list of weak references to the object (if defined)\n",
      "\n"
     ]
    }
   ],
   "source": [
    "help(Child1)"
   ]
  },
  {
   "cell_type": "code",
   "execution_count": 8,
   "id": "b4f6c0da",
   "metadata": {},
   "outputs": [],
   "source": [
    "class Child2(Mother,Father):\n",
    "    pass"
   ]
  },
  {
   "cell_type": "code",
   "execution_count": 10,
   "id": "5dcd8f18",
   "metadata": {},
   "outputs": [
    {
     "name": "stdout",
     "output_type": "stream",
     "text": [
      "Help on class Child2 in module __main__:\n",
      "\n",
      "class Child2(Mother, Father)\n",
      " |  Method resolution order:\n",
      " |      Child2\n",
      " |      Mother\n",
      " |      Father\n",
      " |      builtins.object\n",
      " |  \n",
      " |  Data descriptors inherited from Mother:\n",
      " |  \n",
      " |  __dict__\n",
      " |      dictionary for instance variables (if defined)\n",
      " |  \n",
      " |  __weakref__\n",
      " |      list of weak references to the object (if defined)\n",
      "\n"
     ]
    }
   ],
   "source": [
    "help(Child2)"
   ]
  },
  {
   "cell_type": "code",
   "execution_count": 11,
   "id": "fb830dec",
   "metadata": {},
   "outputs": [],
   "source": [
    "class Father():\n",
    "    def height(self):\n",
    "        print(\"I have inhetited height from Father\")\n",
    "        \n",
    "class Mother():\n",
    "    def inteligence(self):\n",
    "        print(\"I have inherited my inteligence from my Mother\")"
   ]
  },
  {
   "cell_type": "code",
   "execution_count": 19,
   "id": "d34f703f",
   "metadata": {},
   "outputs": [],
   "source": [
    "class Child(Father,Mother):\n",
    "    def experiance(self):\n",
    "        print(\"I get experiance from my own\")"
   ]
  },
  {
   "cell_type": "code",
   "execution_count": 20,
   "id": "ecd462c4",
   "metadata": {},
   "outputs": [],
   "source": [
    "c = Child()"
   ]
  },
  {
   "cell_type": "code",
   "execution_count": 21,
   "id": "52d66b3b",
   "metadata": {},
   "outputs": [
    {
     "name": "stdout",
     "output_type": "stream",
     "text": [
      "I have inhetited height from Father\n"
     ]
    }
   ],
   "source": [
    "c.height()"
   ]
  },
  {
   "cell_type": "code",
   "execution_count": 22,
   "id": "d21c17cc",
   "metadata": {},
   "outputs": [
    {
     "name": "stdout",
     "output_type": "stream",
     "text": [
      "I have inherited my inteligence from my Mother\n"
     ]
    }
   ],
   "source": [
    "c.inteligence()"
   ]
  },
  {
   "cell_type": "code",
   "execution_count": 23,
   "id": "d78a820e",
   "metadata": {},
   "outputs": [
    {
     "name": "stdout",
     "output_type": "stream",
     "text": [
      "I get experiance from my own\n"
     ]
    }
   ],
   "source": [
    "c.experiance()"
   ]
  },
  {
   "cell_type": "code",
   "execution_count": 36,
   "id": "ab1431a9",
   "metadata": {},
   "outputs": [],
   "source": [
    "class Employee():\n",
    "    def __init__(self,name,age):\n",
    "        self.__name = name\n",
    "        self.__age = age\n",
    "        \n",
    "    def show_name(self):\n",
    "        print(self.__name)\n",
    "        \n",
    "    def show_age(self):\n",
    "        print(self.__age)"
   ]
  },
  {
   "cell_type": "code",
   "execution_count": 37,
   "id": "6ae2ad6f",
   "metadata": {},
   "outputs": [],
   "source": [
    "class Salary():\n",
    "    def __init__(self,salary):\n",
    "        self.__salary = salary\n",
    "        \n",
    "    def get_salary(self):\n",
    "        print(self.__salary)"
   ]
  },
  {
   "cell_type": "code",
   "execution_count": 41,
   "id": "84bf3ffa",
   "metadata": {},
   "outputs": [],
   "source": [
    "class Database(Employee,Salary):\n",
    "    def __init__(self,name,age,salary):\n",
    "        Employee.__init__(self,name,age)\n",
    "        Salary.__init__(self,salary)"
   ]
  },
  {
   "cell_type": "code",
   "execution_count": 42,
   "id": "eac9ff60",
   "metadata": {},
   "outputs": [],
   "source": [
    "employee = Database(\"Akshay\",24,30000)"
   ]
  },
  {
   "cell_type": "code",
   "execution_count": 43,
   "id": "38da083b",
   "metadata": {},
   "outputs": [
    {
     "name": "stdout",
     "output_type": "stream",
     "text": [
      "Akshay\n"
     ]
    }
   ],
   "source": [
    "employee.show_name()"
   ]
  },
  {
   "cell_type": "code",
   "execution_count": 44,
   "id": "26376c20",
   "metadata": {},
   "outputs": [
    {
     "name": "stdout",
     "output_type": "stream",
     "text": [
      "24\n"
     ]
    }
   ],
   "source": [
    "employee.show_age()"
   ]
  },
  {
   "cell_type": "code",
   "execution_count": 45,
   "id": "e17374a5",
   "metadata": {},
   "outputs": [
    {
     "name": "stdout",
     "output_type": "stream",
     "text": [
      "30000\n"
     ]
    }
   ],
   "source": [
    "employee.get_salary()"
   ]
  },
  {
   "cell_type": "code",
   "execution_count": 46,
   "id": "4aaef684",
   "metadata": {},
   "outputs": [
    {
     "name": "stdout",
     "output_type": "stream",
     "text": [
      "Help on class Database in module __main__:\n",
      "\n",
      "class Database(Employee, Salary)\n",
      " |  Database(name, age, salary)\n",
      " |  \n",
      " |  Method resolution order:\n",
      " |      Database\n",
      " |      Employee\n",
      " |      Salary\n",
      " |      builtins.object\n",
      " |  \n",
      " |  Methods defined here:\n",
      " |  \n",
      " |  __init__(self, name, age, salary)\n",
      " |      Initialize self.  See help(type(self)) for accurate signature.\n",
      " |  \n",
      " |  ----------------------------------------------------------------------\n",
      " |  Methods inherited from Employee:\n",
      " |  \n",
      " |  show_age(self)\n",
      " |  \n",
      " |  show_name(self)\n",
      " |  \n",
      " |  ----------------------------------------------------------------------\n",
      " |  Data descriptors inherited from Employee:\n",
      " |  \n",
      " |  __dict__\n",
      " |      dictionary for instance variables (if defined)\n",
      " |  \n",
      " |  __weakref__\n",
      " |      list of weak references to the object (if defined)\n",
      " |  \n",
      " |  ----------------------------------------------------------------------\n",
      " |  Methods inherited from Salary:\n",
      " |  \n",
      " |  get_salary(self)\n",
      "\n"
     ]
    }
   ],
   "source": [
    "help(Database)"
   ]
  },
  {
   "cell_type": "markdown",
   "id": "42f9fe4e",
   "metadata": {},
   "source": [
    "# Multilevel Inheritance"
   ]
  },
  {
   "cell_type": "code",
   "execution_count": 47,
   "id": "19a6b183",
   "metadata": {},
   "outputs": [],
   "source": [
    "class Grandparent():\n",
    "    def height(self):\n",
    "        print(\"I have inhetited height from Father\")\n",
    "        \n",
    "class Parent(Grandparent):\n",
    "    def inteligence(self):\n",
    "        print(\"I have inherited my inteligence from my Mother\")\n",
    "        \n",
    "class Child(Parent):\n",
    "    def experiance(self):\n",
    "        print(\" I grt my own experiance\")\n",
    "                   "
   ]
  },
  {
   "cell_type": "code",
   "execution_count": 48,
   "id": "e17f20cc",
   "metadata": {},
   "outputs": [
    {
     "name": "stdout",
     "output_type": "stream",
     "text": [
      "Help on class Child in module __main__:\n",
      "\n",
      "class Child(Parent)\n",
      " |  Method resolution order:\n",
      " |      Child\n",
      " |      Parent\n",
      " |      Grandparent\n",
      " |      builtins.object\n",
      " |  \n",
      " |  Methods defined here:\n",
      " |  \n",
      " |  experiance(self)\n",
      " |  \n",
      " |  ----------------------------------------------------------------------\n",
      " |  Methods inherited from Parent:\n",
      " |  \n",
      " |  inteligence(self)\n",
      " |  \n",
      " |  ----------------------------------------------------------------------\n",
      " |  Methods inherited from Grandparent:\n",
      " |  \n",
      " |  height(self)\n",
      " |  \n",
      " |  ----------------------------------------------------------------------\n",
      " |  Data descriptors inherited from Grandparent:\n",
      " |  \n",
      " |  __dict__\n",
      " |      dictionary for instance variables (if defined)\n",
      " |  \n",
      " |  __weakref__\n",
      " |      list of weak references to the object (if defined)\n",
      "\n"
     ]
    }
   ],
   "source": [
    "help(Child)"
   ]
  },
  {
   "cell_type": "code",
   "execution_count": 49,
   "id": "c032dc99",
   "metadata": {},
   "outputs": [],
   "source": [
    "c = Child()"
   ]
  },
  {
   "cell_type": "code",
   "execution_count": 50,
   "id": "921a45e1",
   "metadata": {},
   "outputs": [
    {
     "name": "stdout",
     "output_type": "stream",
     "text": [
      "I have inhetited height from Father\n"
     ]
    }
   ],
   "source": [
    "c.height()"
   ]
  },
  {
   "cell_type": "code",
   "execution_count": 51,
   "id": "21f0e242",
   "metadata": {},
   "outputs": [
    {
     "name": "stdout",
     "output_type": "stream",
     "text": [
      "I have inherited my inteligence from my Mother\n"
     ]
    }
   ],
   "source": [
    "c.inteligence()"
   ]
  },
  {
   "cell_type": "code",
   "execution_count": 53,
   "id": "9cbb0eb1",
   "metadata": {},
   "outputs": [
    {
     "name": "stdout",
     "output_type": "stream",
     "text": [
      " I grt my own experiance\n"
     ]
    }
   ],
   "source": [
    "c.experiance()"
   ]
  },
  {
   "cell_type": "code",
   "execution_count": 84,
   "id": "36fe8065",
   "metadata": {},
   "outputs": [],
   "source": [
    "class Grandparent():\n",
    "    def __init__(self,city):\n",
    "        self.__city = city\n",
    "        \n",
    "    def get_city(self):\n",
    "        return self.__city\n",
    "        "
   ]
  },
  {
   "cell_type": "code",
   "execution_count": 85,
   "id": "122dacb9",
   "metadata": {},
   "outputs": [],
   "source": [
    "class Parent(Grandparent):\n",
    "    def __init__(self,city,last_name):\n",
    "        Grandparent.__init__(self,city)\n",
    "        \n",
    "        self.__lastname = last_name\n",
    "        \n",
    "    def get_lastname(self):\n",
    "        return self.__lastname"
   ]
  },
  {
   "cell_type": "code",
   "execution_count": 62,
   "id": "5b5f186a",
   "metadata": {},
   "outputs": [],
   "source": [
    "p = Parent(\"CKM\",\"Shetty\")"
   ]
  },
  {
   "cell_type": "code",
   "execution_count": 63,
   "id": "ada99596",
   "metadata": {},
   "outputs": [
    {
     "name": "stdout",
     "output_type": "stream",
     "text": [
      "CKM\n"
     ]
    }
   ],
   "source": [
    "p.get_city()"
   ]
  },
  {
   "cell_type": "code",
   "execution_count": 64,
   "id": "2ed9a1ab",
   "metadata": {},
   "outputs": [
    {
     "name": "stdout",
     "output_type": "stream",
     "text": [
      "Shetty\n"
     ]
    }
   ],
   "source": [
    "p.get_lastname()"
   ]
  },
  {
   "cell_type": "code",
   "execution_count": 86,
   "id": "de58a44c",
   "metadata": {},
   "outputs": [],
   "source": [
    "class Child(Parent):\n",
    "    def __init__(self,city,last_name,first_name):\n",
    "        Parent.__init__(self,city,last_name)\n",
    "        \n",
    "        self.__firstname = first_name\n",
    "        \n",
    "    def get_firstname(self):\n",
    "        return self.__firstname"
   ]
  },
  {
   "cell_type": "code",
   "execution_count": 68,
   "id": "ef81de3e",
   "metadata": {},
   "outputs": [],
   "source": [
    "c = Child(\"Chikmagalure\",'Shetty','Akshay')"
   ]
  },
  {
   "cell_type": "code",
   "execution_count": 69,
   "id": "78fa8660",
   "metadata": {},
   "outputs": [
    {
     "name": "stdout",
     "output_type": "stream",
     "text": [
      "Chikmagalure\n"
     ]
    }
   ],
   "source": [
    "c.get_city()"
   ]
  },
  {
   "cell_type": "code",
   "execution_count": 70,
   "id": "c72ab788",
   "metadata": {},
   "outputs": [
    {
     "name": "stdout",
     "output_type": "stream",
     "text": [
      "Shetty\n"
     ]
    }
   ],
   "source": [
    "c.get_lastname()"
   ]
  },
  {
   "cell_type": "code",
   "execution_count": 71,
   "id": "75170c86",
   "metadata": {},
   "outputs": [
    {
     "name": "stdout",
     "output_type": "stream",
     "text": [
      "Akshay\n"
     ]
    }
   ],
   "source": [
    "c.get_firstname()"
   ]
  },
  {
   "cell_type": "code",
   "execution_count": 87,
   "id": "10235a91",
   "metadata": {},
   "outputs": [],
   "source": [
    "class Person(Parent):\n",
    "    def __init__(self,city,last_name,first_name):\n",
    "        Parent.__init__(self,city,last_name)\n",
    "        \n",
    "        self.__firstname = first_name\n",
    "        \n",
    "    def get_firstname(self):\n",
    "        print(self.__firstname)\n",
    "        \n",
    "    def get_introduction(self):\n",
    "        lastname = super().get_lastname()\n",
    "        city = super().get_city()\n",
    "        print(f' Hi I am {self.__firstname} {lastname} and I am from {city}')\n",
    "        \n",
    "    def get_information(self):\n",
    "        lastname = self.get_lastname()\n",
    "        city = self.get_city()\n",
    "        print(f' Hi I am {self.__firstname} {lastname} and I am from {city}')\n",
    "    "
   ]
  },
  {
   "cell_type": "code",
   "execution_count": 88,
   "id": "851b24b9",
   "metadata": {},
   "outputs": [],
   "source": [
    "person = Person(\"Chikmagalore\",\"Shetty\",\"Akshay\")"
   ]
  },
  {
   "cell_type": "code",
   "execution_count": 89,
   "id": "5c00e7fa",
   "metadata": {},
   "outputs": [
    {
     "name": "stdout",
     "output_type": "stream",
     "text": [
      " Hi I am Akshay Shetty and I am from Chikmagalore\n"
     ]
    }
   ],
   "source": [
    "person.get_introduction()"
   ]
  },
  {
   "cell_type": "code",
   "execution_count": 90,
   "id": "9f13cf21",
   "metadata": {},
   "outputs": [
    {
     "name": "stdout",
     "output_type": "stream",
     "text": [
      " Hi I am Akshay Shetty and I am from Chikmagalore\n"
     ]
    }
   ],
   "source": [
    "person.get_information()"
   ]
  },
  {
   "cell_type": "code",
   "execution_count": null,
   "id": "f4f3f2a3",
   "metadata": {},
   "outputs": [],
   "source": []
  }
 ],
 "metadata": {
  "kernelspec": {
   "display_name": "Python 3 (ipykernel)",
   "language": "python",
   "name": "python3"
  },
  "language_info": {
   "codemirror_mode": {
    "name": "ipython",
    "version": 3
   },
   "file_extension": ".py",
   "mimetype": "text/x-python",
   "name": "python",
   "nbconvert_exporter": "python",
   "pygments_lexer": "ipython3",
   "version": "3.11.3"
  }
 },
 "nbformat": 4,
 "nbformat_minor": 5
}
