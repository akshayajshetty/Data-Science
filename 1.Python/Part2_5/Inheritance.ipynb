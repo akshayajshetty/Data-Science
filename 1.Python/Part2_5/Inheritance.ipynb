{
 "cells": [
  {
   "cell_type": "code",
   "execution_count": 1,
   "id": "75feb48e",
   "metadata": {},
   "outputs": [],
   "source": [
    "class shape:\n",
    "    pass"
   ]
  },
  {
   "cell_type": "code",
   "execution_count": 2,
   "id": "43f924a8",
   "metadata": {},
   "outputs": [],
   "source": [
    "class shape():\n",
    "    pass"
   ]
  },
  {
   "cell_type": "code",
   "execution_count": 3,
   "id": "cc7f3426",
   "metadata": {},
   "outputs": [],
   "source": [
    "class shape(object):\n",
    "    pass"
   ]
  },
  {
   "cell_type": "code",
   "execution_count": 4,
   "id": "f56ec8b3",
   "metadata": {},
   "outputs": [],
   "source": [
    "class shape:\n",
    "    def __init__(self,shape_type):\n",
    "        self.__type = shape_type\n",
    "    def get_type(self):\n",
    "        return self.__type"
   ]
  },
  {
   "cell_type": "code",
   "execution_count": 5,
   "id": "abd5c482",
   "metadata": {},
   "outputs": [],
   "source": [
    "circle = shape(\"circle\")"
   ]
  },
  {
   "cell_type": "code",
   "execution_count": 6,
   "id": "5861e7ed",
   "metadata": {},
   "outputs": [
    {
     "data": {
      "text/plain": [
       "'circle'"
      ]
     },
     "execution_count": 6,
     "metadata": {},
     "output_type": "execute_result"
    }
   ],
   "source": [
    "circle.get_type()"
   ]
  },
  {
   "cell_type": "code",
   "execution_count": 7,
   "id": "0005fae9",
   "metadata": {},
   "outputs": [
    {
     "data": {
      "text/plain": [
       "__main__.shape"
      ]
     },
     "execution_count": 7,
     "metadata": {},
     "output_type": "execute_result"
    }
   ],
   "source": [
    "type(circle)"
   ]
  },
  {
   "cell_type": "code",
   "execution_count": 8,
   "id": "df0c9d66",
   "metadata": {},
   "outputs": [
    {
     "data": {
      "text/plain": [
       "__main__.shape"
      ]
     },
     "execution_count": 8,
     "metadata": {},
     "output_type": "execute_result"
    }
   ],
   "source": [
    "square = shape(\"Square\")\n",
    "\n",
    "type(square)"
   ]
  },
  {
   "cell_type": "code",
   "execution_count": 10,
   "id": "19a0bf2a",
   "metadata": {},
   "outputs": [],
   "source": [
    "class Shape():\n",
    "    def __init__(self,shape_type,color=\"Red\"):\n",
    "        self.__type = shape_type\n",
    "        self.__color = color\n",
    "    def get_type(self):\n",
    "        return self.__type\n",
    "    def get_color(self):\n",
    "        return self.__color"
   ]
  },
  {
   "cell_type": "code",
   "execution_count": 11,
   "id": "9306945b",
   "metadata": {},
   "outputs": [],
   "source": [
    "circle = Shape(\"circle\")"
   ]
  },
  {
   "cell_type": "code",
   "execution_count": 12,
   "id": "0525c317",
   "metadata": {},
   "outputs": [
    {
     "data": {
      "text/plain": [
       "('circle', 'Red')"
      ]
     },
     "execution_count": 12,
     "metadata": {},
     "output_type": "execute_result"
    }
   ],
   "source": [
    "circle.get_type(), circle.get_color()"
   ]
  },
  {
   "cell_type": "code",
   "execution_count": 13,
   "id": "98f50d7c",
   "metadata": {},
   "outputs": [
    {
     "data": {
      "text/plain": [
       "('Square', 'Green')"
      ]
     },
     "execution_count": 13,
     "metadata": {},
     "output_type": "execute_result"
    }
   ],
   "source": [
    "square = Shape(\"Square\", \"Green\")\n",
    "\n",
    "square.get_type(), square.get_color()"
   ]
  },
  {
   "cell_type": "code",
   "execution_count": 14,
   "id": "0171d0a1",
   "metadata": {},
   "outputs": [
    {
     "data": {
      "text/plain": [
       "'Red'"
      ]
     },
     "execution_count": 14,
     "metadata": {},
     "output_type": "execute_result"
    }
   ],
   "source": [
    "circle.get_color()"
   ]
  },
  {
   "cell_type": "code",
   "execution_count": 15,
   "id": "6004e264",
   "metadata": {},
   "outputs": [],
   "source": [
    "class Shape():\n",
    "    def __init__(self,shape_type,color=\"red\"):\n",
    "        self.__type = shape_type\n",
    "        self.__color = color\n",
    "        \n",
    "    def get_type(self):\n",
    "        return self.__type\n",
    "    \n",
    "    def get_color(self):\n",
    "        return self.__color\n",
    "    \n",
    "    def get_area(self):\n",
    "        pass\n",
    "    \n",
    "    def get_perimeter(self):\n",
    "        pass"
   ]
  },
  {
   "cell_type": "code",
   "execution_count": 16,
   "id": "b7132362",
   "metadata": {},
   "outputs": [],
   "source": [
    "s = Shape('Circle')"
   ]
  },
  {
   "cell_type": "code",
   "execution_count": 17,
   "id": "acf2605b",
   "metadata": {},
   "outputs": [
    {
     "data": {
      "text/plain": [
       "'Circle'"
      ]
     },
     "execution_count": 17,
     "metadata": {},
     "output_type": "execute_result"
    }
   ],
   "source": [
    "s.get_type()"
   ]
  },
  {
   "cell_type": "code",
   "execution_count": 19,
   "id": "5e73c7b9",
   "metadata": {},
   "outputs": [],
   "source": [
    "s.get_area()"
   ]
  },
  {
   "cell_type": "code",
   "execution_count": 20,
   "id": "b4f3af53",
   "metadata": {},
   "outputs": [],
   "source": [
    "s.get_perimeter()"
   ]
  },
  {
   "cell_type": "code",
   "execution_count": 21,
   "id": "3e7e13fe",
   "metadata": {},
   "outputs": [],
   "source": [
    "class Circle(Shape):\n",
    "    pass"
   ]
  },
  {
   "cell_type": "code",
   "execution_count": 22,
   "id": "2c91b86b",
   "metadata": {},
   "outputs": [
    {
     "ename": "TypeError",
     "evalue": "__init__() missing 1 required positional argument: 'shape_type'",
     "output_type": "error",
     "traceback": [
      "\u001b[1;31m---------------------------------------------------------------------------\u001b[0m",
      "\u001b[1;31mTypeError\u001b[0m                                 Traceback (most recent call last)",
      "Input \u001b[1;32mIn [22]\u001b[0m, in \u001b[0;36m<cell line: 1>\u001b[1;34m()\u001b[0m\n\u001b[1;32m----> 1\u001b[0m circle \u001b[38;5;241m=\u001b[39m \u001b[43mCircle\u001b[49m\u001b[43m(\u001b[49m\u001b[43m)\u001b[49m\n",
      "\u001b[1;31mTypeError\u001b[0m: __init__() missing 1 required positional argument: 'shape_type'"
     ]
    }
   ],
   "source": [
    "circle = Circle()"
   ]
  },
  {
   "cell_type": "code",
   "execution_count": 23,
   "id": "316dfe22",
   "metadata": {},
   "outputs": [
    {
     "data": {
      "text/plain": [
       "__main__.Circle"
      ]
     },
     "execution_count": 23,
     "metadata": {},
     "output_type": "execute_result"
    }
   ],
   "source": [
    "circle = Circle('circle')\n",
    "\n",
    "type(circle)"
   ]
  },
  {
   "cell_type": "code",
   "execution_count": 24,
   "id": "df4971f5",
   "metadata": {},
   "outputs": [],
   "source": [
    "class Square(Shape):\n",
    "    pass"
   ]
  },
  {
   "cell_type": "code",
   "execution_count": 25,
   "id": "edba1c6a",
   "metadata": {},
   "outputs": [
    {
     "data": {
      "text/plain": [
       "__main__.Square"
      ]
     },
     "execution_count": 25,
     "metadata": {},
     "output_type": "execute_result"
    }
   ],
   "source": [
    "square = Square('square')\n",
    "\n",
    "type(square)"
   ]
  },
  {
   "cell_type": "code",
   "execution_count": 26,
   "id": "423d8c96",
   "metadata": {},
   "outputs": [],
   "source": [
    "class Circle(Shape):\n",
    "    def __init__(self):\n",
    "        Shape.__init__(self,'circle')"
   ]
  },
  {
   "cell_type": "code",
   "execution_count": 27,
   "id": "afd95603",
   "metadata": {},
   "outputs": [],
   "source": [
    "class Square(Shape):\n",
    "    def __init__(self):\n",
    "        Shape.__init__(self,'square')"
   ]
  },
  {
   "cell_type": "code",
   "execution_count": 28,
   "id": "67598fda",
   "metadata": {},
   "outputs": [],
   "source": [
    "circle = Circle()\n",
    "\n",
    "square = Square()"
   ]
  },
  {
   "cell_type": "code",
   "execution_count": 29,
   "id": "7bd29aea",
   "metadata": {},
   "outputs": [
    {
     "data": {
      "text/plain": [
       "(__main__.Circle, __main__.Square)"
      ]
     },
     "execution_count": 29,
     "metadata": {},
     "output_type": "execute_result"
    }
   ],
   "source": [
    "type(circle), type(square)"
   ]
  },
  {
   "cell_type": "code",
   "execution_count": 30,
   "id": "d0445187",
   "metadata": {},
   "outputs": [
    {
     "data": {
      "text/plain": [
       "('circle', 'square')"
      ]
     },
     "execution_count": 30,
     "metadata": {},
     "output_type": "execute_result"
    }
   ],
   "source": [
    "circle.get_type(), square.get_type()"
   ]
  },
  {
   "cell_type": "code",
   "execution_count": 31,
   "id": "df424872",
   "metadata": {},
   "outputs": [
    {
     "data": {
      "text/plain": [
       "('red', 'red')"
      ]
     },
     "execution_count": 31,
     "metadata": {},
     "output_type": "execute_result"
    }
   ],
   "source": [
    "circle.get_color(), square.get_color()"
   ]
  },
  {
   "cell_type": "code",
   "execution_count": 35,
   "id": "8efcc886",
   "metadata": {},
   "outputs": [],
   "source": [
    "class Circle(Shape):\n",
    "    def __init__(self,color='Orange'):\n",
    "        Shape.__init__(self,'circle',color)"
   ]
  },
  {
   "cell_type": "code",
   "execution_count": 36,
   "id": "8feaf351",
   "metadata": {},
   "outputs": [
    {
     "data": {
      "text/plain": [
       "'Orange'"
      ]
     },
     "execution_count": 36,
     "metadata": {},
     "output_type": "execute_result"
    }
   ],
   "source": [
    "circle = Circle()\n",
    "\n",
    "circle.get_color()"
   ]
  },
  {
   "cell_type": "code",
   "execution_count": 37,
   "id": "9f29d052",
   "metadata": {},
   "outputs": [
    {
     "data": {
      "text/plain": [
       "'Green'"
      ]
     },
     "execution_count": 37,
     "metadata": {},
     "output_type": "execute_result"
    }
   ],
   "source": [
    "circle = Circle(\"Green\")\n",
    "\n",
    "circle.get_color()"
   ]
  },
  {
   "cell_type": "code",
   "execution_count": 38,
   "id": "2a57258a",
   "metadata": {},
   "outputs": [],
   "source": [
    "class Square(Shape):\n",
    "    def __init__(self,color):\n",
    "        Shape.__init__(self,'square',color)"
   ]
  },
  {
   "cell_type": "code",
   "execution_count": 39,
   "id": "efc060d5",
   "metadata": {},
   "outputs": [
    {
     "data": {
      "text/plain": [
       "'White'"
      ]
     },
     "execution_count": 39,
     "metadata": {},
     "output_type": "execute_result"
    }
   ],
   "source": [
    "square = Square(\"White\")\n",
    "\n",
    "square.get_color()"
   ]
  },
  {
   "cell_type": "code",
   "execution_count": 51,
   "id": "bff15352",
   "metadata": {},
   "outputs": [],
   "source": [
    "import math\n",
    "\n",
    "class Circle(Shape):\n",
    "    def __init__(self,radius):\n",
    "        Shape.__init__(self,'circle')\n",
    "        \n",
    "        self.__radius = radius\n",
    "        \n",
    "    def get_area(self):\n",
    "        return math.pi * self.__radius * self.__radius\n",
    "    \n",
    "    def get_perimeter(self):\n",
    "        return 2 * math.pi * self.__radius"
   ]
  },
  {
   "cell_type": "code",
   "execution_count": 52,
   "id": "8a5a2fd9",
   "metadata": {},
   "outputs": [
    {
     "data": {
      "text/plain": [
       "(78.53981633974483, 31.41592653589793, 'circle', 'red')"
      ]
     },
     "execution_count": 52,
     "metadata": {},
     "output_type": "execute_result"
    }
   ],
   "source": [
    "circle = Circle(5)\n",
    "\n",
    "circle.get_area(), circle.get_perimeter(), circle.get_type(), circle.get_color()"
   ]
  },
  {
   "cell_type": "code",
   "execution_count": 54,
   "id": "56823b8b",
   "metadata": {},
   "outputs": [],
   "source": [
    "class Square(Shape):\n",
    "    def __init__(self,side):\n",
    "        Shape.__init__(self,'square')\n",
    "        self.__side = side\n",
    "            \n",
    "    def get_area(self):\n",
    "        return self.__side * self.__side\n",
    "    \n",
    "    def get_perimeter(self):\n",
    "        return 4 * self.__side"
   ]
  },
  {
   "cell_type": "code",
   "execution_count": 56,
   "id": "db9458b0",
   "metadata": {},
   "outputs": [
    {
     "data": {
      "text/plain": [
       "(25, 20, 'square', 'red')"
      ]
     },
     "execution_count": 56,
     "metadata": {},
     "output_type": "execute_result"
    }
   ],
   "source": [
    "square = Square(5)\n",
    "\n",
    "square.get_area(), square.get_perimeter(), square.get_type(), square.get_color()"
   ]
  },
  {
   "cell_type": "code",
   "execution_count": 78,
   "id": "eec9757a",
   "metadata": {},
   "outputs": [],
   "source": [
    "class Competetion():\n",
    "    __raise_amount = 1.3\n",
    "    def __init__(self,name,prize):\n",
    "        self.__name = name\n",
    "        self.__prize = prize\n",
    "        \n",
    "    def get_name(self):\n",
    "        return self.__name \n",
    "        \n",
    "    def get_prize(self):\n",
    "        return self.__prize \n",
    "        \n",
    "    def raise_prize(self):\n",
    "        self.__prize = self.__prize * self.__raise_amount"
   ]
  },
  {
   "cell_type": "code",
   "execution_count": 79,
   "id": "0fcfb6f5",
   "metadata": {},
   "outputs": [],
   "source": [
    "a = Competetion(\"abc\",100)\n",
    "a.raise_prize()"
   ]
  },
  {
   "cell_type": "code",
   "execution_count": 80,
   "id": "46d23736",
   "metadata": {},
   "outputs": [
    {
     "data": {
      "text/plain": [
       "130.0"
      ]
     },
     "execution_count": 80,
     "metadata": {},
     "output_type": "execute_result"
    }
   ],
   "source": [
    "a.get_prize()"
   ]
  },
  {
   "cell_type": "code",
   "execution_count": 81,
   "id": "aaf1a540",
   "metadata": {},
   "outputs": [
    {
     "data": {
      "text/plain": [
       "__main__.Competetion"
      ]
     },
     "execution_count": 81,
     "metadata": {},
     "output_type": "execute_result"
    }
   ],
   "source": [
    "type(a)"
   ]
  },
  {
   "cell_type": "code",
   "execution_count": 83,
   "id": "8e76ccaf",
   "metadata": {},
   "outputs": [
    {
     "name": "stdout",
     "output_type": "stream",
     "text": [
      "Help on class Competetion in module __main__:\n",
      "\n",
      "class Competetion(builtins.object)\n",
      " |  Competetion(name, prize)\n",
      " |  \n",
      " |  Methods defined here:\n",
      " |  \n",
      " |  __init__(self, name, prize)\n",
      " |      Initialize self.  See help(type(self)) for accurate signature.\n",
      " |  \n",
      " |  get_name(self)\n",
      " |  \n",
      " |  get_prize(self)\n",
      " |  \n",
      " |  raise_prize(self)\n",
      " |  \n",
      " |  ----------------------------------------------------------------------\n",
      " |  Data descriptors defined here:\n",
      " |  \n",
      " |  __dict__\n",
      " |      dictionary for instance variables (if defined)\n",
      " |  \n",
      " |  __weakref__\n",
      " |      list of weak references to the object (if defined)\n",
      "\n"
     ]
    }
   ],
   "source": [
    "help(Competetion)"
   ]
  },
  {
   "cell_type": "code",
   "execution_count": 84,
   "id": "14d7a593",
   "metadata": {},
   "outputs": [
    {
     "data": {
      "text/plain": [
       "mappingproxy({'__module__': '__main__',\n",
       "              '_Competetion__raise_amount': 1.3,\n",
       "              '__init__': <function __main__.Competetion.__init__(self, name, prize)>,\n",
       "              'get_name': <function __main__.Competetion.get_name(self)>,\n",
       "              'get_prize': <function __main__.Competetion.get_prize(self)>,\n",
       "              'raise_prize': <function __main__.Competetion.raise_prize(self)>,\n",
       "              '__dict__': <attribute '__dict__' of 'Competetion' objects>,\n",
       "              '__weakref__': <attribute '__weakref__' of 'Competetion' objects>,\n",
       "              '__doc__': None})"
      ]
     },
     "execution_count": 84,
     "metadata": {},
     "output_type": "execute_result"
    }
   ],
   "source": [
    "Competetion.__dict__"
   ]
  },
  {
   "cell_type": "code",
   "execution_count": 85,
   "id": "f3fa9eef",
   "metadata": {},
   "outputs": [
    {
     "data": {
      "text/plain": [
       "{'_Competetion__name': 'abc', '_Competetion__prize': 130.0}"
      ]
     },
     "execution_count": 85,
     "metadata": {},
     "output_type": "execute_result"
    }
   ],
   "source": [
    "a.__dict__"
   ]
  },
  {
   "cell_type": "code",
   "execution_count": 86,
   "id": "d75ff94c",
   "metadata": {},
   "outputs": [],
   "source": [
    "class Sprint(Competetion):\n",
    "    pass"
   ]
  },
  {
   "cell_type": "code",
   "execution_count": 87,
   "id": "1815cdf7",
   "metadata": {},
   "outputs": [
    {
     "name": "stdout",
     "output_type": "stream",
     "text": [
      "Help on class Sprint in module __main__:\n",
      "\n",
      "class Sprint(Competetion)\n",
      " |  Sprint(name, prize)\n",
      " |  \n",
      " |  Method resolution order:\n",
      " |      Sprint\n",
      " |      Competetion\n",
      " |      builtins.object\n",
      " |  \n",
      " |  Methods inherited from Competetion:\n",
      " |  \n",
      " |  __init__(self, name, prize)\n",
      " |      Initialize self.  See help(type(self)) for accurate signature.\n",
      " |  \n",
      " |  get_name(self)\n",
      " |  \n",
      " |  get_prize(self)\n",
      " |  \n",
      " |  raise_prize(self)\n",
      " |  \n",
      " |  ----------------------------------------------------------------------\n",
      " |  Data descriptors inherited from Competetion:\n",
      " |  \n",
      " |  __dict__\n",
      " |      dictionary for instance variables (if defined)\n",
      " |  \n",
      " |  __weakref__\n",
      " |      list of weak references to the object (if defined)\n",
      "\n"
     ]
    }
   ],
   "source": [
    "help(Sprint)"
   ]
  },
  {
   "cell_type": "code",
   "execution_count": 89,
   "id": "ed81c21f",
   "metadata": {},
   "outputs": [
    {
     "data": {
      "text/plain": [
       "mappingproxy({'__module__': '__main__', '__doc__': None})"
      ]
     },
     "execution_count": 89,
     "metadata": {},
     "output_type": "execute_result"
    }
   ],
   "source": [
    "Sprint.__dict__"
   ]
  },
  {
   "cell_type": "code",
   "execution_count": 90,
   "id": "ee8640f9",
   "metadata": {},
   "outputs": [],
   "source": [
    "sprint = Sprint(\"800M\",500)"
   ]
  },
  {
   "cell_type": "code",
   "execution_count": 91,
   "id": "0ed35250",
   "metadata": {},
   "outputs": [],
   "source": [
    "sprint.raise_prize()"
   ]
  },
  {
   "cell_type": "code",
   "execution_count": 92,
   "id": "6b7f58c6",
   "metadata": {},
   "outputs": [
    {
     "data": {
      "text/plain": [
       "650.0"
      ]
     },
     "execution_count": 92,
     "metadata": {},
     "output_type": "execute_result"
    }
   ],
   "source": [
    "sprint.get_prize()"
   ]
  },
  {
   "cell_type": "code",
   "execution_count": 96,
   "id": "5a7d5f89",
   "metadata": {},
   "outputs": [
    {
     "data": {
      "text/plain": [
       "{'_Competetion__name': '800M', '_Competetion__prize': 650.0}"
      ]
     },
     "execution_count": 96,
     "metadata": {},
     "output_type": "execute_result"
    }
   ],
   "source": [
    "sprint.__dict__"
   ]
  },
  {
   "cell_type": "code",
   "execution_count": 105,
   "id": "0cf2427e",
   "metadata": {},
   "outputs": [],
   "source": [
    "class Cycling(Competetion):\n",
    "    def __init__(self,name,prize,country):\n",
    "        super().__init__(name,prize)\n",
    "        self.__country = country\n",
    "        \n",
    "    def get_country(self):\n",
    "        return self.__country\n",
    "        "
   ]
  },
  {
   "cell_type": "code",
   "execution_count": 107,
   "id": "2f49825f",
   "metadata": {},
   "outputs": [
    {
     "data": {
      "text/plain": [
       "('cycling', 780.0, 'India')"
      ]
     },
     "execution_count": 107,
     "metadata": {},
     "output_type": "execute_result"
    }
   ],
   "source": [
    "cycling = Cycling('cycling',600,'India')\n",
    "\n",
    "cycling.raise_prize()\n",
    "\n",
    "cycling.get_name(), cycling.get_prize(), cycling.get_country()"
   ]
  },
  {
   "cell_type": "code",
   "execution_count": 108,
   "id": "5cd09e21",
   "metadata": {},
   "outputs": [
    {
     "data": {
      "text/plain": [
       "True"
      ]
     },
     "execution_count": 108,
     "metadata": {},
     "output_type": "execute_result"
    }
   ],
   "source": [
    "issubclass(Cycling,Competetion)"
   ]
  },
  {
   "cell_type": "code",
   "execution_count": 109,
   "id": "8913dc4d",
   "metadata": {},
   "outputs": [],
   "source": [
    "class Shooting():\n",
    "    def __init__(self,name):\n",
    "        self.__name = name"
   ]
  },
  {
   "cell_type": "code",
   "execution_count": 110,
   "id": "0fe6ffb3",
   "metadata": {},
   "outputs": [
    {
     "data": {
      "text/plain": [
       "False"
      ]
     },
     "execution_count": 110,
     "metadata": {},
     "output_type": "execute_result"
    }
   ],
   "source": [
    "issubclass(Shooting,Competetion)"
   ]
  },
  {
   "cell_type": "code",
   "execution_count": 118,
   "id": "d5da8091",
   "metadata": {},
   "outputs": [],
   "source": [
    "class Shooting(Competetion):\n",
    "    def __init__(self,name,prize):\n",
    "        super().__init__(name,prize)"
   ]
  },
  {
   "cell_type": "code",
   "execution_count": 120,
   "id": "aec18463",
   "metadata": {},
   "outputs": [],
   "source": [
    "shooting = Shooting(\"10M\", 400)\n",
    "\n",
    "shooting.raise_prize()"
   ]
  },
  {
   "cell_type": "code",
   "execution_count": 121,
   "id": "d4b9a7f3",
   "metadata": {},
   "outputs": [
    {
     "data": {
      "text/plain": [
       "520.0"
      ]
     },
     "execution_count": 121,
     "metadata": {},
     "output_type": "execute_result"
    }
   ],
   "source": [
    "shooting.get_prize()"
   ]
  },
  {
   "cell_type": "code",
   "execution_count": 122,
   "id": "5221a972",
   "metadata": {},
   "outputs": [
    {
     "data": {
      "text/plain": [
       "True"
      ]
     },
     "execution_count": 122,
     "metadata": {},
     "output_type": "execute_result"
    }
   ],
   "source": [
    "issubclass(Shooting,Competetion)"
   ]
  },
  {
   "cell_type": "code",
   "execution_count": null,
   "id": "d9a59570",
   "metadata": {},
   "outputs": [],
   "source": []
  }
 ],
 "metadata": {
  "kernelspec": {
   "display_name": "Python 3 (ipykernel)",
   "language": "python",
   "name": "python3"
  },
  "language_info": {
   "codemirror_mode": {
    "name": "ipython",
    "version": 3
   },
   "file_extension": ".py",
   "mimetype": "text/x-python",
   "name": "python",
   "nbconvert_exporter": "python",
   "pygments_lexer": "ipython3",
   "version": "3.11.3"
  }
 },
 "nbformat": 4,
 "nbformat_minor": 5
}
