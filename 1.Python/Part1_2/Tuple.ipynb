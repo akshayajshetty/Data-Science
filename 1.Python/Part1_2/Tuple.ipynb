{
 "cells": [
  {
   "cell_type": "code",
   "execution_count": 1,
   "id": "453ae032",
   "metadata": {},
   "outputs": [
    {
     "data": {
      "text/plain": [
       "()"
      ]
     },
     "execution_count": 1,
     "metadata": {},
     "output_type": "execute_result"
    }
   ],
   "source": [
    "my_tuple = ()\n",
    "my_tuple"
   ]
  },
  {
   "cell_type": "code",
   "execution_count": 2,
   "id": "4ba88ad8",
   "metadata": {},
   "outputs": [
    {
     "data": {
      "text/plain": [
       "tuple"
      ]
     },
     "execution_count": 2,
     "metadata": {},
     "output_type": "execute_result"
    }
   ],
   "source": [
    "type(my_tuple)"
   ]
  },
  {
   "cell_type": "code",
   "execution_count": 3,
   "id": "aee6cd37",
   "metadata": {},
   "outputs": [
    {
     "data": {
      "text/plain": [
       "(1, 2, 3)"
      ]
     },
     "execution_count": 3,
     "metadata": {},
     "output_type": "execute_result"
    }
   ],
   "source": [
    "tuple_int = (1,2,3)\n",
    "tuple_int"
   ]
  },
  {
   "cell_type": "code",
   "execution_count": 12,
   "id": "4fe6e9b5",
   "metadata": {},
   "outputs": [
    {
     "data": {
      "text/plain": [
       "('Hello', 'Python')"
      ]
     },
     "execution_count": 12,
     "metadata": {},
     "output_type": "execute_result"
    }
   ],
   "source": [
    "tuple_str = (\"Hello\",\"Python\")\n",
    "tuple_str"
   ]
  },
  {
   "cell_type": "code",
   "execution_count": 6,
   "id": "b7969f3c",
   "metadata": {},
   "outputs": [
    {
     "name": "stdout",
     "output_type": "stream",
     "text": [
      "(1, 2, 3) ('Hello', 'Python')\n"
     ]
    }
   ],
   "source": [
    "print(tuple_int,tuple_str)"
   ]
  },
  {
   "cell_type": "code",
   "execution_count": 13,
   "id": "5b41fd3f",
   "metadata": {},
   "outputs": [
    {
     "data": {
      "text/plain": [
       "(1, 2, 3, 'Hello', 'Python')"
      ]
     },
     "execution_count": 13,
     "metadata": {},
     "output_type": "execute_result"
    }
   ],
   "source": [
    "combined_tuple = tuple_int + tuple_str\n",
    "combined_tuple"
   ]
  },
  {
   "cell_type": "code",
   "execution_count": 14,
   "id": "5d05195c",
   "metadata": {},
   "outputs": [
    {
     "data": {
      "text/plain": [
       "('Hello', 'Python', 'Hello', 'Python', 'Hello', 'Python')"
      ]
     },
     "execution_count": 14,
     "metadata": {},
     "output_type": "execute_result"
    }
   ],
   "source": [
    "tuple_str = tuple_str * 3\n",
    "tuple_str"
   ]
  },
  {
   "cell_type": "code",
   "execution_count": 15,
   "id": "083120c6",
   "metadata": {},
   "outputs": [
    {
     "data": {
      "text/plain": [
       "(1, 1.2, 'Hello')"
      ]
     },
     "execution_count": 15,
     "metadata": {},
     "output_type": "execute_result"
    }
   ],
   "source": [
    "mixed_tuple =(1,1.2,\"Hello\")\n",
    "mixed_tuple"
   ]
  },
  {
   "cell_type": "code",
   "execution_count": 16,
   "id": "1121955a",
   "metadata": {},
   "outputs": [
    {
     "data": {
      "text/plain": [
       "(1, 4.5, 'Python')"
      ]
     },
     "execution_count": 16,
     "metadata": {},
     "output_type": "execute_result"
    }
   ],
   "source": [
    "my_tuple = 1,4.5,\"Python\"\n",
    "my_tuple"
   ]
  },
  {
   "cell_type": "code",
   "execution_count": 17,
   "id": "eccec4bc",
   "metadata": {},
   "outputs": [
    {
     "data": {
      "text/plain": [
       "(1,)"
      ]
     },
     "execution_count": 17,
     "metadata": {},
     "output_type": "execute_result"
    }
   ],
   "source": [
    "my = 1,\n",
    "my"
   ]
  },
  {
   "cell_type": "code",
   "execution_count": 18,
   "id": "2f046390",
   "metadata": {},
   "outputs": [
    {
     "data": {
      "text/plain": [
       "tuple"
      ]
     },
     "execution_count": 18,
     "metadata": {},
     "output_type": "execute_result"
    }
   ],
   "source": [
    "type(my)"
   ]
  },
  {
   "cell_type": "code",
   "execution_count": 22,
   "id": "cf06978d",
   "metadata": {},
   "outputs": [
    {
     "data": {
      "text/plain": [
       "(1, 4.5, 'Python')"
      ]
     },
     "execution_count": 22,
     "metadata": {},
     "output_type": "execute_result"
    }
   ],
   "source": [
    "a , b , c = my_tuple\n",
    "a , b ,c"
   ]
  },
  {
   "cell_type": "code",
   "execution_count": 23,
   "id": "de01d195",
   "metadata": {},
   "outputs": [
    {
     "data": {
      "text/plain": [
       "(1, 2, 3, (4, 5, 6))"
      ]
     },
     "execution_count": 23,
     "metadata": {},
     "output_type": "execute_result"
    }
   ],
   "source": [
    "nested_tuple = (1,2,3,(4,5,6))\n",
    "nested_tuple"
   ]
  },
  {
   "cell_type": "code",
   "execution_count": 24,
   "id": "a52ac730",
   "metadata": {},
   "outputs": [
    {
     "data": {
      "text/plain": [
       "('p', 'e', 'r', 'm', 'i', 't')"
      ]
     },
     "execution_count": 24,
     "metadata": {},
     "output_type": "execute_result"
    }
   ],
   "source": [
    "my_tuple = ('p','e','r','m','i','t')\n",
    "my_tuple"
   ]
  },
  {
   "cell_type": "code",
   "execution_count": 27,
   "id": "5a612670",
   "metadata": {},
   "outputs": [
    {
     "data": {
      "text/plain": [
       "'p'"
      ]
     },
     "execution_count": 27,
     "metadata": {},
     "output_type": "execute_result"
    }
   ],
   "source": [
    "my_tuple[0]"
   ]
  },
  {
   "cell_type": "code",
   "execution_count": 28,
   "id": "6ef72ceb",
   "metadata": {},
   "outputs": [
    {
     "ename": "IndexError",
     "evalue": "tuple index out of range",
     "output_type": "error",
     "traceback": [
      "\u001b[1;31m---------------------------------------------------------------------------\u001b[0m",
      "\u001b[1;31mIndexError\u001b[0m                                Traceback (most recent call last)",
      "Input \u001b[1;32mIn [28]\u001b[0m, in \u001b[0;36m<cell line: 1>\u001b[1;34m()\u001b[0m\n\u001b[1;32m----> 1\u001b[0m \u001b[43mmy_tuple\u001b[49m\u001b[43m[\u001b[49m\u001b[38;5;241;43m6\u001b[39;49m\u001b[43m]\u001b[49m\n",
      "\u001b[1;31mIndexError\u001b[0m: tuple index out of range"
     ]
    }
   ],
   "source": [
    "my_tuple[6]"
   ]
  },
  {
   "cell_type": "code",
   "execution_count": 39,
   "id": "c0b1c577",
   "metadata": {},
   "outputs": [
    {
     "data": {
      "text/plain": [
       "('mouse', [8, 4, 6, 7, 3, 1], (1, 2, 3))"
      ]
     },
     "execution_count": 39,
     "metadata": {},
     "output_type": "execute_result"
    }
   ],
   "source": [
    "mixed_tuple = (\"mouse\",[8,4,6,7,3,1],(1,2,3))\n",
    "mixed_tuple"
   ]
  },
  {
   "cell_type": "code",
   "execution_count": 30,
   "id": "6f4f33cc",
   "metadata": {},
   "outputs": [
    {
     "data": {
      "text/plain": [
       "'mouse'"
      ]
     },
     "execution_count": 30,
     "metadata": {},
     "output_type": "execute_result"
    }
   ],
   "source": [
    "mixed_tuple[0]"
   ]
  },
  {
   "cell_type": "code",
   "execution_count": 31,
   "id": "aac6d111",
   "metadata": {},
   "outputs": [
    {
     "data": {
      "text/plain": [
       "[8, 4, 6]"
      ]
     },
     "execution_count": 31,
     "metadata": {},
     "output_type": "execute_result"
    }
   ],
   "source": [
    "mixed_tuple[1]"
   ]
  },
  {
   "cell_type": "code",
   "execution_count": 42,
   "id": "a4b4c5e2",
   "metadata": {},
   "outputs": [
    {
     "data": {
      "text/plain": [
       "8"
      ]
     },
     "execution_count": 42,
     "metadata": {},
     "output_type": "execute_result"
    }
   ],
   "source": [
    "mixed_tuple[1][0]"
   ]
  },
  {
   "cell_type": "code",
   "execution_count": 43,
   "id": "88e9a02c",
   "metadata": {},
   "outputs": [
    {
     "data": {
      "text/plain": [
       "[3, 7, 6]"
      ]
     },
     "execution_count": 43,
     "metadata": {},
     "output_type": "execute_result"
    }
   ],
   "source": [
    "mixed_tuple[1][4:1:-1]"
   ]
  },
  {
   "cell_type": "code",
   "execution_count": 44,
   "id": "a499051a",
   "metadata": {},
   "outputs": [
    {
     "data": {
      "text/plain": [
       "('Hello', 'Python', 'Hello', 'Python', 'Hello', 'Python')"
      ]
     },
     "execution_count": 44,
     "metadata": {},
     "output_type": "execute_result"
    }
   ],
   "source": [
    "tuple_str"
   ]
  },
  {
   "cell_type": "code",
   "execution_count": 47,
   "id": "b3fdd321",
   "metadata": {},
   "outputs": [
    {
     "data": {
      "text/plain": [
       "1"
      ]
     },
     "execution_count": 47,
     "metadata": {},
     "output_type": "execute_result"
    }
   ],
   "source": [
    "tuple_str.index(\"Python\")"
   ]
  },
  {
   "cell_type": "code",
   "execution_count": 49,
   "id": "299be24b",
   "metadata": {},
   "outputs": [
    {
     "data": {
      "text/plain": [
       "3"
      ]
     },
     "execution_count": 49,
     "metadata": {},
     "output_type": "execute_result"
    }
   ],
   "source": [
    "tuple_str.count(\"Python\")"
   ]
  },
  {
   "cell_type": "code",
   "execution_count": 50,
   "id": "efdf5aaf",
   "metadata": {},
   "outputs": [
    {
     "data": {
      "text/plain": [
       "True"
      ]
     },
     "execution_count": 50,
     "metadata": {},
     "output_type": "execute_result"
    }
   ],
   "source": [
    "'Python' in tuple_str"
   ]
  },
  {
   "cell_type": "code",
   "execution_count": 52,
   "id": "0419b0d4",
   "metadata": {},
   "outputs": [
    {
     "data": {
      "text/plain": [
       "True"
      ]
     },
     "execution_count": 52,
     "metadata": {},
     "output_type": "execute_result"
    }
   ],
   "source": [
    "'python' not in tuple_str"
   ]
  },
  {
   "cell_type": "code",
   "execution_count": 53,
   "id": "1d9a7e80",
   "metadata": {},
   "outputs": [
    {
     "data": {
      "text/plain": [
       "(1, 2, 3)"
      ]
     },
     "execution_count": 53,
     "metadata": {},
     "output_type": "execute_result"
    }
   ],
   "source": [
    "tuple_int"
   ]
  },
  {
   "cell_type": "code",
   "execution_count": 54,
   "id": "3e9522e9",
   "metadata": {},
   "outputs": [
    {
     "data": {
      "text/plain": [
       "6"
      ]
     },
     "execution_count": 54,
     "metadata": {},
     "output_type": "execute_result"
    }
   ],
   "source": [
    "sum(tuple_int)"
   ]
  },
  {
   "cell_type": "code",
   "execution_count": 55,
   "id": "92442d7e",
   "metadata": {},
   "outputs": [
    {
     "data": {
      "text/plain": [
       "[1, 2, 3]"
      ]
     },
     "execution_count": 55,
     "metadata": {},
     "output_type": "execute_result"
    }
   ],
   "source": [
    "list(tuple_int)"
   ]
  },
  {
   "cell_type": "code",
   "execution_count": 56,
   "id": "b74fb353",
   "metadata": {},
   "outputs": [
    {
     "data": {
      "text/plain": [
       "{1, 2, 3}"
      ]
     },
     "execution_count": 56,
     "metadata": {},
     "output_type": "execute_result"
    }
   ],
   "source": [
    "set(tuple_int)"
   ]
  },
  {
   "cell_type": "code",
   "execution_count": 57,
   "id": "33e275fa",
   "metadata": {},
   "outputs": [
    {
     "data": {
      "text/plain": [
       "(1, 2, 3, 4, 5, 6)"
      ]
     },
     "execution_count": 57,
     "metadata": {},
     "output_type": "execute_result"
    }
   ],
   "source": [
    "immutable_tuple = (1,2,3,4,5,6)\n",
    "immutable_tuple"
   ]
  },
  {
   "cell_type": "code",
   "execution_count": 58,
   "id": "fbf8f462",
   "metadata": {},
   "outputs": [
    {
     "ename": "TypeError",
     "evalue": "'tuple' object does not support item assignment",
     "output_type": "error",
     "traceback": [
      "\u001b[1;31m---------------------------------------------------------------------------\u001b[0m",
      "\u001b[1;31mTypeError\u001b[0m                                 Traceback (most recent call last)",
      "Input \u001b[1;32mIn [58]\u001b[0m, in \u001b[0;36m<cell line: 1>\u001b[1;34m()\u001b[0m\n\u001b[1;32m----> 1\u001b[0m immutable_tuple[\u001b[38;5;241m0\u001b[39m] \u001b[38;5;241m=\u001b[39m \u001b[38;5;241m12\u001b[39m\n\u001b[0;32m      2\u001b[0m immutable\u001b[38;5;241m-\u001b[39m\u001b[38;5;28mtuple\u001b[39m\n",
      "\u001b[1;31mTypeError\u001b[0m: 'tuple' object does not support item assignment"
     ]
    }
   ],
   "source": [
    "immutable_tuple[0] = 12\n",
    "immutable-tuple"
   ]
  },
  {
   "cell_type": "code",
   "execution_count": 59,
   "id": "ab2d32aa",
   "metadata": {},
   "outputs": [
    {
     "data": {
      "text/plain": [
       "(1, 2, 3, 4, 5, [6, 7, 8])"
      ]
     },
     "execution_count": 59,
     "metadata": {},
     "output_type": "execute_result"
    }
   ],
   "source": [
    "immutable_tuple_1 = (1,2,3,4,5,[6,7,8])\n",
    "immutable_tuple_1"
   ]
  },
  {
   "cell_type": "code",
   "execution_count": 61,
   "id": "723d2862",
   "metadata": {},
   "outputs": [
    {
     "data": {
      "text/plain": [
       "(1, 2, 3, 4, 5, [9, 7, 8])"
      ]
     },
     "execution_count": 61,
     "metadata": {},
     "output_type": "execute_result"
    }
   ],
   "source": [
    "immutable_tuple_1[5][0] = 9\n",
    "immutable_tuple_1"
   ]
  },
  {
   "cell_type": "code",
   "execution_count": 62,
   "id": "20b3ad35",
   "metadata": {},
   "outputs": [
    {
     "data": {
      "text/plain": [
       "('p', 'y', 't', 'h', 'o', 'n')"
      ]
     },
     "execution_count": 62,
     "metadata": {},
     "output_type": "execute_result"
    }
   ],
   "source": [
    "my_tuple = ('p','y','t','h','o','n')\n",
    "my_tuple"
   ]
  },
  {
   "cell_type": "code",
   "execution_count": 64,
   "id": "f7b766a7",
   "metadata": {},
   "outputs": [
    {
     "ename": "TypeError",
     "evalue": "'tuple' object doesn't support item deletion",
     "output_type": "error",
     "traceback": [
      "\u001b[1;31m---------------------------------------------------------------------------\u001b[0m",
      "\u001b[1;31mTypeError\u001b[0m                                 Traceback (most recent call last)",
      "Input \u001b[1;32mIn [64]\u001b[0m, in \u001b[0;36m<cell line: 1>\u001b[1;34m()\u001b[0m\n\u001b[1;32m----> 1\u001b[0m \u001b[38;5;28;01mdel\u001b[39;00m my_tuple[\u001b[38;5;241m3\u001b[39m]\n",
      "\u001b[1;31mTypeError\u001b[0m: 'tuple' object doesn't support item deletion"
     ]
    }
   ],
   "source": [
    "del my_tuple[3]"
   ]
  },
  {
   "cell_type": "code",
   "execution_count": 65,
   "id": "91b0e200",
   "metadata": {},
   "outputs": [
    {
     "ename": "NameError",
     "evalue": "name 'my_tuple' is not defined",
     "output_type": "error",
     "traceback": [
      "\u001b[1;31m---------------------------------------------------------------------------\u001b[0m",
      "\u001b[1;31mNameError\u001b[0m                                 Traceback (most recent call last)",
      "Input \u001b[1;32mIn [65]\u001b[0m, in \u001b[0;36m<cell line: 2>\u001b[1;34m()\u001b[0m\n\u001b[0;32m      1\u001b[0m \u001b[38;5;28;01mdel\u001b[39;00m my_tuple\n\u001b[1;32m----> 2\u001b[0m \u001b[43mmy_tuple\u001b[49m\n",
      "\u001b[1;31mNameError\u001b[0m: name 'my_tuple' is not defined"
     ]
    }
   ],
   "source": [
    "del my_tuple\n",
    "my_tuple"
   ]
  },
  {
   "cell_type": "code",
   "execution_count": 66,
   "id": "e285704d",
   "metadata": {},
   "outputs": [
    {
     "data": {
      "text/plain": [
       "((1, 2, 3, 4, 5, 6), ('a', 'b', 'c', 'd', 'e'))"
      ]
     },
     "execution_count": 66,
     "metadata": {},
     "output_type": "execute_result"
    }
   ],
   "source": [
    "tuple_a = (1,2,3,4,5,6)\n",
    "tuple_b = ('a','b','c','d','e')\n",
    "tuple_a,tuple_b"
   ]
  },
  {
   "cell_type": "code",
   "execution_count": 74,
   "id": "9c6152c9",
   "metadata": {},
   "outputs": [
    {
     "name": "stdout",
     "output_type": "stream",
     "text": [
      "<zip object at 0x0000028993DA6C00>\n"
     ]
    }
   ],
   "source": [
    "zipped = zip(tuple_a , tuple_b)\n",
    "print(zipped)"
   ]
  },
  {
   "cell_type": "code",
   "execution_count": 75,
   "id": "dc06d723",
   "metadata": {},
   "outputs": [
    {
     "name": "stdout",
     "output_type": "stream",
     "text": [
      "((1, 'a'), (2, 'b'), (3, 'c'), (4, 'd'), (5, 'e'))\n"
     ]
    }
   ],
   "source": [
    "result = tuple(zipped)\n",
    "print(result)"
   ]
  },
  {
   "cell_type": "code",
   "execution_count": 77,
   "id": "c31549fa",
   "metadata": {},
   "outputs": [],
   "source": [
    "tuple_x , tuple_y =zip(*result)"
   ]
  },
  {
   "cell_type": "code",
   "execution_count": 78,
   "id": "140c4034",
   "metadata": {},
   "outputs": [
    {
     "data": {
      "text/plain": [
       "(1, 2, 3, 4, 5)"
      ]
     },
     "execution_count": 78,
     "metadata": {},
     "output_type": "execute_result"
    }
   ],
   "source": [
    "tuple_x"
   ]
  },
  {
   "cell_type": "code",
   "execution_count": 79,
   "id": "db2affd3",
   "metadata": {},
   "outputs": [
    {
     "data": {
      "text/plain": [
       "('a', 'b', 'c', 'd', 'e')"
      ]
     },
     "execution_count": 79,
     "metadata": {},
     "output_type": "execute_result"
    }
   ],
   "source": [
    "tuple_y"
   ]
  },
  {
   "cell_type": "code",
   "execution_count": 86,
   "id": "156172f5",
   "metadata": {},
   "outputs": [
    {
     "name": "stdout",
     "output_type": "stream",
     "text": [
      "<zip object at 0x0000028993DB0280>\n"
     ]
    }
   ],
   "source": [
    "a = (\"python\",\"linux\",\"HTML\")\n",
    "b = (\"programming language\",\"OS\",\"Front end\")\n",
    "x = zip(a,b)\n",
    "print(x)"
   ]
  },
  {
   "cell_type": "code",
   "execution_count": 87,
   "id": "da0ec576",
   "metadata": {},
   "outputs": [
    {
     "name": "stdout",
     "output_type": "stream",
     "text": [
      "{'python': 'programming language', 'linux': 'OS', 'HTML': 'Front end'}\n"
     ]
    }
   ],
   "source": [
    "result = dict(x)\n",
    "print(result)"
   ]
  },
  {
   "cell_type": "code",
   "execution_count": 104,
   "id": "862e8006",
   "metadata": {},
   "outputs": [],
   "source": [
    "number_list = [1,2,3]\n",
    "str_list = ['one','two','three']\n",
    "number_tuple = (\"ONE\",\"TWO\",\"THREE\")\n",
    "result = zip(number_list,str_list,number_tuple)"
   ]
  },
  {
   "cell_type": "code",
   "execution_count": 105,
   "id": "e8f87e08",
   "metadata": {},
   "outputs": [
    {
     "data": {
      "text/plain": [
       "{(1, 'one', 'ONE'), (2, 'two', 'TWO'), (3, 'three', 'THREE')}"
      ]
     },
     "execution_count": 105,
     "metadata": {},
     "output_type": "execute_result"
    }
   ],
   "source": [
    "result_set = set(result)\n",
    "result_set"
   ]
  },
  {
   "cell_type": "code",
   "execution_count": null,
   "id": "60ead869",
   "metadata": {},
   "outputs": [],
   "source": []
  },
  {
   "cell_type": "code",
   "execution_count": null,
   "id": "b2f4f541",
   "metadata": {},
   "outputs": [],
   "source": []
  }
 ],
 "metadata": {
  "kernelspec": {
   "display_name": "Python 3 (ipykernel)",
   "language": "python",
   "name": "python3"
  },
  "language_info": {
   "codemirror_mode": {
    "name": "ipython",
    "version": 3
   },
   "file_extension": ".py",
   "mimetype": "text/x-python",
   "name": "python",
   "nbconvert_exporter": "python",
   "pygments_lexer": "ipython3",
   "version": "3.11.3"
  }
 },
 "nbformat": 4,
 "nbformat_minor": 5
}
