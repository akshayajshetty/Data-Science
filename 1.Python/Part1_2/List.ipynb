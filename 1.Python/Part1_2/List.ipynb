{
 "cells": [
  {
   "cell_type": "code",
   "execution_count": 1,
   "id": "f5944297",
   "metadata": {},
   "outputs": [
    {
     "data": {
      "text/plain": [
       "[]"
      ]
     },
     "execution_count": 1,
     "metadata": {},
     "output_type": "execute_result"
    }
   ],
   "source": [
    "empty_list = []\n",
    "empty_list"
   ]
  },
  {
   "cell_type": "code",
   "execution_count": 2,
   "id": "c488e7dd",
   "metadata": {},
   "outputs": [
    {
     "data": {
      "text/plain": [
       "['Rols roys', 'Audi', 'Benz', 'BMW', 'Tata', 'Bugati']"
      ]
     },
     "execution_count": 2,
     "metadata": {},
     "output_type": "execute_result"
    }
   ],
   "source": [
    "list_str = [\"Rols roys\",\"Audi\",\"Benz\",\"BMW\",\"Tata\",\"Bugati\"]\n",
    "list_str"
   ]
  },
  {
   "cell_type": "code",
   "execution_count": 3,
   "id": "281ae094",
   "metadata": {},
   "outputs": [
    {
     "data": {
      "text/plain": [
       "list"
      ]
     },
     "execution_count": 3,
     "metadata": {},
     "output_type": "execute_result"
    }
   ],
   "source": [
    "type(list_str)"
   ]
  },
  {
   "cell_type": "code",
   "execution_count": 4,
   "id": "6ed39169",
   "metadata": {},
   "outputs": [
    {
     "data": {
      "text/plain": [
       "[1, 2, 3, 4, 5, 6]"
      ]
     },
     "execution_count": 4,
     "metadata": {},
     "output_type": "execute_result"
    }
   ],
   "source": [
    "list_int = [1,2,3,4,5,6]\n",
    "list_int"
   ]
  },
  {
   "cell_type": "code",
   "execution_count": 14,
   "id": "30c8c415",
   "metadata": {},
   "outputs": [
    {
     "data": {
      "text/plain": [
       "list"
      ]
     },
     "execution_count": 14,
     "metadata": {},
     "output_type": "execute_result"
    }
   ],
   "source": [
    "type(list_int)"
   ]
  },
  {
   "cell_type": "code",
   "execution_count": 15,
   "id": "6f4d36ae",
   "metadata": {},
   "outputs": [
    {
     "data": {
      "text/plain": [
       "[1.2, 2.4, 6.4, 9.4]"
      ]
     },
     "execution_count": 15,
     "metadata": {},
     "output_type": "execute_result"
    }
   ],
   "source": [
    "list_float = [1.2,2.4,6.4,9.4]\n",
    "list_float"
   ]
  },
  {
   "cell_type": "code",
   "execution_count": 16,
   "id": "7d17539f",
   "metadata": {},
   "outputs": [
    {
     "data": {
      "text/plain": [
       "list"
      ]
     },
     "execution_count": 16,
     "metadata": {},
     "output_type": "execute_result"
    }
   ],
   "source": [
    "type(list_float)"
   ]
  },
  {
   "cell_type": "code",
   "execution_count": 17,
   "id": "aed2ea64",
   "metadata": {},
   "outputs": [
    {
     "data": {
      "text/plain": [
       "[True, False]"
      ]
     },
     "execution_count": 17,
     "metadata": {},
     "output_type": "execute_result"
    }
   ],
   "source": [
    "list_bool = [True,False]\n",
    "list_bool"
   ]
  },
  {
   "cell_type": "code",
   "execution_count": 20,
   "id": "980cd9eb",
   "metadata": {},
   "outputs": [
    {
     "data": {
      "text/plain": [
       "list"
      ]
     },
     "execution_count": 20,
     "metadata": {},
     "output_type": "execute_result"
    }
   ],
   "source": [
    "type(list_bool)"
   ]
  },
  {
   "cell_type": "code",
   "execution_count": 21,
   "id": "d06648ab",
   "metadata": {},
   "outputs": [
    {
     "data": {
      "text/plain": [
       "['Audi', 1, 1.5, True]"
      ]
     },
     "execution_count": 21,
     "metadata": {},
     "output_type": "execute_result"
    }
   ],
   "source": [
    "mix_list = [\"Audi\",1,1.5,True]\n",
    "mix_list"
   ]
  },
  {
   "cell_type": "code",
   "execution_count": 34,
   "id": "2b94b186",
   "metadata": {},
   "outputs": [
    {
     "data": {
      "text/plain": [
       "['RR', 'Audi', 'Benz']"
      ]
     },
     "execution_count": 34,
     "metadata": {},
     "output_type": "execute_result"
    }
   ],
   "source": [
    "car_list = [\"RR\",\"Audi\",\"Benz\",\"BMW\",\"Tata\",\"Bugati\"]\n",
    "car_list[:-3]"
   ]
  },
  {
   "cell_type": "code",
   "execution_count": 35,
   "id": "4ef10037",
   "metadata": {},
   "outputs": [
    {
     "ename": "IndexError",
     "evalue": "list index out of range",
     "output_type": "error",
     "traceback": [
      "\u001b[1;31m---------------------------------------------------------------------------\u001b[0m",
      "\u001b[1;31mIndexError\u001b[0m                                Traceback (most recent call last)",
      "Input \u001b[1;32mIn [35]\u001b[0m, in \u001b[0;36m<cell line: 1>\u001b[1;34m()\u001b[0m\n\u001b[1;32m----> 1\u001b[0m \u001b[43mcar_list\u001b[49m\u001b[43m[\u001b[49m\u001b[38;5;241;43m7\u001b[39;49m\u001b[43m]\u001b[49m\n",
      "\u001b[1;31mIndexError\u001b[0m: list index out of range"
     ]
    }
   ],
   "source": [
    "car_list[7]"
   ]
  },
  {
   "cell_type": "code",
   "execution_count": 37,
   "id": "a2418607",
   "metadata": {},
   "outputs": [
    {
     "data": {
      "text/plain": [
       "6"
      ]
     },
     "execution_count": 37,
     "metadata": {},
     "output_type": "execute_result"
    }
   ],
   "source": [
    "len(car_list)"
   ]
  },
  {
   "cell_type": "code",
   "execution_count": 38,
   "id": "7afadf88",
   "metadata": {},
   "outputs": [
    {
     "data": {
      "text/plain": [
       "['RR', 'Audi', 'Benz', 'BMW', 'Tata', 'Ferrori']"
      ]
     },
     "execution_count": 38,
     "metadata": {},
     "output_type": "execute_result"
    }
   ],
   "source": [
    "car_list[5] = \"Ferrori\"\n",
    "car_list"
   ]
  },
  {
   "cell_type": "code",
   "execution_count": 43,
   "id": "f121009b",
   "metadata": {},
   "outputs": [
    {
     "data": {
      "text/plain": [
       "['RR', 'Audi', 'Benz', 'BMW', 'Tata', 'Ferrori', 'Maruti', 'Mauti', 'Maruti']"
      ]
     },
     "execution_count": 43,
     "metadata": {},
     "output_type": "execute_result"
    }
   ],
   "source": [
    "car_list[6] = \"Maruti\"\n",
    "car_list"
   ]
  },
  {
   "cell_type": "code",
   "execution_count": 48,
   "id": "a4b7ea3d",
   "metadata": {},
   "outputs": [
    {
     "ename": "IndexError",
     "evalue": "list assignment index out of range",
     "output_type": "error",
     "traceback": [
      "\u001b[1;31m---------------------------------------------------------------------------\u001b[0m",
      "\u001b[1;31mIndexError\u001b[0m                                Traceback (most recent call last)",
      "Input \u001b[1;32mIn [48]\u001b[0m, in \u001b[0;36m<cell line: 1>\u001b[1;34m()\u001b[0m\n\u001b[1;32m----> 1\u001b[0m car_list[\u001b[38;5;241m6\u001b[39m] \u001b[38;5;241m=\u001b[39m \u001b[38;5;124m\"\u001b[39m\u001b[38;5;124mMaruti\u001b[39m\u001b[38;5;124m\"\u001b[39m\n\u001b[0;32m      2\u001b[0m car_list\n",
      "\u001b[1;31mIndexError\u001b[0m: list assignment index out of range"
     ]
    }
   ],
   "source": [
    "car_list[6] = \"Maruti\"\n",
    "car_list"
   ]
  },
  {
   "cell_type": "code",
   "execution_count": 49,
   "id": "552d3856",
   "metadata": {},
   "outputs": [
    {
     "data": {
      "text/plain": [
       "['RR', 'Audi', 'Benz', 'BMW', 'Tata', 'Ferrori', 'Maruti']"
      ]
     },
     "execution_count": 49,
     "metadata": {},
     "output_type": "execute_result"
    }
   ],
   "source": [
    "car_list.append(\"Maruti\")\n",
    "car_list"
   ]
  },
  {
   "cell_type": "code",
   "execution_count": 50,
   "id": "bec70faf",
   "metadata": {},
   "outputs": [
    {
     "ename": "TypeError",
     "evalue": "list.append() takes exactly one argument (2 given)",
     "output_type": "error",
     "traceback": [
      "\u001b[1;31m---------------------------------------------------------------------------\u001b[0m",
      "\u001b[1;31mTypeError\u001b[0m                                 Traceback (most recent call last)",
      "Input \u001b[1;32mIn [50]\u001b[0m, in \u001b[0;36m<cell line: 1>\u001b[1;34m()\u001b[0m\n\u001b[1;32m----> 1\u001b[0m \u001b[43mcar_list\u001b[49m\u001b[38;5;241;43m.\u001b[39;49m\u001b[43mappend\u001b[49m\u001b[43m(\u001b[49m\u001b[38;5;124;43m\"\u001b[39;49m\u001b[38;5;124;43mSwift\u001b[39;49m\u001b[38;5;124;43m\"\u001b[39;49m\u001b[43m,\u001b[49m\u001b[38;5;124;43m\"\u001b[39;49m\u001b[38;5;124;43mRangrRover\u001b[39;49m\u001b[38;5;124;43m\"\u001b[39;49m\u001b[43m)\u001b[49m\n\u001b[0;32m      2\u001b[0m car_list\n",
      "\u001b[1;31mTypeError\u001b[0m: list.append() takes exactly one argument (2 given)"
     ]
    }
   ],
   "source": [
    "car_list.append(\"Swift\",\"RangrRover\")\n",
    "car_list"
   ]
  },
  {
   "cell_type": "code",
   "execution_count": 51,
   "id": "af33b226",
   "metadata": {},
   "outputs": [
    {
     "data": {
      "text/plain": [
       "['RR', 'Audi', 'Benz', 'BMW', 'Tata', 'Ferrori', 'Maruti', 'RangeRover']"
      ]
     },
     "execution_count": 51,
     "metadata": {},
     "output_type": "execute_result"
    }
   ],
   "source": [
    "car_list.insert(8,\"RangeRover\")\n",
    "car_list"
   ]
  },
  {
   "cell_type": "code",
   "execution_count": 52,
   "id": "28ccb5a2",
   "metadata": {},
   "outputs": [
    {
     "data": {
      "text/plain": [
       "['RR',\n",
       " 'Audi',\n",
       " 'Benz',\n",
       " 'BMW',\n",
       " 'swift',\n",
       " 'Tata',\n",
       " 'Ferrori',\n",
       " 'Maruti',\n",
       " 'RangeRover']"
      ]
     },
     "execution_count": 52,
     "metadata": {},
     "output_type": "execute_result"
    }
   ],
   "source": [
    "car_list.insert(4,\"swift\")\n",
    "car_list"
   ]
  },
  {
   "cell_type": "code",
   "execution_count": 53,
   "id": "1bd05ed9",
   "metadata": {},
   "outputs": [
    {
     "data": {
      "text/plain": [
       "['RR',\n",
       " 'Audi',\n",
       " 'Benz',\n",
       " 'BMW',\n",
       " 'swift',\n",
       " 'Tata',\n",
       " 'Ferrori',\n",
       " 'Maruti',\n",
       " 'RangeRover',\n",
       " 'Kia',\n",
       " 'MG']"
      ]
     },
     "execution_count": 53,
     "metadata": {},
     "output_type": "execute_result"
    }
   ],
   "source": [
    "car_list.extend([\"Kia\",\"MG\"])\n",
    "car_list"
   ]
  },
  {
   "cell_type": "code",
   "execution_count": 55,
   "id": "17c87a9e",
   "metadata": {},
   "outputs": [
    {
     "data": {
      "text/plain": [
       "['Bugati', 'Porche', 'Toyoto']"
      ]
     },
     "execution_count": 55,
     "metadata": {},
     "output_type": "execute_result"
    }
   ],
   "source": [
    "car_list2 = [\"Bugati\",\"Porche\",\"Toyoto\"]\n",
    "car_list2"
   ]
  },
  {
   "cell_type": "code",
   "execution_count": 56,
   "id": "d1f3db55",
   "metadata": {},
   "outputs": [
    {
     "data": {
      "text/plain": [
       "['RR',\n",
       " 'Audi',\n",
       " 'Benz',\n",
       " 'BMW',\n",
       " 'swift',\n",
       " 'Tata',\n",
       " 'Ferrori',\n",
       " 'Maruti',\n",
       " 'RangeRover',\n",
       " 'Kia',\n",
       " 'MG',\n",
       " 'Bugati',\n",
       " 'Porche',\n",
       " 'Toyoto']"
      ]
     },
     "execution_count": 56,
     "metadata": {},
     "output_type": "execute_result"
    }
   ],
   "source": [
    "complete_car_list = car_list + car_list2\n",
    "complete_car_list"
   ]
  },
  {
   "cell_type": "code",
   "execution_count": 57,
   "id": "bcf6ea60",
   "metadata": {},
   "outputs": [
    {
     "data": {
      "text/plain": [
       "10"
      ]
     },
     "execution_count": 57,
     "metadata": {},
     "output_type": "execute_result"
    }
   ],
   "source": [
    "complete_car_list.index('MG')"
   ]
  },
  {
   "cell_type": "code",
   "execution_count": 58,
   "id": "7dfb51b0",
   "metadata": {},
   "outputs": [
    {
     "data": {
      "text/plain": [
       "0"
      ]
     },
     "execution_count": 58,
     "metadata": {},
     "output_type": "execute_result"
    }
   ],
   "source": [
    "complete_car_list.index(\"RR\")"
   ]
  },
  {
   "cell_type": "code",
   "execution_count": 60,
   "id": "1770fa5f",
   "metadata": {},
   "outputs": [
    {
     "data": {
      "text/plain": [
       "['RR',\n",
       " 'Audi',\n",
       " 'Benz',\n",
       " 'BMW',\n",
       " 'Tata',\n",
       " 'Ferrori',\n",
       " 'Maruti',\n",
       " 'RangeRover',\n",
       " 'Kia',\n",
       " 'MG',\n",
       " 'Bugati',\n",
       " 'Porche',\n",
       " 'Toyoto']"
      ]
     },
     "execution_count": 60,
     "metadata": {},
     "output_type": "execute_result"
    }
   ],
   "source": [
    "complete_car_list.remove(\"swift\")\n",
    "complete_car_list"
   ]
  },
  {
   "cell_type": "code",
   "execution_count": 62,
   "id": "05d7335b",
   "metadata": {},
   "outputs": [
    {
     "data": {
      "text/plain": [
       "['Audi',\n",
       " 'BMW',\n",
       " 'Benz',\n",
       " 'Bugati',\n",
       " 'Ferrori',\n",
       " 'Kia',\n",
       " 'MG',\n",
       " 'Maruti',\n",
       " 'Porche',\n",
       " 'RR',\n",
       " 'RangeRover',\n",
       " 'Tata',\n",
       " 'Toyoto']"
      ]
     },
     "execution_count": 62,
     "metadata": {},
     "output_type": "execute_result"
    }
   ],
   "source": [
    "complete_car_list.sort()\n",
    "complete_car_list"
   ]
  },
  {
   "cell_type": "code",
   "execution_count": 63,
   "id": "f24b37e4",
   "metadata": {},
   "outputs": [
    {
     "data": {
      "text/plain": [
       "['Toyoto',\n",
       " 'Tata',\n",
       " 'RangeRover',\n",
       " 'RR',\n",
       " 'Porche',\n",
       " 'Maruti',\n",
       " 'MG',\n",
       " 'Kia',\n",
       " 'Ferrori',\n",
       " 'Bugati',\n",
       " 'Benz',\n",
       " 'BMW',\n",
       " 'Audi']"
      ]
     },
     "execution_count": 63,
     "metadata": {},
     "output_type": "execute_result"
    }
   ],
   "source": [
    "complete_car_list.reverse()\n",
    "complete_car_list"
   ]
  },
  {
   "cell_type": "code",
   "execution_count": 64,
   "id": "89c1900a",
   "metadata": {},
   "outputs": [
    {
     "data": {
      "text/plain": [
       "['Toyoto',\n",
       " 'Tata',\n",
       " 'RangeRover',\n",
       " 'RR',\n",
       " 'Porche',\n",
       " 'Maruti',\n",
       " 'MG',\n",
       " 'Kia',\n",
       " 'Ferrori',\n",
       " 'Bugati',\n",
       " 'Benz',\n",
       " 'BMW']"
      ]
     },
     "execution_count": 64,
     "metadata": {},
     "output_type": "execute_result"
    }
   ],
   "source": [
    "complete_car_list.pop()\n",
    "complete_car_list"
   ]
  },
  {
   "cell_type": "code",
   "execution_count": 65,
   "id": "4fc0da3a",
   "metadata": {},
   "outputs": [],
   "source": [
    "complete_car_list.extend([\"Audi\",'RR',\"Tata\"])"
   ]
  },
  {
   "cell_type": "code",
   "execution_count": 67,
   "id": "e4bd2897",
   "metadata": {},
   "outputs": [
    {
     "data": {
      "text/plain": [
       "2"
      ]
     },
     "execution_count": 67,
     "metadata": {},
     "output_type": "execute_result"
    }
   ],
   "source": [
    "complete_car_list.count(\"RR\")"
   ]
  },
  {
   "cell_type": "code",
   "execution_count": 70,
   "id": "a4a6dc7c",
   "metadata": {},
   "outputs": [
    {
     "data": {
      "text/plain": [
       "1"
      ]
     },
     "execution_count": 70,
     "metadata": {},
     "output_type": "execute_result"
    }
   ],
   "source": [
    "complete_car_list.count(\"Benz\")"
   ]
  },
  {
   "cell_type": "code",
   "execution_count": 72,
   "id": "ffa8fc38",
   "metadata": {},
   "outputs": [
    {
     "data": {
      "text/plain": [
       "[]"
      ]
     },
     "execution_count": 72,
     "metadata": {},
     "output_type": "execute_result"
    }
   ],
   "source": [
    "car_list.clear()\n",
    "car_list"
   ]
  },
  {
   "cell_type": "code",
   "execution_count": 73,
   "id": "a0bb7c3f",
   "metadata": {},
   "outputs": [
    {
     "data": {
      "text/plain": [
       "['Toyoto',\n",
       " 'Tata',\n",
       " 'RangeRover',\n",
       " 'RR',\n",
       " 'Porche',\n",
       " 'Maruti',\n",
       " 'MG',\n",
       " 'Kia',\n",
       " 'Ferrori',\n",
       " 'Bugati',\n",
       " 'Benz',\n",
       " 'BMW',\n",
       " 'Audi',\n",
       " 'RR',\n",
       " 'Tata']"
      ]
     },
     "execution_count": 73,
     "metadata": {},
     "output_type": "execute_result"
    }
   ],
   "source": [
    "complete_car_list"
   ]
  },
  {
   "cell_type": "code",
   "execution_count": 74,
   "id": "d8297f16",
   "metadata": {},
   "outputs": [
    {
     "data": {
      "text/plain": [
       "['Toyoto',\n",
       " 'Tata',\n",
       " 'RangeRover',\n",
       " 'RR',\n",
       " 'Porche',\n",
       " 'Maruti',\n",
       " 'MG',\n",
       " 'Kia',\n",
       " 'Ferrori',\n",
       " 'Bugati',\n",
       " 'Benz',\n",
       " 'BMW',\n",
       " 'Audi',\n",
       " 'RR',\n",
       " 'Tata']"
      ]
     },
     "execution_count": 74,
     "metadata": {},
     "output_type": "execute_result"
    }
   ],
   "source": [
    "new_car_list = complete_car_list.copy()\n",
    "new_car_list"
   ]
  },
  {
   "cell_type": "code",
   "execution_count": 75,
   "id": "82d790e9",
   "metadata": {},
   "outputs": [],
   "source": [
    "del complete_car_list"
   ]
  },
  {
   "cell_type": "code",
   "execution_count": 76,
   "id": "bb4bbb2d",
   "metadata": {},
   "outputs": [
    {
     "ename": "NameError",
     "evalue": "name 'complete_car_list' is not defined",
     "output_type": "error",
     "traceback": [
      "\u001b[1;31m---------------------------------------------------------------------------\u001b[0m",
      "\u001b[1;31mNameError\u001b[0m                                 Traceback (most recent call last)",
      "Input \u001b[1;32mIn [76]\u001b[0m, in \u001b[0;36m<cell line: 1>\u001b[1;34m()\u001b[0m\n\u001b[1;32m----> 1\u001b[0m \u001b[43mcomplete_car_list\u001b[49m\n",
      "\u001b[1;31mNameError\u001b[0m: name 'complete_car_list' is not defined"
     ]
    }
   ],
   "source": [
    "complete_car_list"
   ]
  },
  {
   "cell_type": "code",
   "execution_count": 77,
   "id": "8d2cf417",
   "metadata": {},
   "outputs": [
    {
     "data": {
      "text/plain": [
       "['Toyoto',\n",
       " 'Tata',\n",
       " 'RangeRover',\n",
       " 'RR',\n",
       " 'Porche',\n",
       " 'Maruti',\n",
       " 'MG',\n",
       " 'Kia',\n",
       " 'Ferrori',\n",
       " 'Bugati',\n",
       " 'Benz',\n",
       " 'BMW',\n",
       " 'Audi',\n",
       " 'RR',\n",
       " 'Tata']"
      ]
     },
     "execution_count": 77,
     "metadata": {},
     "output_type": "execute_result"
    }
   ],
   "source": [
    "new_car_list"
   ]
  },
  {
   "cell_type": "code",
   "execution_count": 78,
   "id": "bc31afb6",
   "metadata": {},
   "outputs": [
    {
     "data": {
      "text/plain": [
       "['Toyoto',\n",
       " 'Tata',\n",
       " 'RangeRover',\n",
       " 'RR',\n",
       " 'Porche',\n",
       " 'Maruti',\n",
       " 'MG',\n",
       " 'Kia',\n",
       " 'Ferrori',\n",
       " 'Bugati',\n",
       " 'Benz',\n",
       " 'BMW',\n",
       " 'Audi',\n",
       " 'RR',\n",
       " 'Tata']"
      ]
     },
     "execution_count": 78,
     "metadata": {},
     "output_type": "execute_result"
    }
   ],
   "source": [
    "another_car_list = new_car_list\n",
    "another_car_list"
   ]
  },
  {
   "cell_type": "code",
   "execution_count": 80,
   "id": "b23ce6ff",
   "metadata": {},
   "outputs": [
    {
     "data": {
      "text/plain": [
       "['Toyoto',\n",
       " 'Tata',\n",
       " 'RangeRover',\n",
       " 'RR',\n",
       " 'Porche',\n",
       " 'Maruti',\n",
       " 'MG',\n",
       " 'Ferrori',\n",
       " 'Bugati',\n",
       " 'Benz',\n",
       " 'BMW',\n",
       " 'Audi',\n",
       " 'RR',\n",
       " 'Tata']"
      ]
     },
     "execution_count": 80,
     "metadata": {},
     "output_type": "execute_result"
    }
   ],
   "source": [
    "another_car_list.remove(\"Kia\")\n",
    "another_car_list"
   ]
  },
  {
   "cell_type": "code",
   "execution_count": 81,
   "id": "47544cf7",
   "metadata": {},
   "outputs": [
    {
     "data": {
      "text/plain": [
       "['Toyoto',\n",
       " 'Tata',\n",
       " 'RangeRover',\n",
       " 'RR',\n",
       " 'Porche',\n",
       " 'Maruti',\n",
       " 'MG',\n",
       " 'Ferrori',\n",
       " 'Bugati',\n",
       " 'Benz',\n",
       " 'BMW',\n",
       " 'Audi',\n",
       " 'RR',\n",
       " 'Tata']"
      ]
     },
     "execution_count": 81,
     "metadata": {},
     "output_type": "execute_result"
    }
   ],
   "source": [
    "new_car_list"
   ]
  },
  {
   "cell_type": "code",
   "execution_count": 83,
   "id": "e49683e5",
   "metadata": {},
   "outputs": [
    {
     "data": {
      "text/plain": [
       "[1, 2, 3, 4, 5, 6, 7, 8]"
      ]
     },
     "execution_count": 83,
     "metadata": {},
     "output_type": "execute_result"
    }
   ],
   "source": [
    "list_num = [1,2,3,4,5,6,7,8]\n",
    "list_num"
   ]
  },
  {
   "cell_type": "code",
   "execution_count": 84,
   "id": "ca4c7d13",
   "metadata": {},
   "outputs": [
    {
     "data": {
      "text/plain": [
       "8"
      ]
     },
     "execution_count": 84,
     "metadata": {},
     "output_type": "execute_result"
    }
   ],
   "source": [
    "max(list_num)"
   ]
  },
  {
   "cell_type": "code",
   "execution_count": 85,
   "id": "a6a133d4",
   "metadata": {},
   "outputs": [
    {
     "data": {
      "text/plain": [
       "1"
      ]
     },
     "execution_count": 85,
     "metadata": {},
     "output_type": "execute_result"
    }
   ],
   "source": [
    "min(list_num)"
   ]
  },
  {
   "cell_type": "code",
   "execution_count": 86,
   "id": "06b53cc9",
   "metadata": {},
   "outputs": [
    {
     "data": {
      "text/plain": [
       "8"
      ]
     },
     "execution_count": 86,
     "metadata": {},
     "output_type": "execute_result"
    }
   ],
   "source": [
    "len(list_num)"
   ]
  },
  {
   "cell_type": "code",
   "execution_count": 88,
   "id": "eb05c48d",
   "metadata": {},
   "outputs": [
    {
     "data": {
      "text/plain": [
       "[1, 2, 3, 4, 5, 6, 7, 8]"
      ]
     },
     "execution_count": 88,
     "metadata": {},
     "output_type": "execute_result"
    }
   ],
   "source": [
    "list_num.sort()\n",
    "list_num"
   ]
  },
  {
   "cell_type": "code",
   "execution_count": 90,
   "id": "8691fe9b",
   "metadata": {},
   "outputs": [
    {
     "data": {
      "text/plain": [
       "[1, 2, 3, 4, 5, 6, 7, 8, 9, 0]"
      ]
     },
     "execution_count": 90,
     "metadata": {},
     "output_type": "execute_result"
    }
   ],
   "source": [
    "list_num.append(0)\n",
    "list_num"
   ]
  },
  {
   "cell_type": "code",
   "execution_count": 91,
   "id": "4a671a71",
   "metadata": {},
   "outputs": [
    {
     "data": {
      "text/plain": [
       "[0, 1, 2, 3, 4, 5, 6, 7, 8, 9]"
      ]
     },
     "execution_count": 91,
     "metadata": {},
     "output_type": "execute_result"
    }
   ],
   "source": [
    "sorted_list = sorted(list_num)\n",
    "sorted_list"
   ]
  },
  {
   "cell_type": "code",
   "execution_count": 92,
   "id": "4c0c25df",
   "metadata": {},
   "outputs": [
    {
     "data": {
      "text/plain": [
       "[1, 2, 3, 4, 5, 6, 7, 8, 9, 0]"
      ]
     },
     "execution_count": 92,
     "metadata": {},
     "output_type": "execute_result"
    }
   ],
   "source": [
    "list_num"
   ]
  },
  {
   "cell_type": "code",
   "execution_count": 93,
   "id": "5b4b9c4c",
   "metadata": {},
   "outputs": [
    {
     "data": {
      "text/plain": [
       "45"
      ]
     },
     "execution_count": 93,
     "metadata": {},
     "output_type": "execute_result"
    }
   ],
   "source": [
    "sum(list_num)"
   ]
  },
  {
   "cell_type": "code",
   "execution_count": 94,
   "id": "5576c9e2",
   "metadata": {},
   "outputs": [
    {
     "data": {
      "text/plain": [
       "[1, 2, 3, 4, 5, 6, 7, 8, 9, 0, 1, 2, 3, 4, 5, 6, 7, 8, 9, 0]"
      ]
     },
     "execution_count": 94,
     "metadata": {},
     "output_type": "execute_result"
    }
   ],
   "source": [
    "list_num *=2\n",
    "list_num"
   ]
  },
  {
   "cell_type": "code",
   "execution_count": 95,
   "id": "0c5babaf",
   "metadata": {},
   "outputs": [
    {
     "ename": "TypeError",
     "evalue": "can't multiply sequence by non-int of type 'float'",
     "output_type": "error",
     "traceback": [
      "\u001b[1;31m---------------------------------------------------------------------------\u001b[0m",
      "\u001b[1;31mTypeError\u001b[0m                                 Traceback (most recent call last)",
      "Input \u001b[1;32mIn [95]\u001b[0m, in \u001b[0;36m<cell line: 1>\u001b[1;34m()\u001b[0m\n\u001b[1;32m----> 1\u001b[0m list_num \u001b[38;5;241m*\u001b[39m\u001b[38;5;241m=\u001b[39m \u001b[38;5;241m2.0\u001b[39m\n\u001b[0;32m      2\u001b[0m list_num\n",
      "\u001b[1;31mTypeError\u001b[0m: can't multiply sequence by non-int of type 'float'"
     ]
    }
   ],
   "source": [
    "list_num *= 2.0\n",
    "list_num"
   ]
  },
  {
   "cell_type": "code",
   "execution_count": 97,
   "id": "3e98d607",
   "metadata": {},
   "outputs": [
    {
     "data": {
      "text/plain": [
       "False"
      ]
     },
     "execution_count": 97,
     "metadata": {},
     "output_type": "execute_result"
    }
   ],
   "source": [
    "all([0])"
   ]
  },
  {
   "cell_type": "code",
   "execution_count": 101,
   "id": "4fdfc0ad",
   "metadata": {},
   "outputs": [
    {
     "data": {
      "text/plain": [
       "False"
      ]
     },
     "execution_count": 101,
     "metadata": {},
     "output_type": "execute_result"
    }
   ],
   "source": [
    "all([1,0,1,3,4,6])"
   ]
  },
  {
   "cell_type": "code",
   "execution_count": 102,
   "id": "917e4b57",
   "metadata": {},
   "outputs": [
    {
     "data": {
      "text/plain": [
       "False"
      ]
     },
     "execution_count": 102,
     "metadata": {},
     "output_type": "execute_result"
    }
   ],
   "source": [
    "all(list_num)"
   ]
  },
  {
   "cell_type": "code",
   "execution_count": 103,
   "id": "6cfee9f8",
   "metadata": {},
   "outputs": [
    {
     "data": {
      "text/plain": [
       "False"
      ]
     },
     "execution_count": 103,
     "metadata": {},
     "output_type": "execute_result"
    }
   ],
   "source": [
    "any([0])"
   ]
  },
  {
   "cell_type": "code",
   "execution_count": 108,
   "id": "7ee55b90",
   "metadata": {},
   "outputs": [
    {
     "data": {
      "text/plain": [
       "True"
      ]
     },
     "execution_count": 108,
     "metadata": {},
     "output_type": "execute_result"
    }
   ],
   "source": [
    "any([0,1,1,1])"
   ]
  },
  {
   "cell_type": "code",
   "execution_count": 105,
   "id": "1c1f0fbd",
   "metadata": {},
   "outputs": [
    {
     "data": {
      "text/plain": [
       "True"
      ]
     },
     "execution_count": 105,
     "metadata": {},
     "output_type": "execute_result"
    }
   ],
   "source": [
    "any(list_num)"
   ]
  },
  {
   "cell_type": "code",
   "execution_count": 118,
   "id": "7eacb905",
   "metadata": {},
   "outputs": [
    {
     "data": {
      "text/plain": [
       "['RR', 'Audi', 'Benz', 'BMW', 'Tata', 'Ferrori', 'Maruti']"
      ]
     },
     "execution_count": 118,
     "metadata": {},
     "output_type": "execute_result"
    }
   ],
   "source": [
    "my_car_list = ['RR', 'Audi', 'Benz', 'BMW', 'Tata', 'Ferrori', 'Maruti']\n",
    "my_car_list"
   ]
  },
  {
   "cell_type": "code",
   "execution_count": 119,
   "id": "97e0693b",
   "metadata": {},
   "outputs": [
    {
     "data": {
      "text/plain": [
       "'Tata'"
      ]
     },
     "execution_count": 119,
     "metadata": {},
     "output_type": "execute_result"
    }
   ],
   "source": [
    "my_car_list[4]"
   ]
  },
  {
   "cell_type": "code",
   "execution_count": 120,
   "id": "e586771b",
   "metadata": {},
   "outputs": [
    {
     "data": {
      "text/plain": [
       "'Ferrori'"
      ]
     },
     "execution_count": 120,
     "metadata": {},
     "output_type": "execute_result"
    }
   ],
   "source": [
    "my_car_list[5]"
   ]
  },
  {
   "cell_type": "code",
   "execution_count": 121,
   "id": "b7f5fc66",
   "metadata": {},
   "outputs": [
    {
     "data": {
      "text/plain": [
       "'Maruti'"
      ]
     },
     "execution_count": 121,
     "metadata": {},
     "output_type": "execute_result"
    }
   ],
   "source": [
    "my_car_list[-1]"
   ]
  },
  {
   "cell_type": "code",
   "execution_count": 122,
   "id": "09b4aa64",
   "metadata": {},
   "outputs": [
    {
     "data": {
      "text/plain": [
       "'Ferrori'"
      ]
     },
     "execution_count": 122,
     "metadata": {},
     "output_type": "execute_result"
    }
   ],
   "source": [
    "my_car_list[-2]"
   ]
  },
  {
   "cell_type": "code",
   "execution_count": 123,
   "id": "74a4c1c9",
   "metadata": {},
   "outputs": [
    {
     "data": {
      "text/plain": [
       "['RR', 'Audi', 'Benz', 'BMW', 'Tata']"
      ]
     },
     "execution_count": 123,
     "metadata": {},
     "output_type": "execute_result"
    }
   ],
   "source": [
    "my_car_list[0:5]"
   ]
  },
  {
   "cell_type": "code",
   "execution_count": 124,
   "id": "96e5322c",
   "metadata": {},
   "outputs": [
    {
     "data": {
      "text/plain": [
       "['RR', 'Audi', 'Benz', 'BMW', 'Tata', 'Ferrori', 'Maruti']"
      ]
     },
     "execution_count": 124,
     "metadata": {},
     "output_type": "execute_result"
    }
   ],
   "source": [
    "my_car_list[:]"
   ]
  },
  {
   "cell_type": "code",
   "execution_count": 125,
   "id": "ed926717",
   "metadata": {},
   "outputs": [
    {
     "data": {
      "text/plain": [
       "['RR', 'Audi', 'Benz', 'BMW', 'Tata', 'Ferrori', 'Maruti']"
      ]
     },
     "execution_count": 125,
     "metadata": {},
     "output_type": "execute_result"
    }
   ],
   "source": [
    "my_car_list[0:11]"
   ]
  },
  {
   "cell_type": "code",
   "execution_count": 126,
   "id": "409b57fb",
   "metadata": {},
   "outputs": [
    {
     "data": {
      "text/plain": [
       "[]"
      ]
     },
     "execution_count": 126,
     "metadata": {},
     "output_type": "execute_result"
    }
   ],
   "source": [
    "my_car_list[7:]"
   ]
  },
  {
   "cell_type": "code",
   "execution_count": 128,
   "id": "ca207885",
   "metadata": {},
   "outputs": [
    {
     "data": {
      "text/plain": [
       "['Maruti']"
      ]
     },
     "execution_count": 128,
     "metadata": {},
     "output_type": "execute_result"
    }
   ],
   "source": [
    "my_car_list[6:7]"
   ]
  },
  {
   "cell_type": "code",
   "execution_count": 130,
   "id": "6a901795",
   "metadata": {},
   "outputs": [
    {
     "data": {
      "text/plain": [
       "['RR', 'Audi', 'Benz', 'BMW']"
      ]
     },
     "execution_count": 130,
     "metadata": {},
     "output_type": "execute_result"
    }
   ],
   "source": [
    "my_car_list[:4]"
   ]
  },
  {
   "cell_type": "code",
   "execution_count": 132,
   "id": "95ab7a25",
   "metadata": {},
   "outputs": [
    {
     "data": {
      "text/plain": [
       "['Benz', 'BMW', 'Tata', 'Ferrori', 'Maruti']"
      ]
     },
     "execution_count": 132,
     "metadata": {},
     "output_type": "execute_result"
    }
   ],
   "source": [
    "my_car_list[2:]"
   ]
  },
  {
   "cell_type": "code",
   "execution_count": 133,
   "id": "26db316e",
   "metadata": {},
   "outputs": [
    {
     "data": {
      "text/plain": [
       "['RR', 'Audi', 'Benz', 'BMW']"
      ]
     },
     "execution_count": 133,
     "metadata": {},
     "output_type": "execute_result"
    }
   ],
   "source": [
    "my_car_list[0:-3]"
   ]
  },
  {
   "cell_type": "code",
   "execution_count": 134,
   "id": "dd16ac5a",
   "metadata": {},
   "outputs": [
    {
     "data": {
      "text/plain": [
       "['Audi', 'Benz', 'BMW', 'Tata']"
      ]
     },
     "execution_count": 134,
     "metadata": {},
     "output_type": "execute_result"
    }
   ],
   "source": [
    "my_car_list[-6:-2]"
   ]
  },
  {
   "cell_type": "code",
   "execution_count": 143,
   "id": "a0d7bf54",
   "metadata": {},
   "outputs": [
    {
     "data": {
      "text/plain": [
       "[]"
      ]
     },
     "execution_count": 143,
     "metadata": {},
     "output_type": "execute_result"
    }
   ],
   "source": [
    "my_car_list[-1:-2]"
   ]
  },
  {
   "cell_type": "code",
   "execution_count": 144,
   "id": "f54726e0",
   "metadata": {},
   "outputs": [
    {
     "data": {
      "text/plain": [
       "['RR', 'Audi', 'Benz', 'BMW', 'Tata', 'Ferrori']"
      ]
     },
     "execution_count": 144,
     "metadata": {},
     "output_type": "execute_result"
    }
   ],
   "source": [
    "my_car_list[0:6:]"
   ]
  },
  {
   "cell_type": "code",
   "execution_count": 145,
   "id": "e1c9fde0",
   "metadata": {},
   "outputs": [
    {
     "data": {
      "text/plain": [
       "['RR', 'Benz', 'Tata', 'Maruti']"
      ]
     },
     "execution_count": 145,
     "metadata": {},
     "output_type": "execute_result"
    }
   ],
   "source": [
    "my_car_list[::2]"
   ]
  },
  {
   "cell_type": "code",
   "execution_count": 146,
   "id": "843f4dd8",
   "metadata": {},
   "outputs": [
    {
     "data": {
      "text/plain": [
       "['RR', 'Benz', 'Tata']"
      ]
     },
     "execution_count": 146,
     "metadata": {},
     "output_type": "execute_result"
    }
   ],
   "source": [
    "my_car_list[0:6:2]"
   ]
  },
  {
   "cell_type": "code",
   "execution_count": 147,
   "id": "36561edd",
   "metadata": {},
   "outputs": [
    {
     "data": {
      "text/plain": [
       "['Benz', 'Ferrori']"
      ]
     },
     "execution_count": 147,
     "metadata": {},
     "output_type": "execute_result"
    }
   ],
   "source": [
    "my_car_list[2:7:3]"
   ]
  },
  {
   "cell_type": "code",
   "execution_count": 148,
   "id": "496aa851",
   "metadata": {},
   "outputs": [
    {
     "data": {
      "text/plain": [
       "['Maruti', 'Ferrori', 'Tata', 'BMW', 'Benz', 'Audi', 'RR']"
      ]
     },
     "execution_count": 148,
     "metadata": {},
     "output_type": "execute_result"
    }
   ],
   "source": [
    "my_car_list[::-1]"
   ]
  },
  {
   "cell_type": "code",
   "execution_count": 150,
   "id": "d70537e8",
   "metadata": {},
   "outputs": [
    {
     "data": {
      "text/plain": [
       "['RR', 'Audi', 'Benz', 'BMW', 'Tata', 'Ferrori', 'Maruti']"
      ]
     },
     "execution_count": 150,
     "metadata": {},
     "output_type": "execute_result"
    }
   ],
   "source": [
    "my_car_list"
   ]
  },
  {
   "cell_type": "code",
   "execution_count": 154,
   "id": "834ca0c4",
   "metadata": {},
   "outputs": [
    {
     "data": {
      "text/plain": [
       "['Benz', 'Audi']"
      ]
     },
     "execution_count": 154,
     "metadata": {},
     "output_type": "execute_result"
    }
   ],
   "source": [
    "my_car_list[2:0:-1]"
   ]
  },
  {
   "cell_type": "code",
   "execution_count": 158,
   "id": "62c827cc",
   "metadata": {},
   "outputs": [
    {
     "data": {
      "text/plain": [
       "['Ferrori', 'BMW', 'Audi']"
      ]
     },
     "execution_count": 158,
     "metadata": {},
     "output_type": "execute_result"
    }
   ],
   "source": [
    "my_car_list[5:0:-2]"
   ]
  },
  {
   "cell_type": "code",
   "execution_count": 159,
   "id": "baea93b7",
   "metadata": {},
   "outputs": [
    {
     "data": {
      "text/plain": [
       "['Tata', 'BMW', 'Benz', 'Audi']"
      ]
     },
     "execution_count": 159,
     "metadata": {},
     "output_type": "execute_result"
    }
   ],
   "source": [
    "my_car_list[-3:0:-1]"
   ]
  },
  {
   "cell_type": "code",
   "execution_count": 160,
   "id": "b85d0a28",
   "metadata": {},
   "outputs": [
    {
     "data": {
      "text/plain": [
       "['Maruti', 'Tata', 'Benz', 'RR']"
      ]
     },
     "execution_count": 160,
     "metadata": {},
     "output_type": "execute_result"
    }
   ],
   "source": [
    "my_car_list[::-2]"
   ]
  },
  {
   "cell_type": "code",
   "execution_count": 166,
   "id": "7a94052a",
   "metadata": {},
   "outputs": [
    {
     "data": {
      "text/plain": [
       "['RR', 'Audi', 'Benz', 'BMW', 'Tata', 'Ford', 'Dodge', 'Dodge']"
      ]
     },
     "execution_count": 166,
     "metadata": {},
     "output_type": "execute_result"
    }
   ],
   "source": [
    "my_car_list[5:-1]=[\"Ford\",\"Dodge\"]\n",
    "my_car_list"
   ]
  },
  {
   "cell_type": "code",
   "execution_count": 168,
   "id": "987b9721",
   "metadata": {},
   "outputs": [
    {
     "data": {
      "text/plain": [
       "['RR', 'Audi', 'Benz', 'BMW', 'Tata', 'Ford', 'Dodge']"
      ]
     },
     "execution_count": 168,
     "metadata": {},
     "output_type": "execute_result"
    }
   ],
   "source": [
    "my_car_list"
   ]
  },
  {
   "cell_type": "code",
   "execution_count": 171,
   "id": "3957bd21",
   "metadata": {},
   "outputs": [
    {
     "data": {
      "text/plain": [
       "True"
      ]
     },
     "execution_count": 171,
     "metadata": {},
     "output_type": "execute_result"
    }
   ],
   "source": [
    "\"Ford\" in my_car_list"
   ]
  },
  {
   "cell_type": "code",
   "execution_count": 172,
   "id": "6d49342c",
   "metadata": {},
   "outputs": [
    {
     "data": {
      "text/plain": [
       "'Ford'"
      ]
     },
     "execution_count": 172,
     "metadata": {},
     "output_type": "execute_result"
    }
   ],
   "source": [
    "my_car_list.pop(-2)"
   ]
  },
  {
   "cell_type": "code",
   "execution_count": 173,
   "id": "88a7bc86",
   "metadata": {},
   "outputs": [
    {
     "data": {
      "text/plain": [
       "['RR', 'Audi', 'Benz', 'BMW', 'Tata', 'Dodge']"
      ]
     },
     "execution_count": 173,
     "metadata": {},
     "output_type": "execute_result"
    }
   ],
   "source": [
    "my_car_list"
   ]
  },
  {
   "cell_type": "code",
   "execution_count": 2,
   "id": "bb1560f8",
   "metadata": {},
   "outputs": [],
   "source": [
    "list_a = [1,2,3,4,5]\n",
    "list_b = ['a','e','i','o','u']\n",
    "zipped = zip(list_a, list_b)"
   ]
  },
  {
   "cell_type": "code",
   "execution_count": 3,
   "id": "5b437486",
   "metadata": {},
   "outputs": [
    {
     "name": "stdout",
     "output_type": "stream",
     "text": [
      "[(1, 'a'), (2, 'e'), (3, 'i'), (4, 'o'), (5, 'u')]\n"
     ]
    }
   ],
   "source": [
    "result = list(zipped)\n",
    "print(result)"
   ]
  },
  {
   "cell_type": "code",
   "execution_count": 4,
   "id": "8b12c3e7",
   "metadata": {},
   "outputs": [],
   "source": [
    "list_x, list_y = zip(*result)"
   ]
  },
  {
   "cell_type": "code",
   "execution_count": 5,
   "id": "e7d5f70a",
   "metadata": {},
   "outputs": [
    {
     "data": {
      "text/plain": [
       "(1, 2, 3, 4, 5)"
      ]
     },
     "execution_count": 5,
     "metadata": {},
     "output_type": "execute_result"
    }
   ],
   "source": [
    "list_x"
   ]
  },
  {
   "cell_type": "code",
   "execution_count": 6,
   "id": "8c561a2f",
   "metadata": {},
   "outputs": [
    {
     "data": {
      "text/plain": [
       "('a', 'e', 'i', 'o', 'u')"
      ]
     },
     "execution_count": 6,
     "metadata": {},
     "output_type": "execute_result"
    }
   ],
   "source": [
    "list_y"
   ]
  },
  {
   "cell_type": "code",
   "execution_count": 7,
   "id": "739d27b6",
   "metadata": {},
   "outputs": [
    {
     "data": {
      "text/plain": [
       "[['RR', 'Audi'], ['Benz', 'BMW'], ['Tata', 'Ford', 'Dodge']]"
      ]
     },
     "execution_count": 7,
     "metadata": {},
     "output_type": "execute_result"
    }
   ],
   "source": [
    "my_car_list_nested = [['RR', 'Audi'],\n",
    "               ['Benz', 'BMW'], \n",
    "               ['Tata', 'Ford', 'Dodge']]\n",
    "my_car_list_nested"
   ]
  },
  {
   "cell_type": "code",
   "execution_count": 9,
   "id": "e6304667",
   "metadata": {},
   "outputs": [
    {
     "data": {
      "text/plain": [
       "3"
      ]
     },
     "execution_count": 9,
     "metadata": {},
     "output_type": "execute_result"
    }
   ],
   "source": [
    "len(my_car_list_nested)"
   ]
  },
  {
   "cell_type": "code",
   "execution_count": 10,
   "id": "98a9016a",
   "metadata": {},
   "outputs": [
    {
     "data": {
      "text/plain": [
       "2"
      ]
     },
     "execution_count": 10,
     "metadata": {},
     "output_type": "execute_result"
    }
   ],
   "source": [
    "len(my_car_list_nested[1])"
   ]
  },
  {
   "cell_type": "code",
   "execution_count": 11,
   "id": "702d5a54",
   "metadata": {},
   "outputs": [
    {
     "data": {
      "text/plain": [
       "3"
      ]
     },
     "execution_count": 11,
     "metadata": {},
     "output_type": "execute_result"
    }
   ],
   "source": [
    "len(my_car_list_nested[2])"
   ]
  },
  {
   "cell_type": "code",
   "execution_count": 12,
   "id": "c26ffcc2",
   "metadata": {},
   "outputs": [
    {
     "data": {
      "text/plain": [
       "['RR', 'Audi']"
      ]
     },
     "execution_count": 12,
     "metadata": {},
     "output_type": "execute_result"
    }
   ],
   "source": [
    "my_car_list_nested[0]"
   ]
  },
  {
   "cell_type": "code",
   "execution_count": 13,
   "id": "c8b1184a",
   "metadata": {},
   "outputs": [
    {
     "data": {
      "text/plain": [
       "'BMW'"
      ]
     },
     "execution_count": 13,
     "metadata": {},
     "output_type": "execute_result"
    }
   ],
   "source": [
    "my_car_list_nested[1][1]"
   ]
  },
  {
   "cell_type": "code",
   "execution_count": 14,
   "id": "baa255ed",
   "metadata": {},
   "outputs": [
    {
     "ename": "IndexError",
     "evalue": "list index out of range",
     "output_type": "error",
     "traceback": [
      "\u001b[1;31m---------------------------------------------------------------------------\u001b[0m",
      "\u001b[1;31mIndexError\u001b[0m                                Traceback (most recent call last)",
      "Input \u001b[1;32mIn [14]\u001b[0m, in \u001b[0;36m<cell line: 1>\u001b[1;34m()\u001b[0m\n\u001b[1;32m----> 1\u001b[0m \u001b[43mmy_car_list_nested\u001b[49m\u001b[43m[\u001b[49m\u001b[38;5;241;43m2\u001b[39;49m\u001b[43m]\u001b[49m\u001b[43m[\u001b[49m\u001b[38;5;241;43m3\u001b[39;49m\u001b[43m]\u001b[49m\n",
      "\u001b[1;31mIndexError\u001b[0m: list index out of range"
     ]
    }
   ],
   "source": [
    "my_car_list_nested[2][3]"
   ]
  },
  {
   "cell_type": "code",
   "execution_count": 17,
   "id": "ff33935e",
   "metadata": {},
   "outputs": [
    {
     "data": {
      "text/plain": [
       "['Tata', 'Ford', 'Dodge']"
      ]
     },
     "execution_count": 17,
     "metadata": {},
     "output_type": "execute_result"
    }
   ],
   "source": [
    "my_car_list_nested[2][0:3]"
   ]
  },
  {
   "cell_type": "code",
   "execution_count": 18,
   "id": "a4876bfc",
   "metadata": {},
   "outputs": [
    {
     "data": {
      "text/plain": [
       "['Tata', 'Ford']"
      ]
     },
     "execution_count": 18,
     "metadata": {},
     "output_type": "execute_result"
    }
   ],
   "source": [
    "my_car_list_nested[2][0:2]"
   ]
  },
  {
   "cell_type": "code",
   "execution_count": 19,
   "id": "73f7cb5c",
   "metadata": {},
   "outputs": [
    {
     "data": {
      "text/plain": [
       "['Dodge', 'Ford', 'Tata']"
      ]
     },
     "execution_count": 19,
     "metadata": {},
     "output_type": "execute_result"
    }
   ],
   "source": [
    "my_car_list_nested[2][::-1]"
   ]
  },
  {
   "cell_type": "code",
   "execution_count": 20,
   "id": "797c10bf",
   "metadata": {},
   "outputs": [
    {
     "data": {
      "text/plain": [
       "['a', 1, 'b', 2, 'c', 3, 'd', 4]"
      ]
     },
     "execution_count": 20,
     "metadata": {},
     "output_type": "execute_result"
    }
   ],
   "source": [
    "my_list = [\"a\",1,\"b\",2,\"c\",3,\"d\",4]\n",
    "my_list"
   ]
  },
  {
   "cell_type": "code",
   "execution_count": 22,
   "id": "26637f83",
   "metadata": {},
   "outputs": [
    {
     "data": {
      "text/plain": [
       "('a', 1, 'b', 2, 'c', 3, 'd', 4)"
      ]
     },
     "execution_count": 22,
     "metadata": {},
     "output_type": "execute_result"
    }
   ],
   "source": [
    "tuple(my_list)"
   ]
  },
  {
   "cell_type": "code",
   "execution_count": 27,
   "id": "be4b9594",
   "metadata": {},
   "outputs": [
    {
     "data": {
      "text/plain": [
       "[['a', 1], ['b', 2], ['c', 3], ['d', 4]]"
      ]
     },
     "execution_count": 27,
     "metadata": {},
     "output_type": "execute_result"
    }
   ],
   "source": [
    "my_list1 = [[\"a\",1],\n",
    "            [\"b\",2],\n",
    "            [\"c\",3],\n",
    "            [\"d\",4]]\n",
    "my_list1\n"
   ]
  },
  {
   "cell_type": "code",
   "execution_count": 24,
   "id": "a6d4c88f",
   "metadata": {},
   "outputs": [
    {
     "data": {
      "text/plain": [
       "(['a', 1], ['b', 2], ['c', 3], ['d', 4])"
      ]
     },
     "execution_count": 24,
     "metadata": {},
     "output_type": "execute_result"
    }
   ],
   "source": [
    "tuple(my_list1)"
   ]
  },
  {
   "cell_type": "code",
   "execution_count": 25,
   "id": "3c7f13cc",
   "metadata": {},
   "outputs": [
    {
     "data": {
      "text/plain": [
       "{'a': 1, 'b': 2, 'c': 3, 'd': 4}"
      ]
     },
     "execution_count": 25,
     "metadata": {},
     "output_type": "execute_result"
    }
   ],
   "source": [
    "dict(my_list1)"
   ]
  },
  {
   "cell_type": "code",
   "execution_count": 29,
   "id": "d38669f4",
   "metadata": {},
   "outputs": [
    {
     "data": {
      "text/plain": [
       "[['a', 1, 'aa', 2], ['b', 2, 'bb', 4], ['c', 3, 'cc', 5], ['d', 4, 'dd', 6]]"
      ]
     },
     "execution_count": 29,
     "metadata": {},
     "output_type": "execute_result"
    }
   ],
   "source": [
    "my_list2 = [[\"a\",1,\"aa\",2],\n",
    "            [\"b\",2,\"bb\",4],\n",
    "            [\"c\",3,\"cc\",5],\n",
    "            [\"d\",4,\"dd\",6]]\n",
    "my_list2"
   ]
  },
  {
   "cell_type": "code",
   "execution_count": 30,
   "id": "0dbb6423",
   "metadata": {},
   "outputs": [
    {
     "ename": "ValueError",
     "evalue": "dictionary update sequence element #0 has length 4; 2 is required",
     "output_type": "error",
     "traceback": [
      "\u001b[1;31m---------------------------------------------------------------------------\u001b[0m",
      "\u001b[1;31mValueError\u001b[0m                                Traceback (most recent call last)",
      "Input \u001b[1;32mIn [30]\u001b[0m, in \u001b[0;36m<cell line: 1>\u001b[1;34m()\u001b[0m\n\u001b[1;32m----> 1\u001b[0m \u001b[38;5;28;43mdict\u001b[39;49m\u001b[43m(\u001b[49m\u001b[43mmy_list2\u001b[49m\u001b[43m)\u001b[49m\n",
      "\u001b[1;31mValueError\u001b[0m: dictionary update sequence element #0 has length 4; 2 is required"
     ]
    }
   ],
   "source": [
    "dict(my_list2)"
   ]
  },
  {
   "cell_type": "code",
   "execution_count": 31,
   "id": "dc966bd4",
   "metadata": {},
   "outputs": [
    {
     "data": {
      "text/plain": [
       "[['a', 1], ['b', 2], ['c', 3], ['d', 4, 5]]"
      ]
     },
     "execution_count": 31,
     "metadata": {},
     "output_type": "execute_result"
    }
   ],
   "source": [
    "my_list3 = [[\"a\",1],\n",
    "            [\"b\",2],\n",
    "            [\"c\",3],\n",
    "            [\"d\",4,5]]\n",
    "my_list3"
   ]
  },
  {
   "cell_type": "code",
   "execution_count": 32,
   "id": "2ea5dc32",
   "metadata": {},
   "outputs": [
    {
     "ename": "ValueError",
     "evalue": "dictionary update sequence element #3 has length 3; 2 is required",
     "output_type": "error",
     "traceback": [
      "\u001b[1;31m---------------------------------------------------------------------------\u001b[0m",
      "\u001b[1;31mValueError\u001b[0m                                Traceback (most recent call last)",
      "Input \u001b[1;32mIn [32]\u001b[0m, in \u001b[0;36m<cell line: 1>\u001b[1;34m()\u001b[0m\n\u001b[1;32m----> 1\u001b[0m \u001b[38;5;28;43mdict\u001b[39;49m\u001b[43m(\u001b[49m\u001b[43mmy_list3\u001b[49m\u001b[43m)\u001b[49m\n",
      "\u001b[1;31mValueError\u001b[0m: dictionary update sequence element #3 has length 3; 2 is required"
     ]
    }
   ],
   "source": [
    "dict(my_list3)"
   ]
  },
  {
   "cell_type": "code",
   "execution_count": 35,
   "id": "644e3fb7",
   "metadata": {},
   "outputs": [
    {
     "data": {
      "text/plain": [
       "[['a', 1], ['b', 2], ['c', 3], ['d', [4, 5]]]"
      ]
     },
     "execution_count": 35,
     "metadata": {},
     "output_type": "execute_result"
    }
   ],
   "source": [
    "my_list4 = [[\"a\",1],\n",
    "            [\"b\",2],\n",
    "            [\"c\",3],\n",
    "            [\"d\",[4,5]]]\n",
    "my_list4"
   ]
  },
  {
   "cell_type": "code",
   "execution_count": 36,
   "id": "d6829ac3",
   "metadata": {},
   "outputs": [
    {
     "data": {
      "text/plain": [
       "{'a': 1, 'b': 2, 'c': 3, 'd': [4, 5]}"
      ]
     },
     "execution_count": 36,
     "metadata": {},
     "output_type": "execute_result"
    }
   ],
   "source": [
    "dict(my_list4)"
   ]
  },
  {
   "cell_type": "code",
   "execution_count": 40,
   "id": "53f607a5",
   "metadata": {},
   "outputs": [
    {
     "data": {
      "text/plain": [
       "[['RR', 'Audi'], ['Benz', 'BMW'], ['Tata', 'Ford']]"
      ]
     },
     "execution_count": 40,
     "metadata": {},
     "output_type": "execute_result"
    }
   ],
   "source": [
    "my_car_list_nested1 = [['RR', 'Audi'],\n",
    "               ['Benz', 'BMW'], \n",
    "               ['Tata', 'Ford']]\n",
    "my_car_list_nested1"
   ]
  },
  {
   "cell_type": "code",
   "execution_count": 41,
   "id": "84069a6e",
   "metadata": {},
   "outputs": [],
   "source": [
    "my_car_list_nested_dict = dict(my_car_list_nested1)"
   ]
  },
  {
   "cell_type": "code",
   "execution_count": 42,
   "id": "fa86c963",
   "metadata": {},
   "outputs": [
    {
     "data": {
      "text/plain": [
       "{'RR': 'Audi', 'Benz': 'BMW', 'Tata': 'Ford'}"
      ]
     },
     "execution_count": 42,
     "metadata": {},
     "output_type": "execute_result"
    }
   ],
   "source": [
    "my_car_list_nested_dict"
   ]
  },
  {
   "cell_type": "code",
   "execution_count": 43,
   "id": "165b32f2",
   "metadata": {},
   "outputs": [
    {
     "data": {
      "text/plain": [
       "['Tata', 'Ford']"
      ]
     },
     "execution_count": 43,
     "metadata": {},
     "output_type": "execute_result"
    }
   ],
   "source": [
    "my_car_list_nested1.pop()"
   ]
  },
  {
   "cell_type": "code",
   "execution_count": 44,
   "id": "80d805bd",
   "metadata": {},
   "outputs": [],
   "source": [
    "my_car_list_nested1.clear()"
   ]
  },
  {
   "cell_type": "code",
   "execution_count": 45,
   "id": "a8383120",
   "metadata": {},
   "outputs": [
    {
     "data": {
      "text/plain": [
       "[]"
      ]
     },
     "execution_count": 45,
     "metadata": {},
     "output_type": "execute_result"
    }
   ],
   "source": [
    "my_car_list_nested1"
   ]
  },
  {
   "cell_type": "code",
   "execution_count": 46,
   "id": "fbccf973",
   "metadata": {},
   "outputs": [
    {
     "data": {
      "text/plain": [
       "{'RR': 'Audi', 'Benz': 'BMW', 'Tata': 'Ford'}"
      ]
     },
     "execution_count": 46,
     "metadata": {},
     "output_type": "execute_result"
    }
   ],
   "source": [
    "my_car_list_nested_dict"
   ]
  },
  {
   "cell_type": "code",
   "execution_count": 47,
   "id": "216b4150",
   "metadata": {},
   "outputs": [],
   "source": [
    "my_car_list_nested1 = list(my_car_list_nested_dict)"
   ]
  },
  {
   "cell_type": "code",
   "execution_count": 48,
   "id": "3290d41f",
   "metadata": {},
   "outputs": [
    {
     "data": {
      "text/plain": [
       "['RR', 'Benz', 'Tata']"
      ]
     },
     "execution_count": 48,
     "metadata": {},
     "output_type": "execute_result"
    }
   ],
   "source": [
    "my_car_list_nested1"
   ]
  },
  {
   "cell_type": "code",
   "execution_count": null,
   "id": "806ff870",
   "metadata": {},
   "outputs": [],
   "source": []
  }
 ],
 "metadata": {
  "kernelspec": {
   "display_name": "Python 3 (ipykernel)",
   "language": "python",
   "name": "python3"
  },
  "language_info": {
   "codemirror_mode": {
    "name": "ipython",
    "version": 3
   },
   "file_extension": ".py",
   "mimetype": "text/x-python",
   "name": "python",
   "nbconvert_exporter": "python",
   "pygments_lexer": "ipython3",
   "version": "3.11.3"
  }
 },
 "nbformat": 4,
 "nbformat_minor": 5
}
