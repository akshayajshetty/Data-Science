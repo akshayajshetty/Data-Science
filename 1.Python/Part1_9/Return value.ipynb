{
 "cells": [
  {
   "cell_type": "code",
   "execution_count": 1,
   "id": "27306bee",
   "metadata": {},
   "outputs": [],
   "source": [
    "def addition(a,b):\n",
    "    c = a + b"
   ]
  },
  {
   "cell_type": "code",
   "execution_count": 2,
   "id": "53246b09",
   "metadata": {},
   "outputs": [],
   "source": [
    "addition(4,8)"
   ]
  },
  {
   "cell_type": "code",
   "execution_count": 3,
   "id": "e38ec049",
   "metadata": {},
   "outputs": [],
   "source": [
    "result = addition(4,8)"
   ]
  },
  {
   "cell_type": "code",
   "execution_count": 4,
   "id": "2c9bcba3",
   "metadata": {},
   "outputs": [
    {
     "name": "stdout",
     "output_type": "stream",
     "text": [
      "None\n"
     ]
    }
   ],
   "source": [
    "print(result)"
   ]
  },
  {
   "cell_type": "code",
   "execution_count": 7,
   "id": "5bb27eef",
   "metadata": {},
   "outputs": [],
   "source": [
    "def addition_None_by_default(a,b):\n",
    "    c = a + b\n",
    "    return None"
   ]
  },
  {
   "cell_type": "code",
   "execution_count": 9,
   "id": "6e72f38a",
   "metadata": {},
   "outputs": [],
   "source": [
    "result = addition_None_by_default(10,50)"
   ]
  },
  {
   "cell_type": "code",
   "execution_count": 10,
   "id": "57e08bb0",
   "metadata": {},
   "outputs": [
    {
     "name": "stdout",
     "output_type": "stream",
     "text": [
      "None\n"
     ]
    }
   ],
   "source": [
    "print(result)"
   ]
  },
  {
   "cell_type": "code",
   "execution_count": 12,
   "id": "291afbaa",
   "metadata": {},
   "outputs": [
    {
     "data": {
      "text/plain": [
       "NoneType"
      ]
     },
     "execution_count": 12,
     "metadata": {},
     "output_type": "execute_result"
    }
   ],
   "source": [
    "type(result)"
   ]
  },
  {
   "cell_type": "code",
   "execution_count": 13,
   "id": "c050f947",
   "metadata": {},
   "outputs": [],
   "source": [
    "def addition_with_return(a,b):\n",
    "    c = a + b\n",
    "    return c"
   ]
  },
  {
   "cell_type": "code",
   "execution_count": 15,
   "id": "5abb5efc",
   "metadata": {},
   "outputs": [],
   "source": [
    "result = addition_with_return(10,46)"
   ]
  },
  {
   "cell_type": "code",
   "execution_count": 16,
   "id": "07901ec5",
   "metadata": {},
   "outputs": [
    {
     "name": "stdout",
     "output_type": "stream",
     "text": [
      "56\n"
     ]
    }
   ],
   "source": [
    "print(result)"
   ]
  },
  {
   "cell_type": "code",
   "execution_count": 23,
   "id": "93bd4624",
   "metadata": {},
   "outputs": [],
   "source": [
    "def lenght(some_list):\n",
    "    count = 0\n",
    "    for i in some_list:\n",
    "        count += 1\n",
    "    print(\"Lenght of the list is :\", count)\n",
    "    return count"
   ]
  },
  {
   "cell_type": "code",
   "execution_count": 24,
   "id": "40398209",
   "metadata": {},
   "outputs": [
    {
     "name": "stdout",
     "output_type": "stream",
     "text": [
      "Lenght of the list is : 5\n"
     ]
    }
   ],
   "source": [
    "l = lenght([1,2,3,4,5])"
   ]
  },
  {
   "cell_type": "code",
   "execution_count": 25,
   "id": "a1494754",
   "metadata": {},
   "outputs": [
    {
     "data": {
      "text/plain": [
       "5"
      ]
     },
     "execution_count": 25,
     "metadata": {},
     "output_type": "execute_result"
    }
   ],
   "source": [
    "l"
   ]
  },
  {
   "cell_type": "code",
   "execution_count": 37,
   "id": "0eaf0f6d",
   "metadata": {},
   "outputs": [],
   "source": [
    "def max_element_in_list(some_list):\n",
    "    max_element = some_list[0]\n",
    "    lenght = len(some_list)\n",
    "    for i in range(1, lenght):\n",
    "        if some_list[i] > max_element:\n",
    "            max_element = some_list[i]\n",
    "    return max_element"
   ]
  },
  {
   "cell_type": "code",
   "execution_count": 40,
   "id": "9b9f1457",
   "metadata": {},
   "outputs": [],
   "source": [
    "num_list = [1,4,34,627,4367,5242]"
   ]
  },
  {
   "cell_type": "code",
   "execution_count": 50,
   "id": "7586f40d",
   "metadata": {},
   "outputs": [
    {
     "name": "stdout",
     "output_type": "stream",
     "text": [
      "5242\n"
     ]
    }
   ],
   "source": [
    "max_list = max_element_in_list(num_list)\n",
    "print(max_list)"
   ]
  },
  {
   "cell_type": "code",
   "execution_count": 51,
   "id": "84918433",
   "metadata": {},
   "outputs": [],
   "source": [
    "num_list.append(56898562356)"
   ]
  },
  {
   "cell_type": "code",
   "execution_count": 52,
   "id": "e99a734c",
   "metadata": {},
   "outputs": [
    {
     "name": "stdout",
     "output_type": "stream",
     "text": [
      "56898562356\n"
     ]
    }
   ],
   "source": [
    "max_list = max_element_in_list(num_list)\n",
    "print(max_list)"
   ]
  },
  {
   "cell_type": "code",
   "execution_count": 53,
   "id": "93c667be",
   "metadata": {},
   "outputs": [],
   "source": [
    "def min_element_in_list(some_list):\n",
    "    min_element = some_list[0]\n",
    "    lenght = len(some_list)\n",
    "    for i in range(1, lenght):\n",
    "        if some_list[i] < min_element:\n",
    "            min_element = some_list[i]\n",
    "    return min_element"
   ]
  },
  {
   "cell_type": "code",
   "execution_count": 60,
   "id": "7426d07d",
   "metadata": {},
   "outputs": [],
   "source": [
    "num_list = [1,2,3,4,5,6,0]"
   ]
  },
  {
   "cell_type": "code",
   "execution_count": 61,
   "id": "937dfdff",
   "metadata": {},
   "outputs": [
    {
     "name": "stdout",
     "output_type": "stream",
     "text": [
      "0\n"
     ]
    }
   ],
   "source": [
    "min_list = min_element_in_list(num_list)\n",
    "print(min_list)"
   ]
  },
  {
   "cell_type": "code",
   "execution_count": 80,
   "id": "9964f368",
   "metadata": {},
   "outputs": [],
   "source": [
    "def add_sub(x,y):\n",
    "    add_result = x + y\n",
    "    sub_result = x - y\n",
    "    return add_result, sub_result                # Multiple return statements"
   ]
  },
  {
   "cell_type": "code",
   "execution_count": 65,
   "id": "5ec863d2",
   "metadata": {},
   "outputs": [
    {
     "data": {
      "text/plain": [
       "(8, 2)"
      ]
     },
     "execution_count": 65,
     "metadata": {},
     "output_type": "execute_result"
    }
   ],
   "source": [
    "add_sub(5,3)"
   ]
  },
  {
   "cell_type": "code",
   "execution_count": 83,
   "id": "e7ab810d",
   "metadata": {},
   "outputs": [],
   "source": [
    "result_1,result_2 = add_sub(5,3)"
   ]
  },
  {
   "cell_type": "code",
   "execution_count": 84,
   "id": "735002ff",
   "metadata": {},
   "outputs": [
    {
     "data": {
      "text/plain": [
       "8"
      ]
     },
     "execution_count": 84,
     "metadata": {},
     "output_type": "execute_result"
    }
   ],
   "source": [
    "result_1"
   ]
  },
  {
   "cell_type": "code",
   "execution_count": 85,
   "id": "4b0d5760",
   "metadata": {},
   "outputs": [
    {
     "data": {
      "text/plain": [
       "2"
      ]
     },
     "execution_count": 85,
     "metadata": {},
     "output_type": "execute_result"
    }
   ],
   "source": [
    "result_2"
   ]
  },
  {
   "cell_type": "code",
   "execution_count": 86,
   "id": "3489661f",
   "metadata": {},
   "outputs": [
    {
     "data": {
      "text/plain": [
       "8"
      ]
     },
     "execution_count": 86,
     "metadata": {},
     "output_type": "execute_result"
    }
   ],
   "source": [
    "result_1,_ = add_sub(5,3)\n",
    "result_1"
   ]
  },
  {
   "cell_type": "code",
   "execution_count": 91,
   "id": "78011999",
   "metadata": {},
   "outputs": [
    {
     "data": {
      "text/plain": [
       "2"
      ]
     },
     "execution_count": 91,
     "metadata": {},
     "output_type": "execute_result"
    }
   ],
   "source": [
    "_,result_2 = add_sub(5,3)\n",
    "result_2"
   ]
  },
  {
   "cell_type": "code",
   "execution_count": 97,
   "id": "23d8d741",
   "metadata": {},
   "outputs": [],
   "source": [
    "def positive_or_negative(num):\n",
    "    if num > 0 :\n",
    "        return \"positive\"\n",
    "    else :\n",
    "        return \"zero or negative\"\n",
    "    \n",
    "    "
   ]
  },
  {
   "cell_type": "code",
   "execution_count": 98,
   "id": "2f7885db",
   "metadata": {},
   "outputs": [
    {
     "data": {
      "text/plain": [
       "'positive'"
      ]
     },
     "execution_count": 98,
     "metadata": {},
     "output_type": "execute_result"
    }
   ],
   "source": [
    "positive_or_negative(6)"
   ]
  },
  {
   "cell_type": "code",
   "execution_count": 99,
   "id": "66650e2c",
   "metadata": {},
   "outputs": [
    {
     "data": {
      "text/plain": [
       "'zero or negative'"
      ]
     },
     "execution_count": 99,
     "metadata": {},
     "output_type": "execute_result"
    }
   ],
   "source": [
    "positive_or_negative(0)"
   ]
  },
  {
   "cell_type": "code",
   "execution_count": 100,
   "id": "07a29e44",
   "metadata": {},
   "outputs": [
    {
     "data": {
      "text/plain": [
       "'zero or negative'"
      ]
     },
     "execution_count": 100,
     "metadata": {},
     "output_type": "execute_result"
    }
   ],
   "source": [
    "positive_or_negative(-1)"
   ]
  },
  {
   "cell_type": "code",
   "execution_count": 102,
   "id": "e9e10ef4",
   "metadata": {},
   "outputs": [],
   "source": [
    "def positive_negative_and_zero(num):\n",
    "    if num > 0 :\n",
    "        return \"Positive\"\n",
    "    elif num < 0 :\n",
    "        return \"negative\"\n",
    "    else :\n",
    "        return \"Zero\""
   ]
  },
  {
   "cell_type": "code",
   "execution_count": 103,
   "id": "168efaea",
   "metadata": {},
   "outputs": [
    {
     "data": {
      "text/plain": [
       "'Positive'"
      ]
     },
     "execution_count": 103,
     "metadata": {},
     "output_type": "execute_result"
    }
   ],
   "source": [
    "positive_negative_and_zero(2)"
   ]
  },
  {
   "cell_type": "code",
   "execution_count": 104,
   "id": "d236ec71",
   "metadata": {},
   "outputs": [
    {
     "data": {
      "text/plain": [
       "'negative'"
      ]
     },
     "execution_count": 104,
     "metadata": {},
     "output_type": "execute_result"
    }
   ],
   "source": [
    "positive_negative_and_zero(-3)"
   ]
  },
  {
   "cell_type": "code",
   "execution_count": 106,
   "id": "ea814558",
   "metadata": {},
   "outputs": [
    {
     "data": {
      "text/plain": [
       "'Zero'"
      ]
     },
     "execution_count": 106,
     "metadata": {},
     "output_type": "execute_result"
    }
   ],
   "source": [
    "positive_negative_and_zero(0)"
   ]
  },
  {
   "cell_type": "code",
   "execution_count": 107,
   "id": "339f0496",
   "metadata": {},
   "outputs": [],
   "source": [
    "def positive_negative_and_zeroforgottoreturn(num):\n",
    "    if num > 0 :\n",
    "        return \"Positive\"\n",
    "    elif num < 0 :\n",
    "        return \"negative\""
   ]
  },
  {
   "cell_type": "code",
   "execution_count": 108,
   "id": "07b2bd4e",
   "metadata": {},
   "outputs": [
    {
     "data": {
      "text/plain": [
       "'Positive'"
      ]
     },
     "execution_count": 108,
     "metadata": {},
     "output_type": "execute_result"
    }
   ],
   "source": [
    "positive_negative_and_zeroforgottoreturn(3)"
   ]
  },
  {
   "cell_type": "code",
   "execution_count": 109,
   "id": "60e75543",
   "metadata": {},
   "outputs": [
    {
     "data": {
      "text/plain": [
       "'negative'"
      ]
     },
     "execution_count": 109,
     "metadata": {},
     "output_type": "execute_result"
    }
   ],
   "source": [
    "positive_negative_and_zeroforgottoreturn(-5)"
   ]
  },
  {
   "cell_type": "code",
   "execution_count": 110,
   "id": "7e2fc88f",
   "metadata": {},
   "outputs": [],
   "source": [
    "positive_negative_and_zeroforgottoreturn(0)"
   ]
  },
  {
   "cell_type": "code",
   "execution_count": 145,
   "id": "3d6dfb21",
   "metadata": {},
   "outputs": [],
   "source": [
    "def find_max_element_in_list(some_list):\n",
    "    if len(some_list) == 0:\n",
    "        print(\"Zero elements in list\")\n",
    "        return None\n",
    "    \n",
    "    max_element = some_list[0]\n",
    "    lenght = len(some_list)\n",
    "    for i in range(1,lenght):\n",
    "        if some_list[i] > max_element :\n",
    "            max_element = some_list[i]\n",
    "        return max_list"
   ]
  },
  {
   "cell_type": "code",
   "execution_count": 141,
   "id": "21fccbc5",
   "metadata": {},
   "outputs": [],
   "source": [
    "empty_list = []"
   ]
  },
  {
   "cell_type": "code",
   "execution_count": 142,
   "id": "dc676741",
   "metadata": {},
   "outputs": [
    {
     "name": "stdout",
     "output_type": "stream",
     "text": [
      "Zero elements in list\n"
     ]
    }
   ],
   "source": [
    "find_max_element_in_list(empty_list)"
   ]
  },
  {
   "cell_type": "code",
   "execution_count": 157,
   "id": "90589a64",
   "metadata": {},
   "outputs": [],
   "source": [
    "def find_first_capiral_letter(some_string):\n",
    "    capital_letter = None\n",
    "    for ch in some_string :\n",
    "        if ch.upper()== ch and ch != \" \" :\n",
    "            capital_letter = ch\n",
    "            break\n",
    "    if capital_letter is None :\n",
    "        return \" No capital letter found in list\"\n",
    "    else :\n",
    "        return \" Capital letter is \" + capital_letter\n",
    "        "
   ]
  },
  {
   "cell_type": "code",
   "execution_count": 158,
   "id": "96d4bbc8",
   "metadata": {},
   "outputs": [
    {
     "data": {
      "text/plain": [
       "' Capital letter is A'"
      ]
     },
     "execution_count": 158,
     "metadata": {},
     "output_type": "execute_result"
    }
   ],
   "source": [
    "find_first_capiral_letter(\"hi my name is Akshay\")"
   ]
  },
  {
   "cell_type": "code",
   "execution_count": 159,
   "id": "745b07fd",
   "metadata": {},
   "outputs": [
    {
     "data": {
      "text/plain": [
       "' No capital letter found in list'"
      ]
     },
     "execution_count": 159,
     "metadata": {},
     "output_type": "execute_result"
    }
   ],
   "source": [
    "find_first_capiral_letter(\"hi my name is akshay\")"
   ]
  },
  {
   "cell_type": "code",
   "execution_count": 163,
   "id": "27410d15",
   "metadata": {},
   "outputs": [],
   "source": [
    "def create_dict(name,age,occupation):\n",
    "    dictionary = {\n",
    "        \"Name\" : name,\n",
    "        \"Age\"  : age,\n",
    "        \"occupation\" : occupation\n",
    "    }\n",
    "    return dictionary"
   ]
  },
  {
   "cell_type": "code",
   "execution_count": 166,
   "id": "45fb6f06",
   "metadata": {},
   "outputs": [
    {
     "name": "stdout",
     "output_type": "stream",
     "text": [
      "{'Name': 'Akshay', 'Age': 24, 'occupation': 'CKM'}\n"
     ]
    }
   ],
   "source": [
    "dictionaty_info = create_dict(\"Akshay\",24,\"CKM\")\n",
    "print(dictionaty_info)"
   ]
  },
  {
   "cell_type": "code",
   "execution_count": 170,
   "id": "83f81535",
   "metadata": {},
   "outputs": [],
   "source": [
    "def create_list(name,times):\n",
    "    return_list = []\n",
    "    for i in range(times):\n",
    "        return_list.append(name)\n",
    "    return return_list"
   ]
  },
  {
   "cell_type": "code",
   "execution_count": 171,
   "id": "edda6555",
   "metadata": {},
   "outputs": [
    {
     "data": {
      "text/plain": [
       "['Akshay', 'Akshay', 'Akshay', 'Akshay', 'Akshay']"
      ]
     },
     "execution_count": 171,
     "metadata": {},
     "output_type": "execute_result"
    }
   ],
   "source": [
    "create_list(\"Akshay\",5)"
   ]
  },
  {
   "cell_type": "code",
   "execution_count": 175,
   "id": "82856e59",
   "metadata": {},
   "outputs": [],
   "source": [
    "def creates_list(name,times):\n",
    "    return_list = [name for i in range(times)]\n",
    "    return return_list"
   ]
  },
  {
   "cell_type": "code",
   "execution_count": 176,
   "id": "4f55161c",
   "metadata": {},
   "outputs": [
    {
     "data": {
      "text/plain": [
       "['Emids', 'Emids', 'Emids', 'Emids', 'Emids']"
      ]
     },
     "execution_count": 176,
     "metadata": {},
     "output_type": "execute_result"
    }
   ],
   "source": [
    "creates_list(\"Emids\",5)"
   ]
  },
  {
   "cell_type": "code",
   "execution_count": 177,
   "id": "4ce3e161",
   "metadata": {},
   "outputs": [],
   "source": [
    "def add(a,b):\n",
    "    return a + b\n",
    "def sub(a,b):\n",
    "    return a - b\n",
    "def mul(a,b):\n",
    "    return a * b\n",
    "def div(a,b):\n",
    "    return a / b\n"
   ]
  },
  {
   "cell_type": "code",
   "execution_count": 178,
   "id": "460215c0",
   "metadata": {},
   "outputs": [],
   "source": [
    "def calaculator(a,b,operator):\n",
    "    if operator =='add':\n",
    "        return add(a,b)\n",
    "    if operator =='sub':\n",
    "        return sub(a,b)\n",
    "    if operator =='mul':\n",
    "        return mul(a,b)\n",
    "    if operator =='div':\n",
    "        return div(a,b)\n",
    "    "
   ]
  },
  {
   "cell_type": "code",
   "execution_count": 179,
   "id": "23d9bb99",
   "metadata": {},
   "outputs": [
    {
     "data": {
      "text/plain": [
       "15"
      ]
     },
     "execution_count": 179,
     "metadata": {},
     "output_type": "execute_result"
    }
   ],
   "source": [
    "calaculator(10,5,\"add\")"
   ]
  },
  {
   "cell_type": "code",
   "execution_count": 180,
   "id": "e0c09d29",
   "metadata": {},
   "outputs": [
    {
     "data": {
      "text/plain": [
       "5"
      ]
     },
     "execution_count": 180,
     "metadata": {},
     "output_type": "execute_result"
    }
   ],
   "source": [
    "calaculator(10,5,\"sub\")"
   ]
  },
  {
   "cell_type": "code",
   "execution_count": 181,
   "id": "eb89a40d",
   "metadata": {},
   "outputs": [
    {
     "data": {
      "text/plain": [
       "50"
      ]
     },
     "execution_count": 181,
     "metadata": {},
     "output_type": "execute_result"
    }
   ],
   "source": [
    "calaculator(10,5,\"mul\")"
   ]
  },
  {
   "cell_type": "code",
   "execution_count": 182,
   "id": "98aeeb03",
   "metadata": {},
   "outputs": [
    {
     "data": {
      "text/plain": [
       "2.0"
      ]
     },
     "execution_count": 182,
     "metadata": {},
     "output_type": "execute_result"
    }
   ],
   "source": [
    "calaculator(10,5,\"div\")"
   ]
  },
  {
   "cell_type": "code",
   "execution_count": null,
   "id": "89fd06d4",
   "metadata": {},
   "outputs": [],
   "source": []
  }
 ],
 "metadata": {
  "kernelspec": {
   "display_name": "Python 3 (ipykernel)",
   "language": "python",
   "name": "python3"
  },
  "language_info": {
   "codemirror_mode": {
    "name": "ipython",
    "version": 3
   },
   "file_extension": ".py",
   "mimetype": "text/x-python",
   "name": "python",
   "nbconvert_exporter": "python",
   "pygments_lexer": "ipython3",
   "version": "3.11.3"
  }
 },
 "nbformat": 4,
 "nbformat_minor": 5
}
