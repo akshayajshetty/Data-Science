{
 "cells": [
  {
   "cell_type": "code",
   "execution_count": 6,
   "id": "a6dbd471",
   "metadata": {},
   "outputs": [],
   "source": [
    "def print_fn(str_1 ):\n",
    "    print(str_1)"
   ]
  },
  {
   "cell_type": "code",
   "execution_count": 7,
   "id": "1786c234",
   "metadata": {},
   "outputs": [
    {
     "ename": "TypeError",
     "evalue": "print_fn() missing 1 required positional argument: 'str_1'",
     "output_type": "error",
     "traceback": [
      "\u001b[1;31m---------------------------------------------------------------------------\u001b[0m",
      "\u001b[1;31mTypeError\u001b[0m                                 Traceback (most recent call last)",
      "Input \u001b[1;32mIn [7]\u001b[0m, in \u001b[0;36m<cell line: 1>\u001b[1;34m()\u001b[0m\n\u001b[1;32m----> 1\u001b[0m \u001b[43mprint_fn\u001b[49m\u001b[43m(\u001b[49m\u001b[43m)\u001b[49m\n",
      "\u001b[1;31mTypeError\u001b[0m: print_fn() missing 1 required positional argument: 'str_1'"
     ]
    }
   ],
   "source": [
    "print_fn()"
   ]
  },
  {
   "cell_type": "code",
   "execution_count": 8,
   "id": "e47ece7e",
   "metadata": {},
   "outputs": [],
   "source": [
    "def print_fn(str_1=\"\\n\"):\n",
    "    print(str_1)"
   ]
  },
  {
   "cell_type": "code",
   "execution_count": 9,
   "id": "4ebcf351",
   "metadata": {},
   "outputs": [
    {
     "name": "stdout",
     "output_type": "stream",
     "text": [
      "\n",
      "\n"
     ]
    }
   ],
   "source": [
    "print_fn()"
   ]
  },
  {
   "cell_type": "code",
   "execution_count": 12,
   "id": "149176e7",
   "metadata": {},
   "outputs": [
    {
     "name": "stdout",
     "output_type": "stream",
     "text": [
      "Akshay\n"
     ]
    }
   ],
   "source": [
    "print_fn(\"Akshay\")"
   ]
  },
  {
   "cell_type": "code",
   "execution_count": 13,
   "id": "c10289a0",
   "metadata": {},
   "outputs": [
    {
     "ename": "TypeError",
     "evalue": "print_fn() takes from 0 to 1 positional arguments but 2 were given",
     "output_type": "error",
     "traceback": [
      "\u001b[1;31m---------------------------------------------------------------------------\u001b[0m",
      "\u001b[1;31mTypeError\u001b[0m                                 Traceback (most recent call last)",
      "Input \u001b[1;32mIn [13]\u001b[0m, in \u001b[0;36m<cell line: 1>\u001b[1;34m()\u001b[0m\n\u001b[1;32m----> 1\u001b[0m \u001b[43mprint_fn\u001b[49m\u001b[43m(\u001b[49m\u001b[38;5;124;43m\"\u001b[39;49m\u001b[38;5;124;43mAkshay\u001b[39;49m\u001b[38;5;124;43m\"\u001b[39;49m\u001b[43m,\u001b[49m\u001b[38;5;124;43m\"\u001b[39;49m\u001b[38;5;124;43mEmids\u001b[39;49m\u001b[38;5;124;43m\"\u001b[39;49m\u001b[43m)\u001b[49m\n",
      "\u001b[1;31mTypeError\u001b[0m: print_fn() takes from 0 to 1 positional arguments but 2 were given"
     ]
    }
   ],
   "source": [
    "print_fn(\"Akshay\",\"Emids\")"
   ]
  },
  {
   "cell_type": "code",
   "execution_count": 15,
   "id": "deeba599",
   "metadata": {},
   "outputs": [],
   "source": [
    "def print_fn(str_1=\"\\n\",str_2=\"\"):\n",
    "    print(str_1,str_2)"
   ]
  },
  {
   "cell_type": "code",
   "execution_count": 19,
   "id": "9a7becab",
   "metadata": {},
   "outputs": [
    {
     "name": "stdout",
     "output_type": "stream",
     "text": [
      "Akshay Emids\n"
     ]
    }
   ],
   "source": [
    "print_fn(\"Akshay\",\"Emids\")"
   ]
  },
  {
   "cell_type": "code",
   "execution_count": 17,
   "id": "f7bb9265",
   "metadata": {},
   "outputs": [
    {
     "ename": "TypeError",
     "evalue": "print_fn() takes from 0 to 2 positional arguments but 3 were given",
     "output_type": "error",
     "traceback": [
      "\u001b[1;31m---------------------------------------------------------------------------\u001b[0m",
      "\u001b[1;31mTypeError\u001b[0m                                 Traceback (most recent call last)",
      "Input \u001b[1;32mIn [17]\u001b[0m, in \u001b[0;36m<cell line: 1>\u001b[1;34m()\u001b[0m\n\u001b[1;32m----> 1\u001b[0m \u001b[43mprint_fn\u001b[49m\u001b[43m(\u001b[49m\u001b[38;5;124;43m\"\u001b[39;49m\u001b[38;5;124;43mAkshay\u001b[39;49m\u001b[38;5;124;43m\"\u001b[39;49m\u001b[43m,\u001b[49m\u001b[38;5;124;43m\"\u001b[39;49m\u001b[38;5;124;43mEmids\u001b[39;49m\u001b[38;5;124;43m\"\u001b[39;49m\u001b[43m,\u001b[49m\u001b[38;5;124;43m\"\u001b[39;49m\u001b[38;5;124;43mCKM\u001b[39;49m\u001b[38;5;124;43m\"\u001b[39;49m\u001b[43m)\u001b[49m\n",
      "\u001b[1;31mTypeError\u001b[0m: print_fn() takes from 0 to 2 positional arguments but 3 were given"
     ]
    }
   ],
   "source": [
    "print_fn(\"Akshay\",\"Emids\",\"CKM\")"
   ]
  },
  {
   "cell_type": "markdown",
   "id": "a51dcdaf",
   "metadata": {},
   "source": [
    "# args--------------------------------------"
   ]
  },
  {
   "cell_type": "code",
   "execution_count": 22,
   "id": "a4461e6f",
   "metadata": {},
   "outputs": [],
   "source": [
    "def print_fun(*args):\n",
    "    args_type = type(args)\n",
    "    print(args_type)\n",
    "    \n",
    "    print(args)"
   ]
  },
  {
   "cell_type": "code",
   "execution_count": 24,
   "id": "c7712613",
   "metadata": {},
   "outputs": [
    {
     "name": "stdout",
     "output_type": "stream",
     "text": [
      "<class 'tuple'>\n",
      "()\n"
     ]
    }
   ],
   "source": [
    "print_fun()"
   ]
  },
  {
   "cell_type": "code",
   "execution_count": 25,
   "id": "b1ec4573",
   "metadata": {},
   "outputs": [
    {
     "name": "stdout",
     "output_type": "stream",
     "text": [
      "<class 'tuple'>\n",
      "('Akshay',)\n"
     ]
    }
   ],
   "source": [
    "print_fun(\"Akshay\")"
   ]
  },
  {
   "cell_type": "code",
   "execution_count": 26,
   "id": "3592cec6",
   "metadata": {},
   "outputs": [
    {
     "name": "stdout",
     "output_type": "stream",
     "text": [
      "<class 'tuple'>\n",
      "('Akhay', 'Emids', [1, 2, 3, 4], (1, 4, 5), {'a': 3}, {1, 2, 3})\n"
     ]
    }
   ],
   "source": [
    "print_fun(\"Akhay\",\"Emids\",[1,2,3,4],(1,4,5),{\"a\":3},{1,2,3,1})"
   ]
  },
  {
   "cell_type": "code",
   "execution_count": 27,
   "id": "045672cd",
   "metadata": {},
   "outputs": [],
   "source": [
    "names_list = [(\"Akhay\",\"Emids\",[1,2,3,4],(1,4,5),{\"a\":3},{1,2,3,1})]"
   ]
  },
  {
   "cell_type": "code",
   "execution_count": 29,
   "id": "ecf5f0ac",
   "metadata": {},
   "outputs": [
    {
     "name": "stdout",
     "output_type": "stream",
     "text": [
      "<class 'tuple'>\n",
      "([('Akhay', 'Emids', [1, 2, 3, 4], (1, 4, 5), {'a': 3}, {1, 2, 3})],)\n"
     ]
    }
   ],
   "source": [
    "print_fun(names_list)"
   ]
  },
  {
   "cell_type": "code",
   "execution_count": 39,
   "id": "7a96c814",
   "metadata": {},
   "outputs": [],
   "source": [
    "def student_in_college(college,city,*students):\n",
    "    print(\"College name :\",college)\n",
    "    print(\"City name :\", city)\n",
    "    print(\"students name :\",students)\n",
    "    "
   ]
  },
  {
   "cell_type": "code",
   "execution_count": 40,
   "id": "e56eba87",
   "metadata": {},
   "outputs": [
    {
     "ename": "TypeError",
     "evalue": "student_in_college() missing 2 required positional arguments: 'college' and 'city'",
     "output_type": "error",
     "traceback": [
      "\u001b[1;31m---------------------------------------------------------------------------\u001b[0m",
      "\u001b[1;31mTypeError\u001b[0m                                 Traceback (most recent call last)",
      "Input \u001b[1;32mIn [40]\u001b[0m, in \u001b[0;36m<cell line: 1>\u001b[1;34m()\u001b[0m\n\u001b[1;32m----> 1\u001b[0m \u001b[43mstudent_in_college\u001b[49m\u001b[43m(\u001b[49m\u001b[43m)\u001b[49m\n",
      "\u001b[1;31mTypeError\u001b[0m: student_in_college() missing 2 required positional arguments: 'college' and 'city'"
     ]
    }
   ],
   "source": [
    "student_in_college()"
   ]
  },
  {
   "cell_type": "code",
   "execution_count": 42,
   "id": "70c04785",
   "metadata": {},
   "outputs": [
    {
     "name": "stdout",
     "output_type": "stream",
     "text": [
      "College name : VTU\n",
      "City name : Karnataka\n",
      "students name : ()\n"
     ]
    }
   ],
   "source": [
    "student_in_college(\"VTU\",\"Karnataka\")"
   ]
  },
  {
   "cell_type": "code",
   "execution_count": 43,
   "id": "98263e1b",
   "metadata": {},
   "outputs": [
    {
     "name": "stdout",
     "output_type": "stream",
     "text": [
      "College name : VTU\n",
      "City name : Karnataka\n",
      "students name : ('Akshay', 'B', 'c')\n"
     ]
    }
   ],
   "source": [
    "student_in_college(\"VTU\",\"Karnataka\",'Akshay',\"B\",\"c\")"
   ]
  },
  {
   "cell_type": "code",
   "execution_count": 46,
   "id": "71aa11be",
   "metadata": {},
   "outputs": [],
   "source": [
    "def student_in_colleges(*students,college,city):\n",
    "    print(\"College name :\",college)\n",
    "    print(\"City name :\", city)\n",
    "    print(\"students name :\",students)"
   ]
  },
  {
   "cell_type": "code",
   "execution_count": 47,
   "id": "4a7dc463",
   "metadata": {},
   "outputs": [
    {
     "ename": "TypeError",
     "evalue": "student_in_colleges() missing 2 required keyword-only arguments: 'college' and 'city'",
     "output_type": "error",
     "traceback": [
      "\u001b[1;31m---------------------------------------------------------------------------\u001b[0m",
      "\u001b[1;31mTypeError\u001b[0m                                 Traceback (most recent call last)",
      "Input \u001b[1;32mIn [47]\u001b[0m, in \u001b[0;36m<cell line: 1>\u001b[1;34m()\u001b[0m\n\u001b[1;32m----> 1\u001b[0m \u001b[43mstudent_in_colleges\u001b[49m\u001b[43m(\u001b[49m\u001b[38;5;124;43m\"\u001b[39;49m\u001b[38;5;124;43mAkshay\u001b[39;49m\u001b[38;5;124;43m\"\u001b[39;49m\u001b[43m,\u001b[49m\u001b[38;5;124;43m\"\u001b[39;49m\u001b[38;5;124;43mB\u001b[39;49m\u001b[38;5;124;43m\"\u001b[39;49m\u001b[43m)\u001b[49m\n",
      "\u001b[1;31mTypeError\u001b[0m: student_in_colleges() missing 2 required keyword-only arguments: 'college' and 'city'"
     ]
    }
   ],
   "source": [
    "student_in_colleges(\"Akshay\",\"B\")"
   ]
  },
  {
   "cell_type": "code",
   "execution_count": 48,
   "id": "efcc638b",
   "metadata": {},
   "outputs": [
    {
     "name": "stdout",
     "output_type": "stream",
     "text": [
      "College name : VTU\n",
      "City name : Karnataka\n",
      "students name : ('Akshay', 'B')\n"
     ]
    }
   ],
   "source": [
    "student_in_colleges(\"Akshay\",\"B\",college=\"VTU\",city=\"Karnataka\")"
   ]
  },
  {
   "cell_type": "code",
   "execution_count": 49,
   "id": "cb238442",
   "metadata": {},
   "outputs": [],
   "source": [
    "def student_in_colleges(*students,college=\"IISC\",city):\n",
    "    print(\"College name :\",college)\n",
    "    print(\"City name :\", city)\n",
    "    print(\"students name :\",students)"
   ]
  },
  {
   "cell_type": "code",
   "execution_count": 50,
   "id": "cc9a883c",
   "metadata": {},
   "outputs": [
    {
     "name": "stdout",
     "output_type": "stream",
     "text": [
      "College name : IISC\n",
      "City name : Karnataka\n",
      "students name : ('Akshay', 'B')\n"
     ]
    }
   ],
   "source": [
    "student_in_colleges(\"Akshay\",\"B\",city=\"Karnataka\")"
   ]
  },
  {
   "cell_type": "code",
   "execution_count": 52,
   "id": "68291e6b",
   "metadata": {},
   "outputs": [],
   "source": [
    "def student_in_colleges(*students,college,city=\"BNG\"):\n",
    "    print(\"College name :\",college)\n",
    "    print(\"City name :\", city)\n",
    "    print(\"students name :\",students)"
   ]
  },
  {
   "cell_type": "code",
   "execution_count": 53,
   "id": "ccf668ab",
   "metadata": {},
   "outputs": [
    {
     "name": "stdout",
     "output_type": "stream",
     "text": [
      "College name : IISC\n",
      "City name : BNG\n",
      "students name : ('Akshay', 'B')\n"
     ]
    }
   ],
   "source": [
    "student_in_colleges(\"Akshay\",\"B\",college=\"IISC\")"
   ]
  },
  {
   "cell_type": "markdown",
   "id": "79e6503b",
   "metadata": {},
   "source": [
    "# Kwargs-----------------------------------------------------------------"
   ]
  },
  {
   "cell_type": "code",
   "execution_count": 56,
   "id": "006fc001",
   "metadata": {},
   "outputs": [],
   "source": [
    "def student_details(**kwargs):\n",
    "    print(type(kwargs))\n",
    "    print(kwargs)"
   ]
  },
  {
   "cell_type": "code",
   "execution_count": 58,
   "id": "c8f65dd2",
   "metadata": {},
   "outputs": [
    {
     "name": "stdout",
     "output_type": "stream",
     "text": [
      "<class 'dict'>\n",
      "{}\n"
     ]
    }
   ],
   "source": [
    "student_details()"
   ]
  },
  {
   "cell_type": "code",
   "execution_count": 59,
   "id": "ebb6d5ef",
   "metadata": {},
   "outputs": [
    {
     "name": "stdout",
     "output_type": "stream",
     "text": [
      "<class 'dict'>\n",
      "{'name': 'Akshay'}\n"
     ]
    }
   ],
   "source": [
    "student_details(name=\"Akshay\")"
   ]
  },
  {
   "cell_type": "code",
   "execution_count": 60,
   "id": "a644ba75",
   "metadata": {},
   "outputs": [
    {
     "name": "stdout",
     "output_type": "stream",
     "text": [
      "<class 'dict'>\n",
      "{'name': 'Akshay', 'city': 'CKM'}\n"
     ]
    }
   ],
   "source": [
    "student_details(name=\"Akshay\",city=\"CKM\")"
   ]
  },
  {
   "cell_type": "code",
   "execution_count": 63,
   "id": "527ebd1a",
   "metadata": {},
   "outputs": [],
   "source": [
    "def emp_details(**kwargs):\n",
    "    for key, value in kwargs.items():\n",
    "        print(key, \":\",value)"
   ]
  },
  {
   "cell_type": "code",
   "execution_count": 64,
   "id": "cd001a49",
   "metadata": {},
   "outputs": [
    {
     "name": "stdout",
     "output_type": "stream",
     "text": [
      "name : Akshay\n",
      "company : Emids\n",
      "city : CKM\n"
     ]
    }
   ],
   "source": [
    "emp_details(name=\"Akshay\",company=\"Emids\",city='CKM')"
   ]
  },
  {
   "cell_type": "code",
   "execution_count": 68,
   "id": "1e00b3f7",
   "metadata": {},
   "outputs": [],
   "source": [
    "student_dict = {\"name\":\"Akshay\",\"company\":\"Emids\",\"city\":\"BNG\"}"
   ]
  },
  {
   "cell_type": "code",
   "execution_count": 66,
   "id": "d9a80c0b",
   "metadata": {},
   "outputs": [
    {
     "ename": "TypeError",
     "evalue": "emp_details() takes 0 positional arguments but 1 was given",
     "output_type": "error",
     "traceback": [
      "\u001b[1;31m---------------------------------------------------------------------------\u001b[0m",
      "\u001b[1;31mTypeError\u001b[0m                                 Traceback (most recent call last)",
      "Input \u001b[1;32mIn [66]\u001b[0m, in \u001b[0;36m<cell line: 1>\u001b[1;34m()\u001b[0m\n\u001b[1;32m----> 1\u001b[0m \u001b[43memp_details\u001b[49m\u001b[43m(\u001b[49m\u001b[43mstudent_dict\u001b[49m\u001b[43m)\u001b[49m\n",
      "\u001b[1;31mTypeError\u001b[0m: emp_details() takes 0 positional arguments but 1 was given"
     ]
    }
   ],
   "source": [
    "emp_details(student_dict)"
   ]
  },
  {
   "cell_type": "code",
   "execution_count": 69,
   "id": "8940396a",
   "metadata": {},
   "outputs": [
    {
     "name": "stdout",
     "output_type": "stream",
     "text": [
      "name : Akshay\n",
      "company : Emids\n",
      "city : BNG\n"
     ]
    }
   ],
   "source": [
    "emp_details(**student_dict)"
   ]
  },
  {
   "cell_type": "code",
   "execution_count": 79,
   "id": "8b4043ab",
   "metadata": {},
   "outputs": [],
   "source": [
    "def student_details(**details):\n",
    "    if 'name' in details:\n",
    "        print(\"Name: \",details['name'])\n",
    "    if 'city' in details:\n",
    "        print(\"city :\",details['city'])\n",
    "    if 'college' in details:\n",
    "        print(\"college :\",details['college'])\n",
    "    "
   ]
  },
  {
   "cell_type": "code",
   "execution_count": 71,
   "id": "246be96f",
   "metadata": {},
   "outputs": [],
   "source": [
    "details = {\"name\":\"Akshay\",\"city\":\"CKM\",\"college\":\"LBS\"}"
   ]
  },
  {
   "cell_type": "code",
   "execution_count": 80,
   "id": "1f0967a4",
   "metadata": {},
   "outputs": [
    {
     "name": "stdout",
     "output_type": "stream",
     "text": [
      "Name:  Akshay\n"
     ]
    }
   ],
   "source": [
    "student_details(name=\"Akshay\")"
   ]
  },
  {
   "cell_type": "code",
   "execution_count": 81,
   "id": "487a2058",
   "metadata": {},
   "outputs": [
    {
     "name": "stdout",
     "output_type": "stream",
     "text": [
      "Name:  Akshay\n",
      "city : CKM\n"
     ]
    }
   ],
   "source": [
    "student_details(name=\"Akshay\",city=\"CKM\")"
   ]
  },
  {
   "cell_type": "code",
   "execution_count": 83,
   "id": "df6d6df2",
   "metadata": {},
   "outputs": [
    {
     "name": "stdout",
     "output_type": "stream",
     "text": [
      "Name:  Akshay\n",
      "city : CKM\n",
      "college : IISc\n"
     ]
    }
   ],
   "source": [
    "student_details(name=\"Akshay\",city=\"CKM\",college=\"IISc\")"
   ]
  },
  {
   "cell_type": "code",
   "execution_count": 84,
   "id": "8f3501da",
   "metadata": {},
   "outputs": [
    {
     "name": "stdout",
     "output_type": "stream",
     "text": [
      "Name:  Akshay\n",
      "city : CKM\n",
      "college : IISc\n"
     ]
    }
   ],
   "source": [
    "student_details(name=\"Akshay\",city=\"CKM\",college=\"IISc\",age=24)"
   ]
  },
  {
   "cell_type": "code",
   "execution_count": 90,
   "id": "12a505a8",
   "metadata": {},
   "outputs": [],
   "source": [
    "def stu_in_col(*student,**details):\n",
    "    print(\"*arguments list\")\n",
    "    for i in student:\n",
    "        print(i)\n",
    "          \n",
    "    print()\n",
    "          \n",
    "    print(\"**arguments list\")      \n",
    "    for key, value in details.items():\n",
    "        print(key, \":\", value)"
   ]
  },
  {
   "cell_type": "code",
   "execution_count": 91,
   "id": "9c9aa6c1",
   "metadata": {},
   "outputs": [
    {
     "name": "stdout",
     "output_type": "stream",
     "text": [
      "*arguments list\n",
      "Akshay\n",
      "A\n",
      "B\n",
      "\n",
      "**arguments list\n",
      "name : Akshay\n",
      "city : CKM\n"
     ]
    }
   ],
   "source": [
    "stu_in_col(\"Akshay\",\"A\",\"B\",name=\"Akshay\",city=\"CKM\")"
   ]
  },
  {
   "cell_type": "code",
   "execution_count": null,
   "id": "9353beaa",
   "metadata": {},
   "outputs": [],
   "source": []
  }
 ],
 "metadata": {
  "kernelspec": {
   "display_name": "Python 3 (ipykernel)",
   "language": "python",
   "name": "python3"
  },
  "language_info": {
   "codemirror_mode": {
    "name": "ipython",
    "version": 3
   },
   "file_extension": ".py",
   "mimetype": "text/x-python",
   "name": "python",
   "nbconvert_exporter": "python",
   "pygments_lexer": "ipython3",
   "version": "3.11.3"
  }
 },
 "nbformat": 4,
 "nbformat_minor": 5
}
