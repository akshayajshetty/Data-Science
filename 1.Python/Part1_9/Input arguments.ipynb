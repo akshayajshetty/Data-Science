{
 "cells": [
  {
   "cell_type": "code",
   "execution_count": 6,
   "id": "3468fd9f",
   "metadata": {},
   "outputs": [
    {
     "name": "stdout",
     "output_type": "stream",
     "text": [
      "My name is Akshay\n",
      "I live in CKM\n"
     ]
    }
   ],
   "source": [
    "def my_introduction():\n",
    "    print(\"My name is Akshay\")\n",
    "    print('I live in CKM')\n",
    "my_introduction()"
   ]
  },
  {
   "cell_type": "code",
   "execution_count": 7,
   "id": "688a75ef",
   "metadata": {},
   "outputs": [
    {
     "name": "stdout",
     "output_type": "stream",
     "text": [
      "My name is Akshay\n",
      "I live in CKM\n"
     ]
    }
   ],
   "source": [
    "def introduction(name):\n",
    "    print(\"My name is\", name)\n",
    "    print('I live in CKM')\n",
    "introduction(\"Akshay\")"
   ]
  },
  {
   "cell_type": "code",
   "execution_count": 8,
   "id": "cf28df1d",
   "metadata": {},
   "outputs": [
    {
     "name": "stdout",
     "output_type": "stream",
     "text": [
      "My name is Akshay\n",
      "I live in  BNG\n"
     ]
    }
   ],
   "source": [
    "def general_introduction(name, city):\n",
    "    print(\"My name is\", name)\n",
    "    print('I live in ', city)\n",
    "general_introduction(\"Akshay\",\"BNG\")\n",
    "    "
   ]
  },
  {
   "cell_type": "code",
   "execution_count": 10,
   "id": "918627d5",
   "metadata": {},
   "outputs": [
    {
     "ename": "TypeError",
     "evalue": "my_introduction() takes 0 positional arguments but 1 was given",
     "output_type": "error",
     "traceback": [
      "\u001b[1;31m---------------------------------------------------------------------------\u001b[0m",
      "\u001b[1;31mTypeError\u001b[0m                                 Traceback (most recent call last)",
      "Input \u001b[1;32mIn [10]\u001b[0m, in \u001b[0;36m<cell line: 1>\u001b[1;34m()\u001b[0m\n\u001b[1;32m----> 1\u001b[0m \u001b[43mmy_introduction\u001b[49m\u001b[43m(\u001b[49m\u001b[38;5;124;43m\"\u001b[39;49m\u001b[38;5;124;43mAkshay\u001b[39;49m\u001b[38;5;124;43m\"\u001b[39;49m\u001b[43m)\u001b[49m\n",
      "\u001b[1;31mTypeError\u001b[0m: my_introduction() takes 0 positional arguments but 1 was given"
     ]
    }
   ],
   "source": [
    "my_introduction(\"Akshay\")"
   ]
  },
  {
   "cell_type": "code",
   "execution_count": 11,
   "id": "47848bb3",
   "metadata": {},
   "outputs": [
    {
     "ename": "TypeError",
     "evalue": "introduction() takes 1 positional argument but 2 were given",
     "output_type": "error",
     "traceback": [
      "\u001b[1;31m---------------------------------------------------------------------------\u001b[0m",
      "\u001b[1;31mTypeError\u001b[0m                                 Traceback (most recent call last)",
      "Input \u001b[1;32mIn [11]\u001b[0m, in \u001b[0;36m<cell line: 1>\u001b[1;34m()\u001b[0m\n\u001b[1;32m----> 1\u001b[0m \u001b[43mintroduction\u001b[49m\u001b[43m(\u001b[49m\u001b[38;5;124;43m\"\u001b[39;49m\u001b[38;5;124;43mAkshay\u001b[39;49m\u001b[38;5;124;43m\"\u001b[39;49m\u001b[43m,\u001b[49m\u001b[38;5;124;43m\"\u001b[39;49m\u001b[38;5;124;43mCKm\u001b[39;49m\u001b[38;5;124;43m\"\u001b[39;49m\u001b[43m)\u001b[49m\n",
      "\u001b[1;31mTypeError\u001b[0m: introduction() takes 1 positional argument but 2 were given"
     ]
    }
   ],
   "source": [
    "introduction(\"Akshay\",\"CKm\")"
   ]
  },
  {
   "cell_type": "code",
   "execution_count": 12,
   "id": "14fcb90f",
   "metadata": {},
   "outputs": [
    {
     "ename": "TypeError",
     "evalue": "general_introduction() missing 1 required positional argument: 'city'",
     "output_type": "error",
     "traceback": [
      "\u001b[1;31m---------------------------------------------------------------------------\u001b[0m",
      "\u001b[1;31mTypeError\u001b[0m                                 Traceback (most recent call last)",
      "Input \u001b[1;32mIn [12]\u001b[0m, in \u001b[0;36m<cell line: 1>\u001b[1;34m()\u001b[0m\n\u001b[1;32m----> 1\u001b[0m \u001b[43mgeneral_introduction\u001b[49m\u001b[43m(\u001b[49m\u001b[38;5;124;43m\"\u001b[39;49m\u001b[38;5;124;43mAkshay\u001b[39;49m\u001b[38;5;124;43m\"\u001b[39;49m\u001b[43m)\u001b[49m\n",
      "\u001b[1;31mTypeError\u001b[0m: general_introduction() missing 1 required positional argument: 'city'"
     ]
    }
   ],
   "source": [
    "general_introduction(\"Akshay\")"
   ]
  },
  {
   "cell_type": "code",
   "execution_count": 13,
   "id": "4b2fc8dc",
   "metadata": {},
   "outputs": [
    {
     "name": "stdout",
     "output_type": "stream",
     "text": [
      "sqaue of 2 is 4\n"
     ]
    }
   ],
   "source": [
    "def square(x):\n",
    "    print(f\"sqaue of {x} is {x*x}\")\n",
    "square(2)"
   ]
  },
  {
   "cell_type": "code",
   "execution_count": 14,
   "id": "36369c3d",
   "metadata": {},
   "outputs": [
    {
     "name": "stdout",
     "output_type": "stream",
     "text": [
      "sqaue of 24 is 576\n"
     ]
    }
   ],
   "source": [
    "num = 24\n",
    "square(num)"
   ]
  },
  {
   "cell_type": "code",
   "execution_count": 17,
   "id": "a41172e1",
   "metadata": {},
   "outputs": [],
   "source": [
    "def my_savings(a,b):\n",
    "    print(\"my savings is :\", a-b)"
   ]
  },
  {
   "cell_type": "code",
   "execution_count": 18,
   "id": "2405fe6d",
   "metadata": {},
   "outputs": [
    {
     "name": "stdout",
     "output_type": "stream",
     "text": [
      "my savings is : 700\n"
     ]
    }
   ],
   "source": [
    "my_savings(1000,300)"
   ]
  },
  {
   "cell_type": "code",
   "execution_count": 25,
   "id": "beea8b72",
   "metadata": {},
   "outputs": [],
   "source": [
    "salary =  6000\n",
    "expenses = 5370\n",
    "\n",
    "def savings(salary,expenses):\n",
    "    print(\"my savings is :\", salary-expenses)"
   ]
  },
  {
   "cell_type": "code",
   "execution_count": 26,
   "id": "9ff194ca",
   "metadata": {},
   "outputs": [
    {
     "name": "stdout",
     "output_type": "stream",
     "text": [
      "my savings is : 630\n"
     ]
    }
   ],
   "source": [
    "savings(salary,expenses)"
   ]
  },
  {
   "cell_type": "code",
   "execution_count": 27,
   "id": "f1befcd8",
   "metadata": {},
   "outputs": [
    {
     "name": "stdout",
     "output_type": "stream",
     "text": [
      "my savings is : 13000\n"
     ]
    }
   ],
   "source": [
    "savings(20000,7000)"
   ]
  },
  {
   "cell_type": "code",
   "execution_count": 29,
   "id": "ac06b108",
   "metadata": {},
   "outputs": [
    {
     "name": "stdout",
     "output_type": "stream",
     "text": [
      "my savings is : 1001934\n"
     ]
    }
   ],
   "source": [
    "a = 2030309\n",
    "b = 1028375\n",
    "savings(a,b)"
   ]
  },
  {
   "cell_type": "code",
   "execution_count": 30,
   "id": "d8980a93",
   "metadata": {},
   "outputs": [],
   "source": [
    "def many_times(string,time):\n",
    "    for i in range(time):\n",
    "        print(string)\n",
    "    "
   ]
  },
  {
   "cell_type": "code",
   "execution_count": 31,
   "id": "7a7ebd63",
   "metadata": {},
   "outputs": [
    {
     "name": "stdout",
     "output_type": "stream",
     "text": [
      "Akshay\n",
      "Akshay\n",
      "Akshay\n",
      "Akshay\n"
     ]
    }
   ],
   "source": [
    "many_times(\"Akshay\", 4)"
   ]
  },
  {
   "cell_type": "code",
   "execution_count": 32,
   "id": "0137ba0a",
   "metadata": {},
   "outputs": [
    {
     "ename": "TypeError",
     "evalue": "'str' object cannot be interpreted as an integer",
     "output_type": "error",
     "traceback": [
      "\u001b[1;31m---------------------------------------------------------------------------\u001b[0m",
      "\u001b[1;31mTypeError\u001b[0m                                 Traceback (most recent call last)",
      "Input \u001b[1;32mIn [32]\u001b[0m, in \u001b[0;36m<cell line: 1>\u001b[1;34m()\u001b[0m\n\u001b[1;32m----> 1\u001b[0m \u001b[43mmany_times\u001b[49m\u001b[43m(\u001b[49m\u001b[38;5;241;43m4\u001b[39;49m\u001b[43m,\u001b[49m\u001b[38;5;124;43m\"\u001b[39;49m\u001b[38;5;124;43mAkshay\u001b[39;49m\u001b[38;5;124;43m\"\u001b[39;49m\u001b[43m)\u001b[49m\n",
      "Input \u001b[1;32mIn [30]\u001b[0m, in \u001b[0;36mmany_times\u001b[1;34m(string, time)\u001b[0m\n\u001b[0;32m      1\u001b[0m \u001b[38;5;28;01mdef\u001b[39;00m \u001b[38;5;21mmany_times\u001b[39m(string,time):\n\u001b[1;32m----> 2\u001b[0m     \u001b[38;5;28;01mfor\u001b[39;00m i \u001b[38;5;129;01min\u001b[39;00m \u001b[38;5;28;43mrange\u001b[39;49m\u001b[43m(\u001b[49m\u001b[43mtime\u001b[49m\u001b[43m)\u001b[49m:\n\u001b[0;32m      3\u001b[0m         \u001b[38;5;28mprint\u001b[39m(string)\n",
      "\u001b[1;31mTypeError\u001b[0m: 'str' object cannot be interpreted as an integer"
     ]
    }
   ],
   "source": [
    "many_times(4,\"Akshay\")"
   ]
  },
  {
   "cell_type": "code",
   "execution_count": 34,
   "id": "1ee23e87",
   "metadata": {},
   "outputs": [],
   "source": [
    "def higher_number(a,b):\n",
    "    if a > b :\n",
    "        print(f\"{a} is highrer number\")\n",
    "    else :\n",
    "        print(f\"{b} is higher number\")"
   ]
  },
  {
   "cell_type": "code",
   "execution_count": 35,
   "id": "e110e83b",
   "metadata": {},
   "outputs": [
    {
     "name": "stdout",
     "output_type": "stream",
     "text": [
      "5 is highrer number\n"
     ]
    }
   ],
   "source": [
    "higher_number(5,3)"
   ]
  },
  {
   "cell_type": "code",
   "execution_count": 36,
   "id": "bc608048",
   "metadata": {},
   "outputs": [
    {
     "name": "stdout",
     "output_type": "stream",
     "text": [
      "3 is higher number\n"
     ]
    }
   ],
   "source": [
    "higher_number(1,3)"
   ]
  },
  {
   "cell_type": "code",
   "execution_count": 37,
   "id": "734c14f6",
   "metadata": {},
   "outputs": [],
   "source": [
    "def higher_number_with_error(a,b):\n",
    "    if a > b :\n",
    "        print(f\"{a} is highrer number\")\n",
    "    else :\n",
    "        print(f\"{b} is higher number\")\n",
    "        result = a + \"b\""
   ]
  },
  {
   "cell_type": "code",
   "execution_count": 38,
   "id": "2166dc47",
   "metadata": {},
   "outputs": [
    {
     "name": "stdout",
     "output_type": "stream",
     "text": [
      "5 is highrer number\n"
     ]
    }
   ],
   "source": [
    "higher_number_with_error(5,3)"
   ]
  },
  {
   "cell_type": "code",
   "execution_count": 39,
   "id": "e5f44a87",
   "metadata": {},
   "outputs": [
    {
     "name": "stdout",
     "output_type": "stream",
     "text": [
      "20 is higher number\n"
     ]
    },
    {
     "ename": "TypeError",
     "evalue": "unsupported operand type(s) for +: 'int' and 'str'",
     "output_type": "error",
     "traceback": [
      "\u001b[1;31m---------------------------------------------------------------------------\u001b[0m",
      "\u001b[1;31mTypeError\u001b[0m                                 Traceback (most recent call last)",
      "Input \u001b[1;32mIn [39]\u001b[0m, in \u001b[0;36m<cell line: 1>\u001b[1;34m()\u001b[0m\n\u001b[1;32m----> 1\u001b[0m \u001b[43mhigher_number_with_error\u001b[49m\u001b[43m(\u001b[49m\u001b[38;5;241;43m10\u001b[39;49m\u001b[43m,\u001b[49m\u001b[43m \u001b[49m\u001b[38;5;241;43m20\u001b[39;49m\u001b[43m)\u001b[49m\n",
      "Input \u001b[1;32mIn [37]\u001b[0m, in \u001b[0;36mhigher_number_with_error\u001b[1;34m(a, b)\u001b[0m\n\u001b[0;32m      4\u001b[0m \u001b[38;5;28;01melse\u001b[39;00m :\n\u001b[0;32m      5\u001b[0m     \u001b[38;5;28mprint\u001b[39m(\u001b[38;5;124mf\u001b[39m\u001b[38;5;124m\"\u001b[39m\u001b[38;5;132;01m{\u001b[39;00mb\u001b[38;5;132;01m}\u001b[39;00m\u001b[38;5;124m is higher number\u001b[39m\u001b[38;5;124m\"\u001b[39m)\n\u001b[1;32m----> 6\u001b[0m     result \u001b[38;5;241m=\u001b[39m \u001b[43ma\u001b[49m\u001b[43m \u001b[49m\u001b[38;5;241;43m+\u001b[39;49m\u001b[43m \u001b[49m\u001b[38;5;124;43m\"\u001b[39;49m\u001b[38;5;124;43mb\u001b[39;49m\u001b[38;5;124;43m\"\u001b[39;49m\n",
      "\u001b[1;31mTypeError\u001b[0m: unsupported operand type(s) for +: 'int' and 'str'"
     ]
    }
   ],
   "source": [
    "higher_number_with_error(10, 20)"
   ]
  },
  {
   "cell_type": "code",
   "execution_count": 42,
   "id": "0973f199",
   "metadata": {},
   "outputs": [],
   "source": [
    "def multiply(n1,n2,n3):\n",
    "    print(\"multiplication result :\", n1*n2*n3)"
   ]
  },
  {
   "cell_type": "code",
   "execution_count": 43,
   "id": "90a34722",
   "metadata": {},
   "outputs": [
    {
     "name": "stdout",
     "output_type": "stream",
     "text": [
      "multiplication result : 42.0\n"
     ]
    }
   ],
   "source": [
    "multiply(2,3.5,6)"
   ]
  },
  {
   "cell_type": "code",
   "execution_count": 45,
   "id": "cdff9856",
   "metadata": {},
   "outputs": [
    {
     "ename": "TypeError",
     "evalue": "multiply() takes 3 positional arguments but 4 were given",
     "output_type": "error",
     "traceback": [
      "\u001b[1;31m---------------------------------------------------------------------------\u001b[0m",
      "\u001b[1;31mTypeError\u001b[0m                                 Traceback (most recent call last)",
      "Input \u001b[1;32mIn [45]\u001b[0m, in \u001b[0;36m<cell line: 1>\u001b[1;34m()\u001b[0m\n\u001b[1;32m----> 1\u001b[0m \u001b[43mmultiply\u001b[49m\u001b[43m(\u001b[49m\u001b[38;5;241;43m2\u001b[39;49m\u001b[43m,\u001b[49m\u001b[38;5;241;43m3.5\u001b[39;49m\u001b[43m,\u001b[49m\u001b[38;5;241;43m6\u001b[39;49m\u001b[43m,\u001b[49m\u001b[38;5;241;43m8\u001b[39;49m\u001b[43m)\u001b[49m\n",
      "\u001b[1;31mTypeError\u001b[0m: multiply() takes 3 positional arguments but 4 were given"
     ]
    }
   ],
   "source": [
    "multiply(2,3.5,6,8)"
   ]
  },
  {
   "cell_type": "code",
   "execution_count": 46,
   "id": "d298da9a",
   "metadata": {},
   "outputs": [],
   "source": [
    "def length(some_list):\n",
    "    count = 0\n",
    "    for i in some_list:\n",
    "        count += 1\n",
    "    print(\"lenght of list is :\", count)"
   ]
  },
  {
   "cell_type": "code",
   "execution_count": 48,
   "id": "0d7bb5af",
   "metadata": {},
   "outputs": [
    {
     "name": "stdout",
     "output_type": "stream",
     "text": [
      "lenght of list is : 5\n"
     ]
    }
   ],
   "source": [
    "length([1,2,3,4,5])"
   ]
  },
  {
   "cell_type": "code",
   "execution_count": null,
   "id": "c62c4e40",
   "metadata": {},
   "outputs": [],
   "source": []
  },
  {
   "cell_type": "code",
   "execution_count": null,
   "id": "b5630386",
   "metadata": {},
   "outputs": [],
   "source": []
  },
  {
   "cell_type": "code",
   "execution_count": null,
   "id": "339868c2",
   "metadata": {},
   "outputs": [],
   "source": []
  }
 ],
 "metadata": {
  "kernelspec": {
   "display_name": "Python 3 (ipykernel)",
   "language": "python",
   "name": "python3"
  },
  "language_info": {
   "codemirror_mode": {
    "name": "ipython",
    "version": 3
   },
   "file_extension": ".py",
   "mimetype": "text/x-python",
   "name": "python",
   "nbconvert_exporter": "python",
   "pygments_lexer": "ipython3",
   "version": "3.11.3"
  }
 },
 "nbformat": 4,
 "nbformat_minor": 5
}
