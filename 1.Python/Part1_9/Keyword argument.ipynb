{
 "cells": [
  {
   "cell_type": "code",
   "execution_count": 1,
   "id": "67429d00",
   "metadata": {},
   "outputs": [],
   "source": [
    "def introduction(name,city):\n",
    "    print(\"My name is \", name)\n",
    "    print(\"I lived in \", city)"
   ]
  },
  {
   "cell_type": "code",
   "execution_count": 2,
   "id": "3e1b4f2b",
   "metadata": {},
   "outputs": [
    {
     "ename": "TypeError",
     "evalue": "introduction() missing 2 required positional arguments: 'name' and 'city'",
     "output_type": "error",
     "traceback": [
      "\u001b[1;31m---------------------------------------------------------------------------\u001b[0m",
      "\u001b[1;31mTypeError\u001b[0m                                 Traceback (most recent call last)",
      "Input \u001b[1;32mIn [2]\u001b[0m, in \u001b[0;36m<cell line: 1>\u001b[1;34m()\u001b[0m\n\u001b[1;32m----> 1\u001b[0m \u001b[43mintroduction\u001b[49m\u001b[43m(\u001b[49m\u001b[43m)\u001b[49m\n",
      "\u001b[1;31mTypeError\u001b[0m: introduction() missing 2 required positional arguments: 'name' and 'city'"
     ]
    }
   ],
   "source": [
    "introduction()"
   ]
  },
  {
   "cell_type": "code",
   "execution_count": 3,
   "id": "5f56ee87",
   "metadata": {},
   "outputs": [
    {
     "name": "stdout",
     "output_type": "stream",
     "text": [
      "My name is  Akshay\n",
      "I lived in  CKM\n"
     ]
    }
   ],
   "source": [
    "introduction(\"Akshay\",\"CKM\")"
   ]
  },
  {
   "cell_type": "code",
   "execution_count": 4,
   "id": "934543b6",
   "metadata": {},
   "outputs": [],
   "source": [
    "def adding(n1,n2,n3):\n",
    "    return (n1+n2+n3)"
   ]
  },
  {
   "cell_type": "code",
   "execution_count": 5,
   "id": "b2f002a9",
   "metadata": {},
   "outputs": [
    {
     "ename": "TypeError",
     "evalue": "adding() missing 1 required positional argument: 'n3'",
     "output_type": "error",
     "traceback": [
      "\u001b[1;31m---------------------------------------------------------------------------\u001b[0m",
      "\u001b[1;31mTypeError\u001b[0m                                 Traceback (most recent call last)",
      "Input \u001b[1;32mIn [5]\u001b[0m, in \u001b[0;36m<cell line: 1>\u001b[1;34m()\u001b[0m\n\u001b[1;32m----> 1\u001b[0m \u001b[43madding\u001b[49m\u001b[43m(\u001b[49m\u001b[38;5;241;43m34\u001b[39;49m\u001b[43m,\u001b[49m\u001b[38;5;241;43m67\u001b[39;49m\u001b[43m)\u001b[49m\n",
      "\u001b[1;31mTypeError\u001b[0m: adding() missing 1 required positional argument: 'n3'"
     ]
    }
   ],
   "source": [
    "adding(34,67)"
   ]
  },
  {
   "cell_type": "code",
   "execution_count": 14,
   "id": "84f638f7",
   "metadata": {},
   "outputs": [],
   "source": [
    "def total_score(P,C,M,B):\n",
    "    print(\"p:\",P, \"C:\",C ,\"M:\",M, \"B:\", B)\n",
    "    return P+C+M+B"
   ]
  },
  {
   "cell_type": "code",
   "execution_count": 15,
   "id": "d4e89f5c",
   "metadata": {},
   "outputs": [
    {
     "name": "stdout",
     "output_type": "stream",
     "text": [
      "p: 87 C: 70 M: 57 B: 63\n"
     ]
    },
    {
     "data": {
      "text/plain": [
       "277"
      ]
     },
     "execution_count": 15,
     "metadata": {},
     "output_type": "execute_result"
    }
   ],
   "source": [
    "total_score(87,70,57,63)"
   ]
  },
  {
   "cell_type": "code",
   "execution_count": 16,
   "id": "ee739868",
   "metadata": {},
   "outputs": [
    {
     "name": "stdout",
     "output_type": "stream",
     "text": [
      "p: 78 C: 76 M: 76 B: 67\n"
     ]
    },
    {
     "data": {
      "text/plain": [
       "297"
      ]
     },
     "execution_count": 16,
     "metadata": {},
     "output_type": "execute_result"
    }
   ],
   "source": [
    "total_score(P=78,C=76,M=76,B=67)"
   ]
  },
  {
   "cell_type": "code",
   "execution_count": 17,
   "id": "6c96b3d9",
   "metadata": {},
   "outputs": [
    {
     "ename": "TypeError",
     "evalue": "total_score() got an unexpected keyword argument 'm'",
     "output_type": "error",
     "traceback": [
      "\u001b[1;31m---------------------------------------------------------------------------\u001b[0m",
      "\u001b[1;31mTypeError\u001b[0m                                 Traceback (most recent call last)",
      "Input \u001b[1;32mIn [17]\u001b[0m, in \u001b[0;36m<cell line: 1>\u001b[1;34m()\u001b[0m\n\u001b[1;32m----> 1\u001b[0m \u001b[43mtotal_score\u001b[49m\u001b[43m(\u001b[49m\u001b[43mP\u001b[49m\u001b[38;5;241;43m=\u001b[39;49m\u001b[38;5;241;43m78\u001b[39;49m\u001b[43m,\u001b[49m\u001b[43mC\u001b[49m\u001b[38;5;241;43m=\u001b[39;49m\u001b[38;5;241;43m76\u001b[39;49m\u001b[43m,\u001b[49m\u001b[43mm\u001b[49m\u001b[38;5;241;43m=\u001b[39;49m\u001b[38;5;241;43m76\u001b[39;49m\u001b[43m,\u001b[49m\u001b[43mB\u001b[49m\u001b[38;5;241;43m=\u001b[39;49m\u001b[38;5;241;43m67\u001b[39;49m\u001b[43m)\u001b[49m\n",
      "\u001b[1;31mTypeError\u001b[0m: total_score() got an unexpected keyword argument 'm'"
     ]
    }
   ],
   "source": [
    "total_score(P=78,C=76,m=76,B=67)"
   ]
  },
  {
   "cell_type": "code",
   "execution_count": 18,
   "id": "2deedd24",
   "metadata": {},
   "outputs": [
    {
     "name": "stdout",
     "output_type": "stream",
     "text": [
      "p: 78 C: 76 M: 76 B: 67\n"
     ]
    },
    {
     "data": {
      "text/plain": [
       "297"
      ]
     },
     "execution_count": 18,
     "metadata": {},
     "output_type": "execute_result"
    }
   ],
   "source": [
    "total_score(78,C=76,M=76,B=67)"
   ]
  },
  {
   "cell_type": "code",
   "execution_count": 19,
   "id": "52ba2b86",
   "metadata": {},
   "outputs": [
    {
     "ename": "SyntaxError",
     "evalue": "positional argument follows keyword argument (474021139.py, line 1)",
     "output_type": "error",
     "traceback": [
      "\u001b[1;36m  Input \u001b[1;32mIn [19]\u001b[1;36m\u001b[0m\n\u001b[1;33m    total_score(C=76,M=76,B=67,78)\u001b[0m\n\u001b[1;37m                                 ^\u001b[0m\n\u001b[1;31mSyntaxError\u001b[0m\u001b[1;31m:\u001b[0m positional argument follows keyword argument\n"
     ]
    }
   ],
   "source": [
    "total_score(C=76,M=76,B=67,78)"
   ]
  },
  {
   "cell_type": "code",
   "execution_count": 20,
   "id": "efb600a8",
   "metadata": {},
   "outputs": [
    {
     "name": "stdout",
     "output_type": "stream",
     "text": [
      "p: 76 C: 67 M: 76 B: 78\n"
     ]
    },
    {
     "data": {
      "text/plain": [
       "297"
      ]
     },
     "execution_count": 20,
     "metadata": {},
     "output_type": "execute_result"
    }
   ],
   "source": [
    "total_score(B=78,P=76,M=76,C=67)"
   ]
  },
  {
   "cell_type": "code",
   "execution_count": 26,
   "id": "80f48336",
   "metadata": {},
   "outputs": [],
   "source": [
    "def student_details(name,school,P,C,M,B):\n",
    "    total= P+C+M+B\n",
    "    print(\"Name of the student :\", name)\n",
    "    print(\"name of the school :\", school)\n",
    "    print(\"p:\",P, \"C:\",C ,\"M:\",M, \"B:\", B)\n",
    "    print(\"scores:\",total)"
   ]
  },
  {
   "cell_type": "code",
   "execution_count": 27,
   "id": "75f6821a",
   "metadata": {},
   "outputs": [
    {
     "name": "stdout",
     "output_type": "stream",
     "text": [
      "Name of the student : Akshay\n",
      "name of the school : LBS\n",
      "p: 78 C: 76 M: 76 B: 67\n",
      "scores: 297\n"
     ]
    }
   ],
   "source": [
    "student_details(\"Akshay\",\"LBS\",P=78,C=76,M=76,B=67)"
   ]
  },
  {
   "cell_type": "code",
   "execution_count": 28,
   "id": "e442687a",
   "metadata": {},
   "outputs": [
    {
     "name": "stdout",
     "output_type": "stream",
     "text": [
      "Name of the student : Akshay\n",
      "name of the school : LBS\n",
      "p: 78 C: 76 M: 76 B: 67\n",
      "scores: 297\n"
     ]
    }
   ],
   "source": [
    "student_details(name=\"Akshay\",school=\"LBS\",P=78,C=76,M=76,B=67)"
   ]
  },
  {
   "cell_type": "code",
   "execution_count": 33,
   "id": "e539cb82",
   "metadata": {},
   "outputs": [],
   "source": [
    "def student_details(name,school,P,C,M,B,enrolled):\n",
    "    total= P+C+M+B\n",
    "    print(\"Name of the student :\", name)\n",
    "    print(\"name of the school :\", school, \"Enrolled :\",enrolled)\n",
    "    print(\"p:\",P, \"C:\",C ,\"M:\",M, \"B:\", B)\n",
    "    print(\"scores:\",total)"
   ]
  },
  {
   "cell_type": "code",
   "execution_count": 30,
   "id": "5145777d",
   "metadata": {},
   "outputs": [
    {
     "name": "stdout",
     "output_type": "stream",
     "text": [
      "Name of the student : Akshay\n",
      "name of the school : LBS Enrolled : True\n",
      "p: 78 C: 76 M: 76 B: 67\n",
      "scores: 297\n"
     ]
    }
   ],
   "source": [
    "student_details(name=\"Akshay\",school=\"LBS\",P=78,C=76,M=76,B=67,enrolled=True)"
   ]
  },
  {
   "cell_type": "code",
   "execution_count": 39,
   "id": "e3ecc196",
   "metadata": {},
   "outputs": [],
   "source": [
    "def student_details(name,school,P,C,M,B,enrolled=True):\n",
    "    total= P+C+M+B\n",
    "    print(\"Name of the student :\", name)\n",
    "    print(\"name of the school :\", school, \"Enrolled :\",enrolled)\n",
    "    print(\"p:\",P, \"C:\",C ,\"M:\",M, \"B:\", B)\n",
    "    print(\"scores:\",total)"
   ]
  },
  {
   "cell_type": "code",
   "execution_count": 40,
   "id": "9891090b",
   "metadata": {},
   "outputs": [
    {
     "name": "stdout",
     "output_type": "stream",
     "text": [
      "Name of the student : Akshay\n",
      "name of the school : LBS Enrolled : True\n",
      "p: 78 C: 76 M: 76 B: 67\n",
      "scores: 297\n"
     ]
    }
   ],
   "source": [
    "student_details(name=\"Akshay\",school=\"LBS\",P=78,C=76,M=76,B=67)"
   ]
  },
  {
   "cell_type": "code",
   "execution_count": 43,
   "id": "686089c5",
   "metadata": {},
   "outputs": [],
   "source": [
    "def student_details(name,school,P,C,M,B=89,enrolled=True):\n",
    "    total= P+C+M+B\n",
    "    print(\"Name of the student :\", name)\n",
    "    print(\"name of the school :\", school, \"Enrolled :\",enrolled)\n",
    "    print(\"p:\",P, \"C:\",C ,\"M:\",M, \"B:\", B)\n",
    "    print(\"scores:\",total)"
   ]
  },
  {
   "cell_type": "code",
   "execution_count": 44,
   "id": "01db96a5",
   "metadata": {},
   "outputs": [
    {
     "name": "stdout",
     "output_type": "stream",
     "text": [
      "Name of the student : Akshay\n",
      "name of the school : LBS Enrolled : True\n",
      "p: 78 C: 76 M: 76 B: 89\n",
      "scores: 319\n"
     ]
    }
   ],
   "source": [
    "student_details(name=\"Akshay\",school=\"LBS\",P=78,C=76,M=76)"
   ]
  },
  {
   "cell_type": "code",
   "execution_count": 45,
   "id": "3aeaf2d3",
   "metadata": {},
   "outputs": [
    {
     "ename": "SyntaxError",
     "evalue": "non-default argument follows default argument (1718522568.py, line 1)",
     "output_type": "error",
     "traceback": [
      "\u001b[1;36m  Input \u001b[1;32mIn [45]\u001b[1;36m\u001b[0m\n\u001b[1;33m    def student_details(name,school,P=87,C,M,B=89,enrolled=True):\u001b[0m\n\u001b[1;37m                                           ^\u001b[0m\n\u001b[1;31mSyntaxError\u001b[0m\u001b[1;31m:\u001b[0m non-default argument follows default argument\n"
     ]
    }
   ],
   "source": [
    "def student_details(name,school,P=87,C,M,B=89,enrolled=True):\n",
    "    total= P+C+M+B\n",
    "    print(\"Name of the student :\", name)\n",
    "    print(\"name of the school :\", school, \"Enrolled :\",enrolled)\n",
    "    print(\"p:\",P, \"C:\",C ,\"M:\",M, \"B:\", B)\n",
    "    print(\"scores:\",total)"
   ]
  },
  {
   "cell_type": "code",
   "execution_count": 46,
   "id": "a9271ea6",
   "metadata": {},
   "outputs": [],
   "source": [
    "def student_details(name=\"Akshay\",school=\"LBS\",P=87,C=87,M=56,B=89,enrolled=True):\n",
    "    total= P+C+M+B\n",
    "    print(\"Name of the student :\", name)\n",
    "    print(\"name of the school :\", school, \"Enrolled :\",enrolled)\n",
    "    print(\"p:\",P, \"C:\",C ,\"M:\",M, \"B:\", B)\n",
    "    print(\"scores:\",total)"
   ]
  },
  {
   "cell_type": "code",
   "execution_count": 47,
   "id": "f6d65cac",
   "metadata": {},
   "outputs": [
    {
     "name": "stdout",
     "output_type": "stream",
     "text": [
      "Name of the student : Akshay\n",
      "name of the school : LBS Enrolled : True\n",
      "p: 87 C: 87 M: 56 B: 89\n",
      "scores: 319\n"
     ]
    }
   ],
   "source": [
    "student_details()"
   ]
  },
  {
   "cell_type": "code",
   "execution_count": 49,
   "id": "cd4a1c0a",
   "metadata": {},
   "outputs": [
    {
     "name": "stdout",
     "output_type": "stream",
     "text": [
      "Name of the student : Emids\n",
      "name of the school : LBSH Enrolled : True\n",
      "p: 90 C: 87 M: 76 B: 89\n",
      "scores: 342\n"
     ]
    }
   ],
   "source": [
    "student_details(\"Emids\",\"LBSH\",P=90,M=76)"
   ]
  },
  {
   "cell_type": "code",
   "execution_count": null,
   "id": "8ed6b2b8",
   "metadata": {},
   "outputs": [],
   "source": []
  }
 ],
 "metadata": {
  "kernelspec": {
   "display_name": "Python 3 (ipykernel)",
   "language": "python",
   "name": "python3"
  },
  "language_info": {
   "codemirror_mode": {
    "name": "ipython",
    "version": 3
   },
   "file_extension": ".py",
   "mimetype": "text/x-python",
   "name": "python",
   "nbconvert_exporter": "python",
   "pygments_lexer": "ipython3",
   "version": "3.11.3"
  }
 },
 "nbformat": 4,
 "nbformat_minor": 5
}
