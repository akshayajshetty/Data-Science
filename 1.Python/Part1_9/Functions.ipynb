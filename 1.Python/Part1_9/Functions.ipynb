{
 "cells": [
  {
   "cell_type": "code",
   "execution_count": 2,
   "id": "de3aba9e",
   "metadata": {},
   "outputs": [
    {
     "name": "stdout",
     "output_type": "stream",
     "text": [
      "I am Akshay\n",
      "I am from CKM\n",
      "I am data analyst\n"
     ]
    }
   ],
   "source": [
    "print(\"I am Akshay\")\n",
    "print(\"I am from CKM\")\n",
    "print(\"I am data analyst\")"
   ]
  },
  {
   "cell_type": "code",
   "execution_count": 3,
   "id": "4c1c37f5",
   "metadata": {},
   "outputs": [
    {
     "name": "stdout",
     "output_type": "stream",
     "text": [
      "I am Akshay\n",
      "I am from CKM\n",
      "I am data analyst\n"
     ]
    }
   ],
   "source": [
    "def my_introduction():\n",
    "    print(\"I am Akshay\")\n",
    "    print(\"I am from CKM\")\n",
    "    print(\"I am data analyst\")\n",
    "my_introduction()\n",
    "\n",
    "    "
   ]
  },
  {
   "cell_type": "code",
   "execution_count": 6,
   "id": "fb959407",
   "metadata": {},
   "outputs": [
    {
     "name": "stdout",
     "output_type": "stream",
     "text": [
      "Outside the function\n"
     ]
    }
   ],
   "source": [
    "def hello():\n",
    "    print(\"Welcome to Python\")\n",
    "print(\"Outside the function\")"
   ]
  },
  {
   "cell_type": "code",
   "execution_count": 7,
   "id": "6478eaad",
   "metadata": {},
   "outputs": [
    {
     "name": "stdout",
     "output_type": "stream",
     "text": [
      "Welcome to Python\n"
     ]
    }
   ],
   "source": [
    "hello()"
   ]
  },
  {
   "cell_type": "code",
   "execution_count": 8,
   "id": "6b767745",
   "metadata": {},
   "outputs": [
    {
     "ename": "NameError",
     "evalue": "name 'my_new_function' is not defined",
     "output_type": "error",
     "traceback": [
      "\u001b[1;31m---------------------------------------------------------------------------\u001b[0m",
      "\u001b[1;31mNameError\u001b[0m                                 Traceback (most recent call last)",
      "Input \u001b[1;32mIn [8]\u001b[0m, in \u001b[0;36m<cell line: 1>\u001b[1;34m()\u001b[0m\n\u001b[1;32m----> 1\u001b[0m \u001b[43mmy_new_function\u001b[49m()\n",
      "\u001b[1;31mNameError\u001b[0m: name 'my_new_function' is not defined"
     ]
    }
   ],
   "source": [
    "my_new_function()"
   ]
  },
  {
   "cell_type": "code",
   "execution_count": 10,
   "id": "d1dbd418",
   "metadata": {},
   "outputs": [
    {
     "name": "stdout",
     "output_type": "stream",
     "text": [
      "Now defined\n"
     ]
    }
   ],
   "source": [
    "def my_new_function():\n",
    "    print(\"Now defined\")\n",
    "my_new_function()"
   ]
  },
  {
   "cell_type": "code",
   "execution_count": 11,
   "id": "04cc2654",
   "metadata": {},
   "outputs": [
    {
     "ename": "IndentationError",
     "evalue": "expected an indented block (3521436679.py, line 2)",
     "output_type": "error",
     "traceback": [
      "\u001b[1;36m  Input \u001b[1;32mIn [11]\u001b[1;36m\u001b[0m\n\u001b[1;33m    print(\"Not working gives error\")\u001b[0m\n\u001b[1;37m    ^\u001b[0m\n\u001b[1;31mIndentationError\u001b[0m\u001b[1;31m:\u001b[0m expected an indented block\n"
     ]
    }
   ],
   "source": [
    "def will_not_work_function():\n",
    "print(\"Not working gives error\")"
   ]
  },
  {
   "cell_type": "code",
   "execution_count": 13,
   "id": "5745c435",
   "metadata": {},
   "outputs": [
    {
     "name": "stdout",
     "output_type": "stream",
     "text": [
      "Its work\n",
      "1o is greater than 5\n"
     ]
    }
   ],
   "source": [
    "def will_work_function():\n",
    "    print(\"Its work\")\n",
    "    \n",
    "    if 10 > 5 :\n",
    "        print(\"1o is greater than 5\")\n",
    "        \n",
    "will_work_function()"
   ]
  },
  {
   "cell_type": "code",
   "execution_count": 16,
   "id": "a6c945ee",
   "metadata": {},
   "outputs": [
    {
     "name": "stdout",
     "output_type": "stream",
     "text": [
      "i is now 0\n",
      "i is now 1\n",
      "i is now 2\n",
      "i is now 3\n",
      "i is now 4\n",
      "i is now 5\n",
      "i is now 6\n",
      "i is now 7\n",
      "i is now 8\n",
      "i is now 9\n"
     ]
    }
   ],
   "source": [
    "def a_more_complicated_function():\n",
    "    for i in range(10):\n",
    "        print(f\"i is now {i}\")\n",
    "a_more_complicated_function()"
   ]
  },
  {
   "cell_type": "code",
   "execution_count": 18,
   "id": "284cb546",
   "metadata": {},
   "outputs": [
    {
     "data": {
      "text/plain": [
       "<function __main__.document_function()>"
      ]
     },
     "execution_count": 18,
     "metadata": {},
     "output_type": "execute_result"
    }
   ],
   "source": [
    "def document_function():\n",
    "    \"\"\"This is a document function and well documented\"\"\"\n",
    "    print(\"Hello\")\n",
    "document_function"
   ]
  },
  {
   "cell_type": "code",
   "execution_count": 22,
   "id": "9d1fde8f",
   "metadata": {},
   "outputs": [
    {
     "name": "stdout",
     "output_type": "stream",
     "text": [
      "Hello\n"
     ]
    }
   ],
   "source": [
    "def document_function():\n",
    "    \"\"\"This is a document function and well documented\"\"\"\n",
    "    print(\"Hello\")\n",
    "document_function()"
   ]
  },
  {
   "cell_type": "code",
   "execution_count": 23,
   "id": "94c327cb",
   "metadata": {},
   "outputs": [
    {
     "data": {
      "text/plain": [
       "'This is a document function and well documented'"
      ]
     },
     "execution_count": 23,
     "metadata": {},
     "output_type": "execute_result"
    }
   ],
   "source": [
    "def document_function():\n",
    "    \"\"\"This is a document function and well documented\"\"\"\n",
    "    print(\"Hello\")\n",
    "document_function.__doc__"
   ]
  },
  {
   "cell_type": "code",
   "execution_count": 24,
   "id": "25edf7a2",
   "metadata": {},
   "outputs": [],
   "source": [
    "another_function = document_function"
   ]
  },
  {
   "cell_type": "code",
   "execution_count": 32,
   "id": "894648b9",
   "metadata": {},
   "outputs": [
    {
     "name": "stdout",
     "output_type": "stream",
     "text": [
      "Hello\n"
     ]
    },
    {
     "data": {
      "text/plain": [
       "'This is a document function and well documented'"
      ]
     },
     "execution_count": 32,
     "metadata": {},
     "output_type": "execute_result"
    }
   ],
   "source": [
    "another_function\n",
    "another_function()\n",
    "another_function.__doc__"
   ]
  },
  {
   "cell_type": "code",
   "execution_count": 2,
   "id": "5a863ccb",
   "metadata": {},
   "outputs": [],
   "source": [
    "name = \"Akshay\"\n",
    "city = \"CKM\""
   ]
  },
  {
   "cell_type": "code",
   "execution_count": 3,
   "id": "6f9d3381",
   "metadata": {},
   "outputs": [
    {
     "name": "stdout",
     "output_type": "stream",
     "text": [
      "I am  Akshay\n",
      "I live in CKM\n"
     ]
    }
   ],
   "source": [
    "def introduction():\n",
    "    print(\"I am \", name)\n",
    "    print(\"I live in\", city)\n",
    "introduction()"
   ]
  },
  {
   "cell_type": "code",
   "execution_count": 37,
   "id": "5a11ce56",
   "metadata": {},
   "outputs": [],
   "source": [
    "name = \"ABC\"\n",
    "city = 'BNG'"
   ]
  },
  {
   "cell_type": "code",
   "execution_count": 38,
   "id": "90decf1f",
   "metadata": {},
   "outputs": [
    {
     "name": "stdout",
     "output_type": "stream",
     "text": [
      "I am  ABC\n",
      "I live in BNG\n"
     ]
    }
   ],
   "source": [
    "introduction()"
   ]
  },
  {
   "cell_type": "code",
   "execution_count": 44,
   "id": "0af9c4d6",
   "metadata": {},
   "outputs": [],
   "source": [
    "def function_with_error():\n",
    "    result = \"a\" + 2\n",
    "    print(result)\n"
   ]
  },
  {
   "cell_type": "code",
   "execution_count": 45,
   "id": "a641ba29",
   "metadata": {},
   "outputs": [
    {
     "ename": "TypeError",
     "evalue": "can only concatenate str (not \"int\") to str",
     "output_type": "error",
     "traceback": [
      "\u001b[1;31m---------------------------------------------------------------------------\u001b[0m",
      "\u001b[1;31mTypeError\u001b[0m                                 Traceback (most recent call last)",
      "Input \u001b[1;32mIn [45]\u001b[0m, in \u001b[0;36m<cell line: 1>\u001b[1;34m()\u001b[0m\n\u001b[1;32m----> 1\u001b[0m \u001b[43mfunction_with_error\u001b[49m\u001b[43m(\u001b[49m\u001b[43m)\u001b[49m\n",
      "Input \u001b[1;32mIn [44]\u001b[0m, in \u001b[0;36mfunction_with_error\u001b[1;34m()\u001b[0m\n\u001b[0;32m      1\u001b[0m \u001b[38;5;28;01mdef\u001b[39;00m \u001b[38;5;21mfunction_with_error\u001b[39m():\n\u001b[1;32m----> 2\u001b[0m     result \u001b[38;5;241m=\u001b[39m \u001b[38;5;124;43m\"\u001b[39;49m\u001b[38;5;124;43ma\u001b[39;49m\u001b[38;5;124;43m\"\u001b[39;49m\u001b[43m \u001b[49m\u001b[38;5;241;43m+\u001b[39;49m\u001b[43m \u001b[49m\u001b[38;5;241;43m2\u001b[39;49m\n\u001b[0;32m      3\u001b[0m     \u001b[38;5;28mprint\u001b[39m(result)\n",
      "\u001b[1;31mTypeError\u001b[0m: can only concatenate str (not \"int\") to str"
     ]
    }
   ],
   "source": [
    "function_with_error()"
   ]
  },
  {
   "cell_type": "code",
   "execution_count": null,
   "id": "02ac252b",
   "metadata": {},
   "outputs": [],
   "source": []
  },
  {
   "cell_type": "code",
   "execution_count": null,
   "id": "e108c4cb",
   "metadata": {},
   "outputs": [],
   "source": []
  }
 ],
 "metadata": {
  "kernelspec": {
   "display_name": "Python 3 (ipykernel)",
   "language": "python",
   "name": "python3"
  },
  "language_info": {
   "codemirror_mode": {
    "name": "ipython",
    "version": 3
   },
   "file_extension": ".py",
   "mimetype": "text/x-python",
   "name": "python",
   "nbconvert_exporter": "python",
   "pygments_lexer": "ipython3",
   "version": "3.11.3"
  }
 },
 "nbformat": 4,
 "nbformat_minor": 5
}
