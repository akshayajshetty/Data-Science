{
 "cells": [
  {
   "cell_type": "code",
   "execution_count": 1,
   "id": "20ed56de",
   "metadata": {},
   "outputs": [],
   "source": [
    "import json"
   ]
  },
  {
   "cell_type": "code",
   "execution_count": 2,
   "id": "a453ad07",
   "metadata": {},
   "outputs": [],
   "source": [
    "car = \"\"\"{\"model\" : \"civik\",\n",
    "        \"make\" : \"Honda\",\n",
    "        \"variants\" : [\"sedan\",\"coupe\"]}\"\"\""
   ]
  },
  {
   "cell_type": "code",
   "execution_count": 3,
   "id": "6e3f9b7b",
   "metadata": {},
   "outputs": [
    {
     "data": {
      "text/plain": [
       "'{\"model\" : \"civik\",\\n        \"make\" : \"Honda\",\\n        \"variants\" : [\"sedan\",\"coupe\"]}'"
      ]
     },
     "execution_count": 3,
     "metadata": {},
     "output_type": "execute_result"
    }
   ],
   "source": [
    "car"
   ]
  },
  {
   "cell_type": "code",
   "execution_count": 7,
   "id": "d7efe2aa",
   "metadata": {},
   "outputs": [
    {
     "data": {
      "text/plain": [
       "{'model': 'civik', 'make': 'Honda', 'variants': ['sedan', 'coupe']}"
      ]
     },
     "execution_count": 7,
     "metadata": {},
     "output_type": "execute_result"
    }
   ],
   "source": [
    "car_dict = json.loads(car)\n",
    "car_dict"
   ]
  },
  {
   "cell_type": "code",
   "execution_count": 8,
   "id": "6e2fa934",
   "metadata": {},
   "outputs": [
    {
     "data": {
      "text/plain": [
       "str"
      ]
     },
     "execution_count": 8,
     "metadata": {},
     "output_type": "execute_result"
    }
   ],
   "source": [
    "type(car)"
   ]
  },
  {
   "cell_type": "code",
   "execution_count": 9,
   "id": "f2ada9b2",
   "metadata": {},
   "outputs": [
    {
     "data": {
      "text/plain": [
       "dict"
      ]
     },
     "execution_count": 9,
     "metadata": {},
     "output_type": "execute_result"
    }
   ],
   "source": [
    "type(car_dict)"
   ]
  },
  {
   "cell_type": "code",
   "execution_count": 10,
   "id": "13df670a",
   "metadata": {},
   "outputs": [
    {
     "data": {
      "text/plain": [
       "{'model': 'civik', 'make': 'Honda', 'variants': ['sedan', 'coupe']}"
      ]
     },
     "execution_count": 10,
     "metadata": {},
     "output_type": "execute_result"
    }
   ],
   "source": [
    "car_dict"
   ]
  },
  {
   "cell_type": "code",
   "execution_count": 10,
   "id": "c4b9d934",
   "metadata": {},
   "outputs": [
    {
     "name": "stdout",
     "output_type": "stream",
     "text": [
      "{'Country': 'US', 'currency': 'Dollar'}\n"
     ]
    }
   ],
   "source": [
    "with open('data_file/currency.json') as json_file:\n",
    "    data = json.load(json_file)\n",
    "    print(data)"
   ]
  },
  {
   "cell_type": "code",
   "execution_count": 11,
   "id": "1fdf2281",
   "metadata": {},
   "outputs": [],
   "source": [
    "currency = {\"Country\": \"US\", \"currency\" : \"Dollar\"}"
   ]
  },
  {
   "cell_type": "code",
   "execution_count": 12,
   "id": "7da914b8",
   "metadata": {},
   "outputs": [],
   "source": [
    "json_var = json.dumps(currency)"
   ]
  },
  {
   "cell_type": "code",
   "execution_count": 13,
   "id": "9e456857",
   "metadata": {},
   "outputs": [
    {
     "data": {
      "text/plain": [
       "'{\"Country\": \"US\", \"currency\": \"Dollar\"}'"
      ]
     },
     "execution_count": 13,
     "metadata": {},
     "output_type": "execute_result"
    }
   ],
   "source": [
    "json_var"
   ]
  },
  {
   "cell_type": "code",
   "execution_count": 14,
   "id": "dac73e34",
   "metadata": {},
   "outputs": [
    {
     "data": {
      "text/plain": [
       "str"
      ]
     },
     "execution_count": 14,
     "metadata": {},
     "output_type": "execute_result"
    }
   ],
   "source": [
    "type(json_var)"
   ]
  },
  {
   "cell_type": "code",
   "execution_count": 15,
   "id": "e138eabe",
   "metadata": {},
   "outputs": [],
   "source": [
    "with open(\"data_file/currency.json\",'w') as json_file:\n",
    "    json_file.write(json_var)"
   ]
  },
  {
   "cell_type": "code",
   "execution_count": 28,
   "id": "5d1d36de",
   "metadata": {},
   "outputs": [
    {
     "name": "stdout",
     "output_type": "stream",
     "text": [
      "{'Country': 'US', 'currency': 'Dollar'}\n"
     ]
    }
   ],
   "source": [
    "write_data = json.load(open(\"data_file/currency.json\"))\n",
    "print(write_data)"
   ]
  },
  {
   "cell_type": "code",
   "execution_count": 31,
   "id": "1233900e",
   "metadata": {},
   "outputs": [],
   "source": [
    "dessert = {\"name\" : \"ice cream\",\n",
    "          \"flvour\" : ['mango', 'venilla'],\n",
    "          \"topping\" : True}"
   ]
  },
  {
   "cell_type": "code",
   "execution_count": 32,
   "id": "bc8ba1fb",
   "metadata": {},
   "outputs": [
    {
     "name": "stdout",
     "output_type": "stream",
     "text": [
      "{\"name\": \"ice cream\", \"flvour\": [\"mango\", \"venilla\"], \"topping\": true}\n"
     ]
    }
   ],
   "source": [
    "json_dessert = json.dumps(dessert)\n",
    "print(json_dessert)"
   ]
  },
  {
   "cell_type": "code",
   "execution_count": 33,
   "id": "0b1e4aff",
   "metadata": {},
   "outputs": [
    {
     "data": {
      "text/plain": [
       "str"
      ]
     },
     "execution_count": 33,
     "metadata": {},
     "output_type": "execute_result"
    }
   ],
   "source": [
    "type(json_dessert)"
   ]
  },
  {
   "cell_type": "code",
   "execution_count": 35,
   "id": "5e40cf01",
   "metadata": {},
   "outputs": [],
   "source": [
    "with open(\"data_file/eat.txt\",'w') as json_file:\n",
    "    json.dump(dessert,json_file)"
   ]
  },
  {
   "cell_type": "code",
   "execution_count": 37,
   "id": "cce913d1",
   "metadata": {},
   "outputs": [
    {
     "data": {
      "text/plain": [
       "{'name': 'ice cream', 'flvour': ['mango', 'venilla'], 'topping': True}"
      ]
     },
     "execution_count": 37,
     "metadata": {},
     "output_type": "execute_result"
    }
   ],
   "source": [
    "dessert"
   ]
  },
  {
   "cell_type": "code",
   "execution_count": 43,
   "id": "b4dceed2",
   "metadata": {},
   "outputs": [
    {
     "data": {
      "text/plain": [
       "'{\\n  \"name\": \"ice cream\",\\n  \"flvour\": [\\n    \"mango\",\\n    \"venilla\"\\n  ],\\n  \"topping\": true\\n}'"
      ]
     },
     "execution_count": 43,
     "metadata": {},
     "output_type": "execute_result"
    }
   ],
   "source": [
    "json.dumps(dessert,indent=2)"
   ]
  },
  {
   "cell_type": "code",
   "execution_count": 47,
   "id": "1b1bc9cc",
   "metadata": {},
   "outputs": [
    {
     "data": {
      "text/plain": [
       "'{\"name\"=\"ice cream\":\"flvour\"=[\"mango\":\"venilla\"]:\"topping\"=true}'"
      ]
     },
     "execution_count": 47,
     "metadata": {},
     "output_type": "execute_result"
    }
   ],
   "source": [
    "json.dumps(dessert, separators=(\":\",\"=\"))"
   ]
  },
  {
   "cell_type": "code",
   "execution_count": 49,
   "id": "5ea84889",
   "metadata": {},
   "outputs": [
    {
     "data": {
      "text/plain": [
       "'{\"flvour\": [\"mango\", \"venilla\"], \"name\": \"ice cream\", \"topping\": true}'"
      ]
     },
     "execution_count": 49,
     "metadata": {},
     "output_type": "execute_result"
    }
   ],
   "source": [
    "json.dumps(dessert,sort_keys=True)"
   ]
  },
  {
   "cell_type": "code",
   "execution_count": null,
   "id": "b4ee3699",
   "metadata": {},
   "outputs": [],
   "source": []
  }
 ],
 "metadata": {
  "kernelspec": {
   "display_name": "Python 3 (ipykernel)",
   "language": "python",
   "name": "python3"
  },
  "language_info": {
   "codemirror_mode": {
    "name": "ipython",
    "version": 3
   },
   "file_extension": ".py",
   "mimetype": "text/x-python",
   "name": "python",
   "nbconvert_exporter": "python",
   "pygments_lexer": "ipython3",
   "version": "3.11.3"
  }
 },
 "nbformat": 4,
 "nbformat_minor": 5
}
