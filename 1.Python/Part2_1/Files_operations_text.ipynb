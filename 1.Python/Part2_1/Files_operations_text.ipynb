{
 "cells": [
  {
   "cell_type": "code",
   "execution_count": 29,
   "id": "70009af3",
   "metadata": {},
   "outputs": [
    {
     "data": {
      "text/plain": [
       "<_io.TextIOWrapper name='data_file/sample.txt' mode='r' encoding='cp1252'>"
      ]
     },
     "execution_count": 29,
     "metadata": {},
     "output_type": "execute_result"
    }
   ],
   "source": [
    "open(\"data_file/sample.txt\")"
   ]
  },
  {
   "cell_type": "code",
   "execution_count": 30,
   "id": "6497ff8b",
   "metadata": {},
   "outputs": [],
   "source": [
    "file = open(\"data_file/sample.txt\")"
   ]
  },
  {
   "cell_type": "code",
   "execution_count": 31,
   "id": "1f76cd7b",
   "metadata": {},
   "outputs": [
    {
     "data": {
      "text/plain": [
       "<_io.TextIOWrapper name='data_file/sample.txt' mode='r' encoding='cp1252'>"
      ]
     },
     "execution_count": 31,
     "metadata": {},
     "output_type": "execute_result"
    }
   ],
   "source": [
    "file"
   ]
  },
  {
   "cell_type": "code",
   "execution_count": 32,
   "id": "12c46e30",
   "metadata": {},
   "outputs": [
    {
     "data": {
      "text/plain": [
       "'r'"
      ]
     },
     "execution_count": 32,
     "metadata": {},
     "output_type": "execute_result"
    }
   ],
   "source": [
    "file.mode"
   ]
  },
  {
   "cell_type": "code",
   "execution_count": 33,
   "id": "0668db26",
   "metadata": {},
   "outputs": [
    {
     "data": {
      "text/plain": [
       "'data_file/sample.txt'"
      ]
     },
     "execution_count": 33,
     "metadata": {},
     "output_type": "execute_result"
    }
   ],
   "source": [
    "file.name"
   ]
  },
  {
   "cell_type": "code",
   "execution_count": 35,
   "id": "a2f401df",
   "metadata": {},
   "outputs": [
    {
     "data": {
      "text/plain": [
       "False"
      ]
     },
     "execution_count": 35,
     "metadata": {},
     "output_type": "execute_result"
    }
   ],
   "source": [
    "file.closed"
   ]
  },
  {
   "cell_type": "code",
   "execution_count": 36,
   "id": "ab505818",
   "metadata": {},
   "outputs": [],
   "source": [
    "file.close()"
   ]
  },
  {
   "cell_type": "code",
   "execution_count": 37,
   "id": "ddf62ebb",
   "metadata": {},
   "outputs": [
    {
     "data": {
      "text/plain": [
       "True"
      ]
     },
     "execution_count": 37,
     "metadata": {},
     "output_type": "execute_result"
    }
   ],
   "source": [
    "file.closed"
   ]
  },
  {
   "cell_type": "code",
   "execution_count": 38,
   "id": "cfb4dd79",
   "metadata": {},
   "outputs": [],
   "source": [
    "file = open(\"data_file/sample.txt\")"
   ]
  },
  {
   "cell_type": "code",
   "execution_count": 39,
   "id": "d7f2c6b7",
   "metadata": {},
   "outputs": [
    {
     "data": {
      "text/plain": [
       "'Hi\\nWelcome to Emids Academy'"
      ]
     },
     "execution_count": 39,
     "metadata": {},
     "output_type": "execute_result"
    }
   ],
   "source": [
    "file.read()"
   ]
  },
  {
   "cell_type": "code",
   "execution_count": 43,
   "id": "a101df5a",
   "metadata": {},
   "outputs": [
    {
     "data": {
      "text/plain": [
       "0"
      ]
     },
     "execution_count": 43,
     "metadata": {},
     "output_type": "execute_result"
    }
   ],
   "source": [
    "file.seek(0)"
   ]
  },
  {
   "cell_type": "code",
   "execution_count": 44,
   "id": "09a72149",
   "metadata": {},
   "outputs": [
    {
     "data": {
      "text/plain": [
       "'Hi\\nWe'"
      ]
     },
     "execution_count": 44,
     "metadata": {},
     "output_type": "execute_result"
    }
   ],
   "source": [
    "file.read(5)"
   ]
  },
  {
   "cell_type": "code",
   "execution_count": 45,
   "id": "9ff7aed1",
   "metadata": {},
   "outputs": [
    {
     "data": {
      "text/plain": [
       "5"
      ]
     },
     "execution_count": 45,
     "metadata": {},
     "output_type": "execute_result"
    }
   ],
   "source": [
    "file.tell()"
   ]
  },
  {
   "cell_type": "code",
   "execution_count": 46,
   "id": "c6930164",
   "metadata": {},
   "outputs": [
    {
     "data": {
      "text/plain": [
       "'lcome'"
      ]
     },
     "execution_count": 46,
     "metadata": {},
     "output_type": "execute_result"
    }
   ],
   "source": [
    "file.read(5)"
   ]
  },
  {
   "cell_type": "code",
   "execution_count": 47,
   "id": "6a161b9f",
   "metadata": {},
   "outputs": [
    {
     "data": {
      "text/plain": [
       "10"
      ]
     },
     "execution_count": 47,
     "metadata": {},
     "output_type": "execute_result"
    }
   ],
   "source": [
    "file.tell()"
   ]
  },
  {
   "cell_type": "code",
   "execution_count": 48,
   "id": "0dc281a9",
   "metadata": {},
   "outputs": [
    {
     "data": {
      "text/plain": [
       "'Hi\\nWe'"
      ]
     },
     "execution_count": 48,
     "metadata": {},
     "output_type": "execute_result"
    }
   ],
   "source": [
    "file.seek(0)\n",
    "file.read(5)"
   ]
  },
  {
   "cell_type": "code",
   "execution_count": 49,
   "id": "f7be0fe5",
   "metadata": {},
   "outputs": [
    {
     "data": {
      "text/plain": [
       "'lcome to Emids Academy'"
      ]
     },
     "execution_count": 49,
     "metadata": {},
     "output_type": "execute_result"
    }
   ],
   "source": [
    "file.readline()"
   ]
  },
  {
   "cell_type": "code",
   "execution_count": 51,
   "id": "3c54ba58",
   "metadata": {},
   "outputs": [
    {
     "data": {
      "text/plain": [
       "'s Academy\\n'"
      ]
     },
     "execution_count": 51,
     "metadata": {},
     "output_type": "execute_result"
    }
   ],
   "source": [
    "file.readline()"
   ]
  },
  {
   "cell_type": "code",
   "execution_count": 52,
   "id": "0f7e13d7",
   "metadata": {},
   "outputs": [
    {
     "data": {
      "text/plain": [
       "'learn python'"
      ]
     },
     "execution_count": 52,
     "metadata": {},
     "output_type": "execute_result"
    }
   ],
   "source": [
    "file.readline()"
   ]
  },
  {
   "cell_type": "code",
   "execution_count": 53,
   "id": "0f480a39",
   "metadata": {},
   "outputs": [
    {
     "data": {
      "text/plain": [
       "''"
      ]
     },
     "execution_count": 53,
     "metadata": {},
     "output_type": "execute_result"
    }
   ],
   "source": [
    "file.readline()"
   ]
  },
  {
   "cell_type": "code",
   "execution_count": 54,
   "id": "f50918e5",
   "metadata": {},
   "outputs": [
    {
     "data": {
      "text/plain": [
       "0"
      ]
     },
     "execution_count": 54,
     "metadata": {},
     "output_type": "execute_result"
    }
   ],
   "source": [
    "file.seek(0)"
   ]
  },
  {
   "cell_type": "code",
   "execution_count": 55,
   "id": "2b944078",
   "metadata": {},
   "outputs": [
    {
     "data": {
      "text/plain": [
       "['Hi everyone\\n', 'Welcome to Emids Academy\\n', 'learn python']"
      ]
     },
     "execution_count": 55,
     "metadata": {},
     "output_type": "execute_result"
    }
   ],
   "source": [
    "file.readlines()"
   ]
  },
  {
   "cell_type": "code",
   "execution_count": 57,
   "id": "9d19e3ea",
   "metadata": {},
   "outputs": [
    {
     "data": {
      "text/plain": [
       "False"
      ]
     },
     "execution_count": 57,
     "metadata": {},
     "output_type": "execute_result"
    }
   ],
   "source": [
    "file.closed"
   ]
  },
  {
   "cell_type": "code",
   "execution_count": 58,
   "id": "51606524",
   "metadata": {},
   "outputs": [],
   "source": [
    "file.close()"
   ]
  },
  {
   "cell_type": "code",
   "execution_count": 59,
   "id": "df60f65f",
   "metadata": {},
   "outputs": [
    {
     "name": "stdout",
     "output_type": "stream",
     "text": [
      "['Hi everyone\\n', 'Welcome to Emids Academy\\n', 'learn python']\n"
     ]
    }
   ],
   "source": [
    "with open(\"data_file/sample.txt\") as f :\n",
    "    data = f.readlines()\n",
    "print(data)"
   ]
  },
  {
   "cell_type": "code",
   "execution_count": 60,
   "id": "40431009",
   "metadata": {},
   "outputs": [
    {
     "data": {
      "text/plain": [
       "True"
      ]
     },
     "execution_count": 60,
     "metadata": {},
     "output_type": "execute_result"
    }
   ],
   "source": [
    "f.closed"
   ]
  },
  {
   "cell_type": "code",
   "execution_count": 63,
   "id": "d955472f",
   "metadata": {},
   "outputs": [
    {
     "name": "stdout",
     "output_type": "stream",
     "text": [
      "['Hi everyone\\n', 'Welcome to Emids Academy\\n', 'learn python']\n"
     ]
    }
   ],
   "source": [
    "with open(\"data_file/sample.txt\") as f :\n",
    "    line = f.readlines()\n",
    "    \n",
    "    while line :\n",
    "        print(line)\n",
    "        line = f.readlines()"
   ]
  },
  {
   "cell_type": "code",
   "execution_count": 64,
   "id": "a1263588",
   "metadata": {},
   "outputs": [],
   "source": [
    "file = open(\"data_file/example.txt\",'w')\n",
    "\n",
    "file.close()"
   ]
  },
  {
   "cell_type": "code",
   "execution_count": 73,
   "id": "04d7a715",
   "metadata": {},
   "outputs": [],
   "source": [
    "file = open(\"data_file/example.txt\",'w')\n",
    "\n",
    "file.write(\"Let's check the write operations\")\n",
    "\n",
    "file.close()"
   ]
  },
  {
   "cell_type": "code",
   "execution_count": 75,
   "id": "5802e9c4",
   "metadata": {},
   "outputs": [],
   "source": [
    "file = open(\"data_file/example.txt\",'w')\n",
    "\n",
    "file.write(\"Let's check the write operations\")\n",
    "\n",
    "file.seek(6)\n",
    "\n",
    "file.write(\" examine \")\n",
    "\n",
    "file.close()"
   ]
  },
  {
   "cell_type": "code",
   "execution_count": 76,
   "id": "bb63f0de",
   "metadata": {},
   "outputs": [],
   "source": [
    "file = open(\"data_file/example.txt\")"
   ]
  },
  {
   "cell_type": "code",
   "execution_count": 78,
   "id": "af3112a0",
   "metadata": {},
   "outputs": [
    {
     "name": "stdout",
     "output_type": "stream",
     "text": [
      "Let's  examine  write operations\n"
     ]
    }
   ],
   "source": [
    "for line in file :\n",
    "    print(line)"
   ]
  },
  {
   "cell_type": "code",
   "execution_count": 79,
   "id": "bca4dbad",
   "metadata": {},
   "outputs": [],
   "source": [
    "file.close()"
   ]
  },
  {
   "cell_type": "code",
   "execution_count": 80,
   "id": "54cdc18a",
   "metadata": {},
   "outputs": [],
   "source": [
    "with open(\"data_file/example.txt\",'w') as f :\n",
    "    f.write(\"First line\\n\")\n",
    "    f.write(\"Second line\\n\")\n",
    "    f.write(\"Third line\\n\")"
   ]
  },
  {
   "cell_type": "code",
   "execution_count": 81,
   "id": "732b9164",
   "metadata": {},
   "outputs": [],
   "source": [
    "file = open(\"data_file/example.txt\",'a')"
   ]
  },
  {
   "cell_type": "code",
   "execution_count": 82,
   "id": "3579e7e6",
   "metadata": {},
   "outputs": [
    {
     "data": {
      "text/plain": [
       "37"
      ]
     },
     "execution_count": 82,
     "metadata": {},
     "output_type": "execute_result"
    }
   ],
   "source": [
    "file.tell()"
   ]
  },
  {
   "cell_type": "code",
   "execution_count": 83,
   "id": "226ee816",
   "metadata": {},
   "outputs": [],
   "source": [
    "file.writelines([\"Fourth line\\n\",\n",
    "                \"Fifth line\\n\",\n",
    "                \"Sixth line\\n\"])"
   ]
  },
  {
   "cell_type": "code",
   "execution_count": 84,
   "id": "bd14e100",
   "metadata": {},
   "outputs": [],
   "source": [
    "file.close()"
   ]
  },
  {
   "cell_type": "code",
   "execution_count": 86,
   "id": "d1d12bc3",
   "metadata": {},
   "outputs": [
    {
     "data": {
      "text/plain": [
       "['First line\\n',\n",
       " 'Second line\\n',\n",
       " 'Third line\\n',\n",
       " 'Fourth line\\n',\n",
       " 'Fifth line\\n',\n",
       " 'Sixth line\\n']"
      ]
     },
     "execution_count": 86,
     "metadata": {},
     "output_type": "execute_result"
    }
   ],
   "source": [
    "file = open(\"data_file/example.txt\",'r')\n",
    "\n",
    "file.readlines()\n"
   ]
  },
  {
   "cell_type": "code",
   "execution_count": 87,
   "id": "419767aa",
   "metadata": {},
   "outputs": [
    {
     "data": {
      "text/plain": [
       "6"
      ]
     },
     "execution_count": 87,
     "metadata": {},
     "output_type": "execute_result"
    }
   ],
   "source": [
    "file.fileno()"
   ]
  },
  {
   "cell_type": "code",
   "execution_count": 89,
   "id": "71df718c",
   "metadata": {},
   "outputs": [
    {
     "data": {
      "text/plain": [
       "False"
      ]
     },
     "execution_count": 89,
     "metadata": {},
     "output_type": "execute_result"
    }
   ],
   "source": [
    "file.isatty()"
   ]
  },
  {
   "cell_type": "code",
   "execution_count": 91,
   "id": "001c2336",
   "metadata": {},
   "outputs": [
    {
     "data": {
      "text/plain": [
       "True"
      ]
     },
     "execution_count": 91,
     "metadata": {},
     "output_type": "execute_result"
    }
   ],
   "source": [
    "file.readable()"
   ]
  },
  {
   "cell_type": "code",
   "execution_count": 93,
   "id": "9a5f4c9a",
   "metadata": {},
   "outputs": [
    {
     "data": {
      "text/plain": [
       "False"
      ]
     },
     "execution_count": 93,
     "metadata": {},
     "output_type": "execute_result"
    }
   ],
   "source": [
    "file.writable()"
   ]
  },
  {
   "cell_type": "code",
   "execution_count": 94,
   "id": "dfb90d07",
   "metadata": {},
   "outputs": [],
   "source": [
    "f.close()"
   ]
  },
  {
   "cell_type": "code",
   "execution_count": 95,
   "id": "061026aa",
   "metadata": {},
   "outputs": [],
   "source": [
    "file = open(\"data_file/example.txt\",'a')"
   ]
  },
  {
   "cell_type": "code",
   "execution_count": 96,
   "id": "7880ff4a",
   "metadata": {},
   "outputs": [
    {
     "data": {
      "text/plain": [
       "74"
      ]
     },
     "execution_count": 96,
     "metadata": {},
     "output_type": "execute_result"
    }
   ],
   "source": [
    "file.tell()"
   ]
  },
  {
   "cell_type": "code",
   "execution_count": 98,
   "id": "eb2dcc02",
   "metadata": {},
   "outputs": [
    {
     "data": {
      "text/plain": [
       "74"
      ]
     },
     "execution_count": 98,
     "metadata": {},
     "output_type": "execute_result"
    }
   ],
   "source": [
    "import os\n",
    "\n",
    "os.stat(\"data_file/example.txt\").st_size"
   ]
  },
  {
   "cell_type": "code",
   "execution_count": 99,
   "id": "5cf4eb3f",
   "metadata": {},
   "outputs": [
    {
     "data": {
      "text/plain": [
       "70"
      ]
     },
     "execution_count": 99,
     "metadata": {},
     "output_type": "execute_result"
    }
   ],
   "source": [
    "file.truncate(70)"
   ]
  },
  {
   "cell_type": "code",
   "execution_count": 100,
   "id": "2e844b4e",
   "metadata": {},
   "outputs": [],
   "source": [
    "file.close()"
   ]
  },
  {
   "cell_type": "code",
   "execution_count": 101,
   "id": "0a59973c",
   "metadata": {},
   "outputs": [
    {
     "data": {
      "text/plain": [
       "'First line\\nSecond line\\nThird line\\nFourth line\\nFifth line\\nSixth li'"
      ]
     },
     "execution_count": 101,
     "metadata": {},
     "output_type": "execute_result"
    }
   ],
   "source": [
    "file = open(\"data_file/example.txt\",'r')\n",
    "\n",
    "file.read()"
   ]
  },
  {
   "cell_type": "code",
   "execution_count": 103,
   "id": "e269c6b8",
   "metadata": {},
   "outputs": [
    {
     "data": {
      "text/plain": [
       "False"
      ]
     },
     "execution_count": 103,
     "metadata": {},
     "output_type": "execute_result"
    }
   ],
   "source": [
    "file.closed"
   ]
  },
  {
   "cell_type": "code",
   "execution_count": 104,
   "id": "97c5a5b1",
   "metadata": {},
   "outputs": [],
   "source": [
    "file.close()"
   ]
  },
  {
   "cell_type": "code",
   "execution_count": 109,
   "id": "ec4713ba",
   "metadata": {},
   "outputs": [],
   "source": [
    "f = open(\"data_file/example.txt\",'r+')\n",
    "f.writelines('We are doing \"r+\" operation. It can do both read and write operations\\n')\n",
    "f.close()                                                       #Cursor in begining of the line\n",
    "             "
   ]
  },
  {
   "cell_type": "code",
   "execution_count": 110,
   "id": "1f15db89",
   "metadata": {},
   "outputs": [],
   "source": [
    "f = open(\"data_file/example.txt\",'a+')\n",
    "f.writelines('what does \"a+\" operation do\\n')\n",
    "f.close()                                                      #Cursor in end of the line"
   ]
  },
  {
   "cell_type": "code",
   "execution_count": 112,
   "id": "dd5f61a7",
   "metadata": {},
   "outputs": [],
   "source": [
    "import os\n",
    "\n",
    "os.rename(\"data_file/example.txt\",\"data_file/change_example.txt\")    #rename the file"
   ]
  },
  {
   "cell_type": "code",
   "execution_count": 114,
   "id": "4875fde1",
   "metadata": {},
   "outputs": [],
   "source": [
    "import os\n",
    "\n",
    "os.remove(\"data_file/change_example.txt\")              #delete the file"
   ]
  },
  {
   "cell_type": "code",
   "execution_count": null,
   "id": "880cf3d4",
   "metadata": {},
   "outputs": [],
   "source": []
  }
 ],
 "metadata": {
  "kernelspec": {
   "display_name": "Python 3 (ipykernel)",
   "language": "python",
   "name": "python3"
  },
  "language_info": {
   "codemirror_mode": {
    "name": "ipython",
    "version": 3
   },
   "file_extension": ".py",
   "mimetype": "text/x-python",
   "name": "python",
   "nbconvert_exporter": "python",
   "pygments_lexer": "ipython3",
   "version": "3.11.3"
  }
 },
 "nbformat": 4,
 "nbformat_minor": 5
}
