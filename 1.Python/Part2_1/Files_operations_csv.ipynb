{
 "cells": [
  {
   "cell_type": "code",
   "execution_count": 3,
   "id": "54d04c87",
   "metadata": {},
   "outputs": [],
   "source": [
    "import csv"
   ]
  },
  {
   "cell_type": "code",
   "execution_count": 3,
   "id": "3485c86a",
   "metadata": {},
   "outputs": [
    {
     "name": "stdout",
     "output_type": "stream",
     "text": [
      "['region', 'country', 'capital']\n",
      "['Asia', 'India', 'Delhi']\n",
      "['NA', 'America', 'Washington DC']\n",
      "['SA', 'Argentina', 'Santiago']\n",
      "['Europe', 'France', 'Paris']\n"
     ]
    }
   ],
   "source": [
    "file = open(\"data_file/record.csv\")\n",
    "with file :\n",
    "    read = csv.reader(file)\n",
    "    for row in read:\n",
    "        print(row)"
   ]
  },
  {
   "cell_type": "code",
   "execution_count": 4,
   "id": "7a7c8ffb",
   "metadata": {},
   "outputs": [
    {
     "name": "stdout",
     "output_type": "stream",
     "text": [
      "['region|country|capital']\n",
      "['Asia|India|Delhi']\n",
      "['NA|America|Washington DC']\n",
      "['SA|Argentina|Santiago']\n",
      "['Europe|France|Paris']\n"
     ]
    }
   ],
   "source": [
    "file = open(\"data_file/record_pipe.csv\")\n",
    "with file :\n",
    "    read = csv.reader(file)\n",
    "    for row in read:\n",
    "        print(row)"
   ]
  },
  {
   "cell_type": "code",
   "execution_count": 7,
   "id": "54e2e9f1",
   "metadata": {},
   "outputs": [
    {
     "name": "stdout",
     "output_type": "stream",
     "text": [
      "['region', 'country', 'capital']\n",
      "['Asia', 'India', 'Delhi']\n",
      "['NA', 'America', 'Washington DC']\n",
      "['SA', 'Argentina', 'Santiago']\n",
      "['Europe', 'France', 'Paris']\n"
     ]
    }
   ],
   "source": [
    "file = open(\"data_file/record_pipe.csv\")\n",
    "with file :\n",
    "    read = csv.reader(file,delimiter=\"|\")\n",
    "    for row in read:\n",
    "        print(row)"
   ]
  },
  {
   "cell_type": "code",
   "execution_count": 14,
   "id": "e3f85ca9",
   "metadata": {},
   "outputs": [
    {
     "name": "stdout",
     "output_type": "stream",
     "text": [
      "['region       country       capital']\n",
      "['Asia       India       Delhi']\n",
      "['NA       America       Washington DC']\n",
      "['SA       Argentina       Santiago']\n",
      "['Europe       France       Paris']\n"
     ]
    }
   ],
   "source": [
    "file = open(\"data_file/record_tab.csv\")\n",
    "with file:\n",
    "    read = csv.reader(file)\n",
    "    for row in read:\n",
    "        print(row)"
   ]
  },
  {
   "cell_type": "code",
   "execution_count": 27,
   "id": "6bd8da3a",
   "metadata": {},
   "outputs": [
    {
     "name": "stdout",
     "output_type": "stream",
     "text": [
      "{'region': 'Asia', 'country': 'India', 'capital': 'Delhi'}\n",
      "{'region': 'NA', 'country': 'America', 'capital': 'Washington DC'}\n",
      "{'region': 'SA', 'country': 'Argentina', 'capital': 'Santiago'}\n",
      "{'region': 'Europe', 'country': 'France', 'capital': 'Paris'}\n"
     ]
    }
   ],
   "source": [
    "file = open(\"data_file/record.csv\",'r')\n",
    "with file:\n",
    "    read = csv.DictReader(file)\n",
    "    for row in read:\n",
    "        print(dict(row))"
   ]
  },
  {
   "cell_type": "code",
   "execution_count": 16,
   "id": "b7cf2abc",
   "metadata": {},
   "outputs": [
    {
     "name": "stdout",
     "output_type": "stream",
     "text": [
      "{'region': 'Asia', 'country': 'India', 'capital': 'Delhi'}\n",
      "{'region': 'NA', 'country': 'America', 'capital': 'Washington DC'}\n",
      "{'region': 'SA', 'country': 'Argentina', 'capital': 'Santiago'}\n",
      "{'region': 'Europe', 'country': 'France', 'capital': 'Paris'}\n"
     ]
    }
   ],
   "source": [
    "file = open(\"data_file/record.csv\",'r')\n",
    "with file:\n",
    "    read = csv.DictReader(file)\n",
    "    for row in read:\n",
    "        print(row)"
   ]
  },
  {
   "cell_type": "code",
   "execution_count": 1,
   "id": "3473d23a",
   "metadata": {},
   "outputs": [],
   "source": [
    "name = [['First_name','Last_name'],\n",
    "        ['akshay','Kumar'],\n",
    "        ['Bharath','r']]"
   ]
  },
  {
   "cell_type": "code",
   "execution_count": 4,
   "id": "5c72cd7b",
   "metadata": {},
   "outputs": [
    {
     "name": "stdout",
     "output_type": "stream",
     "text": [
      "['First_name', 'Last_name']\n",
      "['akshay', 'Kumar']\n",
      "['Bharath', 'r']\n"
     ]
    }
   ],
   "source": [
    "file = open(\"data_file/record_write.csv\",'w')\n",
    "with file:\n",
    "    file_write = csv.writer(file)\n",
    "    for row in name:\n",
    "        file_write.writerow(row)\n",
    "        print(row)"
   ]
  },
  {
   "cell_type": "code",
   "execution_count": 5,
   "id": "b1c28887",
   "metadata": {},
   "outputs": [],
   "source": [
    "nums = [[10,20,30],\n",
    "        [40,50,60],\n",
    "        [70,80,90]]\n",
    "\n",
    "file = open('data_file/nums.csv','w')\n",
    "with file:\n",
    "    write = csv.writer(file)\n",
    "    write.writerows(nums)"
   ]
  },
  {
   "cell_type": "code",
   "execution_count": null,
   "id": "5343dfbd",
   "metadata": {},
   "outputs": [],
   "source": []
  }
 ],
 "metadata": {
  "kernelspec": {
   "display_name": "Python 3 (ipykernel)",
   "language": "python",
   "name": "python3"
  },
  "language_info": {
   "codemirror_mode": {
    "name": "ipython",
    "version": 3
   },
   "file_extension": ".py",
   "mimetype": "text/x-python",
   "name": "python",
   "nbconvert_exporter": "python",
   "pygments_lexer": "ipython3",
   "version": "3.11.3"
  }
 },
 "nbformat": 4,
 "nbformat_minor": 5
}
