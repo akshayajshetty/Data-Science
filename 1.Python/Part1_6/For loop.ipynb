{
 "cells": [
  {
   "cell_type": "code",
   "execution_count": 2,
   "id": "a98e1304",
   "metadata": {},
   "outputs": [
    {
     "name": "stdout",
     "output_type": "stream",
     "text": [
      "h\n",
      "e\n",
      "l\n",
      "l\n",
      "o\n"
     ]
    }
   ],
   "source": [
    "for letter in [\"h\",\"e\",\"l\",\"l\",\"o\"]:\n",
    "    print(letter)\n",
    "                                               # itterate elements over list"
   ]
  },
  {
   "cell_type": "code",
   "execution_count": 3,
   "id": "73513c37",
   "metadata": {},
   "outputs": [
    {
     "name": "stdout",
     "output_type": "stream",
     "text": [
      "h\n",
      "e\n",
      "l\n",
      "l\n",
      "o\n"
     ]
    }
   ],
   "source": [
    "for letter in \"hello\":\n",
    "    print(letter)"
   ]
  },
  {
   "cell_type": "code",
   "execution_count": 6,
   "id": "e4f8eba9",
   "metadata": {},
   "outputs": [
    {
     "name": "stdout",
     "output_type": "stream",
     "text": [
      "h\n",
      "e\n",
      "l\n",
      "l\n",
      "o\n",
      " \n",
      "W\n",
      "o\n",
      "r\n",
      "l\n",
      "d\n"
     ]
    }
   ],
   "source": [
    "my_string = \"hello World\"\n",
    "for char in my_string :\n",
    "    print(char)"
   ]
  },
  {
   "cell_type": "code",
   "execution_count": 12,
   "id": "1c762cd1",
   "metadata": {},
   "outputs": [
    {
     "name": "stdout",
     "output_type": "stream",
     "text": [
      "1\n",
      "0\n"
     ]
    }
   ],
   "source": [
    "for digit in \"10\":\n",
    "    print(digit)"
   ]
  },
  {
   "cell_type": "code",
   "execution_count": 13,
   "id": "d8b61ffa",
   "metadata": {},
   "outputs": [
    {
     "name": "stdout",
     "output_type": "stream",
     "text": [
      "idia\n",
      "US\n",
      "UK\n"
     ]
    }
   ],
   "source": [
    "for char in \"idia\", \"US\",\"UK\":\n",
    "    print(char)                                   # itterate elements over tuple"
   ]
  },
  {
   "cell_type": "code",
   "execution_count": 19,
   "id": "92666588",
   "metadata": {},
   "outputs": [
    {
     "name": "stdout",
     "output_type": "stream",
     "text": [
      "It's a  pug\n",
      "It's a  doberman\n",
      "It's a  golder retriever\n"
     ]
    }
   ],
   "source": [
    "dogs = (\"pug\",\"doberman\",\"golder retriever\")\n",
    "\n",
    "for dog in dogs :\n",
    "    print(\"It's a \",dog)                 "
   ]
  },
  {
   "cell_type": "code",
   "execution_count": 22,
   "id": "9e151e7c",
   "metadata": {},
   "outputs": [
    {
     "name": "stdout",
     "output_type": "stream",
     "text": [
      "pug weight is 10\n",
      "doberman weight is 30\n",
      "golder retriever weight is 20\n"
     ]
    }
   ],
   "source": [
    "dog_weight = ((\"pug\",10),\n",
    "              (\"doberman\",30),\n",
    "              (\"golder retriever\",20))\n",
    "\n",
    "for (dog, weight) in dog_weight:\n",
    "    print(f\"{dog} weight is {weight}\")"
   ]
  },
  {
   "cell_type": "code",
   "execution_count": 24,
   "id": "c6da84d5",
   "metadata": {},
   "outputs": [
    {
     "name": "stdout",
     "output_type": "stream",
     "text": [
      "pug is present at index 0 and it's weight is 10\n",
      "doberman is present at index 1 and it's weight is 30\n",
      "golder retriever is present at index 2 and it's weight is 20\n"
     ]
    }
   ],
   "source": [
    "dog_weight = ((\"pug\",10),\n",
    "              (\"doberman\",30),\n",
    "              (\"golder retriever\",20))\n",
    "\n",
    "for i, (dog, weight) in enumerate(dog_weight):\n",
    "    print(f\"{dog} is present at index {i} and it's weight is {weight}\")        # enumerated function used for indexing purpose"
   ]
  },
  {
   "cell_type": "code",
   "execution_count": 28,
   "id": "5a1a5c2b",
   "metadata": {},
   "outputs": [
    {
     "name": "stdout",
     "output_type": "stream",
     "text": [
      "Honda\n",
      "BMW\n",
      "RR\n"
     ]
    }
   ],
   "source": [
    "car_dict = {\"Honda\" : 2000, \"BMW\" : 50000, \"RR\" : 700000}\n",
    "\n",
    "for car in car_dict :\n",
    "    print(car)                                                                # itterate elements over Dictionary"
   ]
  },
  {
   "cell_type": "code",
   "execution_count": 29,
   "id": "a448b3e9",
   "metadata": {},
   "outputs": [
    {
     "name": "stdout",
     "output_type": "stream",
     "text": [
      "Honda\n",
      "BMW\n",
      "RR\n"
     ]
    }
   ],
   "source": [
    "for car in car_dict.keys():\n",
    "    print(car)"
   ]
  },
  {
   "cell_type": "code",
   "execution_count": 30,
   "id": "80e4289d",
   "metadata": {},
   "outputs": [
    {
     "name": "stdout",
     "output_type": "stream",
     "text": [
      "2000\n",
      "50000\n",
      "700000\n"
     ]
    }
   ],
   "source": [
    "for price in car_dict.values():\n",
    "    print(price)"
   ]
  },
  {
   "cell_type": "code",
   "execution_count": 42,
   "id": "781f83b6",
   "metadata": {},
   "outputs": [
    {
     "name": "stdout",
     "output_type": "stream",
     "text": [
      "Honda : 2000\n",
      "BMW : 50000\n",
      "RR : 700000\n"
     ]
    }
   ],
   "source": [
    "for keys in car_dict :\n",
    "    print(keys , \":\" , car_dict[keys])               # Accessing both key and value"
   ]
  },
  {
   "cell_type": "code",
   "execution_count": 44,
   "id": "01831d66",
   "metadata": {},
   "outputs": [
    {
     "name": "stdout",
     "output_type": "stream",
     "text": [
      "('Honda', 2000)\n",
      "('BMW', 50000)\n",
      "('RR', 700000)\n"
     ]
    }
   ],
   "source": [
    "for key_value in car_dict.items():\n",
    "    print(key_value)"
   ]
  },
  {
   "cell_type": "code",
   "execution_count": 48,
   "id": "6c6bf80b",
   "metadata": {},
   "outputs": [
    {
     "name": "stdout",
     "output_type": "stream",
     "text": [
      "Honda : 2000\n",
      "BMW : 50000\n",
      "RR : 700000\n"
     ]
    }
   ],
   "source": [
    "for key,value in car_dict.items():\n",
    "    print( key , \":\", value)"
   ]
  },
  {
   "cell_type": "code",
   "execution_count": 54,
   "id": "fd9ed839",
   "metadata": {},
   "outputs": [
    {
     "name": "stdout",
     "output_type": "stream",
     "text": [
      "0 is a qutatient of 1 / 2\n",
      "1 is a qutatient of 2 / 2\n",
      "1 is a qutatient of 3 / 2\n",
      "2 is a qutatient of 4 / 2\n",
      "2 is a qutatient of 5 / 2\n",
      "3 is a qutatient of 6 / 2\n",
      "3 is a qutatient of 7 / 2\n",
      "4 is a qutatient of 8 / 2\n"
     ]
    }
   ],
   "source": [
    "number = [1,2,3,4,5,6,7,8]\n",
    "\n",
    "for num in number :\n",
    "    quatient = num //2\n",
    "    print(quatient, \"is a qutatient of\", num, \"/ 2\")"
   ]
  },
  {
   "cell_type": "code",
   "execution_count": 56,
   "id": "e2181b0b",
   "metadata": {},
   "outputs": [
    {
     "name": "stdout",
     "output_type": "stream",
     "text": [
      "Type of  1 is <class 'int'>\n",
      "Type of  2.5 is <class 'float'>\n",
      "Type of  python is <class 'str'>\n",
      "Type of  [1, 2, 3] is <class 'list'>\n",
      "Type of  ('aa', 'orange') is <class 'tuple'>\n",
      "Type of  {'a': 3, 'b': 4} is <class 'dict'>\n",
      "Type of  True is <class 'bool'>\n",
      "Type of  (1+3j) is <class 'complex'>\n",
      "Type of  {'a', 3, 1, 'b'} is <class 'set'>\n"
     ]
    }
   ],
   "source": [
    "mixed_list = [1,2.5,\"python\",[1,2,3],(\"aa\",\"orange\"),{\"a\":3,\"b\":4},True,1+3j,{\"a\",\"b\",\"a\",1,3,1}]\n",
    "\n",
    "for item in mixed_list :\n",
    "    print(\"Type of \" , item , \"is\", type(item))"
   ]
  },
  {
   "cell_type": "code",
   "execution_count": 57,
   "id": "b35f680d",
   "metadata": {},
   "outputs": [
    {
     "name": "stdout",
     "output_type": "stream",
     "text": [
      "cube of : 1 is 1\n",
      "cube of : 2 is 8\n",
      "cube of : 3 is 27\n",
      "cube of : 4 is 64\n"
     ]
    }
   ],
   "source": [
    "value = [1,2,3,4]\n",
    "cube = 0\n",
    "\n",
    "for values in value :\n",
    "    cube = values ** 3\n",
    "    print(\"cube of :\", values, \"is\", cube)"
   ]
  },
  {
   "cell_type": "code",
   "execution_count": 59,
   "id": "8acd03da",
   "metadata": {},
   "outputs": [
    {
     "name": "stdout",
     "output_type": "stream",
     "text": [
      "Enter any word : python\n",
      "6\n"
     ]
    }
   ],
   "source": [
    "user = input(\"Enter any word : \")\n",
    "count = 0\n",
    "\n",
    "for i in user :\n",
    "    count = count + 1\n",
    "print(count)                                   # Find the lenghts of word without using len() function"
   ]
  },
  {
   "cell_type": "code",
   "execution_count": 60,
   "id": "a876798b",
   "metadata": {},
   "outputs": [
    {
     "name": "stdout",
     "output_type": "stream",
     "text": [
      "1\n",
      "2\n",
      "3\n",
      "4\n",
      "5\n",
      "6\n",
      "7\n",
      "No more elements left\n"
     ]
    }
   ],
   "source": [
    "number = [1,2,3,4,5,6,7]\n",
    "\n",
    "for i in number :\n",
    "    print(i)\n",
    "else :\n",
    "    print(\"No more elements left\")              # else block in for loop"
   ]
  },
  {
   "cell_type": "code",
   "execution_count": 63,
   "id": "e1924004",
   "metadata": {},
   "outputs": [
    {
     "name": "stdout",
     "output_type": "stream",
     "text": [
      "Present\n"
     ]
    }
   ],
   "source": [
    "India_cities = [\"Bebgalore\",\"Mysore\",\"CKM\"]\n",
    "\n",
    "for city in India_cities :\n",
    "    if city == \"CKM\" :\n",
    "        print(\"Present\")\n",
    "    "
   ]
  },
  {
   "cell_type": "code",
   "execution_count": 65,
   "id": "0509c9d3",
   "metadata": {},
   "outputs": [
    {
     "name": "stdout",
     "output_type": "stream",
     "text": [
      "2 is even number\n",
      "4 is even number\n",
      "6 is even number\n",
      "8 is even number\n"
     ]
    }
   ],
   "source": [
    "numbers = [1,2,3,4,5,6,7,8]\n",
    "\n",
    "for number in numbers :\n",
    "    if number % 2 == 0 :\n",
    "        print(number, \"is even number\")"
   ]
  },
  {
   "cell_type": "code",
   "execution_count": 67,
   "id": "ce5a11d0",
   "metadata": {},
   "outputs": [
    {
     "name": "stdout",
     "output_type": "stream",
     "text": [
      "2000 is leap year\n",
      "2001 is not leap yaer\n",
      "2003 is not leap yaer\n",
      "2004 is leap year\n",
      "2005 is not leap yaer\n",
      "2008 is leap year\n"
     ]
    }
   ],
   "source": [
    "years = [2000,2001,2003,2004,2005,2008]\n",
    "\n",
    "for year in years :\n",
    "    if year % 4 == 0:\n",
    "        print(year, \"is leap year\")\n",
    "    else :\n",
    "        print(year, \"is not leap yaer\")                 # Finding leap year"
   ]
  },
  {
   "cell_type": "code",
   "execution_count": 69,
   "id": "aea54c0c",
   "metadata": {},
   "outputs": [
    {
     "name": "stdout",
     "output_type": "stream",
     "text": [
      "['a', 'b', 'c']\n",
      "[1, 2, 3]\n"
     ]
    }
   ],
   "source": [
    "list_1 = [[\"a\",\"b\",\"c\"],[1,2,3]]\n",
    "\n",
    "for subset in list_1 :\n",
    "    print(subset)"
   ]
  },
  {
   "cell_type": "code",
   "execution_count": 73,
   "id": "82f7f3f8",
   "metadata": {},
   "outputs": [
    {
     "name": "stdout",
     "output_type": "stream",
     "text": [
      "a\n",
      "b\n",
      "c\n",
      "1\n",
      "2\n",
      "3\n"
     ]
    }
   ],
   "source": [
    "for subset in list_1 :\n",
    "    for name in subset :\n",
    "        print(name)                                   # nested for loop"
   ]
  },
  {
   "cell_type": "code",
   "execution_count": 78,
   "id": "e0c13c7f",
   "metadata": {},
   "outputs": [
    {
     "name": "stdout",
     "output_type": "stream",
     "text": [
      "RR 1000\n",
      "RR 2000\n",
      "RR 800\n",
      "rangerover 1000\n",
      "rangerover 2000\n",
      "rangerover 800\n",
      "audi 1000\n",
      "audi 2000\n",
      "audi 800\n"
     ]
    }
   ],
   "source": [
    "car = [\"RR\",\"rangerover\",\"audi\"]\n",
    "price = [1000,2000,800]\n",
    "\n",
    "for i in car :\n",
    "    for j in price :\n",
    "        print(i,j)"
   ]
  },
  {
   "cell_type": "code",
   "execution_count": null,
   "id": "018f1668",
   "metadata": {},
   "outputs": [],
   "source": []
  }
 ],
 "metadata": {
  "kernelspec": {
   "display_name": "Python 3 (ipykernel)",
   "language": "python",
   "name": "python3"
  },
  "language_info": {
   "codemirror_mode": {
    "name": "ipython",
    "version": 3
   },
   "file_extension": ".py",
   "mimetype": "text/x-python",
   "name": "python",
   "nbconvert_exporter": "python",
   "pygments_lexer": "ipython3",
   "version": "3.11.3"
  }
 },
 "nbformat": 4,
 "nbformat_minor": 5
}
