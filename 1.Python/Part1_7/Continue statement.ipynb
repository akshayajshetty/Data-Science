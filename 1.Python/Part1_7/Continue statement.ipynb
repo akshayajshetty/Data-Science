{
 "cells": [
  {
   "cell_type": "code",
   "execution_count": 1,
   "id": "97918f3a",
   "metadata": {},
   "outputs": [
    {
     "name": "stdout",
     "output_type": "stream",
     "text": [
      "p\n",
      "y\n",
      "h\n",
      "o\n",
      "n\n",
      "end loop\n"
     ]
    }
   ],
   "source": [
    "for letter in \"python\":\n",
    "    if letter == \"t\":\n",
    "        continue\n",
    "    print(letter)\n",
    "print(\"end loop\")"
   ]
  },
  {
   "cell_type": "code",
   "execution_count": 5,
   "id": "aab5f7bf",
   "metadata": {},
   "outputs": [
    {
     "name": "stdout",
     "output_type": "stream",
     "text": [
      "s\n",
      "d\n",
      "e\n",
      "n\n",
      "end loop\n"
     ]
    }
   ],
   "source": [
    "my_string = \"student\"\n",
    "\n",
    "for i in my_string:\n",
    "    if (i == \"t\") or (i == \"u\"):\n",
    "        continue\n",
    "    print(i)\n",
    "print(\"end loop\")"
   ]
  },
  {
   "cell_type": "code",
   "execution_count": 8,
   "id": "de890054",
   "metadata": {},
   "outputs": [
    {
     "name": "stdout",
     "output_type": "stream",
     "text": [
      "Is 2 even number ?\n",
      "Yes\n",
      "Is 4 even number ?\n",
      "Yes\n",
      "Is 6 even number ?\n",
      "Yes\n",
      "Is 8 even number ?\n",
      "Yes\n",
      "Is 10 even number ?\n",
      "Yes\n",
      "Is 12 even number ?\n",
      "Yes\n",
      "Is 14 even number ?\n",
      "Yes\n",
      "Is 16 even number ?\n",
      "Yes\n",
      "Is 18 even number ?\n",
      "Yes\n"
     ]
    }
   ],
   "source": [
    "for i in range(1,20):\n",
    "    if i % 2 == 0 :\n",
    "        print(f\"Is {i} even number ?\")\n",
    "    else :\n",
    "        continue\n",
    "    print(\"Yes\")"
   ]
  },
  {
   "cell_type": "code",
   "execution_count": 9,
   "id": "09aa35ae",
   "metadata": {},
   "outputs": [
    {
     "name": "stdout",
     "output_type": "stream",
     "text": [
      "1\n",
      "Even number founr 2\n",
      "3\n",
      "Even number founr 4\n",
      "5\n",
      "Even number founr 6\n",
      "7\n",
      "Even number founr 8\n",
      "9\n"
     ]
    }
   ],
   "source": [
    "for i in range(1,10):\n",
    "    if i % 2 == 0 :\n",
    "        print(\"Even number founr\", i)\n",
    "        continue\n",
    "    print(i)\n",
    "    "
   ]
  },
  {
   "cell_type": "code",
   "execution_count": 13,
   "id": "47ba35bd",
   "metadata": {},
   "outputs": [
    {
     "name": "stdout",
     "output_type": "stream",
     "text": [
      "\n",
      "Before continue statement 1\n",
      "After the comtinue statement 1\n",
      "\n",
      "Before continue statement 2\n",
      "After the comtinue statement 2\n",
      "\n",
      "Before continue statement 3\n",
      "\n",
      "Before continue statement 4\n",
      "After the comtinue statement 4\n",
      "\n",
      "Before continue statement 5\n",
      "After the comtinue statement 5\n",
      "\n",
      "Before continue statement 6\n",
      "\n",
      "Before continue statement 7\n",
      "After the comtinue statement 7\n",
      "\n",
      "Before continue statement 8\n",
      "After the comtinue statement 8\n",
      "\n",
      "Before continue statement 9\n"
     ]
    }
   ],
   "source": [
    "for i in range(1,10):\n",
    "    print()\n",
    "    print('Before continue statement', i)\n",
    "    if i % 3 == 0 :\n",
    "        continue\n",
    "    print(\"After the comtinue statement\", i)\n",
    "     "
   ]
  },
  {
   "cell_type": "code",
   "execution_count": 21,
   "id": "437fe983",
   "metadata": {},
   "outputs": [
    {
     "name": "stdout",
     "output_type": "stream",
     "text": [
      "jan month has 31 days\n",
      "Mar month has 31 days\n",
      "Apr month has 30 days\n",
      "May month has 31 days\n",
      "Jun month has 30 days\n",
      "Jul month has 31 days\n",
      "Aug month has 31 days\n",
      "Sep month has 30 days\n",
      "Oct month has 31 days\n",
      "Nov month has 30 days\n",
      "Dec month has 31 days\n"
     ]
    }
   ],
   "source": [
    "months = [\"jan\", \"Feb\",\"Mar\",\"Apr\",\"May\",\"Jun\",\"Jul\",\"Aug\",\"Sep\",\"Oct\",\"Nov\",\"Dec\"]\n",
    "num_days = [31,28,31,30,31,30,31,31,30,31,30,31]\n",
    "\n",
    "new_dict = {}\n",
    "\n",
    "for i , j in zip(months , num_days):\n",
    "    new_dict.update({i:j})\n",
    "    \n",
    "    if new_dict[i] < 29 :\n",
    "        continue\n",
    "    else :\n",
    "        print(i,\"month has\", new_dict[i], \"days\")\n",
    "    "
   ]
  },
  {
   "cell_type": "code",
   "execution_count": 24,
   "id": "68b779b5",
   "metadata": {},
   "outputs": [
    {
     "name": "stdout",
     "output_type": "stream",
     "text": [
      "RR\n",
      "Ferrory\n",
      "Bugati\n",
      "BMW\n"
     ]
    }
   ],
   "source": [
    "car = [\"RR\",\"Ferrory\",\"Bugati\",\"Benz\",\"BMW\",\"Audi\",\"suzuki\"]\n",
    "\n",
    "for i in car :\n",
    "    if i == \"Benz\":\n",
    "        continue\n",
    "    if i == \"Audi\":\n",
    "        break\n",
    "    print(i)"
   ]
  },
  {
   "cell_type": "code",
   "execution_count": null,
   "id": "993cb7f5",
   "metadata": {},
   "outputs": [],
   "source": []
  }
 ],
 "metadata": {
  "kernelspec": {
   "display_name": "Python 3 (ipykernel)",
   "language": "python",
   "name": "python3"
  },
  "language_info": {
   "codemirror_mode": {
    "name": "ipython",
    "version": 3
   },
   "file_extension": ".py",
   "mimetype": "text/x-python",
   "name": "python",
   "nbconvert_exporter": "python",
   "pygments_lexer": "ipython3",
   "version": "3.11.3"
  }
 },
 "nbformat": 4,
 "nbformat_minor": 5
}
