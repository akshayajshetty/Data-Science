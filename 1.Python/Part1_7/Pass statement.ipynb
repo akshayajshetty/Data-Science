{
 "cells": [
  {
   "cell_type": "code",
   "execution_count": 3,
   "id": "1318ebd9",
   "metadata": {},
   "outputs": [
    {
     "name": "stdout",
     "output_type": "stream",
     "text": [
      "p\n",
      "y\n",
      "t\n",
      "h\n",
      "o\n",
      "n\n"
     ]
    }
   ],
   "source": [
    "for letter in \"python\":\n",
    "    if letter == \"p\":\n",
    "        pass\n",
    "    print(letter)"
   ]
  },
  {
   "cell_type": "code",
   "execution_count": 5,
   "id": "9863b219",
   "metadata": {},
   "outputs": [
    {
     "name": "stdout",
     "output_type": "stream",
     "text": [
      "Current letter : p\n",
      "Current letter : y\n",
      "This is pass block\n",
      "Current letter : h\n",
      "Current letter : o\n",
      "Current letter : n\n",
      "End loop\n"
     ]
    }
   ],
   "source": [
    "for letter in \"python\":\n",
    "    if letter == \"t\":\n",
    "        pass\n",
    "        print(\"This is pass block\")\n",
    "    else :\n",
    "        print(\"Current letter :\", letter)\n",
    "else :\n",
    "    print(\"End loop\")"
   ]
  },
  {
   "cell_type": "code",
   "execution_count": 6,
   "id": "787ca83c",
   "metadata": {},
   "outputs": [
    {
     "name": "stdout",
     "output_type": "stream",
     "text": [
      "1\n",
      "3\n",
      "5\n",
      "7\n",
      "9\n"
     ]
    }
   ],
   "source": [
    "for i in range(10):\n",
    "    if i % 2 == 0:\n",
    "        pass\n",
    "    else :\n",
    "        print(i)"
   ]
  },
  {
   "cell_type": "code",
   "execution_count": 13,
   "id": "dc60a44a",
   "metadata": {},
   "outputs": [
    {
     "name": "stdout",
     "output_type": "stream",
     "text": [
      "1\n",
      "3\n",
      "5\n",
      "7\n",
      "9\n",
      "odd count is : 5\n",
      "total count is : 10\n",
      "\n"
     ]
    }
   ],
   "source": [
    "odd_count = 0\n",
    "total_count = 0\n",
    "\n",
    "for i in range(10):\n",
    "    if i % 2 == 0 :\n",
    "        pass\n",
    "    else :\n",
    "        print(i)\n",
    "        odd_count = odd_count + 1\n",
    "    total_count = total_count + 1\n",
    "    \n",
    "print(f\"odd count is : {odd_count}\")\n",
    "print(f\"total count is : {total_count}\\n\")"
   ]
  },
  {
   "cell_type": "code",
   "execution_count": 18,
   "id": "f343c39a",
   "metadata": {},
   "outputs": [
    {
     "name": "stdout",
     "output_type": "stream",
     "text": [
      "Enter anything : anything123\n",
      "Total digit 3\n",
      "Total letter 8\n"
     ]
    }
   ],
   "source": [
    "my_str = input(\"Enter anything : \")\n",
    "digits = 0\n",
    "letter = 0\n",
    "\n",
    "for i in my_str :\n",
    "    if i.isdigit():\n",
    "        digits += 1\n",
    "    elif i.isalpha():\n",
    "        letter +=1\n",
    "    else :\n",
    "        pass\n",
    "print(\"Total digit\", digits)\n",
    "print(\"Total letter\", letter)"
   ]
  },
  {
   "cell_type": "code",
   "execution_count": null,
   "id": "fb7ded6c",
   "metadata": {},
   "outputs": [],
   "source": []
  },
  {
   "cell_type": "code",
   "execution_count": null,
   "id": "dad3dde2",
   "metadata": {},
   "outputs": [],
   "source": []
  }
 ],
 "metadata": {
  "kernelspec": {
   "display_name": "Python 3 (ipykernel)",
   "language": "python",
   "name": "python3"
  },
  "language_info": {
   "codemirror_mode": {
    "name": "ipython",
    "version": 3
   },
   "file_extension": ".py",
   "mimetype": "text/x-python",
   "name": "python",
   "nbconvert_exporter": "python",
   "pygments_lexer": "ipython3",
   "version": "3.11.3"
  }
 },
 "nbformat": 4,
 "nbformat_minor": 5
}
