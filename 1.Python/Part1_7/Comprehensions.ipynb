{
 "cells": [
  {
   "cell_type": "code",
   "execution_count": 2,
   "id": "4fc694a3",
   "metadata": {},
   "outputs": [
    {
     "name": "stdout",
     "output_type": "stream",
     "text": [
      "[0, 1, 4, 9, 16, 25, 36, 49, 64, 81]\n"
     ]
    }
   ],
   "source": [
    "num = range(10)\n",
    "list_1 = [x*x for x in num]\n",
    "print(list_1)"
   ]
  },
  {
   "cell_type": "code",
   "execution_count": 5,
   "id": "83a3b64a",
   "metadata": {},
   "outputs": [
    {
     "name": "stdout",
     "output_type": "stream",
     "text": [
      "['p', 'y', 't', 'h', 'o', 'n']\n"
     ]
    }
   ],
   "source": [
    "letter = [letter for letter in 'python']\n",
    "print(letter)"
   ]
  },
  {
   "cell_type": "code",
   "execution_count": 11,
   "id": "796aa59f",
   "metadata": {},
   "outputs": [
    {
     "name": "stdout",
     "output_type": "stream",
     "text": [
      "['B', 'A', 'R', 'B']\n"
     ]
    }
   ],
   "source": [
    "car_list = [\"BMW\",\"Audi\",\"RR\",\"Benz\"]\n",
    "car = [word[0] for word in car_list]\n",
    "print(car)\n"
   ]
  },
  {
   "cell_type": "code",
   "execution_count": 12,
   "id": "d773d513",
   "metadata": {},
   "outputs": [
    {
     "name": "stdout",
     "output_type": "stream",
     "text": [
      "['b', 'a', 'r', 'b']\n"
     ]
    }
   ],
   "source": [
    "car_list = [\"BMW\",\"Audi\",\"RR\",\"Benz\"]\n",
    "car = [word[0].lower() for word in car_list]\n",
    "print(car)"
   ]
  },
  {
   "cell_type": "code",
   "execution_count": 14,
   "id": "647e62ef",
   "metadata": {},
   "outputs": [
    {
     "name": "stdout",
     "output_type": "stream",
     "text": [
      "['BMW', 'AUDI', 'RR', 'BENZ']\n"
     ]
    }
   ],
   "source": [
    "car_list = [\"BMW\",\"Audi\",\"RR\",\"Benz\"]\n",
    "car = [word.upper() for word in car_list]\n",
    "print(car)"
   ]
  },
  {
   "cell_type": "code",
   "execution_count": 15,
   "id": "831c9e5d",
   "metadata": {},
   "outputs": [
    {
     "name": "stdout",
     "output_type": "stream",
     "text": [
      "[0, 4, 16, 36, 64]\n"
     ]
    }
   ],
   "source": [
    "list_1 = [x * x for x in range(10) if x % 2 == 0]\n",
    "print(list_1)"
   ]
  },
  {
   "cell_type": "code",
   "execution_count": 17,
   "id": "bfc792c0",
   "metadata": {},
   "outputs": [
    {
     "name": "stdout",
     "output_type": "stream",
     "text": [
      "[0, 27, 54, 81, 108, 135, 162, 189, 216, 243, 270, 297]\n"
     ]
    }
   ],
   "source": [
    "multiple_27 = [ i for i in range (300) if i % 27 == 0]\n",
    "print(multiple_27)"
   ]
  },
  {
   "cell_type": "code",
   "execution_count": 18,
   "id": "f7d47bcc",
   "metadata": {},
   "outputs": [
    {
     "data": {
      "text/plain": [
       "['A', 'E', 'A', 'I']"
      ]
     },
     "execution_count": 18,
     "metadata": {},
     "output_type": "execute_result"
    }
   ],
   "source": [
    "[i for i in \"MATHEMATICS\" if i in (\"A\",\"E\",\"I\",'O',\"U\")]"
   ]
  },
  {
   "cell_type": "code",
   "execution_count": 30,
   "id": "72444d39",
   "metadata": {},
   "outputs": [
    {
     "name": "stdout",
     "output_type": "stream",
     "text": [
      "[1, 2, 3]\n"
     ]
    }
   ],
   "source": [
    "string_1 = \"hello 123\"\n",
    "number = [int(i) for i in string_1 if i.isdigit()]\n",
    "print(number)"
   ]
  },
  {
   "cell_type": "code",
   "execution_count": 31,
   "id": "5c96221b",
   "metadata": {},
   "outputs": [
    {
     "name": "stdout",
     "output_type": "stream",
     "text": [
      "['h', 'e', 'l', 'l', 'o']\n"
     ]
    }
   ],
   "source": [
    "string_1 = \"hello 123\"\n",
    "count = 0\n",
    "number = [i for i in string_1 if i.isalpha()]\n",
    "print(number)\n"
   ]
  },
  {
   "cell_type": "code",
   "execution_count": 38,
   "id": "a5a5df84",
   "metadata": {},
   "outputs": [
    {
     "name": "stdout",
     "output_type": "stream",
     "text": [
      "[('RR', 'Red'), ('RR', 'Black'), ('RR', 'White'), ('Audi', 'Red'), ('Audi', 'Black'), ('Audi', 'White'), ('BMW', 'Red'), ('BMW', 'Black'), ('BMW', 'White')]\n"
     ]
    }
   ],
   "source": [
    "car = [\"RR\",\"Audi\",\"BMW\"]\n",
    "color = [\"Red\",\"Black\",'White']\n",
    "\n",
    "car_color = [(i,j) for i in car for j in color]\n",
    "print(car_color)"
   ]
  },
  {
   "cell_type": "code",
   "execution_count": 42,
   "id": "4fe7bd6a",
   "metadata": {},
   "outputs": [
    {
     "name": "stdout",
     "output_type": "stream",
     "text": [
      "[0, 4, 8, 12, 16, 20, 24]\n"
     ]
    }
   ],
   "source": [
    "number = [ i for i in range(25) if i % 2 ==0 and i % 4 ==0]\n",
    "print(number)"
   ]
  },
  {
   "cell_type": "code",
   "execution_count": 49,
   "id": "b0667ecd",
   "metadata": {},
   "outputs": [
    {
     "name": "stdout",
     "output_type": "stream",
     "text": [
      "['even', 'Odd', 'even', 'Odd', 'even', 'Odd', 'even', 'Odd', 'even', 'Odd']\n"
     ]
    }
   ],
   "source": [
    "number = [\"even\" if i % 2 == 0 else \"Odd\" for i in range(10)]\n",
    "print(number)"
   ]
  },
  {
   "cell_type": "code",
   "execution_count": 51,
   "id": "ac10978b",
   "metadata": {},
   "outputs": [
    {
     "data": {
      "text/plain": [
       "[3, 12, 20]"
      ]
     },
     "execution_count": 51,
     "metadata": {},
     "output_type": "execute_result"
    }
   ],
   "source": [
    "[x * 3 if x <5 else x * 4 for x in [1, 4, 5]]"
   ]
  },
  {
   "cell_type": "code",
   "execution_count": null,
   "id": "4737c966",
   "metadata": {},
   "outputs": [],
   "source": []
  }
 ],
 "metadata": {
  "kernelspec": {
   "display_name": "Python 3 (ipykernel)",
   "language": "python",
   "name": "python3"
  },
  "language_info": {
   "codemirror_mode": {
    "name": "ipython",
    "version": 3
   },
   "file_extension": ".py",
   "mimetype": "text/x-python",
   "name": "python",
   "nbconvert_exporter": "python",
   "pygments_lexer": "ipython3",
   "version": "3.11.3"
  }
 },
 "nbformat": 4,
 "nbformat_minor": 5
}
