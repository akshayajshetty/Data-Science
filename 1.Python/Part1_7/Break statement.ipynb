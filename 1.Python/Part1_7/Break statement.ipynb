{
 "cells": [
  {
   "cell_type": "code",
   "execution_count": 6,
   "id": "e0424efd",
   "metadata": {},
   "outputs": [
    {
     "name": "stdout",
     "output_type": "stream",
     "text": [
      "p\n",
      "y\n",
      "t\n",
      "h\n"
     ]
    }
   ],
   "source": [
    "for letter in \"python\" :\n",
    "    if letter == \"o\":\n",
    "        break\n",
    "    print(letter)"
   ]
  },
  {
   "cell_type": "code",
   "execution_count": 7,
   "id": "49bc3628",
   "metadata": {},
   "outputs": [
    {
     "name": "stdout",
     "output_type": "stream",
     "text": [
      "p\n",
      "y\n",
      "t\n",
      "h\n",
      "o\n"
     ]
    }
   ],
   "source": [
    "for letter in \"python\" :\n",
    "    print(letter)\n",
    "    if letter == \"o\":\n",
    "        break\n",
    "    "
   ]
  },
  {
   "cell_type": "code",
   "execution_count": 11,
   "id": "44cbc75b",
   "metadata": {},
   "outputs": [
    {
     "name": "stdout",
     "output_type": "stream",
     "text": [
      "c is present in string\n"
     ]
    }
   ],
   "source": [
    "for char in \"icecreame\":\n",
    "    if char == \"c\":\n",
    "        print(f\"{char} is present in string\")\n",
    "        break\n",
    "else :\n",
    "    print(f\"{char} is not present in string\")"
   ]
  },
  {
   "cell_type": "code",
   "execution_count": 12,
   "id": "3810650a",
   "metadata": {},
   "outputs": [
    {
     "name": "stdout",
     "output_type": "stream",
     "text": [
      "e is not present in string\n"
     ]
    }
   ],
   "source": [
    "for char in \"orange\":\n",
    "    if char == \"c\":\n",
    "        print(f\"{char} is present in string\")\n",
    "        break\n",
    "else :\n",
    "    print(f\"{char} is not present in string\")"
   ]
  },
  {
   "cell_type": "code",
   "execution_count": 13,
   "id": "08eea0ee",
   "metadata": {},
   "outputs": [
    {
     "name": "stdout",
     "output_type": "stream",
     "text": [
      "1\n",
      "2\n",
      "3\n",
      "4\n",
      "4 is present\n",
      "terminate the loop\n"
     ]
    }
   ],
   "source": [
    "for i in [1,2,3,4,5,6]:\n",
    "    print(i)\n",
    "    if i == 4 :\n",
    "        print(f\"{i} is present\")\n",
    "        print(\"terminate the loop\")\n",
    "        break"
   ]
  },
  {
   "cell_type": "code",
   "execution_count": 20,
   "id": "097618a6",
   "metadata": {},
   "outputs": [
    {
     "name": "stdout",
     "output_type": "stream",
     "text": [
      "0\n",
      "1\n",
      "2\n",
      "3\n",
      "4\n",
      "5\n"
     ]
    }
   ],
   "source": [
    "for i in range(10):\n",
    "    if i == 6 :\n",
    "        break\n",
    "    print(i)"
   ]
  },
  {
   "cell_type": "code",
   "execution_count": 24,
   "id": "fb211cc4",
   "metadata": {},
   "outputs": [
    {
     "name": "stdout",
     "output_type": "stream",
     "text": [
      "1\n",
      "2\n",
      "3\n",
      "4\n",
      "5\n"
     ]
    }
   ],
   "source": [
    "for i in range(1,9):\n",
    "    if i >=6 :\n",
    "        break\n",
    "    print(i)"
   ]
  },
  {
   "cell_type": "code",
   "execution_count": 27,
   "id": "4b1b494c",
   "metadata": {},
   "outputs": [
    {
     "name": "stdout",
     "output_type": "stream",
     "text": [
      "0 square 0\n",
      "1 square 1\n",
      "2 square 4\n",
      "3 square 9\n",
      "4 square 16\n"
     ]
    }
   ],
   "source": [
    "for i in range(20):\n",
    "    if i ** 2 > 20 :\n",
    "        break\n",
    "    print(i, \"square\", i**2)"
   ]
  },
  {
   "cell_type": "code",
   "execution_count": 31,
   "id": "3e5ffc59",
   "metadata": {},
   "outputs": [
    {
     "name": "stdout",
     "output_type": "stream",
     "text": [
      "villain escaped\n"
     ]
    }
   ],
   "source": [
    "places = [\"bengalure\",\"delhi\",\"chennai\",\"mumbai\",\"noida\"]\n",
    "\n",
    "villain = \"hyderabad\"\n",
    "\n",
    "for place in places :\n",
    "    if place == villain :\n",
    "        print(\"villain is present in \", place)\n",
    "        break\n",
    "else :\n",
    "    print(\"villain escaped\")"
   ]
  },
  {
   "cell_type": "code",
   "execution_count": 32,
   "id": "423d0c5e",
   "metadata": {},
   "outputs": [
    {
     "name": "stdout",
     "output_type": "stream",
     "text": [
      "villain is present in  mumbai\n"
     ]
    }
   ],
   "source": [
    "places = [\"bengalure\",\"delhi\",\"chennai\",\"mumbai\",\"noida\"]\n",
    "\n",
    "villain = \"mumbai\"\n",
    "\n",
    "for place in places :\n",
    "    if place == villain :\n",
    "        print(\"villain is present in \", place)\n",
    "        break\n",
    "else :\n",
    "    print(\"villain escaped\")"
   ]
  },
  {
   "cell_type": "code",
   "execution_count": 84,
   "id": "cda07597",
   "metadata": {},
   "outputs": [
    {
     "name": "stdout",
     "output_type": "stream",
     "text": [
      "enter number : 66\n",
      "not prime number\n"
     ]
    }
   ],
   "source": [
    "num = int(input(\"enter number : \"))\n",
    "\n",
    "for i in range(2, (num//2)+1):\n",
    "    if num % i == 0 :\n",
    "        print(\"not prime number\")\n",
    "        break\n",
    "else :\n",
    "    print(\"prime number\")                       # prime number"
   ]
  },
  {
   "cell_type": "code",
   "execution_count": 59,
   "id": "db8821a8",
   "metadata": {},
   "outputs": [
    {
     "name": "stdout",
     "output_type": "stream",
     "text": [
      "Enter password : secrete\n",
      "Access granted\n"
     ]
    }
   ],
   "source": [
    "for i in range(3):\n",
    "    password = input(\"Enter password : \")\n",
    "    if password == \"secrete\":\n",
    "        print(\"Access granted\")\n",
    "        break\n",
    "else :\n",
    "\n",
    "    print(\"Access denied\")"
   ]
  },
  {
   "cell_type": "code",
   "execution_count": null,
   "id": "aa7cc917",
   "metadata": {},
   "outputs": [],
   "source": []
  }
 ],
 "metadata": {
  "kernelspec": {
   "display_name": "Python 3 (ipykernel)",
   "language": "python",
   "name": "python3"
  },
  "language_info": {
   "codemirror_mode": {
    "name": "ipython",
    "version": 3
   },
   "file_extension": ".py",
   "mimetype": "text/x-python",
   "name": "python",
   "nbconvert_exporter": "python",
   "pygments_lexer": "ipython3",
   "version": "3.11.3"
  }
 },
 "nbformat": 4,
 "nbformat_minor": 5
}
