{
 "cells": [
  {
   "cell_type": "code",
   "execution_count": 1,
   "id": "91805da9",
   "metadata": {},
   "outputs": [
    {
     "ename": "NameError",
     "evalue": "name 'variable' is not defined",
     "output_type": "error",
     "traceback": [
      "\u001b[1;31m---------------------------------------------------------------------------\u001b[0m",
      "\u001b[1;31mNameError\u001b[0m                                 Traceback (most recent call last)",
      "Input \u001b[1;32mIn [1]\u001b[0m, in \u001b[0;36m<cell line: 1>\u001b[1;34m()\u001b[0m\n\u001b[1;32m----> 1\u001b[0m \u001b[38;5;28mprint\u001b[39m(\u001b[43mvariable\u001b[49m)\n",
      "\u001b[1;31mNameError\u001b[0m: name 'variable' is not defined"
     ]
    }
   ],
   "source": [
    "print(variable)"
   ]
  },
  {
   "cell_type": "code",
   "execution_count": 2,
   "id": "dba27f14",
   "metadata": {},
   "outputs": [
    {
     "name": "stdout",
     "output_type": "stream",
     "text": [
      "Exception occured (NameError), because 'variable' not defined\n"
     ]
    }
   ],
   "source": [
    "try :\n",
    "    print(variable)\n",
    "except :\n",
    "    print(\"Exception occured (NameError), because 'variable' not defined\")"
   ]
  },
  {
   "cell_type": "code",
   "execution_count": 3,
   "id": "151415ba",
   "metadata": {},
   "outputs": [
    {
     "name": "stdout",
     "output_type": "stream",
     "text": [
      "variable not defined\n"
     ]
    }
   ],
   "source": [
    "try :\n",
    "    print(variable)\n",
    "except NameError :\n",
    "    print(\"variable not defined\")\n",
    "except :\n",
    "    print(\"Unknown error occured\")"
   ]
  },
  {
   "cell_type": "code",
   "execution_count": 4,
   "id": "61768108",
   "metadata": {},
   "outputs": [
    {
     "ename": "FileNotFoundError",
     "evalue": "[Errno 2] No such file or directory: 'nonexist.txt'",
     "output_type": "error",
     "traceback": [
      "\u001b[1;31m---------------------------------------------------------------------------\u001b[0m",
      "\u001b[1;31mFileNotFoundError\u001b[0m                         Traceback (most recent call last)",
      "Input \u001b[1;32mIn [4]\u001b[0m, in \u001b[0;36m<cell line: 1>\u001b[1;34m()\u001b[0m\n\u001b[1;32m----> 1\u001b[0m f \u001b[38;5;241m=\u001b[39m \u001b[38;5;28;43mopen\u001b[39;49m\u001b[43m(\u001b[49m\u001b[38;5;124;43m\"\u001b[39;49m\u001b[38;5;124;43mnonexist.txt\u001b[39;49m\u001b[38;5;124;43m\"\u001b[39;49m\u001b[43m)\u001b[49m\n",
      "\u001b[1;31mFileNotFoundError\u001b[0m: [Errno 2] No such file or directory: 'nonexist.txt'"
     ]
    }
   ],
   "source": [
    "f = open(\"nonexist.txt\")"
   ]
  },
  {
   "cell_type": "code",
   "execution_count": 5,
   "id": "01e8c557",
   "metadata": {},
   "outputs": [
    {
     "name": "stdout",
     "output_type": "stream",
     "text": [
      "file not found\n"
     ]
    }
   ],
   "source": [
    "try :\n",
    "    f = open(\"nonexist.txt\")\n",
    "except FileNotFoundError :\n",
    "    print(\"file not found\")\n",
    "except :\n",
    "    print(\"Unknown error\")"
   ]
  },
  {
   "cell_type": "code",
   "execution_count": 6,
   "id": "82e8bb89",
   "metadata": {},
   "outputs": [
    {
     "name": "stdout",
     "output_type": "stream",
     "text": [
      "Enter numbrt : python\n"
     ]
    },
    {
     "ename": "ValueError",
     "evalue": "invalid literal for int() with base 10: 'python'",
     "output_type": "error",
     "traceback": [
      "\u001b[1;31m---------------------------------------------------------------------------\u001b[0m",
      "\u001b[1;31mValueError\u001b[0m                                Traceback (most recent call last)",
      "Input \u001b[1;32mIn [6]\u001b[0m, in \u001b[0;36m<cell line: 1>\u001b[1;34m()\u001b[0m\n\u001b[1;32m----> 1\u001b[0m input_var \u001b[38;5;241m=\u001b[39m \u001b[38;5;28;43mint\u001b[39;49m\u001b[43m(\u001b[49m\u001b[38;5;28;43minput\u001b[39;49m\u001b[43m(\u001b[49m\u001b[38;5;124;43m\"\u001b[39;49m\u001b[38;5;124;43mEnter numbrt : \u001b[39;49m\u001b[38;5;124;43m\"\u001b[39;49m\u001b[43m)\u001b[49m\u001b[43m)\u001b[49m\n",
      "\u001b[1;31mValueError\u001b[0m: invalid literal for int() with base 10: 'python'"
     ]
    }
   ],
   "source": [
    "input_var = int(input(\"Enter numbrt : \"))"
   ]
  },
  {
   "cell_type": "code",
   "execution_count": 9,
   "id": "c4b60d45",
   "metadata": {},
   "outputs": [
    {
     "name": "stdout",
     "output_type": "stream",
     "text": [
      "Enter number ptrhon\n",
      "Oops not a number\n",
      "Enter number 1\n"
     ]
    }
   ],
   "source": [
    "while True :\n",
    "    try :\n",
    "        input_var = int(input(\"Enter number \"))\n",
    "        break\n",
    "    except ValueError :\n",
    "        print(\"Oops not a number\")"
   ]
  },
  {
   "cell_type": "code",
   "execution_count": 13,
   "id": "87563aa0",
   "metadata": {},
   "outputs": [
    {
     "name": "stdout",
     "output_type": "stream",
     "text": [
      "Enter numberpython\n",
      "That is not valid number, try again !\n",
      "Enter number123\n"
     ]
    }
   ],
   "source": [
    "attempt = 0\n",
    "\n",
    "while True :\n",
    "    try :\n",
    "        input_var = input(\"Enter number \")\n",
    "        input_var = int(input_var)\n",
    "        break\n",
    "    except ValueError :\n",
    "        \n",
    "        attempt += 1\n",
    "        if attempt < 3 :\n",
    "            print(\"That is not valid number, try again !\")\n",
    "        else :\n",
    "            print(\"If you want to string we can handle it\")\n",
    "            input_var = str(input_var)\n",
    "            break\n",
    "            "
   ]
  },
  {
   "cell_type": "code",
   "execution_count": null,
   "id": "7df8edd8",
   "metadata": {},
   "outputs": [],
   "source": [
    "import time\n",
    "\n",
    "time.sleep(111)"
   ]
  },
  {
   "cell_type": "code",
   "execution_count": 1,
   "id": "0d52d6d4",
   "metadata": {},
   "outputs": [
    {
     "name": "stdout",
     "output_type": "stream",
     "text": [
      "KeyBoardInterrupt occured\n"
     ]
    }
   ],
   "source": [
    "import time\n",
    "try :   \n",
    "    time.sleep(111)\n",
    "except KeyboardInterrupt :\n",
    "    print(\"KeyBoardInterrupt occured\")\n",
    "    "
   ]
  },
  {
   "cell_type": "code",
   "execution_count": 3,
   "id": "a943d4a7",
   "metadata": {},
   "outputs": [
    {
     "name": "stdout",
     "output_type": "stream",
     "text": [
      "os error\n"
     ]
    }
   ],
   "source": [
    "try :\n",
    "    f = open(\"nonexist.txt\")\n",
    "except OSError :\n",
    "    print(\"os error\")\n",
    "except FileNotFoundError :\n",
    "    print(\"file not found\")\n",
    "except :\n",
    "    print(\"Unknown error\")"
   ]
  },
  {
   "cell_type": "code",
   "execution_count": 4,
   "id": "c0ef4aec",
   "metadata": {},
   "outputs": [
    {
     "name": "stdout",
     "output_type": "stream",
     "text": [
      "file not found\n"
     ]
    }
   ],
   "source": [
    "try :\n",
    "    f = open(\"nonexist.txt\")\n",
    "except FileNotFoundError :\n",
    "    print(\"file not found\")\n",
    "except OSError :\n",
    "    print(\"os error\")\n"
   ]
  },
  {
   "cell_type": "code",
   "execution_count": 5,
   "id": "797945b3",
   "metadata": {},
   "outputs": [
    {
     "name": "stdout",
     "output_type": "stream",
     "text": [
      "'var' not specified\n",
      "try except block ended\n"
     ]
    }
   ],
   "source": [
    "try :\n",
    "    print(var)\n",
    "except NameError :\n",
    "    print(\"'var' not specified\")\n",
    "finally :\n",
    "    print(\"try except block ended\")"
   ]
  },
  {
   "cell_type": "code",
   "execution_count": 6,
   "id": "ed70e3f4",
   "metadata": {},
   "outputs": [
    {
     "name": "stdout",
     "output_type": "stream",
     "text": [
      "xyz\n",
      "try except block ended\n"
     ]
    }
   ],
   "source": [
    "var = 'xyz'\n",
    "try :\n",
    "    print(var)\n",
    "except NameError :\n",
    "    print(\"'var' not specified\")\n",
    "finally :\n",
    "    print(\"try except block ended\")"
   ]
  },
  {
   "cell_type": "code",
   "execution_count": 8,
   "id": "590e331c",
   "metadata": {},
   "outputs": [
    {
     "name": "stdout",
     "output_type": "stream",
     "text": [
      "Proccess completed\n"
     ]
    }
   ],
   "source": [
    "try :\n",
    "    f = open('test_file.txt','w')\n",
    "finally :\n",
    "    print(\"Proccess completed\")"
   ]
  },
  {
   "cell_type": "code",
   "execution_count": 10,
   "id": "6c59d1e7",
   "metadata": {},
   "outputs": [
    {
     "data": {
      "text/plain": [
       "False"
      ]
     },
     "execution_count": 10,
     "metadata": {},
     "output_type": "execute_result"
    }
   ],
   "source": [
    "f.closed"
   ]
  },
  {
   "cell_type": "code",
   "execution_count": 13,
   "id": "50fad216",
   "metadata": {},
   "outputs": [
    {
     "name": "stdout",
     "output_type": "stream",
     "text": [
      "Proccess completed\n"
     ]
    }
   ],
   "source": [
    "try :\n",
    "    f = open('test_file.txt','w')\n",
    "finally :\n",
    "    f.close()\n",
    "    print(\"Proccess completed\")"
   ]
  },
  {
   "cell_type": "code",
   "execution_count": 14,
   "id": "8c08f5ed",
   "metadata": {},
   "outputs": [
    {
     "data": {
      "text/plain": [
       "True"
      ]
     },
     "execution_count": 14,
     "metadata": {},
     "output_type": "execute_result"
    }
   ],
   "source": [
    "f.closed"
   ]
  },
  {
   "cell_type": "code",
   "execution_count": 1,
   "id": "07113a34",
   "metadata": {},
   "outputs": [
    {
     "name": "stdout",
     "output_type": "stream",
     "text": [
      "oops something not working\n"
     ]
    }
   ],
   "source": [
    "try :\n",
    "    f = open('testfile.txt')\n",
    "    f.write(\"Hello\")\n",
    "except :\n",
    "    print(\"oops something not working\")\n",
    "else :\n",
    "    print(\"Its working\")"
   ]
  },
  {
   "cell_type": "code",
   "execution_count": 2,
   "id": "9de41e31",
   "metadata": {},
   "outputs": [
    {
     "name": "stdout",
     "output_type": "stream",
     "text": [
      "Its working\n"
     ]
    }
   ],
   "source": [
    "try :\n",
    "    f = open('testfile.txt','w')\n",
    "    f.write(\"Hello\")\n",
    "except :\n",
    "    print(\"oops something not working\")\n",
    "else :\n",
    "    print(\"Its working\")"
   ]
  },
  {
   "cell_type": "code",
   "execution_count": 4,
   "id": "a7e94f9f",
   "metadata": {},
   "outputs": [
    {
     "ename": "TypeError",
     "evalue": "unsupported operand type(s) for +: 'int' and 'str'",
     "output_type": "error",
     "traceback": [
      "\u001b[1;31m---------------------------------------------------------------------------\u001b[0m",
      "\u001b[1;31mTypeError\u001b[0m                                 Traceback (most recent call last)",
      "Input \u001b[1;32mIn [4]\u001b[0m, in \u001b[0;36m<cell line: 3>\u001b[1;34m()\u001b[0m\n\u001b[0;32m      1\u001b[0m a \u001b[38;5;241m=\u001b[39m \u001b[38;5;28mint\u001b[39m(\u001b[38;5;241m5\u001b[39m)\n\u001b[0;32m      2\u001b[0m b \u001b[38;5;241m=\u001b[39m \u001b[38;5;28mstr\u001b[39m(\u001b[38;5;124m'\u001b[39m\u001b[38;5;124mHello\u001b[39m\u001b[38;5;124m'\u001b[39m)\n\u001b[1;32m----> 3\u001b[0m d \u001b[38;5;241m=\u001b[39m \u001b[43ma\u001b[49m\u001b[43m \u001b[49m\u001b[38;5;241;43m+\u001b[39;49m\u001b[43m \u001b[49m\u001b[43mb\u001b[49m \u001b[38;5;241m+\u001b[39m c\n\u001b[0;32m      4\u001b[0m d\n",
      "\u001b[1;31mTypeError\u001b[0m: unsupported operand type(s) for +: 'int' and 'str'"
     ]
    }
   ],
   "source": [
    "a = int(5)\n",
    "b = str('Hello')\n",
    "d = a + b + c\n",
    "d"
   ]
  },
  {
   "cell_type": "code",
   "execution_count": 6,
   "id": "1baec899",
   "metadata": {},
   "outputs": [
    {
     "name": "stdout",
     "output_type": "stream",
     "text": [
      "type error thrown\n"
     ]
    }
   ],
   "source": [
    "try :\n",
    "    a = int(5)\n",
    "    b = str('Hello')\n",
    "    d = a + b + c\n",
    "    d\n",
    "\n",
    "except TypeError :\n",
    "    print(\"type error thrown\")\n",
    "    "
   ]
  },
  {
   "cell_type": "code",
   "execution_count": 7,
   "id": "721e55e5",
   "metadata": {},
   "outputs": [
    {
     "ename": "NameError",
     "evalue": "name 'c' is not defined",
     "output_type": "error",
     "traceback": [
      "\u001b[1;31m---------------------------------------------------------------------------\u001b[0m",
      "\u001b[1;31mNameError\u001b[0m                                 Traceback (most recent call last)",
      "Input \u001b[1;32mIn [7]\u001b[0m, in \u001b[0;36m<cell line: 3>\u001b[1;34m()\u001b[0m\n\u001b[0;32m      1\u001b[0m a \u001b[38;5;241m=\u001b[39m \u001b[38;5;28mstr\u001b[39m(\u001b[38;5;241m5\u001b[39m)\n\u001b[0;32m      2\u001b[0m b \u001b[38;5;241m=\u001b[39m \u001b[38;5;28mstr\u001b[39m(\u001b[38;5;124m'\u001b[39m\u001b[38;5;124mHello\u001b[39m\u001b[38;5;124m'\u001b[39m)\n\u001b[1;32m----> 3\u001b[0m d \u001b[38;5;241m=\u001b[39m a \u001b[38;5;241m+\u001b[39m b \u001b[38;5;241m+\u001b[39m \u001b[43mc\u001b[49m\n\u001b[0;32m      4\u001b[0m d\n",
      "\u001b[1;31mNameError\u001b[0m: name 'c' is not defined"
     ]
    }
   ],
   "source": [
    "a = str(5)\n",
    "b = str('Hello')\n",
    "d = a + b + c\n",
    "d"
   ]
  },
  {
   "cell_type": "code",
   "execution_count": 9,
   "id": "08bd5f42",
   "metadata": {},
   "outputs": [
    {
     "name": "stdout",
     "output_type": "stream",
     "text": [
      "name error thrown\n"
     ]
    }
   ],
   "source": [
    "try :\n",
    "    a = str(5)\n",
    "    b = str('Hello')\n",
    "    d = a + b + c\n",
    "    d\n",
    "\n",
    "except TypeError :\n",
    "    print(\"type error thrown\")\n",
    "    \n",
    "except NameError :\n",
    "    print('name error thrown')"
   ]
  },
  {
   "cell_type": "code",
   "execution_count": 10,
   "id": "e5e55bf1",
   "metadata": {},
   "outputs": [
    {
     "ename": "ValueError",
     "evalue": "invalid literal for int() with base 10: ' world'",
     "output_type": "error",
     "traceback": [
      "\u001b[1;31m---------------------------------------------------------------------------\u001b[0m",
      "\u001b[1;31mValueError\u001b[0m                                Traceback (most recent call last)",
      "Input \u001b[1;32mIn [10]\u001b[0m, in \u001b[0;36m<cell line: 3>\u001b[1;34m()\u001b[0m\n\u001b[0;32m      1\u001b[0m a \u001b[38;5;241m=\u001b[39m \u001b[38;5;28mstr\u001b[39m(\u001b[38;5;241m5\u001b[39m)\n\u001b[0;32m      2\u001b[0m b \u001b[38;5;241m=\u001b[39m \u001b[38;5;28mstr\u001b[39m(\u001b[38;5;124m'\u001b[39m\u001b[38;5;124mHello\u001b[39m\u001b[38;5;124m'\u001b[39m)\n\u001b[1;32m----> 3\u001b[0m c \u001b[38;5;241m=\u001b[39m \u001b[38;5;28;43mint\u001b[39;49m\u001b[43m(\u001b[49m\u001b[38;5;124;43m\"\u001b[39;49m\u001b[38;5;124;43m world\u001b[39;49m\u001b[38;5;124;43m\"\u001b[39;49m\u001b[43m)\u001b[49m\n\u001b[0;32m      4\u001b[0m d \u001b[38;5;241m=\u001b[39m a \u001b[38;5;241m+\u001b[39m b \u001b[38;5;241m+\u001b[39m c\n\u001b[0;32m      5\u001b[0m d\n",
      "\u001b[1;31mValueError\u001b[0m: invalid literal for int() with base 10: ' world'"
     ]
    }
   ],
   "source": [
    "a = str(5)\n",
    "b = str('Hello')\n",
    "c = int(\" world\")\n",
    "d = a + b + c\n",
    "d"
   ]
  },
  {
   "cell_type": "code",
   "execution_count": 11,
   "id": "e8862336",
   "metadata": {},
   "outputs": [
    {
     "name": "stdout",
     "output_type": "stream",
     "text": [
      "value error\n"
     ]
    }
   ],
   "source": [
    "try :\n",
    "    a = str(5)\n",
    "    b = str('Hello')\n",
    "    c = int(\" world\")\n",
    "    d = a + b + c\n",
    "    d\n",
    "\n",
    "except TypeError :\n",
    "    print(\"type error thrown\")\n",
    "    \n",
    "except NameError :\n",
    "    print('name error thrown')\n",
    "\n",
    "except ValueError :\n",
    "    print(\"value error\")"
   ]
  },
  {
   "cell_type": "code",
   "execution_count": 13,
   "id": "9224d45b",
   "metadata": {},
   "outputs": [
    {
     "name": "stdout",
     "output_type": "stream",
     "text": [
      "Enter number66\n"
     ]
    },
    {
     "ename": "Exception",
     "evalue": "Value is greater than 5 and value is 66",
     "output_type": "error",
     "traceback": [
      "\u001b[1;31m---------------------------------------------------------------------------\u001b[0m",
      "\u001b[1;31mException\u001b[0m                                 Traceback (most recent call last)",
      "Input \u001b[1;32mIn [13]\u001b[0m, in \u001b[0;36m<cell line: 3>\u001b[1;34m()\u001b[0m\n\u001b[0;32m      1\u001b[0m number \u001b[38;5;241m=\u001b[39m \u001b[38;5;28mint\u001b[39m(\u001b[38;5;28minput\u001b[39m(\u001b[38;5;124m\"\u001b[39m\u001b[38;5;124mEnter number\u001b[39m\u001b[38;5;124m\"\u001b[39m))\n\u001b[0;32m      3\u001b[0m \u001b[38;5;28;01mif\u001b[39;00m number \u001b[38;5;241m>\u001b[39m \u001b[38;5;241m5\u001b[39m :\n\u001b[1;32m----> 4\u001b[0m     \u001b[38;5;28;01mraise\u001b[39;00m \u001b[38;5;167;01mException\u001b[39;00m (\u001b[38;5;124m\"\u001b[39m\u001b[38;5;124mValue is greater than 5 and value is \u001b[39m\u001b[38;5;132;01m{}\u001b[39;00m\u001b[38;5;124m\"\u001b[39m\u001b[38;5;241m.\u001b[39m \u001b[38;5;28mformat\u001b[39m(number))\n",
      "\u001b[1;31mException\u001b[0m: Value is greater than 5 and value is 66"
     ]
    }
   ],
   "source": [
    "number = int(input(\"Enter number\"))\n",
    "\n",
    "if number > 5 :\n",
    "    raise Exception (\"Value is greater than 5 and value is {}\". format(number))"
   ]
  },
  {
   "cell_type": "code",
   "execution_count": 15,
   "id": "f11239a2",
   "metadata": {},
   "outputs": [
    {
     "name": "stdout",
     "output_type": "stream",
     "text": [
      "Enter number77\n",
      "cought the error Exception('Value is greater than 5 and value is 77')\n"
     ]
    }
   ],
   "source": [
    "number = int(input(\"Enter number\"))\n",
    "\n",
    "try :\n",
    "\n",
    "    if number > 5 :\n",
    "        raise Exception (\"Value is greater than 5 and value is {}\". format(number))\n",
    "        \n",
    "except Exception as error :\n",
    "    print(\"cought the error \" + repr(error))"
   ]
  },
  {
   "cell_type": "code",
   "execution_count": null,
   "id": "0af5c0e8",
   "metadata": {},
   "outputs": [],
   "source": []
  }
 ],
 "metadata": {
  "kernelspec": {
   "display_name": "Python 3 (ipykernel)",
   "language": "python",
   "name": "python3"
  },
  "language_info": {
   "codemirror_mode": {
    "name": "ipython",
    "version": 3
   },
   "file_extension": ".py",
   "mimetype": "text/x-python",
   "name": "python",
   "nbconvert_exporter": "python",
   "pygments_lexer": "ipython3",
   "version": "3.11.3"
  }
 },
 "nbformat": 4,
 "nbformat_minor": 5
}
