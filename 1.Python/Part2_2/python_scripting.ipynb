{
 "cells": [
  {
   "cell_type": "code",
   "execution_count": 1,
   "id": "c965454b",
   "metadata": {},
   "outputs": [],
   "source": [
    "num_list = [1,2,3,4,5]"
   ]
  },
  {
   "cell_type": "code",
   "execution_count": 2,
   "id": "d81a32e7",
   "metadata": {},
   "outputs": [],
   "source": [
    "def main():\n",
    "    count = 0\n",
    "    total = 0\n",
    "    for i in num_list :\n",
    "        count = count + 1\n",
    "        total = total + i\n",
    "        \n",
    "        print(\"Element is \",i)\n",
    "        print(\" \")\n",
    "        print(\"Sum is \", total)\n",
    "        print(\" \")\n",
    "    print(\"Total sum is \",total)"
   ]
  },
  {
   "cell_type": "code",
   "execution_count": 3,
   "id": "e9bef669",
   "metadata": {},
   "outputs": [
    {
     "name": "stdout",
     "output_type": "stream",
     "text": [
      "Element is  1\n",
      " \n",
      "Sum is  1\n",
      " \n",
      "Element is  2\n",
      " \n",
      "Sum is  3\n",
      " \n",
      "Element is  3\n",
      " \n",
      "Sum is  6\n",
      " \n",
      "Element is  4\n",
      " \n",
      "Sum is  10\n",
      " \n",
      "Element is  5\n",
      " \n",
      "Sum is  15\n",
      " \n",
      "Total sum is  15\n"
     ]
    }
   ],
   "source": [
    "main()"
   ]
  },
  {
   "cell_type": "code",
   "execution_count": 4,
   "id": "6bfb4f00",
   "metadata": {},
   "outputs": [
    {
     "name": "stdout",
     "output_type": "stream",
     "text": [
      "Element is  1\n",
      " \n",
      "Sum is  1\n",
      " \n",
      "Element is  2\n",
      " \n",
      "Sum is  3\n",
      " \n",
      "Element is  3\n",
      " \n",
      "Sum is  6\n",
      " \n",
      "Element is  4\n",
      " \n",
      "Sum is  10\n",
      " \n",
      "Element is  5\n",
      " \n",
      "Sum is  15\n",
      " \n",
      "Total sum is  15\n"
     ]
    }
   ],
   "source": [
    "if __name__ == \"__main__\":\n",
    "    main()"
   ]
  },
  {
   "cell_type": "code",
   "execution_count": null,
   "id": "50cd738b",
   "metadata": {},
   "outputs": [],
   "source": []
  }
 ],
 "metadata": {
  "kernelspec": {
   "display_name": "Python 3 (ipykernel)",
   "language": "python",
   "name": "python3"
  },
  "language_info": {
   "codemirror_mode": {
    "name": "ipython",
    "version": 3
   },
   "file_extension": ".py",
   "mimetype": "text/x-python",
   "name": "python",
   "nbconvert_exporter": "python",
   "pygments_lexer": "ipython3",
   "version": "3.11.3"
  }
 },
 "nbformat": 4,
 "nbformat_minor": 5
}
