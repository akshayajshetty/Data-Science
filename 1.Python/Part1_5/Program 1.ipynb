{
 "cells": [
  {
   "cell_type": "code",
   "execution_count": 1,
   "id": "dcd5219f",
   "metadata": {},
   "outputs": [
    {
     "name": "stdout",
     "output_type": "stream",
     "text": [
      "Enter your salary : 23000\n",
      "Enter your Monthly expenses :8000\n",
      "My total savings is : 15000\n"
     ]
    }
   ],
   "source": [
    "salary = int(input(\"Enter your salary : \"))\n",
    "expenses = int(input(\"Enter your Monthly expenses :\"))\n",
    "savings = salary - expenses\n",
    "\n",
    "print(f\"My total savings is : {savings}\")"
   ]
  },
  {
   "cell_type": "code",
   "execution_count": 6,
   "id": "da205b9e",
   "metadata": {},
   "outputs": [
    {
     "name": "stdout",
     "output_type": "stream",
     "text": [
      "Enter number2\n",
      "2 + 22 + 222 = 246\n"
     ]
    }
   ],
   "source": [
    "num = int(input(\"Enter number\"))\n",
    "temp1 = str(num)\n",
    "temp2 = temp1 + temp1\n",
    "temp3 = temp1 + temp1 + temp1\n",
    "total = num + (int(temp2) + int(temp3))\n",
    "print(temp1, \"+\" ,temp2 , \"+\" ,temp3, \"=\", total)"
   ]
  },
  {
   "cell_type": "code",
   "execution_count": 15,
   "id": "6c1698b9",
   "metadata": {},
   "outputs": [
    {
     "name": "stdout",
     "output_type": "stream",
     "text": [
      "Enter your height in cm : 168\n",
      "Your height in inches :  66.19\n",
      "Your height in feet :  5.44\n"
     ]
    }
   ],
   "source": [
    "cm = int(input(\"Enter your height in cm : \"))\n",
    "inches = 0.394 * cm\n",
    "feet = 0.0324 * cm\n",
    "\n",
    "print(\"Your height in inches : \", round(inches,2))\n",
    "print(\"Your height in feet : \", round(feet,2))"
   ]
  },
  {
   "cell_type": "code",
   "execution_count": null,
   "id": "98d13b76",
   "metadata": {},
   "outputs": [],
   "source": []
  }
 ],
 "metadata": {
  "kernelspec": {
   "display_name": "Python 3 (ipykernel)",
   "language": "python",
   "name": "python3"
  },
  "language_info": {
   "codemirror_mode": {
    "name": "ipython",
    "version": 3
   },
   "file_extension": ".py",
   "mimetype": "text/x-python",
   "name": "python",
   "nbconvert_exporter": "python",
   "pygments_lexer": "ipython3",
   "version": "3.11.3"
  }
 },
 "nbformat": 4,
 "nbformat_minor": 5
}
