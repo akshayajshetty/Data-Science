{
 "cells": [
  {
   "cell_type": "code",
   "execution_count": 3,
   "id": "8deaf72e",
   "metadata": {},
   "outputs": [
    {
     "name": "stdout",
     "output_type": "stream",
     "text": [
      "if block executed\n"
     ]
    }
   ],
   "source": [
    "if 10 < 20 :\n",
    "    print(\"if block executed\")\n",
    "else :\n",
    "    print(\"else block executed\")"
   ]
  },
  {
   "cell_type": "code",
   "execution_count": 4,
   "id": "62c7e998",
   "metadata": {},
   "outputs": [
    {
     "name": "stdout",
     "output_type": "stream",
     "text": [
      "else block executed\n"
     ]
    }
   ],
   "source": [
    "if 10 > 20 :\n",
    "    print(\"if block exbb\n",
    "    print(\"else block executed\")"
   ]
  },
  {
   "cell_type": "code",
   "execution_count": 5,
   "id": "34049c87",
   "metadata": {},
   "outputs": [
    {
     "ename": "SyntaxError",
     "evalue": "invalid syntax (225372541.py, line 3)",
     "output_type": "error",
     "traceback": [
      "\u001b[1;36m  Input \u001b[1;32mIn [5]\u001b[1;36m\u001b[0m\n\u001b[1;33m    else :\u001b[0m\n\u001b[1;37m    ^\u001b[0m\n\u001b[1;31mSyntaxError\u001b[0m\u001b[1;31m:\u001b[0m invalid syntax\n"
     ]
    }
   ],
   "source": [
    " if 10 < 20 :\n",
    "    print(\"if block executed\")\n",
    "    else :\n",
    "        print(\"else block executed\")"
   ]
  },
  {
   "cell_type": "code",
   "execution_count": 33,
   "id": "f7f21646",
   "metadata": {},
   "outputs": [
    {
     "name": "stdout",
     "output_type": "stream",
     "text": [
      "Number before :  30\n",
      "Number after : 90\n"
     ]
    }
   ],
   "source": [
    "num = 30\n",
    "print(\"Number before : \", num)\n",
    "if num < 50 :\n",
    "    num = num * 3\n",
    "else :\n",
    "    num\n",
    "print(\"Number after :\", num)\n"
   ]
  },
  {
   "cell_type": "code",
   "execution_count": 35,
   "id": "f71fc2c0",
   "metadata": {},
   "outputs": [
    {
     "name": "stdout",
     "output_type": "stream",
     "text": [
      "Number before :  30\n",
      "Number after : 90\n"
     ]
    }
   ],
   "source": [
    "num = 30\n",
    "print(\"Number before : \", num)\n",
    "num = num * 3 if num < 50 else num\n",
    "print(\"Number after :\", num)   # Using Ternary operator"
   ]
  },
  {
   "cell_type": "code",
   "execution_count": 40,
   "id": "461a7666",
   "metadata": {},
   "outputs": [
    {
     "name": "stdout",
     "output_type": "stream",
     "text": [
      "20 is greter than 15\n"
     ]
    }
   ],
   "source": [
    "if 20 > 15 :\n",
    "    print(\"20 is greter than 15\")\n",
    "elif 15 < 20 :\n",
    "    print(\"15 is less than 20\")\n",
    "else :\n",
    "    print(\"else block executed\")"
   ]
  },
  {
   "cell_type": "code",
   "execution_count": 41,
   "id": "ccaa2c74",
   "metadata": {},
   "outputs": [],
   "source": [
    "x = 10\n",
    "y = 20\n",
    "z = 30"
   ]
  },
  {
   "cell_type": "code",
   "execution_count": 66,
   "id": "9f3e7f94",
   "metadata": {},
   "outputs": [
    {
     "name": "stdout",
     "output_type": "stream",
     "text": [
      "y is greater than x\n",
      "z is greater than both x & y\n"
     ]
    }
   ],
   "source": [
    "if x < y :\n",
    "    print(\"y is greater than x\")\n",
    "    if z > y :\n",
    "        print(\"z is greater than both x & y\")\n",
    "    else :\n",
    "        print(\"y is greter\")\n",
    "else :\n",
    "    print(\"x is not greater than y & z\")     # Nested if-else"
   ]
  },
  {
   "cell_type": "code",
   "execution_count": 56,
   "id": "ebb1d50f",
   "metadata": {},
   "outputs": [
    {
     "name": "stdout",
     "output_type": "stream",
     "text": [
      "Enter your age : 23\n",
      "Prepare for trip\n"
     ]
    }
   ],
   "source": [
    "age = int(input(\"Enter your age : \"))\n",
    "if age >= 20 :\n",
    "    if age > 25 :\n",
    "        print(\"Your too old\")\n",
    "    else :\n",
    "        print('Prepare for trip')\n",
    "else :\n",
    "    print(\"Too small\")"
   ]
  },
  {
   "cell_type": "code",
   "execution_count": 65,
   "id": "26a3d2e4",
   "metadata": {},
   "outputs": [
    {
     "name": "stdout",
     "output_type": "stream",
     "text": [
      "Enter yor total amount of online shipping80\n",
      "USA or CanadaCanada\n",
      "Shipping cost is 5\n"
     ]
    }
   ],
   "source": [
    "total = int(input('Enter yor total amount of online shipping'))\n",
    "country = input('USA or Canada')\n",
    "\n",
    "if country == \"USA\" :\n",
    "    if total <=50 :\n",
    "        print(\"Shipping cost is 12\")\n",
    "    elif total <= 100 :\n",
    "        print(\"Shipping cost is 10\")\n",
    "    else :\n",
    "        print(\"shipping free\")\n",
    "        \n",
    "if country == \"Canada\" :\n",
    "    if total <=50 :\n",
    "        print(\"Shipping cost is 10\")\n",
    "    elif total <= 100 :\n",
    "        print(\"Shipping cost is 5\")\n",
    "    else :\n",
    "        print(\"shipping free\")"
   ]
  },
  {
   "cell_type": "code",
   "execution_count": 81,
   "id": "e18359cf",
   "metadata": {},
   "outputs": [],
   "source": [
    "fruit_list = [ \"Apple\",\"Banana\",\"Orange\",\"Cherry\",\"Watermelon\"]    # list"
   ]
  },
  {
   "cell_type": "code",
   "execution_count": 69,
   "id": "c0595d5a",
   "metadata": {},
   "outputs": [
    {
     "name": "stdout",
     "output_type": "stream",
     "text": [
      "Yes!.\n"
     ]
    }
   ],
   "source": [
    "if \"Apple\" in fruit_list :\n",
    "    print(\"Yes!.\")\n",
    "else :\n",
    "    print(\"No!.\")"
   ]
  },
  {
   "cell_type": "code",
   "execution_count": 74,
   "id": "752faa58",
   "metadata": {},
   "outputs": [
    {
     "name": "stdout",
     "output_type": "stream",
     "text": [
      "Yes!.\n"
     ]
    }
   ],
   "source": [
    "if \"apple\" in fruit_list :\n",
    "    print(\"We need to check\")\n",
    "elif \"Apple\" in fruit_list :\n",
    "    print(\"Yes!.\")\n",
    "else :\n",
    "    print(\"No!.\")"
   ]
  },
  {
   "cell_type": "code",
   "execution_count": 79,
   "id": "2d23844c",
   "metadata": {},
   "outputs": [
    {
     "name": "stdout",
     "output_type": "stream",
     "text": [
      "correct\n"
     ]
    }
   ],
   "source": [
    "if fruit_list[2] == \"Orange\" :\n",
    "    print(\"correct\")\n",
    "else :\n",
    "    print(\"Not present\")"
   ]
  },
  {
   "cell_type": "code",
   "execution_count": 82,
   "id": "92defbc7",
   "metadata": {},
   "outputs": [
    {
     "data": {
      "text/plain": [
       "['Apple', 'Banana', 'Orange', 'Cherry', 'Watermelon', 'Grapes']"
      ]
     },
     "execution_count": 82,
     "metadata": {},
     "output_type": "execute_result"
    }
   ],
   "source": [
    "if fruit_list[2] == \"Orange\" :\n",
    "    fruit_list.append(\"Grapes\")\n",
    "else :\n",
    "    print(\"Not present\")\n",
    "fruit_list"
   ]
  },
  {
   "cell_type": "code",
   "execution_count": 83,
   "id": "3af81532",
   "metadata": {},
   "outputs": [
    {
     "data": {
      "text/plain": [
       "['Apple', 'Banana', 'Orange', 'Blueberry', 'Watermelon', 'Grapes']"
      ]
     },
     "execution_count": 83,
     "metadata": {},
     "output_type": "execute_result"
    }
   ],
   "source": [
    "if fruit_list[2] == \"Orange\" :\n",
    "    fruit_list[3] = \"Blueberry\"\n",
    "else :\n",
    "    print(\"Not present\")\n",
    "fruit_list"
   ]
  },
  {
   "cell_type": "code",
   "execution_count": 84,
   "id": "2d28a639",
   "metadata": {},
   "outputs": [],
   "source": [
    "car_tuple = (\"Audi\",\"Bently\",\"BMW\",\"Honda\",\"RR\",\"scoda\",)    # tuple"
   ]
  },
  {
   "cell_type": "code",
   "execution_count": 88,
   "id": "8f5979a1",
   "metadata": {},
   "outputs": [
    {
     "name": "stdout",
     "output_type": "stream",
     "text": [
      "It's present\n"
     ]
    }
   ],
   "source": [
    "if \"Bently\" in car_tuple :\n",
    "    print(\"It's present\")\n",
    "else :\n",
    "    print(\"Not present\")"
   ]
  },
  {
   "cell_type": "code",
   "execution_count": 90,
   "id": "e7df8664",
   "metadata": {},
   "outputs": [
    {
     "name": "stdout",
     "output_type": "stream",
     "text": [
      "It's present\n"
     ]
    }
   ],
   "source": [
    "if car_tuple[2] in car_tuple :\n",
    "    print(\"It's present\")\n",
    "else :\n",
    "    print(\"Not present\")\n",
    "    "
   ]
  },
  {
   "cell_type": "code",
   "execution_count": 92,
   "id": "4d2b1fc4",
   "metadata": {},
   "outputs": [
    {
     "name": "stdout",
     "output_type": "stream",
     "text": [
      "Both are present\n"
     ]
    }
   ],
   "source": [
    "if \"Audi\"in car_tuple and \"BMW\" in car_tuple :\n",
    "    print(\"Both are present\")\n",
    "else :\n",
    "    print(\"Not present\")"
   ]
  },
  {
   "cell_type": "code",
   "execution_count": 93,
   "id": "d8c43f76",
   "metadata": {},
   "outputs": [
    {
     "name": "stdout",
     "output_type": "stream",
     "text": [
      "One of the car is present\n"
     ]
    }
   ],
   "source": [
    "if \"jaguar\"in car_tuple or \"BMW\" in car_tuple :\n",
    "    print(\"One of the car is present\")\n",
    "else :\n",
    "    print(\"Not present\")"
   ]
  },
  {
   "cell_type": "code",
   "execution_count": 100,
   "id": "81cc460e",
   "metadata": {},
   "outputs": [],
   "source": [
    "bike_dict = {\"Honda\":\"1000\", \"Hero\":1200, \"Bajaj\":2000, \"Suzuki\":2300, \"Yamaha\":2400}"
   ]
  },
  {
   "cell_type": "code",
   "execution_count": 101,
   "id": "579be7d3",
   "metadata": {},
   "outputs": [
    {
     "name": "stdout",
     "output_type": "stream",
     "text": [
      "present\n"
     ]
    }
   ],
   "source": [
    "if \"Honda\" in bike_dict :\n",
    "    print(\"present\")\n",
    "else :\n",
    "    print(\"Not present\")"
   ]
  },
  {
   "cell_type": "code",
   "execution_count": 103,
   "id": "568a6c4d",
   "metadata": {},
   "outputs": [
    {
     "name": "stdout",
     "output_type": "stream",
     "text": [
      "BMW added\n"
     ]
    },
    {
     "data": {
      "text/plain": [
       "{'Honda': '1000',\n",
       " 'Hero': 1200,\n",
       " 'Bajaj': 2000,\n",
       " 'Suzuki': 2300,\n",
       " 'Yamaha': 2400,\n",
       " 'BMW': 5000}"
      ]
     },
     "execution_count": 103,
     "metadata": {},
     "output_type": "execute_result"
    }
   ],
   "source": [
    "if \"BMW\" in bike_dict :\n",
    "    print(\"present\")\n",
    "else :\n",
    "    bike_dict[\"BMW\"] = 5000\n",
    "    print(\"BMW added\")\n",
    "bike_dict"
   ]
  },
  {
   "cell_type": "code",
   "execution_count": 104,
   "id": "6dced68a",
   "metadata": {},
   "outputs": [],
   "source": [
    "details = [[\"a\",\"b\",\"c\"],[10,20,30],[1000,2000,3000]]"
   ]
  },
  {
   "cell_type": "code",
   "execution_count": null,
   "id": "aa5812fc",
   "metadata": {},
   "outputs": [],
   "source": []
  }
 ],
 "metadata": {
  "kernelspec": {
   "display_name": "Python 3 (ipykernel)",
   "language": "python",
   "name": "python3"
  },
  "language_info": {
   "codemirror_mode": {
    "name": "ipython",
    "version": 3
   },
   "file_extension": ".py",
   "mimetype": "text/x-python",
   "name": "python",
   "nbconvert_exporter": "python",
   "pygments_lexer": "ipython3",
   "version": "3.11.3"
  }
 },
 "nbformat": 4,
 "nbformat_minor": 5
}
