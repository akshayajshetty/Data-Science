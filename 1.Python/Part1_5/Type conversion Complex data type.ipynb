{
 "cells": [
  {
   "cell_type": "code",
   "execution_count": 3,
   "id": "0054cf49",
   "metadata": {},
   "outputs": [
    {
     "name": "stdout",
     "output_type": "stream",
     "text": [
      "Python\n",
      "['P', 'y', 't', 'h', 'o', 'n']\n"
     ]
    }
   ],
   "source": [
    "new_str = \"Python\"\n",
    "print(new_str)\n",
    "\n",
    "new_str_to_list = list(new_str)\n",
    "print(new_str_to_list)                        \n",
    "print(type(new_str_to_list))                # str to list                                 "
   ]
  },
  {
   "cell_type": "code",
   "execution_count": 4,
   "id": "d722f4bc",
   "metadata": {},
   "outputs": [
    {
     "name": "stdout",
     "output_type": "stream",
     "text": [
      "<class 'str'>\n",
      "<class 'list'>\n"
     ]
    }
   ],
   "source": [
    "print(type(new_str))\n",
    "print(type(new_str_to_list))"
   ]
  },
  {
   "cell_type": "code",
   "execution_count": 5,
   "id": "5e336311",
   "metadata": {},
   "outputs": [
    {
     "ename": "TypeError",
     "evalue": "list expected at most 1 argument, got 4",
     "output_type": "error",
     "traceback": [
      "\u001b[1;31m---------------------------------------------------------------------------\u001b[0m",
      "\u001b[1;31mTypeError\u001b[0m                                 Traceback (most recent call last)",
      "Input \u001b[1;32mIn [5]\u001b[0m, in \u001b[0;36m<cell line: 1>\u001b[1;34m()\u001b[0m\n\u001b[1;32m----> 1\u001b[0m \u001b[38;5;28;43mlist\u001b[39;49m\u001b[43m(\u001b[49m\u001b[38;5;241;43m1\u001b[39;49m\u001b[43m,\u001b[49m\u001b[38;5;241;43m2\u001b[39;49m\u001b[43m,\u001b[49m\u001b[38;5;241;43m3\u001b[39;49m\u001b[43m,\u001b[49m\u001b[38;5;241;43m4\u001b[39;49m\u001b[43m)\u001b[49m\n",
      "\u001b[1;31mTypeError\u001b[0m: list expected at most 1 argument, got 4"
     ]
    }
   ],
   "source": [
    "list(1,2,3,4)"
   ]
  },
  {
   "cell_type": "code",
   "execution_count": 6,
   "id": "47561077",
   "metadata": {},
   "outputs": [
    {
     "data": {
      "text/plain": [
       "[1, 2, 3, 4, 5]"
      ]
     },
     "execution_count": 6,
     "metadata": {},
     "output_type": "execute_result"
    }
   ],
   "source": [
    "list((1,2,3,4,5))"
   ]
  },
  {
   "cell_type": "code",
   "execution_count": 7,
   "id": "48bf3ad0",
   "metadata": {},
   "outputs": [
    {
     "name": "stdout",
     "output_type": "stream",
     "text": [
      "('Red', 'White', 1, 2, 3, 4, 5)\n",
      "['Red', 'White', 1, 2, 3, 4, 5]\n"
     ]
    }
   ],
   "source": [
    "new_tuple = (\"Red\", \"White\", 1,2,3,4,5)\n",
    "print(new_tuple)\n",
    "\n",
    "new_tuple_to_list = list(new_tuple)\n",
    "print(type(new_tuple_to_list))             # tuple to list"
   ]
  },
  {
   "cell_type": "code",
   "execution_count": 8,
   "id": "2b783166",
   "metadata": {},
   "outputs": [
    {
     "name": "stdout",
     "output_type": "stream",
     "text": [
      "<class 'tuple'>\n",
      "<class 'list'>\n"
     ]
    }
   ],
   "source": [
    "print(type(new_tuple))\n",
    "print(type(new_tuple_to_list))"
   ]
  },
  {
   "cell_type": "code",
   "execution_count": 13,
   "id": "78586720",
   "metadata": {},
   "outputs": [
    {
     "name": "stdout",
     "output_type": "stream",
     "text": [
      "['Apple', 'Orange', 1, 2, 3, 4]\n",
      "('Apple', 'Orange', 1, 2, 3, 4)\n"
     ]
    }
   ],
   "source": [
    "new_list = [\"Apple\",\"Orange\", 1,2,3,4]\n",
    "print(new_list)\n",
    "\n",
    "new_list_to_tuple = tuple(new_list)\n",
    "print((new_list_to_tuple))              # list to tuple"
   ]
  },
  {
   "cell_type": "code",
   "execution_count": 14,
   "id": "8dbbe462",
   "metadata": {},
   "outputs": [
    {
     "name": "stdout",
     "output_type": "stream",
     "text": [
      "<class 'list'>\n",
      "<class 'tuple'>\n"
     ]
    }
   ],
   "source": [
    "print(type(new_list))\n",
    "print(type(new_list_to_tuple))"
   ]
  },
  {
   "cell_type": "code",
   "execution_count": 15,
   "id": "3ba8213e",
   "metadata": {},
   "outputs": [
    {
     "name": "stdout",
     "output_type": "stream",
     "text": [
      "[['Apple', 'Orange'], [1, 2, 3, 4], ['car', 'Bike']]\n",
      "(['Apple', 'Orange'], [1, 2, 3, 4], ['car', 'Bike'])\n"
     ]
    }
   ],
   "source": [
    "new_list_1 = [[\"Apple\",\"Orange\"], [1,2,3,4], [\"car\",\"Bike\"]]\n",
    "print(new_list_1)\n",
    "\n",
    "new_list_1_to_tuple = tuple(new_list_1)\n",
    "print((new_list_1_to_tuple)) "
   ]
  },
  {
   "cell_type": "code",
   "execution_count": 16,
   "id": "38f53c35",
   "metadata": {},
   "outputs": [
    {
     "name": "stdout",
     "output_type": "stream",
     "text": [
      "('Apple', 'Orange')\n"
     ]
    }
   ],
   "source": [
    "new_list_1_to_tuple = tuple(new_list_1[0])\n",
    "print((new_list_1_to_tuple))                       # Converting inner list to tuple"
   ]
  },
  {
   "cell_type": "code",
   "execution_count": 21,
   "id": "b5a2e87f",
   "metadata": {},
   "outputs": [
    {
     "name": "stdout",
     "output_type": "stream",
     "text": [
      "(('car', 1), ('Bike', 2), ('Train', 3), ('ship', 4))\n",
      "{'car': 1, 'Bike': 2, 'Train': 3, 'ship': 4}\n"
     ]
    }
   ],
   "source": [
    "my_tuple = ((\"car\",1),(\"Bike\",2),(\"Train\",3),(\"ship\",4))\n",
    "print(my_tuple)\n",
    "\n",
    "my_dict = dict(my_tuple)\n",
    "print(my_dict)"
   ]
  },
  {
   "cell_type": "code",
   "execution_count": 22,
   "id": "3e16cd57",
   "metadata": {},
   "outputs": [
    {
     "name": "stdout",
     "output_type": "stream",
     "text": [
      "(('car', 1), ('Bike', 2), ('Train', 3), ('ship', 4))\n",
      "{'car': 1, 'Bike': 2, 'Train': 3, 'ship': 4, 'a': 8}\n"
     ]
    }
   ],
   "source": [
    "my_tuple_1 = ((\"car\",1),(\"Bike\",2),(\"Train\",3),(\"ship\",4),[\"a\",8])\n",
    "print(my_tuple)\n",
    "\n",
    "my_dict_1 = dict(my_tuple_1)\n",
    "print(my_dict_1)"
   ]
  },
  {
   "cell_type": "code",
   "execution_count": 1,
   "id": "2231a63f",
   "metadata": {},
   "outputs": [
    {
     "name": "stdout",
     "output_type": "stream",
     "text": [
      "('Red', 'White', 1, 2, 3, 4, 5, 'Red', 1, 3, 2)\n",
      "{'White', 1, 2, 3, 4, 5, 'Red'}\n"
     ]
    }
   ],
   "source": [
    "new_tuple = (\"Red\", \"White\", 1,2,3,4,5,\"Red\",1,3,2)\n",
    "print(new_tuple)\n",
    "\n",
    "new_set = set(new_tuple)\n",
    "print(new_set)"
   ]
  },
  {
   "cell_type": "code",
   "execution_count": 3,
   "id": "ba7ac71a",
   "metadata": {},
   "outputs": [
    {
     "data": {
      "text/plain": [
       "set"
      ]
     },
     "execution_count": 3,
     "metadata": {},
     "output_type": "execute_result"
    }
   ],
   "source": [
    "type(new_set)"
   ]
  },
  {
   "cell_type": "code",
   "execution_count": null,
   "id": "47c26124",
   "metadata": {},
   "outputs": [],
   "source": []
  }
 ],
 "metadata": {
  "kernelspec": {
   "display_name": "Python 3 (ipykernel)",
   "language": "python",
   "name": "python3"
  },
  "language_info": {
   "codemirror_mode": {
    "name": "ipython",
    "version": 3
   },
   "file_extension": ".py",
   "mimetype": "text/x-python",
   "name": "python",
   "nbconvert_exporter": "python",
   "pygments_lexer": "ipython3",
   "version": "3.11.3"
  }
 },
 "nbformat": 4,
 "nbformat_minor": 5
}
