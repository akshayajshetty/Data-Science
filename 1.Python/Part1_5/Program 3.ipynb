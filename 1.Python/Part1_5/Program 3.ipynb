{
 "cells": [
  {
   "cell_type": "code",
   "execution_count": 3,
   "id": "303e20ec",
   "metadata": {},
   "outputs": [
    {
     "name": "stdout",
     "output_type": "stream",
     "text": [
      "{1: 1, 2: 4, 3: 9, 4: 16}\n"
     ]
    }
   ],
   "source": [
    "num_dict = {}\n",
    "num_dict[1] = 1\n",
    "num_dict[2] = 2 ** 2\n",
    "num_dict[3] = 3 ** 2\n",
    "num_dict[4] = 4 ** 2\n",
    "\n",
    "print(num_dict)                    # Adding elements to dictionary"
   ]
  },
  {
   "cell_type": "code",
   "execution_count": 7,
   "id": "d543bb0b",
   "metadata": {},
   "outputs": [
    {
     "name": "stdout",
     "output_type": "stream",
     "text": [
      "comman word is {'p', 'i', 'l', 'd', 'o', 'H', 'h', 'y', 'r', 'n', 't', ' '}\n"
     ]
    }
   ],
   "source": [
    "str_1 = (\"Hi python how are you. Python reply good\")\n",
    "str_2 = (\"Hi python World\")\n",
    "\n",
    "set_1 = set(str_1)\n",
    "set_2 = set(str_2)\n",
    "\n",
    "comman_word = set_1.intersection(set_2)\n",
    "print(\"comman word is\",comman_word)                      # finding the comman characters"
   ]
  },
  {
   "cell_type": "code",
   "execution_count": 8,
   "id": "fb171ba9",
   "metadata": {},
   "outputs": [
    {
     "name": "stdout",
     "output_type": "stream",
     "text": [
      "[1, 2, 3, 4, 5, 6, 7, 8]\n",
      "[1, 2, 3, 4]\n",
      "[5, 6, 7, 8]\n"
     ]
    }
   ],
   "source": [
    "list_1 = [1,2,3,4,5,6,7,8]\n",
    "list_len = len(list_1)\n",
    "print(list_1)\n",
    "\n",
    "half = int(list_len /2)\n",
    "\n",
    "new_list_1 = list_1[:half]\n",
    "new_list_2 = list_1[half:]\n",
    "\n",
    "print(new_list_1)\n",
    "print(new_list_2)                                  # Splitting 1 list to 2 list"
   ]
  },
  {
   "cell_type": "code",
   "execution_count": 12,
   "id": "a18501b8",
   "metadata": {},
   "outputs": [
    {
     "name": "stdout",
     "output_type": "stream",
     "text": [
      "Enterany number : 0.0000002\n",
      "Positive number\n"
     ]
    }
   ],
   "source": [
    "number = float(input(\"Enterany number : \"))\n",
    "\n",
    "if number >=0 :\n",
    "    if number == 0 :\n",
    "        print(\"Number is Zero\")\n",
    "    else :\n",
    "        print(\"Positive number\")\n",
    "else :\n",
    "    print(\"Negative number\")          # Posive or negative number"
   ]
  },
  {
   "cell_type": "code",
   "execution_count": 18,
   "id": "2e7065d0",
   "metadata": {},
   "outputs": [
    {
     "name": "stdout",
     "output_type": "stream",
     "text": [
      "Integer\n"
     ]
    }
   ],
   "source": [
    "var = 2\n",
    "\n",
    "if type(var) == int :\n",
    "    print(\"Integer\")\n",
    "elif type(var) == float :\n",
    "    print(\"Floating\")\n",
    "elif type(var) == bool :\n",
    "    print(\"Boolean\")\n",
    "elif type(var) == complex :\n",
    "    print(\"Complex\")\n",
    "else :\n",
    "    print(\"unknown\")               # Finding type of variable"
   ]
  },
  {
   "cell_type": "code",
   "execution_count": 28,
   "id": "47ebb70e",
   "metadata": {},
   "outputs": [
    {
     "name": "stdout",
     "output_type": "stream",
     "text": [
      "Enter a number : 1.2\n",
      "Enter operator : +\n",
      "Enter a number : 1.2\n",
      "Addition 2.4\n"
     ]
    }
   ],
   "source": [
    "number1 = float(input(\"Enter a number : \"))\n",
    "operator = input(\"Enter operator : \")\n",
    "number2 = float(input(\"Enter a number : \"))\n",
    "\n",
    "if operator == \"+\":\n",
    "    print('Addition', number1+number2)\n",
    "elif operator == \"-\":\n",
    "    print('Subtraction', number1-number2)\n",
    "elif operator == \"*\":\n",
    "    print('Multiplication', number1*number2)\n",
    "elif operator == \"/\":\n",
    "    print('Division', number1/number2)\n",
    "else :\n",
    "    print(\"Not valid operator\")         # simple calculator"
   ]
  },
  {
   "cell_type": "code",
   "execution_count": 33,
   "id": "cd1089c9",
   "metadata": {},
   "outputs": [
    {
     "name": "stdout",
     "output_type": "stream",
     "text": [
      "Enter number : 24\n",
      "Not divisible by boyh 5 and 7\n"
     ]
    }
   ],
   "source": [
    "num = int(input(\"Enter number : \"))\n",
    "\n",
    "if num % 5 == 0 and num % 7 ==0 :\n",
    "    print(\"Number is divisible by both 5 and 7\")\n",
    "elif num % 5 == 0 :\n",
    "    print(\"Number divisible only by 5\")\n",
    "elif num % 7 == 0 :\n",
    "    print(\"Number divisible only by 7\")\n",
    "else :\n",
    "    print(\"Not divisible by boyh 5 and 7\")               # Divisible by both number"
   ]
  },
  {
   "cell_type": "code",
   "execution_count": null,
   "id": "52c49111",
   "metadata": {},
   "outputs": [],
   "source": []
  }
 ],
 "metadata": {
  "kernelspec": {
   "display_name": "Python 3 (ipykernel)",
   "language": "python",
   "name": "python3"
  },
  "language_info": {
   "codemirror_mode": {
    "name": "ipython",
    "version": 3
   },
   "file_extension": ".py",
   "mimetype": "text/x-python",
   "name": "python",
   "nbconvert_exporter": "python",
   "pygments_lexer": "ipython3",
   "version": "3.11.3"
  }
 },
 "nbformat": 4,
 "nbformat_minor": 5
}
