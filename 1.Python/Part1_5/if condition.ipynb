{
 "cells": [
  {
   "cell_type": "code",
   "execution_count": 1,
   "id": "d6312e29",
   "metadata": {},
   "outputs": [
    {
     "name": "stdout",
     "output_type": "stream",
     "text": [
      "10 is less than 15\n"
     ]
    }
   ],
   "source": [
    "if 10 < 15 :\n",
    "    print(\"10 is less than 15\")"
   ]
  },
  {
   "cell_type": "code",
   "execution_count": 2,
   "id": "927526c6",
   "metadata": {},
   "outputs": [
    {
     "name": "stdout",
     "output_type": "stream",
     "text": [
      "70 is gretter than 50\n"
     ]
    }
   ],
   "source": [
    "if 70 > 20+30 :\n",
    "    print(\"70 is gretter than 50\")"
   ]
  },
  {
   "cell_type": "code",
   "execution_count": 3,
   "id": "613d0c0d",
   "metadata": {},
   "outputs": [
    {
     "ename": "IndentationError",
     "evalue": "expected an indented block (3866777799.py, line 2)",
     "output_type": "error",
     "traceback": [
      "\u001b[1;36m  Input \u001b[1;32mIn [3]\u001b[1;36m\u001b[0m\n\u001b[1;33m    print(\"50 is gretter than 30\")\u001b[0m\n\u001b[1;37m    ^\u001b[0m\n\u001b[1;31mIndentationError\u001b[0m\u001b[1;31m:\u001b[0m expected an indented block\n"
     ]
    }
   ],
   "source": [
    "if 50 > 30 :\n",
    "print(\"50 is gretter than 30\")"
   ]
  },
  {
   "cell_type": "code",
   "execution_count": 5,
   "id": "69c111ef",
   "metadata": {},
   "outputs": [],
   "source": [
    "x_value = 50\n",
    "y_value = 60"
   ]
  },
  {
   "cell_type": "code",
   "execution_count": 6,
   "id": "521fa376",
   "metadata": {},
   "outputs": [
    {
     "name": "stdout",
     "output_type": "stream",
     "text": [
      "x is less than y\n"
     ]
    }
   ],
   "source": [
    "if x_value < y_value :\n",
    "    print(\"x is less than y\")"
   ]
  },
  {
   "cell_type": "code",
   "execution_count": 7,
   "id": "1d8d3e17",
   "metadata": {},
   "outputs": [],
   "source": [
    "if x_value > y_value :\n",
    "    print(\"x is less than y\")"
   ]
  },
  {
   "cell_type": "code",
   "execution_count": 8,
   "id": "ff97d7ec",
   "metadata": {},
   "outputs": [],
   "source": [
    "New_string = \"Hello Python World\""
   ]
  },
  {
   "cell_type": "code",
   "execution_count": 10,
   "id": "4202c5bd",
   "metadata": {},
   "outputs": [
    {
     "name": "stdout",
     "output_type": "stream",
     "text": [
      "Python present in New_string\n"
     ]
    }
   ],
   "source": [
    "if \"Python\" in New_string:\n",
    "    print(\"Python present in New_string\")"
   ]
  },
  {
   "cell_type": "code",
   "execution_count": 11,
   "id": "f6bc8314",
   "metadata": {},
   "outputs": [],
   "source": [
    "if \"PythonWorld\" in New_string:\n",
    "    print(\"Python present in New_string\")"
   ]
  },
  {
   "cell_type": "code",
   "execution_count": 12,
   "id": "1f1c61f8",
   "metadata": {},
   "outputs": [
    {
     "name": "stdout",
     "output_type": "stream",
     "text": [
      "Python present in New_string\n"
     ]
    }
   ],
   "source": [
    "if \"Python World\" in New_string:\n",
    "    print(\"Python present in New_string\")"
   ]
  },
  {
   "cell_type": "code",
   "execution_count": 13,
   "id": "cc1005ed",
   "metadata": {},
   "outputs": [],
   "source": [
    "car_list = [\"Honda\",\"RR\",\"Audi\",\"Benz\",\"BMW\"]"
   ]
  },
  {
   "cell_type": "code",
   "execution_count": 16,
   "id": "4f5658f6",
   "metadata": {},
   "outputs": [
    {
     "name": "stdout",
     "output_type": "stream",
     "text": [
      "yes is there!\n"
     ]
    }
   ],
   "source": [
    "if \"BMW\" in car_list :\n",
    "    print(\"yes is there!\")"
   ]
  },
  {
   "cell_type": "code",
   "execution_count": 17,
   "id": "ec682ea6",
   "metadata": {},
   "outputs": [],
   "source": [
    "if \"Swift\" in car_list :\n",
    "    print(\"yes is there!\")"
   ]
  },
  {
   "cell_type": "code",
   "execution_count": 18,
   "id": "9f0b25c3",
   "metadata": {},
   "outputs": [],
   "source": [
    "fruit_tuple = (\"Apple\",\"Grapes\",\"Orange\",\"Cherry\",\"Banana\")"
   ]
  },
  {
   "cell_type": "code",
   "execution_count": 19,
   "id": "fe848724",
   "metadata": {},
   "outputs": [
    {
     "name": "stdout",
     "output_type": "stream",
     "text": [
      "Yes is there!\n"
     ]
    }
   ],
   "source": [
    "if \"Apple\" in fruit_tuple :\n",
    "    print(\"Yes is there!\")"
   ]
  },
  {
   "cell_type": "code",
   "execution_count": 20,
   "id": "e9942903",
   "metadata": {},
   "outputs": [],
   "source": [
    "if \"BlueBerry\" in fruit_tuple :\n",
    "    print(\"Yes is there!\")"
   ]
  },
  {
   "cell_type": "code",
   "execution_count": 21,
   "id": "dd3b99de",
   "metadata": {},
   "outputs": [],
   "source": [
    "bike_dict = {\"Honda\" : 2000, \"Bajaj\" : 3000, \"Hero\" : 1000, \"RE\" : 4000}"
   ]
  },
  {
   "cell_type": "code",
   "execution_count": 22,
   "id": "c3a0922d",
   "metadata": {},
   "outputs": [
    {
     "name": "stdout",
     "output_type": "stream",
     "text": [
      "Yes is there!\n"
     ]
    }
   ],
   "source": [
    "if \"Honda\" in bike_dict :\n",
    "    print(\"Yes is there!\")"
   ]
  },
  {
   "cell_type": "code",
   "execution_count": 24,
   "id": "a9fe9676",
   "metadata": {},
   "outputs": [
    {
     "name": "stdout",
     "output_type": "stream",
     "text": [
      "Honda's value is 2000\n"
     ]
    }
   ],
   "source": [
    "if \"Honda\" in bike_dict :\n",
    "    print(\"Honda's value is\" , bike_dict[\"Honda\"])"
   ]
  },
  {
   "cell_type": "code",
   "execution_count": null,
   "id": "ed8f1499",
   "metadata": {},
   "outputs": [],
   "source": []
  }
 ],
 "metadata": {
  "kernelspec": {
   "display_name": "Python 3 (ipykernel)",
   "language": "python",
   "name": "python3"
  },
  "language_info": {
   "codemirror_mode": {
    "name": "ipython",
    "version": 3
   },
   "file_extension": ".py",
   "mimetype": "text/x-python",
   "name": "python",
   "nbconvert_exporter": "python",
   "pygments_lexer": "ipython3",
   "version": "3.11.3"
  }
 },
 "nbformat": 4,
 "nbformat_minor": 5
}
