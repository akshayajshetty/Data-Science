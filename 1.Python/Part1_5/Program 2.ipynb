{
 "cells": [
  {
   "cell_type": "code",
   "execution_count": 1,
   "id": "0fe5b8a0",
   "metadata": {},
   "outputs": [
    {
     "name": "stdout",
     "output_type": "stream",
     "text": [
      "Before swap, ['Honda', 'RR', 'BMW', 'RangeRovwer']\n",
      "After swap,['BMW', 'RR', 'Honda', 'RangeRovwer']\n"
     ]
    }
   ],
   "source": [
    "car = [\"Honda\",\"RR\",\"BMW\",\"RangeRovwer\"]\n",
    "print(f\"Before swap, {car}\")\n",
    "temp = car[0]\n",
    "car[0] = car[2]\n",
    "car[2] = temp\n",
    "print(f\"After swap,{car}\")                                  # Swaping element using temp"
   ]
  },
  {
   "cell_type": "code",
   "execution_count": 3,
   "id": "e89740f3",
   "metadata": {},
   "outputs": [
    {
     "name": "stdout",
     "output_type": "stream",
     "text": [
      "Before swap, ['Honda', 'RR', 'BMW', 'RangeRovwer', 'Benz']\n",
      "After swap,['BMW', 'RR', 'Honda', 'RangeRovwer', 'Benz']\n"
     ]
    }
   ],
   "source": [
    "car = [\"Honda\",\"RR\",\"BMW\",\"RangeRovwer\",\"Benz\"]\n",
    "print(f\"Before swap, {car}\")\n",
    "\n",
    "car[0],car[2] = car[2],car[0]\n",
    "print(f\"After swap,{car}\")                                # Swaping elements using index meyhod"
   ]
  },
  {
   "cell_type": "code",
   "execution_count": 1,
   "id": "c63d8bab",
   "metadata": {},
   "outputs": [
    {
     "name": "stdout",
     "output_type": "stream",
     "text": [
      "Bike list before remove duplicates ['Honda', 'Bajaj', 'yamaha', 'RE', 'Honda', 'RE']\n",
      "Total bike 6\n",
      "Bike list After remove duplicates ['RE', 'yamaha', 'Bajaj', 'Honda']\n",
      "Total bike 4\n",
      "Total duplicates 2\n"
     ]
    }
   ],
   "source": [
    "bike_list = [\"Honda\",\"Bajaj\",\"yamaha\",\"RE\",\"Honda\",\"RE\"]\n",
    "print(\"Bike list before remove duplicates\", bike_list)\n",
    "print(\"Total bike\",len(bike_list))\n",
    "\n",
    "bike_set = set(bike_list)\n",
    "print(\"Bike list After remove duplicates\", list(bike_set))\n",
    "print(\"Total bike\",len(bike_set))                         # remove duplicates from list\n",
    "print(\"Total duplicates\", len(bike_list) - len(bike_set))"
   ]
  },
  {
   "cell_type": "code",
   "execution_count": 4,
   "id": "40539857-3069-46c6-871e-4508376dba21",
   "metadata": {},
   "outputs": [
    {
     "data": {
      "text/plain": [
       "2"
      ]
     },
     "execution_count": 4,
     "metadata": {},
     "output_type": "execute_result"
    }
   ],
   "source": [
    "duplicate = len(bike_list) - len(set(bike_list))\n",
    "duplicate                                                    # Using len() function"
   ]
  },
  {
   "cell_type": "code",
   "execution_count": 12,
   "id": "464d274a",
   "metadata": {},
   "outputs": [
    {
     "name": "stdout",
     "output_type": "stream",
     "text": [
      "There are 2 duplicates\n"
     ]
    }
   ],
   "source": [
    "bike_list = [\"Honda\",\"Bajaj\",\"yamaha\",\"RE\",\"Honda\",\"RE\"]\n",
    "\n",
    "len_list = len(bike_list)\n",
    "len_set = len(set(bike_list))\n",
    "\n",
    "if len_set == len_list :\n",
    "    print(\"No duplicates\")\n",
    "else :\n",
    "    print(f\"There are {len_list - len_set} duplicates\")   # cunt the duplicate value"
   ]
  },
  {
   "cell_type": "code",
   "execution_count": 16,
   "id": "1e70b27d",
   "metadata": {},
   "outputs": [
    {
     "name": "stdout",
     "output_type": "stream",
     "text": [
      "Enter number from user : 3544\n",
      "Even numver\n"
     ]
    }
   ],
   "source": [
    "number = int(input(\"Enter number from user : \"))\n",
    "\n",
    "if number % 2 == 0 :\n",
    "    print('Even numver')\n",
    "else :\n",
    "    print(\"Odd number\")                             # Even & Odd"
   ]
  },
  {
   "cell_type": "code",
   "execution_count": 22,
   "id": "3f78710e",
   "metadata": {},
   "outputs": [
    {
     "name": "stdout",
     "output_type": "stream",
     "text": [
      "enter some comma separated value : 1,2,3\\kd,&gsjsh,(jkd)\n",
      "List ['1', '2', '3\\\\kd', '&gsjsh', '(jkd)']\n",
      "Tuple ('1', '2', '3\\\\kd', '&gsjsh', '(jkd)')\n",
      "string 1,2,3\\kd,&gsjsh,(jkd)\n"
     ]
    }
   ],
   "source": [
    "user = input('enter some comma separated value : ')\n",
    "\n",
    "list_value = user.split(\",\")\n",
    "tuple_value = tuple(list_value)\n",
    "str_value = \",\".join(list_value)\n",
    "\n",
    "print(\"List\",list_value)\n",
    "print('Tuple',tuple_value)\n",
    "print(\"string\",str_value)                       # Converting string to list, tuple and string agin"
   ]
  },
  {
   "cell_type": "code",
   "execution_count": 25,
   "id": "adff73c0",
   "metadata": {},
   "outputs": [
    {
     "name": "stdout",
     "output_type": "stream",
     "text": [
      "enter some comma separated value : Banana,Apple,Kiwi,Grapes,Orange,Cherry\n",
      "List ['Banana', 'Apple', 'Kiwi', 'Grapes', 'Orange', 'Cherry']\n",
      "Sort ['Apple', 'Banana', 'Cherry', 'Grapes', 'Kiwi', 'Orange']\n"
     ]
    }
   ],
   "source": [
    "user = input('enter some comma separated value : ')\n",
    "\n",
    "list_value = user.split(\",\")\n",
    "sorted_list = sorted(list_value)\n",
    "print(\"List\",list_value)\n",
    "print('Sort',sorted_list)                   # sorting"
   ]
  },
  {
   "cell_type": "code",
   "execution_count": null,
   "id": "7e1b2704",
   "metadata": {},
   "outputs": [],
   "source": []
  }
 ],
 "metadata": {
  "kernelspec": {
   "display_name": "Python 3 (ipykernel)",
   "language": "python",
   "name": "python3"
  },
  "language_info": {
   "codemirror_mode": {
    "name": "ipython",
    "version": 3
   },
   "file_extension": ".py",
   "mimetype": "text/x-python",
   "name": "python",
   "nbconvert_exporter": "python",
   "pygments_lexer": "ipython3",
   "version": "3.11.3"
  }
 },
 "nbformat": 4,
 "nbformat_minor": 5
}
