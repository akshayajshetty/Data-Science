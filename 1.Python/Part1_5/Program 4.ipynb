{
 "cells": [
  {
   "cell_type": "code",
   "execution_count": 10,
   "id": "aaa1198f",
   "metadata": {},
   "outputs": [
    {
     "name": "stdout",
     "output_type": "stream",
     "text": [
      "Enter letter : u\n",
      "The u is vowel\n"
     ]
    }
   ],
   "source": [
    "letter = input(\"Enter letter : \")\n",
    "letter = letter.lower()\n",
    "\n",
    "if letter in (\"a\",\"e\",\"i\",\"o\",\"u\") :\n",
    "    print(f\"The {letter} is vowel\")\n",
    "elif letter == \"y\" :\n",
    "    print(\"ambigious\")\n",
    "else :\n",
    "    print(f\"The {letter} is consonant\")    # letter is vowel or not"
   ]
  },
  {
   "cell_type": "code",
   "execution_count": 28,
   "id": "d98017fb",
   "metadata": {},
   "outputs": [
    {
     "name": "stdout",
     "output_type": "stream",
     "text": [
      "enter month name : cdg\n",
      " cdg is not a month\n"
     ]
    }
   ],
   "source": [
    "month = input('enter month name : ')\n",
    "month = month.lower()\n",
    "\n",
    "if month == \"february\":\n",
    "    print(f\"No. of day's in {month} is 28/29\")\n",
    "elif month in (\"april\",'june',\"september\",\"november\"):\n",
    "    print(f\"No. of day's in {month} is 30\")\n",
    "elif month in (\"january\",\"march\",\"may\",\"july\",\"august\",\"october\",\"december\"):\n",
    "    print(f\"No. of day's in {month} is 31\")\n",
    "else :\n",
    "    print(f\" {month} is not a month\")    # Finding number of days in month"
   ]
  },
  {
   "cell_type": "code",
   "execution_count": 35,
   "id": "71d4b599",
   "metadata": {},
   "outputs": [
    {
     "name": "stdout",
     "output_type": "stream",
     "text": [
      "a :1\n",
      "b :2\n",
      "c :3\n",
      "scalene triangle\n"
     ]
    }
   ],
   "source": [
    "a = int(input(\"a :\"))\n",
    "b = int(input(\"b :\"))\n",
    "c = int(input(\"c :\"))\n",
    "\n",
    "if a==b==c :\n",
    "    print(\"eqilateral triangle\")\n",
    "elif a==b or b==c or c==a :\n",
    "    print(\"Isoceless triangle\")\n",
    "else :\n",
    "    print(\"scalene triangle\")          # Finding the which type of triangle"
   ]
  },
  {
   "cell_type": "code",
   "execution_count": 38,
   "id": "d5b735cd",
   "metadata": {},
   "outputs": [
    {
     "name": "stdout",
     "output_type": "stream",
     "text": [
      "Enter word : abc\n",
      "Not polyndrome\n"
     ]
    }
   ],
   "source": [
    "str_1 = input(\"Enter word : \")\n",
    "\n",
    "reversed_str = str_1[::-1]\n",
    "\n",
    "if str_1 == reversed_str :\n",
    "    print(\"word is polindrome\")\n",
    "else :\n",
    "    print(\"Not polyndrome\")     # word is polyndome or not"
   ]
  },
  {
   "cell_type": "code",
   "execution_count": 44,
   "id": "5a09c898",
   "metadata": {},
   "outputs": [
    {
     "name": "stdout",
     "output_type": "stream",
     "text": [
      "How many day's in leap year : 365\n",
      "Your enteres 365\n",
      "Wrong answer\n"
     ]
    }
   ],
   "source": [
    "ans = input(\"How many day's in leap year : \")\n",
    "print(\"Your enteres\", ans)\n",
    "\n",
    "if ans == '366':\n",
    "    print(\"cleared first step\")\n",
    "    ans = input(\"In which month extra days is there in leap year : \").lower()\n",
    "    print('Yourentered', ans)\n",
    "    if ans == \"february\":\n",
    "        print(\"Your cleared test\")\n",
    "    else :\n",
    "        print(\"Make try\")\n",
    "else :\n",
    "    print(\"Wrong answer\")            # Finding the which month is extra day's is present in leap year"
   ]
  },
  {
   "cell_type": "code",
   "execution_count": 46,
   "id": "c49a08f4",
   "metadata": {},
   "outputs": [
    {
     "name": "stdout",
     "output_type": "stream",
     "text": [
      "enter salary :20000\n",
      "Enter how many year your served : 5\n",
      "Bonus is : 3000.0\n"
     ]
    }
   ],
   "source": [
    "salary = float(input(\"enter salary :\"))\n",
    "service = int(input(\"Enter how many year your served : \"))\n",
    "\n",
    "if service >=10 :\n",
    "    print(\"Bonus is :\", 0.25 * salary)\n",
    "elif service >=5 and service <10 :\n",
    "    print('Bonus is :', 0.15 * salary)\n",
    "else :\n",
    "    print(\"Not applivable for Bonus\")         # Finding the bonus amount based on service year"
   ]
  },
  {
   "cell_type": "code",
   "execution_count": null,
   "id": "29d90171",
   "metadata": {},
   "outputs": [],
   "source": []
  }
 ],
 "metadata": {
  "kernelspec": {
   "display_name": "Python 3 (ipykernel)",
   "language": "python",
   "name": "python3"
  },
  "language_info": {
   "codemirror_mode": {
    "name": "ipython",
    "version": 3
   },
   "file_extension": ".py",
   "mimetype": "text/x-python",
   "name": "python",
   "nbconvert_exporter": "python",
   "pygments_lexer": "ipython3",
   "version": "3.11.3"
  }
 },
 "nbformat": 4,
 "nbformat_minor": 5
}
