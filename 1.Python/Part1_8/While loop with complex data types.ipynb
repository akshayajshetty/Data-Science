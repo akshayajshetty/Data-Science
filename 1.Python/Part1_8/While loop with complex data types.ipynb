{
 "cells": [
  {
   "cell_type": "code",
   "execution_count": 3,
   "id": "7865dfc9",
   "metadata": {},
   "outputs": [
    {
     "name": "stdout",
     "output_type": "stream",
     "text": [
      "13\n",
      "20\n",
      "35\n",
      "42\n",
      "59\n"
     ]
    }
   ],
   "source": [
    "num_list = [13,20,35,42,59]\n",
    "count = 0 \n",
    "while count < len(num_list):\n",
    "    print(num_list[count])\n",
    "    count += 1"
   ]
  },
  {
   "cell_type": "code",
   "execution_count": 7,
   "id": "98e1b09f",
   "metadata": {},
   "outputs": [
    {
     "name": "stdout",
     "output_type": "stream",
     "text": [
      "Total number of elements in list is 5\n"
     ]
    }
   ],
   "source": [
    "num_list = [13,20,35,42,59]\n",
    "count = 0 \n",
    "while count < len(num_list):\n",
    "    count += 1\n",
    "print(f\"Total number of elements in list is {count}\")"
   ]
  },
  {
   "cell_type": "code",
   "execution_count": 10,
   "id": "29e355cf",
   "metadata": {},
   "outputs": [
    {
     "name": "stdout",
     "output_type": "stream",
     "text": [
      "13\n",
      "33\n",
      "68\n",
      "110\n",
      "169\n",
      "Sum of all the list is 169\n"
     ]
    }
   ],
   "source": [
    "num_list = [13,20,35,42,59]\n",
    "element = 0\n",
    "total = 0\n",
    "while element < len(num_list):\n",
    "    total = total + num_list[element]\n",
    "    element += 1\n",
    "    print(total)\n",
    "print(f\"Sum of all the list is {total}\")"
   ]
  },
  {
   "cell_type": "code",
   "execution_count": 13,
   "id": "bb4ba50d",
   "metadata": {},
   "outputs": [
    {
     "name": "stdout",
     "output_type": "stream",
     "text": [
      "13\n",
      "33\n",
      "68\n",
      "110\n",
      "169\n",
      "Sum of all the list is 169\n"
     ]
    }
   ],
   "source": [
    "num_list = [13,20,35,42,59]\n",
    "element = 0\n",
    "total = 0\n",
    "for element in num_list:\n",
    "    total = total + element\n",
    "    print(total)\n",
    "print(f\"Sum of all the list is {total}\")              # Using for loop"
   ]
  },
  {
   "cell_type": "code",
   "execution_count": 14,
   "id": "6a4336ce",
   "metadata": {},
   "outputs": [
    {
     "name": "stdout",
     "output_type": "stream",
     "text": [
      "Honda\n",
      "RR\n",
      "Benz\n",
      "Audi\n"
     ]
    },
    {
     "ename": "IndexError",
     "evalue": "list index out of range",
     "output_type": "error",
     "traceback": [
      "\u001b[1;31m---------------------------------------------------------------------------\u001b[0m",
      "\u001b[1;31mIndexError\u001b[0m                                Traceback (most recent call last)",
      "Input \u001b[1;32mIn [14]\u001b[0m, in \u001b[0;36m<cell line: 3>\u001b[1;34m()\u001b[0m\n\u001b[0;32m      2\u001b[0m count \u001b[38;5;241m=\u001b[39m \u001b[38;5;241m0\u001b[39m\n\u001b[0;32m      3\u001b[0m \u001b[38;5;28;01mwhile\u001b[39;00m count \u001b[38;5;241m<\u001b[39m \u001b[38;5;241m10\u001b[39m :\n\u001b[1;32m----> 4\u001b[0m     \u001b[38;5;28mprint\u001b[39m(\u001b[43mcar_list\u001b[49m\u001b[43m[\u001b[49m\u001b[43mcount\u001b[49m\u001b[43m]\u001b[49m)\n\u001b[0;32m      5\u001b[0m     count \u001b[38;5;241m+\u001b[39m\u001b[38;5;241m=\u001b[39m\u001b[38;5;241m1\u001b[39m\n",
      "\u001b[1;31mIndexError\u001b[0m: list index out of range"
     ]
    }
   ],
   "source": [
    "car_list = [\"Honda\",\"RR\",\"Benz\",\"Audi\"]\n",
    "count = 0\n",
    "while count < 10 :\n",
    "    print(car_list[count])\n",
    "    count +=1"
   ]
  },
  {
   "cell_type": "code",
   "execution_count": 16,
   "id": "1e1accac",
   "metadata": {},
   "outputs": [
    {
     "name": "stdout",
     "output_type": "stream",
     "text": [
      "Honda\n",
      "RR\n",
      "Benz\n",
      "Audi\n"
     ]
    }
   ],
   "source": [
    "car_list = [\"Honda\",\"RR\",\"Benz\",\"Audi\"]\n",
    "count = 0\n",
    "while count < len(car_list) :\n",
    "    print(car_list[count])\n",
    "    count +=1"
   ]
  },
  {
   "cell_type": "code",
   "execution_count": 1,
   "id": "06c07cfd",
   "metadata": {},
   "outputs": [
    {
     "name": "stdout",
     "output_type": "stream",
     "text": [
      "[0, 2, 4, 6, 8, 10, 12, 14, 16, 18, 20, 22, 24, 26, 28, 30, 32, 34, 36, 38, 40, 42, 44, 46, 48, 50]\n",
      "[1, 3, 5, 7, 9, 11, 13, 15, 17, 19, 21, 23, 25, 27, 29, 31, 33, 35, 37, 39, 41, 43, 45, 47, 49]\n"
     ]
    }
   ],
   "source": [
    "even_list = []\n",
    "odd_list = []\n",
    "n = 0\n",
    "while n <=50 :\n",
    "    if n % 2 == 0 :\n",
    "        even_list.append(n)\n",
    "    else :\n",
    "        odd_list.append(n)\n",
    "    n += 1\n",
    "print(even_list)\n",
    "print(odd_list)"
   ]
  },
  {
   "cell_type": "code",
   "execution_count": 22,
   "id": "32311cc6",
   "metadata": {},
   "outputs": [
    {
     "name": "stdout",
     "output_type": "stream",
     "text": [
      "   C :  F\n",
      " -23 :  -9.4\n",
      " -34 : -29.2\n",
      "  -1 :  30.2\n",
      "  -2 :  28.4\n",
      "  -3 :  26.6\n",
      "  -4 :  24.8\n",
      "  12 :  53.6\n",
      "   2 :  35.6\n",
      "   3 :  37.4\n",
      "   4 :  39.2\n",
      "   5 :  41.0\n",
      "  65 : 149.0\n",
      "  34 :  93.2\n"
     ]
    }
   ],
   "source": [
    "c_degree =[-23,-34,-1,-2,-3,-4,12,2,3,4,5,65,34]\n",
    "index = 0\n",
    "print('   C :  F')\n",
    "while index < len(c_degree):\n",
    "    C = c_degree[index]\n",
    "    F = (9.0/5)*C + 32\n",
    "    print(f\"{C:4d} : {F:5.1f}\")\n",
    "    index += 1\n",
    "        "
   ]
  },
  {
   "cell_type": "code",
   "execution_count": 36,
   "id": "aee1eb6d",
   "metadata": {},
   "outputs": [
    {
     "name": "stdout",
     "output_type": "stream",
     "text": [
      "car_list  :  car_price\n",
      "RR        :   4000\n",
      "BMW       :   2000\n",
      "Honda     :    300\n",
      "Bugati    :   8000\n"
     ]
    }
   ],
   "source": [
    "car_list = [\"RR\",\"BMW\",\"Honda\",\"Bugati\"]\n",
    "car_price = [4000,2000,300,8000]\n",
    "print('car_list  :  car_price')\n",
    "index = 0\n",
    "while index < len(car_list):\n",
    "    print(f\"{car_list[index] :9s} : {car_price[index]:6d}\")\n",
    "    index += 1\n",
    "    \n",
    "          "
   ]
  },
  {
   "cell_type": "code",
   "execution_count": 40,
   "id": "d617892b",
   "metadata": {},
   "outputs": [
    {
     "name": "stdout",
     "output_type": "stream",
     "text": [
      "longest name is abcd\n"
     ]
    }
   ],
   "source": [
    "name = (\"aa\",\"aaa\",\"abcd\",\"abd\",\"a\")\n",
    "long_name = \" \"\n",
    "index = 0\n",
    "while index < len(name):\n",
    "    if len(long_name) < len(name[index]) :\n",
    "        long_name = name[index]\n",
    "    index += 1\n",
    "print(f\"longest name is {long_name}\")\n",
    "    "
   ]
  },
  {
   "cell_type": "code",
   "execution_count": null,
   "id": "f0e2cb61",
   "metadata": {},
   "outputs": [],
   "source": []
  }
 ],
 "metadata": {
  "kernelspec": {
   "display_name": "Python 3 (ipykernel)",
   "language": "python",
   "name": "python3"
  },
  "language_info": {
   "codemirror_mode": {
    "name": "ipython",
    "version": 3
   },
   "file_extension": ".py",
   "mimetype": "text/x-python",
   "name": "python",
   "nbconvert_exporter": "python",
   "pygments_lexer": "ipython3",
   "version": "3.11.3"
  }
 },
 "nbformat": 4,
 "nbformat_minor": 5
}
