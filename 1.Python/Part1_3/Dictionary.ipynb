{
 "cells": [
  {
   "cell_type": "code",
   "execution_count": 1,
   "id": "a3107f91",
   "metadata": {},
   "outputs": [],
   "source": [
    "empty_dict = {}"
   ]
  },
  {
   "cell_type": "code",
   "execution_count": 3,
   "id": "ced38f4a",
   "metadata": {},
   "outputs": [
    {
     "data": {
      "text/plain": [
       "{}"
      ]
     },
     "execution_count": 3,
     "metadata": {},
     "output_type": "execute_result"
    }
   ],
   "source": [
    "empty_dict"
   ]
  },
  {
   "cell_type": "code",
   "execution_count": 4,
   "id": "893ad3c4",
   "metadata": {},
   "outputs": [
    {
     "data": {
      "text/plain": [
       "dict"
      ]
     },
     "execution_count": 4,
     "metadata": {},
     "output_type": "execute_result"
    }
   ],
   "source": [
    "type(empty_dict)"
   ]
  },
  {
   "cell_type": "code",
   "execution_count": 8,
   "id": "3342ba87",
   "metadata": {},
   "outputs": [
    {
     "data": {
      "text/plain": [
       "{'emids': 'Healthcare',\n",
       " 'Larsen': 'Construction',\n",
       " 'Google': 'Tech gaint',\n",
       " 'Microsoft': 'Windows'}"
      ]
     },
     "execution_count": 8,
     "metadata": {},
     "output_type": "execute_result"
    }
   ],
   "source": [
    "companies = { 'emids' : 'Healthcare',\n",
    "              'Larsen': 'Construction',\n",
    "              'Google': 'Tech gaint',\n",
    "              'Microsoft' : 'Windows'}\n",
    "companies"
   ]
  },
  {
   "cell_type": "code",
   "execution_count": 13,
   "id": "9321fb9b",
   "metadata": {},
   "outputs": [
    {
     "data": {
      "text/plain": [
       "'Healthcare'"
      ]
     },
     "execution_count": 13,
     "metadata": {},
     "output_type": "execute_result"
    }
   ],
   "source": [
    "companies[\"emids\"]"
   ]
  },
  {
   "cell_type": "code",
   "execution_count": 14,
   "id": "b2e01900",
   "metadata": {},
   "outputs": [
    {
     "data": {
      "text/plain": [
       "'Tech gaint'"
      ]
     },
     "execution_count": 14,
     "metadata": {},
     "output_type": "execute_result"
    }
   ],
   "source": [
    "companies[\"Google\"]"
   ]
  },
  {
   "cell_type": "code",
   "execution_count": 16,
   "id": "87aa123a",
   "metadata": {},
   "outputs": [
    {
     "ename": "KeyError",
     "evalue": "'Windows'",
     "output_type": "error",
     "traceback": [
      "\u001b[1;31m---------------------------------------------------------------------------\u001b[0m",
      "\u001b[1;31mKeyError\u001b[0m                                  Traceback (most recent call last)",
      "Input \u001b[1;32mIn [16]\u001b[0m, in \u001b[0;36m<cell line: 1>\u001b[1;34m()\u001b[0m\n\u001b[1;32m----> 1\u001b[0m \u001b[43mcompanies\u001b[49m\u001b[43m[\u001b[49m\u001b[38;5;124;43m\"\u001b[39;49m\u001b[38;5;124;43mWindows\u001b[39;49m\u001b[38;5;124;43m\"\u001b[39;49m\u001b[43m]\u001b[49m\n",
      "\u001b[1;31mKeyError\u001b[0m: 'Windows'"
     ]
    }
   ],
   "source": [
    "companies[\"Windows\"]"
   ]
  },
  {
   "cell_type": "code",
   "execution_count": 20,
   "id": "37aef877",
   "metadata": {},
   "outputs": [
    {
     "data": {
      "text/plain": [
       "{1: 11, 2: 22, 3: 44}"
      ]
     },
     "execution_count": 20,
     "metadata": {},
     "output_type": "execute_result"
    }
   ],
   "source": [
    "int_dict = {1:11,2:22,3:33,3:44}\n",
    "int_dict"
   ]
  },
  {
   "cell_type": "code",
   "execution_count": 19,
   "id": "23813c8d",
   "metadata": {},
   "outputs": [
    {
     "data": {
      "text/plain": [
       "22"
      ]
     },
     "execution_count": 19,
     "metadata": {},
     "output_type": "execute_result"
    }
   ],
   "source": [
    "int_dict[2]"
   ]
  },
  {
   "cell_type": "code",
   "execution_count": 22,
   "id": "f5eb291c",
   "metadata": {},
   "outputs": [
    {
     "data": {
      "text/plain": [
       "{'India': 'Delhi', 'US': 'washington', 'UK': 'England', 'Japan': 'Tokio'}"
      ]
     },
     "execution_count": 22,
     "metadata": {},
     "output_type": "execute_result"
    }
   ],
   "source": [
    "countries = {\"India\" : \"Delhi\",\n",
    "            \"US\" : \"washington\",\n",
    "            \"UK\" : \"England\",\n",
    "            \"Japan\" : \"Tokio\"}\n",
    "countries"
   ]
  },
  {
   "cell_type": "code",
   "execution_count": 23,
   "id": "f742e01a",
   "metadata": {},
   "outputs": [
    {
     "data": {
      "text/plain": [
       "dict_keys(['India', 'US', 'UK', 'Japan'])"
      ]
     },
     "execution_count": 23,
     "metadata": {},
     "output_type": "execute_result"
    }
   ],
   "source": [
    "countries.keys()"
   ]
  },
  {
   "cell_type": "code",
   "execution_count": 24,
   "id": "43146c9c",
   "metadata": {},
   "outputs": [
    {
     "data": {
      "text/plain": [
       "True"
      ]
     },
     "execution_count": 24,
     "metadata": {},
     "output_type": "execute_result"
    }
   ],
   "source": [
    "\"India\" in countries.keys()"
   ]
  },
  {
   "cell_type": "code",
   "execution_count": 26,
   "id": "c6fe2bb0",
   "metadata": {},
   "outputs": [
    {
     "data": {
      "text/plain": [
       "dict_values(['Delhi', 'washington', 'England', 'Tokio'])"
      ]
     },
     "execution_count": 26,
     "metadata": {},
     "output_type": "execute_result"
    }
   ],
   "source": [
    "countries.values()"
   ]
  },
  {
   "cell_type": "code",
   "execution_count": 29,
   "id": "cc2e5dfb",
   "metadata": {},
   "outputs": [],
   "source": [
    "countries[\"Australia\"] = \"Sydni\""
   ]
  },
  {
   "cell_type": "code",
   "execution_count": 30,
   "id": "fd720295",
   "metadata": {},
   "outputs": [
    {
     "data": {
      "text/plain": [
       "{'India': 'Delhi',\n",
       " 'US': 'washington',\n",
       " 'UK': 'England',\n",
       " 'Japan': 'Tokio',\n",
       " 'Australia': 'Sydni'}"
      ]
     },
     "execution_count": 30,
     "metadata": {},
     "output_type": "execute_result"
    }
   ],
   "source": [
    "countries"
   ]
  },
  {
   "cell_type": "code",
   "execution_count": 31,
   "id": "027aad3f",
   "metadata": {},
   "outputs": [],
   "source": [
    "countries[\"India\"] = \"New Delhi\""
   ]
  },
  {
   "cell_type": "code",
   "execution_count": 32,
   "id": "3d816a44",
   "metadata": {},
   "outputs": [
    {
     "data": {
      "text/plain": [
       "{'India': 'New Delhi',\n",
       " 'US': 'washington',\n",
       " 'UK': 'England',\n",
       " 'Japan': 'Tokio',\n",
       " 'Australia': 'Sydni'}"
      ]
     },
     "execution_count": 32,
     "metadata": {},
     "output_type": "execute_result"
    }
   ],
   "source": [
    "countries"
   ]
  },
  {
   "cell_type": "code",
   "execution_count": 33,
   "id": "828dcda8",
   "metadata": {},
   "outputs": [
    {
     "data": {
      "text/plain": [
       "'washington'"
      ]
     },
     "execution_count": 33,
     "metadata": {},
     "output_type": "execute_result"
    }
   ],
   "source": [
    "countries.get(\"US\")"
   ]
  },
  {
   "cell_type": "code",
   "execution_count": 34,
   "id": "8b7adb5f",
   "metadata": {},
   "outputs": [],
   "source": [
    "del countries[\"UK\"]"
   ]
  },
  {
   "cell_type": "code",
   "execution_count": 35,
   "id": "0dc02e4e",
   "metadata": {},
   "outputs": [
    {
     "data": {
      "text/plain": [
       "{'India': 'New Delhi',\n",
       " 'US': 'washington',\n",
       " 'Japan': 'Tokio',\n",
       " 'Australia': 'Sydni'}"
      ]
     },
     "execution_count": 35,
     "metadata": {},
     "output_type": "execute_result"
    }
   ],
   "source": [
    "countries"
   ]
  },
  {
   "cell_type": "code",
   "execution_count": 36,
   "id": "ab475417",
   "metadata": {},
   "outputs": [
    {
     "data": {
      "text/plain": [
       "{}"
      ]
     },
     "execution_count": 36,
     "metadata": {},
     "output_type": "execute_result"
    }
   ],
   "source": [
    "fruit_price = {}\n",
    "fruit_price"
   ]
  },
  {
   "cell_type": "code",
   "execution_count": 38,
   "id": "14d1d436",
   "metadata": {},
   "outputs": [],
   "source": [
    "fruit_price[\"Banana\"] = 30\n",
    "fruit_price[\"Apple\"] = 180\n",
    "fruit_price[\"Pinaple\"] = 50"
   ]
  },
  {
   "cell_type": "code",
   "execution_count": 39,
   "id": "fb71cb89",
   "metadata": {},
   "outputs": [
    {
     "data": {
      "text/plain": [
       "{'Banana': 30, 'Apple': 180, 'Pinaple': 50}"
      ]
     },
     "execution_count": 39,
     "metadata": {},
     "output_type": "execute_result"
    }
   ],
   "source": [
    "fruit_price"
   ]
  },
  {
   "cell_type": "code",
   "execution_count": 40,
   "id": "6c7fae74",
   "metadata": {},
   "outputs": [],
   "source": [
    "fruit_price[\"Orange\"] = 120\n",
    "fruit_price[\"Kiwi\"]= 100"
   ]
  },
  {
   "cell_type": "code",
   "execution_count": 41,
   "id": "156d6600",
   "metadata": {},
   "outputs": [
    {
     "data": {
      "text/plain": [
       "{'Banana': 30, 'Apple': 180, 'Pinaple': 50, 'Orange': 120, 'Kiwi': 100}"
      ]
     },
     "execution_count": 41,
     "metadata": {},
     "output_type": "execute_result"
    }
   ],
   "source": [
    "fruit_price"
   ]
  },
  {
   "cell_type": "code",
   "execution_count": 42,
   "id": "fb75524f",
   "metadata": {},
   "outputs": [
    {
     "data": {
      "text/plain": [
       "180"
      ]
     },
     "execution_count": 42,
     "metadata": {},
     "output_type": "execute_result"
    }
   ],
   "source": [
    "fruit_price[\"Apple\"]"
   ]
  },
  {
   "cell_type": "code",
   "execution_count": 43,
   "id": "35d6a08f",
   "metadata": {},
   "outputs": [
    {
     "ename": "KeyError",
     "evalue": "'Watermelon'",
     "output_type": "error",
     "traceback": [
      "\u001b[1;31m---------------------------------------------------------------------------\u001b[0m",
      "\u001b[1;31mKeyError\u001b[0m                                  Traceback (most recent call last)",
      "Input \u001b[1;32mIn [43]\u001b[0m, in \u001b[0;36m<cell line: 1>\u001b[1;34m()\u001b[0m\n\u001b[1;32m----> 1\u001b[0m \u001b[43mfruit_price\u001b[49m\u001b[43m[\u001b[49m\u001b[38;5;124;43m\"\u001b[39;49m\u001b[38;5;124;43mWatermelon\u001b[39;49m\u001b[38;5;124;43m\"\u001b[39;49m\u001b[43m]\u001b[49m\n",
      "\u001b[1;31mKeyError\u001b[0m: 'Watermelon'"
     ]
    }
   ],
   "source": [
    "fruit_price[\"Watermelon\"]"
   ]
  },
  {
   "cell_type": "code",
   "execution_count": 44,
   "id": "36c07ec9",
   "metadata": {},
   "outputs": [],
   "source": [
    "fruit_price[\"watermelon\"] = 40"
   ]
  },
  {
   "cell_type": "code",
   "execution_count": 45,
   "id": "bbcb0118",
   "metadata": {},
   "outputs": [
    {
     "data": {
      "text/plain": [
       "{'Banana': 30,\n",
       " 'Apple': 180,\n",
       " 'Pinaple': 50,\n",
       " 'Orange': 120,\n",
       " 'Kiwi': 100,\n",
       " 'watermelon': 40}"
      ]
     },
     "execution_count": 45,
     "metadata": {},
     "output_type": "execute_result"
    }
   ],
   "source": [
    "fruit_price"
   ]
  },
  {
   "cell_type": "code",
   "execution_count": 46,
   "id": "6dac18fa",
   "metadata": {},
   "outputs": [
    {
     "data": {
      "text/plain": [
       "40"
      ]
     },
     "execution_count": 46,
     "metadata": {},
     "output_type": "execute_result"
    }
   ],
   "source": [
    "fruit_price[\"watermelon\"]"
   ]
  },
  {
   "cell_type": "code",
   "execution_count": 47,
   "id": "854bad09",
   "metadata": {},
   "outputs": [],
   "source": [
    "fruit_price_change = {\"Banana\" : [10,25,35,56],\n",
    "                 \"Apple\" : [160,180,200,140],\n",
    "                     \"Pinaple\" : [20,30,25,35]}"
   ]
  },
  {
   "cell_type": "code",
   "execution_count": 48,
   "id": "2596547b",
   "metadata": {},
   "outputs": [
    {
     "data": {
      "text/plain": [
       "{'Banana': [10, 25, 35, 56],\n",
       " 'Apple': [160, 180, 200, 140],\n",
       " 'Pinaple': [20, 30, 25, 35]}"
      ]
     },
     "execution_count": 48,
     "metadata": {},
     "output_type": "execute_result"
    }
   ],
   "source": [
    "fruit_price_change"
   ]
  },
  {
   "cell_type": "code",
   "execution_count": 49,
   "id": "894c777b",
   "metadata": {},
   "outputs": [
    {
     "data": {
      "text/plain": [
       "[10, 25, 35, 56]"
      ]
     },
     "execution_count": 49,
     "metadata": {},
     "output_type": "execute_result"
    }
   ],
   "source": [
    "fruit_price_change[\"Banana\"]"
   ]
  },
  {
   "cell_type": "code",
   "execution_count": 50,
   "id": "3700ceae",
   "metadata": {},
   "outputs": [
    {
     "data": {
      "text/plain": [
       "35"
      ]
     },
     "execution_count": 50,
     "metadata": {},
     "output_type": "execute_result"
    }
   ],
   "source": [
    "fruit_price_change[\"Banana\"][2]"
   ]
  },
  {
   "cell_type": "code",
   "execution_count": 51,
   "id": "881292e2",
   "metadata": {},
   "outputs": [],
   "source": [
    "fruit_price_change[\"Pinaple\"][2] = 50"
   ]
  },
  {
   "cell_type": "code",
   "execution_count": 53,
   "id": "b1af2c6a",
   "metadata": {},
   "outputs": [
    {
     "data": {
      "text/plain": [
       "[20, 30, 50, 35]"
      ]
     },
     "execution_count": 53,
     "metadata": {},
     "output_type": "execute_result"
    }
   ],
   "source": [
    "fruit_price_change[\"Pinaple\"]"
   ]
  },
  {
   "cell_type": "code",
   "execution_count": 54,
   "id": "15e37882",
   "metadata": {},
   "outputs": [],
   "source": [
    "fruit_price_change_daily = {\"Banana\" : {\"Mon\":20,\"Tue\":30,\"Wed\":25},\n",
    "                 \"Apple\" : {\"Mon\":180,\"Tue\":2000,\"Wed\":250},\n",
    "                     \"Pinaple\" : {\"Mon\":20,\"Tue\":33,\"Wed\":30}}"
   ]
  },
  {
   "cell_type": "code",
   "execution_count": 55,
   "id": "682aef38",
   "metadata": {},
   "outputs": [
    {
     "data": {
      "text/plain": [
       "{'Banana': {'Mon': 20, 'Tue': 30, 'Wed': 25},\n",
       " 'Apple': {'Mon': 180, 'Tue': 2000, 'Wed': 250},\n",
       " 'Pinaple': {'Mon': 20, 'Tue': 33, 'Wed': 30}}"
      ]
     },
     "execution_count": 55,
     "metadata": {},
     "output_type": "execute_result"
    }
   ],
   "source": [
    "fruit_price_change_daily"
   ]
  },
  {
   "cell_type": "code",
   "execution_count": 56,
   "id": "d5398dd7",
   "metadata": {},
   "outputs": [
    {
     "data": {
      "text/plain": [
       "{'Mon': 20, 'Tue': 30, 'Wed': 25}"
      ]
     },
     "execution_count": 56,
     "metadata": {},
     "output_type": "execute_result"
    }
   ],
   "source": [
    "fruit_price_change_daily[\"Banana\"]"
   ]
  },
  {
   "cell_type": "code",
   "execution_count": 57,
   "id": "99f6b982",
   "metadata": {},
   "outputs": [
    {
     "data": {
      "text/plain": [
       "30"
      ]
     },
     "execution_count": 57,
     "metadata": {},
     "output_type": "execute_result"
    }
   ],
   "source": [
    "fruit_price_change_daily[\"Banana\"][\"Tue\"]"
   ]
  },
  {
   "cell_type": "code",
   "execution_count": 58,
   "id": "c6722b5c",
   "metadata": {},
   "outputs": [],
   "source": [
    "fruit_price_change_daily[\"Banana\"][\"Tue\"] = 40"
   ]
  },
  {
   "cell_type": "code",
   "execution_count": 59,
   "id": "a94169ad",
   "metadata": {},
   "outputs": [
    {
     "data": {
      "text/plain": [
       "40"
      ]
     },
     "execution_count": 59,
     "metadata": {},
     "output_type": "execute_result"
    }
   ],
   "source": [
    "fruit_price_change_daily[\"Banana\"][\"Tue\"]"
   ]
  },
  {
   "cell_type": "code",
   "execution_count": 60,
   "id": "265dd121",
   "metadata": {},
   "outputs": [
    {
     "data": {
      "text/plain": [
       "{'India': 'New Delhi',\n",
       " 'US': 'washington',\n",
       " 'Japan': 'Tokio',\n",
       " 'Australia': 'Sydni'}"
      ]
     },
     "execution_count": 60,
     "metadata": {},
     "output_type": "execute_result"
    }
   ],
   "source": [
    "countries"
   ]
  },
  {
   "cell_type": "code",
   "execution_count": 61,
   "id": "f1f6ad76",
   "metadata": {},
   "outputs": [
    {
     "data": {
      "text/plain": [
       "4"
      ]
     },
     "execution_count": 61,
     "metadata": {},
     "output_type": "execute_result"
    }
   ],
   "source": [
    "len(countries)"
   ]
  },
  {
   "cell_type": "code",
   "execution_count": 64,
   "id": "547b1bb6",
   "metadata": {},
   "outputs": [
    {
     "data": {
      "text/plain": [
       "4"
      ]
     },
     "execution_count": 64,
     "metadata": {},
     "output_type": "execute_result"
    }
   ],
   "source": [
    "len(countries.keys())"
   ]
  },
  {
   "cell_type": "code",
   "execution_count": 65,
   "id": "ae87d0a1",
   "metadata": {},
   "outputs": [
    {
     "data": {
      "text/plain": [
       "4"
      ]
     },
     "execution_count": 65,
     "metadata": {},
     "output_type": "execute_result"
    }
   ],
   "source": [
    "len(countries.values())"
   ]
  },
  {
   "cell_type": "code",
   "execution_count": 68,
   "id": "89322451",
   "metadata": {},
   "outputs": [
    {
     "data": {
      "text/plain": [
       "['Australia', 'India', 'Japan', 'US']"
      ]
     },
     "execution_count": 68,
     "metadata": {},
     "output_type": "execute_result"
    }
   ],
   "source": [
    "sorted(countries)"
   ]
  },
  {
   "cell_type": "code",
   "execution_count": 70,
   "id": "5cc13f98",
   "metadata": {},
   "outputs": [
    {
     "data": {
      "text/plain": [
       "['US', 'Japan', 'India', 'Australia']"
      ]
     },
     "execution_count": 70,
     "metadata": {},
     "output_type": "execute_result"
    }
   ],
   "source": [
    "sorted(countries , reverse=True)"
   ]
  },
  {
   "cell_type": "code",
   "execution_count": 72,
   "id": "f0c9421b",
   "metadata": {},
   "outputs": [
    {
     "data": {
      "text/plain": [
       "['New Delhi', 'Sydni', 'Tokio', 'washington']"
      ]
     },
     "execution_count": 72,
     "metadata": {},
     "output_type": "execute_result"
    }
   ],
   "source": [
    "sorted(countries.values())"
   ]
  },
  {
   "cell_type": "code",
   "execution_count": 73,
   "id": "f48bc462",
   "metadata": {},
   "outputs": [
    {
     "data": {
      "text/plain": [
       "dict_items([('India', 'New Delhi'), ('US', 'washington'), ('Japan', 'Tokio'), ('Australia', 'Sydni')])"
      ]
     },
     "execution_count": 73,
     "metadata": {},
     "output_type": "execute_result"
    }
   ],
   "source": [
    "countries.items()"
   ]
  },
  {
   "cell_type": "code",
   "execution_count": 82,
   "id": "d84a312b",
   "metadata": {},
   "outputs": [],
   "source": [
    "countries_copy = countries.copy()"
   ]
  },
  {
   "cell_type": "code",
   "execution_count": 83,
   "id": "70ec6f7d",
   "metadata": {},
   "outputs": [
    {
     "data": {
      "text/plain": [
       "{'India': 'New Delhi',\n",
       " 'US': 'washington',\n",
       " 'Japan': 'Tokio',\n",
       " 'Australia': 'Sydni',\n",
       " 'UK': 'England'}"
      ]
     },
     "execution_count": 83,
     "metadata": {},
     "output_type": "execute_result"
    }
   ],
   "source": [
    "countries_copy"
   ]
  },
  {
   "cell_type": "code",
   "execution_count": 88,
   "id": "f528f957",
   "metadata": {},
   "outputs": [],
   "source": [
    "countries_copy[\"UK\"] = \"England\"\n",
    "countries_copy[\"Rassia\"] = \"Mascow\""
   ]
  },
  {
   "cell_type": "code",
   "execution_count": 92,
   "id": "626998ba",
   "metadata": {},
   "outputs": [
    {
     "data": {
      "text/plain": [
       "{'India': 'New Delhi',\n",
       " 'US': 'washington',\n",
       " 'Japan': 'Tokio',\n",
       " 'Australia': 'Sydni',\n",
       " 'UK': 'England',\n",
       " 'Rassia': 'Mascow'}"
      ]
     },
     "execution_count": 92,
     "metadata": {},
     "output_type": "execute_result"
    }
   ],
   "source": [
    "countries_copy"
   ]
  },
  {
   "cell_type": "code",
   "execution_count": 91,
   "id": "f29a2edf",
   "metadata": {},
   "outputs": [
    {
     "data": {
      "text/plain": [
       "{'India': 'New Delhi',\n",
       " 'US': 'washington',\n",
       " 'Japan': 'Tokio',\n",
       " 'Australia': 'Sydni',\n",
       " 'UK': 'England'}"
      ]
     },
     "execution_count": 91,
     "metadata": {},
     "output_type": "execute_result"
    }
   ],
   "source": [
    "countries"
   ]
  },
  {
   "cell_type": "code",
   "execution_count": 94,
   "id": "287b8e0a",
   "metadata": {},
   "outputs": [
    {
     "data": {
      "text/plain": [
       "'Mascow'"
      ]
     },
     "execution_count": 94,
     "metadata": {},
     "output_type": "execute_result"
    }
   ],
   "source": [
    "countries_copy.pop(\"Rassia\")"
   ]
  },
  {
   "cell_type": "code",
   "execution_count": 95,
   "id": "a3ca2235",
   "metadata": {},
   "outputs": [
    {
     "data": {
      "text/plain": [
       "{'India': 'New Delhi',\n",
       " 'US': 'washington',\n",
       " 'Japan': 'Tokio',\n",
       " 'Australia': 'Sydni',\n",
       " 'UK': 'England'}"
      ]
     },
     "execution_count": 95,
     "metadata": {},
     "output_type": "execute_result"
    }
   ],
   "source": [
    "countries_copy"
   ]
  },
  {
   "cell_type": "code",
   "execution_count": 97,
   "id": "6418dae7",
   "metadata": {},
   "outputs": [
    {
     "data": {
      "text/plain": [
       "('Australia', 'Sydni')"
      ]
     },
     "execution_count": 97,
     "metadata": {},
     "output_type": "execute_result"
    }
   ],
   "source": [
    "countries_copy.popitem()"
   ]
  },
  {
   "cell_type": "code",
   "execution_count": 98,
   "id": "8a7c479a",
   "metadata": {},
   "outputs": [
    {
     "data": {
      "text/plain": [
       "{'India': 'New Delhi', 'US': 'washington', 'Japan': 'Tokio'}"
      ]
     },
     "execution_count": 98,
     "metadata": {},
     "output_type": "execute_result"
    }
   ],
   "source": [
    "countries_copy"
   ]
  },
  {
   "cell_type": "code",
   "execution_count": 99,
   "id": "a4284d09",
   "metadata": {},
   "outputs": [],
   "source": [
    "age = {\"a\" : 10,\"b\" : 20}\n",
    "new_age = {\"a\" : 20, \"c\" : 40}"
   ]
  },
  {
   "cell_type": "code",
   "execution_count": 100,
   "id": "47f8d9c1",
   "metadata": {},
   "outputs": [],
   "source": [
    "age.update(new_age)"
   ]
  },
  {
   "cell_type": "code",
   "execution_count": 101,
   "id": "a214eb99",
   "metadata": {},
   "outputs": [
    {
     "data": {
      "text/plain": [
       "{'a': 20, 'b': 20, 'c': 40}"
      ]
     },
     "execution_count": 101,
     "metadata": {},
     "output_type": "execute_result"
    }
   ],
   "source": [
    "age"
   ]
  },
  {
   "cell_type": "code",
   "execution_count": 102,
   "id": "6ee79128",
   "metadata": {},
   "outputs": [],
   "source": [
    "age.clear()"
   ]
  },
  {
   "cell_type": "code",
   "execution_count": 103,
   "id": "fa6f9e55",
   "metadata": {},
   "outputs": [
    {
     "data": {
      "text/plain": [
       "{}"
      ]
     },
     "execution_count": 103,
     "metadata": {},
     "output_type": "execute_result"
    }
   ],
   "source": [
    "age"
   ]
  },
  {
   "cell_type": "code",
   "execution_count": 105,
   "id": "8fa815d8",
   "metadata": {},
   "outputs": [],
   "source": [
    "del age"
   ]
  },
  {
   "cell_type": "code",
   "execution_count": 106,
   "id": "49922d8d",
   "metadata": {},
   "outputs": [
    {
     "ename": "NameError",
     "evalue": "name 'age' is not defined",
     "output_type": "error",
     "traceback": [
      "\u001b[1;31m---------------------------------------------------------------------------\u001b[0m",
      "\u001b[1;31mNameError\u001b[0m                                 Traceback (most recent call last)",
      "Input \u001b[1;32mIn [106]\u001b[0m, in \u001b[0;36m<cell line: 1>\u001b[1;34m()\u001b[0m\n\u001b[1;32m----> 1\u001b[0m \u001b[43mage\u001b[49m\n",
      "\u001b[1;31mNameError\u001b[0m: name 'age' is not defined"
     ]
    }
   ],
   "source": [
    "age"
   ]
  },
  {
   "cell_type": "code",
   "execution_count": null,
   "id": "07ac5e2b",
   "metadata": {},
   "outputs": [],
   "source": []
  }
 ],
 "metadata": {
  "kernelspec": {
   "display_name": "Python 3 (ipykernel)",
   "language": "python",
   "name": "python3"
  },
  "language_info": {
   "codemirror_mode": {
    "name": "ipython",
    "version": 3
   },
   "file_extension": ".py",
   "mimetype": "text/x-python",
   "name": "python",
   "nbconvert_exporter": "python",
   "pygments_lexer": "ipython3",
   "version": "3.11.3"
  }
 },
 "nbformat": 4,
 "nbformat_minor": 5
}
