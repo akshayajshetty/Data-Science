{
 "cells": [
  {
   "cell_type": "code",
   "execution_count": 1,
   "id": "a59e2c93",
   "metadata": {},
   "outputs": [
    {
     "data": {
      "text/plain": [
       "{'Hello', 'Java', 'Python', 'World'}"
      ]
     },
     "execution_count": 1,
     "metadata": {},
     "output_type": "execute_result"
    }
   ],
   "source": [
    "set_string = {\"Python\",\"World\",\"Hello\",\"Java\"}\n",
    "set_string"
   ]
  },
  {
   "cell_type": "code",
   "execution_count": 2,
   "id": "b1acc043",
   "metadata": {},
   "outputs": [
    {
     "data": {
      "text/plain": [
       "set()"
      ]
     },
     "execution_count": 2,
     "metadata": {},
     "output_type": "execute_result"
    }
   ],
   "source": [
    "empty_set = set()\n",
    "empty_set"
   ]
  },
  {
   "cell_type": "code",
   "execution_count": 3,
   "id": "dc722459",
   "metadata": {},
   "outputs": [
    {
     "name": "stdout",
     "output_type": "stream",
     "text": [
      "<class 'set'>\n"
     ]
    }
   ],
   "source": [
    "print(type(empty_set))"
   ]
  },
  {
   "cell_type": "code",
   "execution_count": 8,
   "id": "3395cdfa",
   "metadata": {},
   "outputs": [
    {
     "data": {
      "text/plain": [
       "{1, 2.5, 'Akshay', False}"
      ]
     },
     "execution_count": 8,
     "metadata": {},
     "output_type": "execute_result"
    }
   ],
   "source": [
    "mixed_set = {\"Akshay\",1,2.5,False}\n",
    "mixed_set"
   ]
  },
  {
   "cell_type": "code",
   "execution_count": 9,
   "id": "82390c23",
   "metadata": {},
   "outputs": [
    {
     "data": {
      "text/plain": [
       "{(1, 2, 3), 1, 2, 5, 'Akshay', False}"
      ]
     },
     "execution_count": 9,
     "metadata": {},
     "output_type": "execute_result"
    }
   ],
   "source": [
    "mixed_set1 = {\"Akshay\",1,2,5,False,(1,2,3)}\n",
    "mixed_set1"
   ]
  },
  {
   "cell_type": "code",
   "execution_count": 12,
   "id": "c26b6ecc",
   "metadata": {},
   "outputs": [
    {
     "ename": "TypeError",
     "evalue": "unhashable type: 'list'",
     "output_type": "error",
     "traceback": [
      "\u001b[1;31m---------------------------------------------------------------------------\u001b[0m",
      "\u001b[1;31mTypeError\u001b[0m                                 Traceback (most recent call last)",
      "Input \u001b[1;32mIn [12]\u001b[0m, in \u001b[0;36m<cell line: 1>\u001b[1;34m()\u001b[0m\n\u001b[1;32m----> 1\u001b[0m set_list \u001b[38;5;241m=\u001b[39m {\u001b[38;5;124m\"\u001b[39m\u001b[38;5;124mAkshay\u001b[39m\u001b[38;5;124m\"\u001b[39m,\u001b[38;5;241m1\u001b[39m,\u001b[38;5;241m2\u001b[39m,\u001b[38;5;241m5\u001b[39m,\u001b[38;5;28;01mTrue\u001b[39;00m,[\u001b[38;5;241m1\u001b[39m,\u001b[38;5;241m2\u001b[39m,\u001b[38;5;241m3\u001b[39m]}\n\u001b[0;32m      2\u001b[0m set_list\n",
      "\u001b[1;31mTypeError\u001b[0m: unhashable type: 'list'"
     ]
    }
   ],
   "source": [
    "set_list = {\"Akshay\",1,2,5,True,[1,2,3]}\n",
    "set_list"
   ]
  },
  {
   "cell_type": "code",
   "execution_count": 11,
   "id": "d45c518c",
   "metadata": {},
   "outputs": [
    {
     "ename": "TypeError",
     "evalue": "unhashable type: 'dict'",
     "output_type": "error",
     "traceback": [
      "\u001b[1;31m---------------------------------------------------------------------------\u001b[0m",
      "\u001b[1;31mTypeError\u001b[0m                                 Traceback (most recent call last)",
      "Input \u001b[1;32mIn [11]\u001b[0m, in \u001b[0;36m<cell line: 1>\u001b[1;34m()\u001b[0m\n\u001b[1;32m----> 1\u001b[0m set_dict \u001b[38;5;241m=\u001b[39m {\u001b[38;5;241m1\u001b[39m,\u001b[38;5;241m2\u001b[39m,\u001b[38;5;124m\"\u001b[39m\u001b[38;5;124mAkshay\u001b[39m\u001b[38;5;124m\"\u001b[39m,{\u001b[38;5;124m\"\u001b[39m\u001b[38;5;124mPython\u001b[39m\u001b[38;5;124m\"\u001b[39m : \u001b[38;5;124m\"\u001b[39m\u001b[38;5;124mWorld\u001b[39m\u001b[38;5;124m\"\u001b[39m}}\n\u001b[0;32m      2\u001b[0m set_dict\n",
      "\u001b[1;31mTypeError\u001b[0m: unhashable type: 'dict'"
     ]
    }
   ],
   "source": [
    "set_dict = {1,2,\"Akshay\",{\"Python\" : \"World\"}}\n",
    "set_dict"
   ]
  },
  {
   "cell_type": "code",
   "execution_count": 16,
   "id": "49bc94c4",
   "metadata": {},
   "outputs": [
    {
     "data": {
      "text/plain": [
       "{'Bugati', 'Honda', 'MG', 'RR', 'Tata'}"
      ]
     },
     "execution_count": 16,
     "metadata": {},
     "output_type": "execute_result"
    }
   ],
   "source": [
    "car_set = {\"Honda\",\"Bugati\",\"RR\",\"Tata\",\"MG\",\"Tata\",\"RR\"}\n",
    "car_set"
   ]
  },
  {
   "cell_type": "code",
   "execution_count": 17,
   "id": "a48caa80",
   "metadata": {},
   "outputs": [
    {
     "data": {
      "text/plain": [
       "{1, 2, 3, 4, 5}"
      ]
     },
     "execution_count": 17,
     "metadata": {},
     "output_type": "execute_result"
    }
   ],
   "source": [
    "set_int = {1,3,2,4,5,3,2,5}\n",
    "set_int"
   ]
  },
  {
   "cell_type": "code",
   "execution_count": 18,
   "id": "a56ac347",
   "metadata": {},
   "outputs": [
    {
     "data": {
      "text/plain": [
       "{'Bugati', 'Honda', 'MG', 'RR', 'Tata'}"
      ]
     },
     "execution_count": 18,
     "metadata": {},
     "output_type": "execute_result"
    }
   ],
   "source": [
    "car_set"
   ]
  },
  {
   "cell_type": "code",
   "execution_count": 20,
   "id": "9774028f",
   "metadata": {},
   "outputs": [
    {
     "ename": "TypeError",
     "evalue": "'set' object is not subscriptable",
     "output_type": "error",
     "traceback": [
      "\u001b[1;31m---------------------------------------------------------------------------\u001b[0m",
      "\u001b[1;31mTypeError\u001b[0m                                 Traceback (most recent call last)",
      "Input \u001b[1;32mIn [20]\u001b[0m, in \u001b[0;36m<cell line: 1>\u001b[1;34m()\u001b[0m\n\u001b[1;32m----> 1\u001b[0m \u001b[43mcar_set\u001b[49m\u001b[43m[\u001b[49m\u001b[38;5;241;43m1\u001b[39;49m\u001b[43m]\u001b[49m\n",
      "\u001b[1;31mTypeError\u001b[0m: 'set' object is not subscriptable"
     ]
    }
   ],
   "source": [
    "car_set[1]"
   ]
  },
  {
   "cell_type": "code",
   "execution_count": 21,
   "id": "70682f3e",
   "metadata": {},
   "outputs": [
    {
     "data": {
      "text/plain": [
       "{'Bugati', 'Honda', 'MG', 'RR', 'Tata'}"
      ]
     },
     "execution_count": 21,
     "metadata": {},
     "output_type": "execute_result"
    }
   ],
   "source": [
    "car_set"
   ]
  },
  {
   "cell_type": "code",
   "execution_count": 22,
   "id": "b9ddcd6b",
   "metadata": {},
   "outputs": [],
   "source": [
    "car_set.add(\"Ferrory\")"
   ]
  },
  {
   "cell_type": "code",
   "execution_count": 23,
   "id": "2d6ddc34",
   "metadata": {},
   "outputs": [
    {
     "data": {
      "text/plain": [
       "{'Bugati', 'Ferrory', 'Honda', 'MG', 'RR', 'Tata'}"
      ]
     },
     "execution_count": 23,
     "metadata": {},
     "output_type": "execute_result"
    }
   ],
   "source": [
    "car_set"
   ]
  },
  {
   "cell_type": "code",
   "execution_count": 24,
   "id": "8dbef3eb",
   "metadata": {},
   "outputs": [
    {
     "data": {
      "text/plain": [
       "6"
      ]
     },
     "execution_count": 24,
     "metadata": {},
     "output_type": "execute_result"
    }
   ],
   "source": [
    "len(car_set)"
   ]
  },
  {
   "cell_type": "code",
   "execution_count": 26,
   "id": "e1a40655",
   "metadata": {},
   "outputs": [
    {
     "data": {
      "text/plain": [
       "'Tata'"
      ]
     },
     "execution_count": 26,
     "metadata": {},
     "output_type": "execute_result"
    }
   ],
   "source": [
    "max(car_set)"
   ]
  },
  {
   "cell_type": "code",
   "execution_count": 27,
   "id": "ef997d41",
   "metadata": {},
   "outputs": [
    {
     "data": {
      "text/plain": [
       "'Bugati'"
      ]
     },
     "execution_count": 27,
     "metadata": {},
     "output_type": "execute_result"
    }
   ],
   "source": [
    "min(car_set)"
   ]
  },
  {
   "cell_type": "code",
   "execution_count": 30,
   "id": "9e159fc4",
   "metadata": {},
   "outputs": [],
   "source": [
    "car_set.discard(\"Honda\")"
   ]
  },
  {
   "cell_type": "code",
   "execution_count": 31,
   "id": "b949aa45",
   "metadata": {},
   "outputs": [
    {
     "data": {
      "text/plain": [
       "{'Bugati', 'Ferrory', 'MG', 'RR', 'Tata'}"
      ]
     },
     "execution_count": 31,
     "metadata": {},
     "output_type": "execute_result"
    }
   ],
   "source": [
    "car_set"
   ]
  },
  {
   "cell_type": "code",
   "execution_count": 33,
   "id": "111db258",
   "metadata": {},
   "outputs": [],
   "source": [
    "car_set.remove(\"MG\")"
   ]
  },
  {
   "cell_type": "code",
   "execution_count": 36,
   "id": "73c7c12e",
   "metadata": {},
   "outputs": [
    {
     "data": {
      "text/plain": [
       "{'Bugati', 'Ferrory', 'RR', 'Tata'}"
      ]
     },
     "execution_count": 36,
     "metadata": {},
     "output_type": "execute_result"
    }
   ],
   "source": [
    "car_set"
   ]
  },
  {
   "cell_type": "code",
   "execution_count": 39,
   "id": "bb0f2ade",
   "metadata": {},
   "outputs": [
    {
     "ename": "KeyError",
     "evalue": "'MG'",
     "output_type": "error",
     "traceback": [
      "\u001b[1;31m---------------------------------------------------------------------------\u001b[0m",
      "\u001b[1;31mKeyError\u001b[0m                                  Traceback (most recent call last)",
      "Input \u001b[1;32mIn [39]\u001b[0m, in \u001b[0;36m<cell line: 1>\u001b[1;34m()\u001b[0m\n\u001b[1;32m----> 1\u001b[0m \u001b[43mcar_set\u001b[49m\u001b[38;5;241;43m.\u001b[39;49m\u001b[43mremove\u001b[49m\u001b[43m(\u001b[49m\u001b[38;5;124;43m\"\u001b[39;49m\u001b[38;5;124;43mMG\u001b[39;49m\u001b[38;5;124;43m\"\u001b[39;49m\u001b[43m)\u001b[49m\n",
      "\u001b[1;31mKeyError\u001b[0m: 'MG'"
     ]
    }
   ],
   "source": [
    "car_set.remove(\"MG\")"
   ]
  },
  {
   "cell_type": "code",
   "execution_count": 37,
   "id": "b05f2b43",
   "metadata": {},
   "outputs": [],
   "source": [
    "car_set.clear()"
   ]
  },
  {
   "cell_type": "code",
   "execution_count": 38,
   "id": "78939d2a",
   "metadata": {},
   "outputs": [
    {
     "data": {
      "text/plain": [
       "set()"
      ]
     },
     "execution_count": 38,
     "metadata": {},
     "output_type": "execute_result"
    }
   ],
   "source": [
    "car_set"
   ]
  },
  {
   "cell_type": "code",
   "execution_count": 41,
   "id": "32802f29",
   "metadata": {},
   "outputs": [],
   "source": [
    "number1 = {1,2,3,4,5}\n",
    "number2 = {4,5,8,9,0}\n",
    "number3 = {2,3,5,6,7}"
   ]
  },
  {
   "cell_type": "code",
   "execution_count": 42,
   "id": "81be8ac4",
   "metadata": {},
   "outputs": [
    {
     "data": {
      "text/plain": [
       "{0, 1, 2, 3, 4, 5, 8, 9}"
      ]
     },
     "execution_count": 42,
     "metadata": {},
     "output_type": "execute_result"
    }
   ],
   "source": [
    "number1.union(number2)"
   ]
  },
  {
   "cell_type": "code",
   "execution_count": 44,
   "id": "23736494",
   "metadata": {},
   "outputs": [
    {
     "data": {
      "text/plain": [
       "{0, 1, 2, 3, 4, 5, 6, 7, 8, 9}"
      ]
     },
     "execution_count": 44,
     "metadata": {},
     "output_type": "execute_result"
    }
   ],
   "source": [
    "number1.union(number2,number3)"
   ]
  },
  {
   "cell_type": "code",
   "execution_count": 49,
   "id": "769f422e",
   "metadata": {},
   "outputs": [],
   "source": [
    "car_set1 = {\"Honda\",\"MG\",\"RR\"}\n",
    "car_set2 = {\"RangeRover\",\"RR\",\"Tata\"}\n",
    "car_set3 = {\"Ferrory\",\"Swift\",\"BMW\",\"RR\"}"
   ]
  },
  {
   "cell_type": "code",
   "execution_count": 50,
   "id": "46862376",
   "metadata": {},
   "outputs": [
    {
     "data": {
      "text/plain": [
       "{'BMW', 'Ferrory', 'Honda', 'MG', 'RR', 'RangeRover', 'Swift', 'Tata'}"
      ]
     },
     "execution_count": 50,
     "metadata": {},
     "output_type": "execute_result"
    }
   ],
   "source": [
    "car_set1.union(car_set2,car_set3)"
   ]
  },
  {
   "cell_type": "code",
   "execution_count": 51,
   "id": "73d6c844",
   "metadata": {},
   "outputs": [
    {
     "data": {
      "text/plain": [
       "{'RR'}"
      ]
     },
     "execution_count": 51,
     "metadata": {},
     "output_type": "execute_result"
    }
   ],
   "source": [
    "car_set1.intersection(car_set2,car_set3)"
   ]
  },
  {
   "cell_type": "code",
   "execution_count": 60,
   "id": "187b459a",
   "metadata": {},
   "outputs": [
    {
     "data": {
      "text/plain": [
       "{'Honda', 'MG'}"
      ]
     },
     "execution_count": 60,
     "metadata": {},
     "output_type": "execute_result"
    }
   ],
   "source": [
    "car_set1.difference(car_set2)"
   ]
  },
  {
   "cell_type": "code",
   "execution_count": 62,
   "id": "8543ceee",
   "metadata": {},
   "outputs": [],
   "source": [
    "car_set1.intersection_update(car_set2)"
   ]
  },
  {
   "cell_type": "code",
   "execution_count": 63,
   "id": "b3e7c994",
   "metadata": {},
   "outputs": [
    {
     "data": {
      "text/plain": [
       "{'RR'}"
      ]
     },
     "execution_count": 63,
     "metadata": {},
     "output_type": "execute_result"
    }
   ],
   "source": [
    "car_set1"
   ]
  },
  {
   "cell_type": "code",
   "execution_count": 65,
   "id": "716a2075",
   "metadata": {},
   "outputs": [
    {
     "data": {
      "text/plain": [
       "{'RR', 'RangeRover', 'Tata'}"
      ]
     },
     "execution_count": 65,
     "metadata": {},
     "output_type": "execute_result"
    }
   ],
   "source": [
    "car_set2"
   ]
  },
  {
   "cell_type": "code",
   "execution_count": 69,
   "id": "3a8d0b63",
   "metadata": {},
   "outputs": [
    {
     "data": {
      "text/plain": [
       "True"
      ]
     },
     "execution_count": 69,
     "metadata": {},
     "output_type": "execute_result"
    }
   ],
   "source": [
    "{1,2,3}.isdisjoint({4,5,6})"
   ]
  },
  {
   "cell_type": "code",
   "execution_count": 71,
   "id": "5769696e",
   "metadata": {},
   "outputs": [
    {
     "data": {
      "text/plain": [
       "False"
      ]
     },
     "execution_count": 71,
     "metadata": {},
     "output_type": "execute_result"
    }
   ],
   "source": [
    "{1,2,4}.isdisjoint({4,5,6})"
   ]
  },
  {
   "cell_type": "code",
   "execution_count": 72,
   "id": "9e42e925",
   "metadata": {},
   "outputs": [
    {
     "data": {
      "text/plain": [
       "True"
      ]
     },
     "execution_count": 72,
     "metadata": {},
     "output_type": "execute_result"
    }
   ],
   "source": [
    "{10,20}.issubset({10,20,30,40})"
   ]
  },
  {
   "cell_type": "code",
   "execution_count": 74,
   "id": "03d8bd52",
   "metadata": {},
   "outputs": [
    {
     "data": {
      "text/plain": [
       "True"
      ]
     },
     "execution_count": 74,
     "metadata": {},
     "output_type": "execute_result"
    }
   ],
   "source": [
    "{10,20,30,40,50,50,60}.issuperset({10,20,30,40})"
   ]
  },
  {
   "cell_type": "code",
   "execution_count": null,
   "id": "53712272",
   "metadata": {},
   "outputs": [],
   "source": []
  }
 ],
 "metadata": {
  "kernelspec": {
   "display_name": "Python 3 (ipykernel)",
   "language": "python",
   "name": "python3"
  },
  "language_info": {
   "codemirror_mode": {
    "name": "ipython",
    "version": 3
   },
   "file_extension": ".py",
   "mimetype": "text/x-python",
   "name": "python",
   "nbconvert_exporter": "python",
   "pygments_lexer": "ipython3",
   "version": "3.11.3"
  }
 },
 "nbformat": 4,
 "nbformat_minor": 5
}
