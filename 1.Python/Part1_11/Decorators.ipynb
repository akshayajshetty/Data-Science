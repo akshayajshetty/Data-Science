{
 "cells": [
  {
   "cell_type": "code",
   "execution_count": 10,
   "id": "6bbe8e00",
   "metadata": {},
   "outputs": [],
   "source": [
    "def print_message():\n",
    "    print('Hello')"
   ]
  },
  {
   "cell_type": "code",
   "execution_count": 2,
   "id": "d500cf24",
   "metadata": {},
   "outputs": [
    {
     "name": "stdout",
     "output_type": "stream",
     "text": [
      "Hi\n"
     ]
    }
   ],
   "source": [
    "print_message()"
   ]
  },
  {
   "cell_type": "code",
   "execution_count": 11,
   "id": "9e5ace6e",
   "metadata": {},
   "outputs": [],
   "source": [
    "import random\n",
    "def highlights():\n",
    "    annotation = [\"*\",\"&\",\"$\",\"#\",\"^\"]\n",
    "    annote = random.choice(annotation)\n",
    "    print(annote * 30)\n",
    "    print_message()\n",
    "    print(annote * 30)"
   ]
  },
  {
   "cell_type": "code",
   "execution_count": 12,
   "id": "fc03ba64",
   "metadata": {},
   "outputs": [
    {
     "name": "stdout",
     "output_type": "stream",
     "text": [
      "******************************\n",
      "Hello\n",
      "******************************\n"
     ]
    }
   ],
   "source": [
    "highlights()"
   ]
  },
  {
   "cell_type": "code",
   "execution_count": 13,
   "id": "a911c071",
   "metadata": {},
   "outputs": [],
   "source": [
    "def print_another_messegae():\n",
    "    print('Hello world')"
   ]
  },
  {
   "cell_type": "code",
   "execution_count": 14,
   "id": "bb3fca9b",
   "metadata": {},
   "outputs": [],
   "source": [
    "import random\n",
    "def make_highlight_fn(fun):\n",
    "    annotation = [\"*\",\"&\",\"$\",\"#\",\"^\"]\n",
    "    annote = random.choice(annotation)\n",
    "    \n",
    "    def highlights():\n",
    "        print(annote * 30)\n",
    "        fun()\n",
    "        print(annote * 30)\n",
    "    return highlights"
   ]
  },
  {
   "cell_type": "code",
   "execution_count": 15,
   "id": "e2382b37",
   "metadata": {},
   "outputs": [
    {
     "name": "stdout",
     "output_type": "stream",
     "text": [
      "Hello\n"
     ]
    }
   ],
   "source": [
    "print_message()"
   ]
  },
  {
   "cell_type": "code",
   "execution_count": 16,
   "id": "127e4ac4",
   "metadata": {},
   "outputs": [
    {
     "name": "stdout",
     "output_type": "stream",
     "text": [
      "Hello world\n"
     ]
    }
   ],
   "source": [
    "print_another_messegae()"
   ]
  },
  {
   "cell_type": "code",
   "execution_count": 18,
   "id": "0abe2607",
   "metadata": {},
   "outputs": [
    {
     "name": "stdout",
     "output_type": "stream",
     "text": [
      "******************************\n",
      "Hello\n",
      "******************************\n"
     ]
    }
   ],
   "source": [
    "fn = make_highlight_fn(print_message)\n",
    "fn()"
   ]
  },
  {
   "cell_type": "code",
   "execution_count": 21,
   "id": "f0221188",
   "metadata": {},
   "outputs": [
    {
     "name": "stdout",
     "output_type": "stream",
     "text": [
      "$$$$$$$$$$$$$$$$$$$$$$$$$$$$$$\n",
      "Hello world\n",
      "$$$$$$$$$$$$$$$$$$$$$$$$$$$$$$\n"
     ]
    }
   ],
   "source": [
    "fn = make_highlight_fn(print_another_messegae)\n",
    "fn()"
   ]
  },
  {
   "cell_type": "code",
   "execution_count": 22,
   "id": "a63603a4",
   "metadata": {},
   "outputs": [],
   "source": [
    "@make_highlight_fn\n",
    "def print_third_fun():\n",
    "    print(\"Now decorator is used!\")"
   ]
  },
  {
   "cell_type": "code",
   "execution_count": 23,
   "id": "2cbd3536",
   "metadata": {},
   "outputs": [
    {
     "name": "stdout",
     "output_type": "stream",
     "text": [
      "^^^^^^^^^^^^^^^^^^^^^^^^^^^^^^\n",
      "Now decorator is used!\n",
      "^^^^^^^^^^^^^^^^^^^^^^^^^^^^^^\n"
     ]
    }
   ],
   "source": [
    "print_third_fun()"
   ]
  },
  {
   "cell_type": "code",
   "execution_count": 24,
   "id": "4097ec6e",
   "metadata": {},
   "outputs": [],
   "source": [
    "@make_highlight_fn\n",
    "def print_any_fun():\n",
    "    print(\"anythis is important!\")"
   ]
  },
  {
   "cell_type": "code",
   "execution_count": 25,
   "id": "bbbdaf40",
   "metadata": {},
   "outputs": [
    {
     "name": "stdout",
     "output_type": "stream",
     "text": [
      "$$$$$$$$$$$$$$$$$$$$$$$$$$$$$$\n",
      "anythis is important!\n",
      "$$$$$$$$$$$$$$$$$$$$$$$$$$$$$$\n"
     ]
    }
   ],
   "source": [
    "print_any_fun()"
   ]
  },
  {
   "cell_type": "code",
   "execution_count": 27,
   "id": "62aeddbb",
   "metadata": {},
   "outputs": [],
   "source": [
    "import math\n",
    "def area_of_circle(radius):\n",
    "    return math.pi * radius * radius"
   ]
  },
  {
   "cell_type": "code",
   "execution_count": 29,
   "id": "2a83d48a",
   "metadata": {},
   "outputs": [
    {
     "data": {
      "text/plain": [
       "50.26548245743669"
      ]
     },
     "execution_count": 29,
     "metadata": {},
     "output_type": "execute_result"
    }
   ],
   "source": [
    "area_of_circle(4)"
   ]
  },
  {
   "cell_type": "code",
   "execution_count": 32,
   "id": "b2a7b3d6",
   "metadata": {},
   "outputs": [
    {
     "data": {
      "text/plain": [
       "28.274333882308138"
      ]
     },
     "execution_count": 32,
     "metadata": {},
     "output_type": "execute_result"
    }
   ],
   "source": [
    "area_of_circle(-3)"
   ]
  },
  {
   "cell_type": "code",
   "execution_count": 30,
   "id": "a4eece86",
   "metadata": {},
   "outputs": [],
   "source": [
    "def perimeter_of_circle(radius):\n",
    "    return 2 * math.pi * radius "
   ]
  },
  {
   "cell_type": "code",
   "execution_count": 31,
   "id": "6e18e91e",
   "metadata": {},
   "outputs": [],
   "source": [
    "def diameter_of_circle(radius):\n",
    "    return 2 * radius"
   ]
  },
  {
   "cell_type": "code",
   "execution_count": 44,
   "id": "412908f5",
   "metadata": {},
   "outputs": [],
   "source": [
    "def safe_calculate(fun):\n",
    "    def calculate(r):\n",
    "        if r <= 0 :\n",
    "            raise ValueError(\"Area of  circle can not be specified zero or negative number\")\n",
    "        return fun(r)\n",
    "    return calculate          "
   ]
  },
  {
   "cell_type": "code",
   "execution_count": 45,
   "id": "01bea2fe",
   "metadata": {},
   "outputs": [
    {
     "data": {
      "text/plain": [
       "78.53981633974483"
      ]
     },
     "execution_count": 45,
     "metadata": {},
     "output_type": "execute_result"
    }
   ],
   "source": [
    "area = safe_calculate(area_of_circle)\n",
    "area(5)"
   ]
  },
  {
   "cell_type": "code",
   "execution_count": 46,
   "id": "35e40beb",
   "metadata": {},
   "outputs": [
    {
     "ename": "ValueError",
     "evalue": "Area of  circle can not be specified zero or negative number",
     "output_type": "error",
     "traceback": [
      "\u001b[1;31m---------------------------------------------------------------------------\u001b[0m",
      "\u001b[1;31mValueError\u001b[0m                                Traceback (most recent call last)",
      "Input \u001b[1;32mIn [46]\u001b[0m, in \u001b[0;36m<cell line: 1>\u001b[1;34m()\u001b[0m\n\u001b[1;32m----> 1\u001b[0m \u001b[43marea\u001b[49m\u001b[43m(\u001b[49m\u001b[38;5;241;43m-\u001b[39;49m\u001b[38;5;241;43m3\u001b[39;49m\u001b[43m)\u001b[49m\n",
      "Input \u001b[1;32mIn [44]\u001b[0m, in \u001b[0;36msafe_calculate.<locals>.calculate\u001b[1;34m(r)\u001b[0m\n\u001b[0;32m      2\u001b[0m \u001b[38;5;28;01mdef\u001b[39;00m \u001b[38;5;21mcalculate\u001b[39m(r):\n\u001b[0;32m      3\u001b[0m     \u001b[38;5;28;01mif\u001b[39;00m r \u001b[38;5;241m<\u001b[39m\u001b[38;5;241m=\u001b[39m \u001b[38;5;241m0\u001b[39m :\n\u001b[1;32m----> 4\u001b[0m         \u001b[38;5;28;01mraise\u001b[39;00m \u001b[38;5;167;01mValueError\u001b[39;00m(\u001b[38;5;124m\"\u001b[39m\u001b[38;5;124mArea of  circle can not be specified zero or negative number\u001b[39m\u001b[38;5;124m\"\u001b[39m)\n\u001b[0;32m      5\u001b[0m     \u001b[38;5;28;01mreturn\u001b[39;00m fun(r)\n",
      "\u001b[1;31mValueError\u001b[0m: Area of  circle can not be specified zero or negative number"
     ]
    }
   ],
   "source": [
    "area(-3)"
   ]
  },
  {
   "cell_type": "code",
   "execution_count": 47,
   "id": "5a078a81",
   "metadata": {},
   "outputs": [
    {
     "data": {
      "text/plain": [
       "31.41592653589793"
      ]
     },
     "execution_count": 47,
     "metadata": {},
     "output_type": "execute_result"
    }
   ],
   "source": [
    "perimeter = safe_calculate(perimeter_of_circle)\n",
    "perimeter(5)"
   ]
  },
  {
   "cell_type": "code",
   "execution_count": 48,
   "id": "bd450c67",
   "metadata": {},
   "outputs": [
    {
     "data": {
      "text/plain": [
       "10"
      ]
     },
     "execution_count": 48,
     "metadata": {},
     "output_type": "execute_result"
    }
   ],
   "source": [
    "diameter = safe_calculate(diameter_of_circle)\n",
    "diameter(5)"
   ]
  },
  {
   "cell_type": "code",
   "execution_count": 53,
   "id": "985d7f67",
   "metadata": {},
   "outputs": [],
   "source": [
    "@safe_calculate\n",
    "def area_of_circle_fun(radius):\n",
    "    return math.pi * radius * radius"
   ]
  },
  {
   "cell_type": "code",
   "execution_count": 54,
   "id": "d5ff9461",
   "metadata": {},
   "outputs": [
    {
     "ename": "ValueError",
     "evalue": "Area of  circle can not be specified zero or negative number",
     "output_type": "error",
     "traceback": [
      "\u001b[1;31m---------------------------------------------------------------------------\u001b[0m",
      "\u001b[1;31mValueError\u001b[0m                                Traceback (most recent call last)",
      "Input \u001b[1;32mIn [54]\u001b[0m, in \u001b[0;36m<cell line: 1>\u001b[1;34m()\u001b[0m\n\u001b[1;32m----> 1\u001b[0m \u001b[43marea_of_circle_fun\u001b[49m\u001b[43m(\u001b[49m\u001b[38;5;241;43m-\u001b[39;49m\u001b[38;5;241;43m6\u001b[39;49m\u001b[43m)\u001b[49m\n",
      "Input \u001b[1;32mIn [44]\u001b[0m, in \u001b[0;36msafe_calculate.<locals>.calculate\u001b[1;34m(r)\u001b[0m\n\u001b[0;32m      2\u001b[0m \u001b[38;5;28;01mdef\u001b[39;00m \u001b[38;5;21mcalculate\u001b[39m(r):\n\u001b[0;32m      3\u001b[0m     \u001b[38;5;28;01mif\u001b[39;00m r \u001b[38;5;241m<\u001b[39m\u001b[38;5;241m=\u001b[39m \u001b[38;5;241m0\u001b[39m :\n\u001b[1;32m----> 4\u001b[0m         \u001b[38;5;28;01mraise\u001b[39;00m \u001b[38;5;167;01mValueError\u001b[39;00m(\u001b[38;5;124m\"\u001b[39m\u001b[38;5;124mArea of  circle can not be specified zero or negative number\u001b[39m\u001b[38;5;124m\"\u001b[39m)\n\u001b[0;32m      5\u001b[0m     \u001b[38;5;28;01mreturn\u001b[39;00m fun(r)\n",
      "\u001b[1;31mValueError\u001b[0m: Area of  circle can not be specified zero or negative number"
     ]
    }
   ],
   "source": [
    "area_of_circle_fun(-6)"
   ]
  },
  {
   "cell_type": "code",
   "execution_count": 56,
   "id": "e57c73c3",
   "metadata": {},
   "outputs": [],
   "source": [
    "@safe_calculate\n",
    "def area_of_rectangle(length,breadth):\n",
    "    return lenght * breadth"
   ]
  },
  {
   "cell_type": "code",
   "execution_count": 57,
   "id": "69810f1a",
   "metadata": {},
   "outputs": [
    {
     "ename": "TypeError",
     "evalue": "calculate() takes 1 positional argument but 2 were given",
     "output_type": "error",
     "traceback": [
      "\u001b[1;31m---------------------------------------------------------------------------\u001b[0m",
      "\u001b[1;31mTypeError\u001b[0m                                 Traceback (most recent call last)",
      "Input \u001b[1;32mIn [57]\u001b[0m, in \u001b[0;36m<cell line: 1>\u001b[1;34m()\u001b[0m\n\u001b[1;32m----> 1\u001b[0m \u001b[43marea_of_rectangle\u001b[49m\u001b[43m(\u001b[49m\u001b[38;5;241;43m5\u001b[39;49m\u001b[43m,\u001b[49m\u001b[38;5;241;43m4\u001b[39;49m\u001b[43m)\u001b[49m\n",
      "\u001b[1;31mTypeError\u001b[0m: calculate() takes 1 positional argument but 2 were given"
     ]
    }
   ],
   "source": [
    "area_of_rectangle(5,4)"
   ]
  },
  {
   "cell_type": "code",
   "execution_count": 78,
   "id": "b283d518",
   "metadata": {},
   "outputs": [],
   "source": [
    "def safe_calculate_all(fun):\n",
    "    \n",
    "    def calculate(*args):\n",
    "        for arg in args:\n",
    "            if arg <= 0:\n",
    "                raise ValueError(\"Arguments can't be negative or zero number\")\n",
    "        return fun(*args)\n",
    "    return calculate"
   ]
  },
  {
   "cell_type": "code",
   "execution_count": 79,
   "id": "3504bf99",
   "metadata": {},
   "outputs": [],
   "source": [
    "@safe_calculate_all\n",
    "def area_of_rectangle(length,breadth):\n",
    "    return length * breadth"
   ]
  },
  {
   "cell_type": "code",
   "execution_count": 74,
   "id": "65f23f43",
   "metadata": {},
   "outputs": [],
   "source": [
    "@safe_calculate_all\n",
    "def perimeter_of_rectangle(length,breadth):\n",
    "    return 2 * (length * breadth)\n"
   ]
  },
  {
   "cell_type": "code",
   "execution_count": 80,
   "id": "634613d6",
   "metadata": {},
   "outputs": [
    {
     "data": {
      "text/plain": [
       "20"
      ]
     },
     "execution_count": 80,
     "metadata": {},
     "output_type": "execute_result"
    }
   ],
   "source": [
    "area_of_rectangle(5,4)"
   ]
  },
  {
   "cell_type": "code",
   "execution_count": 76,
   "id": "089d8bdc",
   "metadata": {},
   "outputs": [
    {
     "data": {
      "text/plain": [
       "36"
      ]
     },
     "execution_count": 76,
     "metadata": {},
     "output_type": "execute_result"
    }
   ],
   "source": [
    "perimeter_of_rectangle(3,6)"
   ]
  },
  {
   "cell_type": "code",
   "execution_count": 81,
   "id": "c374f54a",
   "metadata": {},
   "outputs": [
    {
     "ename": "ValueError",
     "evalue": "Arguments can't be negative or zero number",
     "output_type": "error",
     "traceback": [
      "\u001b[1;31m---------------------------------------------------------------------------\u001b[0m",
      "\u001b[1;31mValueError\u001b[0m                                Traceback (most recent call last)",
      "Input \u001b[1;32mIn [81]\u001b[0m, in \u001b[0;36m<cell line: 1>\u001b[1;34m()\u001b[0m\n\u001b[1;32m----> 1\u001b[0m \u001b[43marea_of_rectangle\u001b[49m\u001b[43m(\u001b[49m\u001b[38;5;241;43m0\u001b[39;49m\u001b[43m,\u001b[49m\u001b[38;5;241;43m6\u001b[39;49m\u001b[43m)\u001b[49m\n",
      "Input \u001b[1;32mIn [78]\u001b[0m, in \u001b[0;36msafe_calculate_all.<locals>.calculate\u001b[1;34m(*args)\u001b[0m\n\u001b[0;32m      4\u001b[0m \u001b[38;5;28;01mfor\u001b[39;00m arg \u001b[38;5;129;01min\u001b[39;00m args:\n\u001b[0;32m      5\u001b[0m     \u001b[38;5;28;01mif\u001b[39;00m arg \u001b[38;5;241m<\u001b[39m\u001b[38;5;241m=\u001b[39m \u001b[38;5;241m0\u001b[39m:\n\u001b[1;32m----> 6\u001b[0m         \u001b[38;5;28;01mraise\u001b[39;00m \u001b[38;5;167;01mValueError\u001b[39;00m(\u001b[38;5;124m\"\u001b[39m\u001b[38;5;124mArguments can\u001b[39m\u001b[38;5;124m'\u001b[39m\u001b[38;5;124mt be negative or zero number\u001b[39m\u001b[38;5;124m\"\u001b[39m)\n\u001b[0;32m      7\u001b[0m \u001b[38;5;28;01mreturn\u001b[39;00m fun(\u001b[38;5;241m*\u001b[39margs)\n",
      "\u001b[1;31mValueError\u001b[0m: Arguments can't be negative or zero number"
     ]
    }
   ],
   "source": [
    "area_of_rectangle(0,6)"
   ]
  },
  {
   "cell_type": "code",
   "execution_count": 82,
   "id": "45933f15",
   "metadata": {},
   "outputs": [],
   "source": [
    "@safe_calculate_all\n",
    "def area_of_circle_fun(radius):\n",
    "    return math.pi * radius * radius"
   ]
  },
  {
   "cell_type": "code",
   "execution_count": 83,
   "id": "1247299a",
   "metadata": {},
   "outputs": [
    {
     "data": {
      "text/plain": [
       "113.09733552923255"
      ]
     },
     "execution_count": 83,
     "metadata": {},
     "output_type": "execute_result"
    }
   ],
   "source": [
    "area_of_circle_fun(6)"
   ]
  },
  {
   "cell_type": "code",
   "execution_count": 85,
   "id": "c7792ef4",
   "metadata": {},
   "outputs": [
    {
     "ename": "ValueError",
     "evalue": "Arguments can't be negative or zero number",
     "output_type": "error",
     "traceback": [
      "\u001b[1;31m---------------------------------------------------------------------------\u001b[0m",
      "\u001b[1;31mValueError\u001b[0m                                Traceback (most recent call last)",
      "Input \u001b[1;32mIn [85]\u001b[0m, in \u001b[0;36m<cell line: 1>\u001b[1;34m()\u001b[0m\n\u001b[1;32m----> 1\u001b[0m \u001b[43marea_of_circle_fun\u001b[49m\u001b[43m(\u001b[49m\u001b[38;5;241;43m-\u001b[39;49m\u001b[38;5;241;43m1\u001b[39;49m\u001b[43m)\u001b[49m\n",
      "Input \u001b[1;32mIn [78]\u001b[0m, in \u001b[0;36msafe_calculate_all.<locals>.calculate\u001b[1;34m(*args)\u001b[0m\n\u001b[0;32m      4\u001b[0m \u001b[38;5;28;01mfor\u001b[39;00m arg \u001b[38;5;129;01min\u001b[39;00m args:\n\u001b[0;32m      5\u001b[0m     \u001b[38;5;28;01mif\u001b[39;00m arg \u001b[38;5;241m<\u001b[39m\u001b[38;5;241m=\u001b[39m \u001b[38;5;241m0\u001b[39m:\n\u001b[1;32m----> 6\u001b[0m         \u001b[38;5;28;01mraise\u001b[39;00m \u001b[38;5;167;01mValueError\u001b[39;00m(\u001b[38;5;124m\"\u001b[39m\u001b[38;5;124mArguments can\u001b[39m\u001b[38;5;124m'\u001b[39m\u001b[38;5;124mt be negative or zero number\u001b[39m\u001b[38;5;124m\"\u001b[39m)\n\u001b[0;32m      7\u001b[0m \u001b[38;5;28;01mreturn\u001b[39;00m fun(\u001b[38;5;241m*\u001b[39margs)\n",
      "\u001b[1;31mValueError\u001b[0m: Arguments can't be negative or zero number"
     ]
    }
   ],
   "source": [
    "area_of_circle_fun(-1)"
   ]
  },
  {
   "cell_type": "code",
   "execution_count": 99,
   "id": "fe719141",
   "metadata": {},
   "outputs": [],
   "source": [
    "def asterick_highlights(fun):\n",
    "    def highlights():\n",
    "        print(\"*\" * 40)\n",
    "        fun()\n",
    "        print(\"*\" * 40)\n",
    "    return highlights"
   ]
  },
  {
   "cell_type": "code",
   "execution_count": 98,
   "id": "087d609a",
   "metadata": {},
   "outputs": [],
   "source": [
    "def plus_highlights(fun):\n",
    "    def highlights():\n",
    "        print(\"+\" * 40)\n",
    "        fun()\n",
    "        print(\"+\" * 40)\n",
    "    return highlights"
   ]
  },
  {
   "cell_type": "code",
   "execution_count": 103,
   "id": "f6b6f55c",
   "metadata": {},
   "outputs": [],
   "source": [
    "@asterick_highlights\n",
    "def print_message_one():\n",
    "    print(\"Hi python\")"
   ]
  },
  {
   "cell_type": "code",
   "execution_count": 104,
   "id": "73d540b0",
   "metadata": {},
   "outputs": [
    {
     "name": "stdout",
     "output_type": "stream",
     "text": [
      "****************************************\n",
      "Hi python\n",
      "****************************************\n"
     ]
    }
   ],
   "source": [
    "print_message_one()"
   ]
  },
  {
   "cell_type": "code",
   "execution_count": 105,
   "id": "9e654fcd",
   "metadata": {},
   "outputs": [],
   "source": [
    "@asterick_highlights\n",
    "@plus_highlights\n",
    "def print_message_one():\n",
    "    print(\"Hi python\")"
   ]
  },
  {
   "cell_type": "code",
   "execution_count": 106,
   "id": "809de7ed",
   "metadata": {},
   "outputs": [
    {
     "name": "stdout",
     "output_type": "stream",
     "text": [
      "****************************************\n",
      "++++++++++++++++++++++++++++++++++++++++\n",
      "Hi python\n",
      "++++++++++++++++++++++++++++++++++++++++\n",
      "****************************************\n"
     ]
    }
   ],
   "source": [
    "print_message_one()"
   ]
  },
  {
   "cell_type": "code",
   "execution_count": 107,
   "id": "49d6c522",
   "metadata": {},
   "outputs": [],
   "source": [
    "@plus_highlights\n",
    "@asterick_highlights\n",
    "def print_message_one():\n",
    "    print(\"Hi python\")"
   ]
  },
  {
   "cell_type": "code",
   "execution_count": 108,
   "id": "dc6fc52e",
   "metadata": {},
   "outputs": [
    {
     "name": "stdout",
     "output_type": "stream",
     "text": [
      "++++++++++++++++++++++++++++++++++++++++\n",
      "****************************************\n",
      "Hi python\n",
      "****************************************\n",
      "++++++++++++++++++++++++++++++++++++++++\n"
     ]
    }
   ],
   "source": [
    "print_message_one()"
   ]
  },
  {
   "cell_type": "code",
   "execution_count": null,
   "id": "0e7a2cb9",
   "metadata": {},
   "outputs": [],
   "source": []
  }
 ],
 "metadata": {
  "kernelspec": {
   "display_name": "Python 3 (ipykernel)",
   "language": "python",
   "name": "python3"
  },
  "language_info": {
   "codemirror_mode": {
    "name": "ipython",
    "version": 3
   },
   "file_extension": ".py",
   "mimetype": "text/x-python",
   "name": "python",
   "nbconvert_exporter": "python",
   "pygments_lexer": "ipython3",
   "version": "3.11.3"
  }
 },
 "nbformat": 4,
 "nbformat_minor": 5
}
