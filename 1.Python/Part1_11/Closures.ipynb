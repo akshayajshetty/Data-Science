{
 "cells": [
  {
   "cell_type": "code",
   "execution_count": 1,
   "id": "71683922",
   "metadata": {},
   "outputs": [],
   "source": [
    "def nested_hello_fn():\n",
    "    def hello():\n",
    "        print(\"Hello world\")\n",
    "    hello()"
   ]
  },
  {
   "cell_type": "code",
   "execution_count": 2,
   "id": "b7946e69",
   "metadata": {},
   "outputs": [
    {
     "name": "stdout",
     "output_type": "stream",
     "text": [
      "Hello world\n"
     ]
    }
   ],
   "source": [
    "nested_hello_fn()"
   ]
  },
  {
   "cell_type": "code",
   "execution_count": 5,
   "id": "4fdae1bb",
   "metadata": {},
   "outputs": [
    {
     "ename": "NameError",
     "evalue": "name 'hello' is not defined",
     "output_type": "error",
     "traceback": [
      "\u001b[1;31m---------------------------------------------------------------------------\u001b[0m",
      "\u001b[1;31mNameError\u001b[0m                                 Traceback (most recent call last)",
      "Input \u001b[1;32mIn [5]\u001b[0m, in \u001b[0;36m<cell line: 1>\u001b[1;34m()\u001b[0m\n\u001b[1;32m----> 1\u001b[0m \u001b[43mhello\u001b[49m()\n",
      "\u001b[1;31mNameError\u001b[0m: name 'hello' is not defined"
     ]
    }
   ],
   "source": [
    "hello()"
   ]
  },
  {
   "cell_type": "code",
   "execution_count": 11,
   "id": "1f27e198",
   "metadata": {},
   "outputs": [],
   "source": [
    "def nested_hello_fn():\n",
    "    def hello():\n",
    "        print(\"Hello world\")\n",
    "    return hello"
   ]
  },
  {
   "cell_type": "code",
   "execution_count": 12,
   "id": "37d0731f",
   "metadata": {},
   "outputs": [
    {
     "data": {
      "text/plain": [
       "<function __main__.nested_hello_fn.<locals>.hello()>"
      ]
     },
     "execution_count": 12,
     "metadata": {},
     "output_type": "execute_result"
    }
   ],
   "source": [
    "a = nested_hello_fn()\n",
    "a"
   ]
  },
  {
   "cell_type": "code",
   "execution_count": 13,
   "id": "73646b83",
   "metadata": {},
   "outputs": [
    {
     "name": "stdout",
     "output_type": "stream",
     "text": [
      "Hello world\n"
     ]
    }
   ],
   "source": [
    "a()"
   ]
  },
  {
   "cell_type": "code",
   "execution_count": 16,
   "id": "74d31842",
   "metadata": {},
   "outputs": [],
   "source": [
    "def greet_hello_by_name(name):\n",
    "    def hello():\n",
    "        print(\"Hello \", name)\n",
    "    hello()\n",
    "    return hello"
   ]
  },
  {
   "cell_type": "code",
   "execution_count": 17,
   "id": "a6fdd21f",
   "metadata": {},
   "outputs": [
    {
     "name": "stdout",
     "output_type": "stream",
     "text": [
      "Hello  Akshay\n"
     ]
    },
    {
     "data": {
      "text/plain": [
       "<function __main__.greet_hello_by_name.<locals>.hello()>"
      ]
     },
     "execution_count": 17,
     "metadata": {},
     "output_type": "execute_result"
    }
   ],
   "source": [
    "greet_hello_by_name(\"Akshay\")"
   ]
  },
  {
   "cell_type": "code",
   "execution_count": 23,
   "id": "b245ad9e",
   "metadata": {},
   "outputs": [],
   "source": [
    "def greet_hello_by_name(name, a,b):\n",
    "    def hello():\n",
    "        print(\"Hello \", name)\n",
    "    hello()\n",
    "    return hello"
   ]
  },
  {
   "cell_type": "code",
   "execution_count": 22,
   "id": "7138c03e",
   "metadata": {},
   "outputs": [
    {
     "name": "stdout",
     "output_type": "stream",
     "text": [
      "Hello  Akshay\n"
     ]
    },
    {
     "data": {
      "text/plain": [
       "<function __main__.greet_hello_by_name.<locals>.hello()>"
      ]
     },
     "execution_count": 22,
     "metadata": {},
     "output_type": "execute_result"
    }
   ],
   "source": [
    "greet_hello_by_name(\"Akshay\", 5 ,3)"
   ]
  },
  {
   "cell_type": "code",
   "execution_count": 39,
   "id": "578465b2",
   "metadata": {},
   "outputs": [],
   "source": [
    "def greet_by_name(name):\n",
    "    greeting_msg = \"Hi There !\"\n",
    "    \n",
    "    def hello():\n",
    "        print(greeting_msg, name)\n",
    "    hello()\n",
    "    \n",
    "    return hello\n",
    "    "
   ]
  },
  {
   "cell_type": "code",
   "execution_count": 40,
   "id": "a4a99fbd",
   "metadata": {},
   "outputs": [
    {
     "name": "stdout",
     "output_type": "stream",
     "text": [
      "Hi There ! Akshay\n"
     ]
    },
    {
     "data": {
      "text/plain": [
       "<function __main__.greet_by_name.<locals>.hello()>"
      ]
     },
     "execution_count": 40,
     "metadata": {},
     "output_type": "execute_result"
    }
   ],
   "source": [
    "greet_by_name(\"Akshay\")"
   ]
  },
  {
   "cell_type": "code",
   "execution_count": 36,
   "id": "3c3f6a77",
   "metadata": {},
   "outputs": [],
   "source": [
    "greet_fn = greet_by_name(\"Akshay\")"
   ]
  },
  {
   "cell_type": "code",
   "execution_count": 37,
   "id": "18e33a96",
   "metadata": {},
   "outputs": [
    {
     "name": "stdout",
     "output_type": "stream",
     "text": [
      "Hi There ! Akshay\n"
     ]
    }
   ],
   "source": [
    "greet_fn()"
   ]
  },
  {
   "cell_type": "code",
   "execution_count": 42,
   "id": "67b74c93",
   "metadata": {},
   "outputs": [],
   "source": [
    "del greet_by_name"
   ]
  },
  {
   "cell_type": "code",
   "execution_count": 43,
   "id": "dbe7aef1",
   "metadata": {},
   "outputs": [
    {
     "ename": "NameError",
     "evalue": "name 'greet_by_name' is not defined",
     "output_type": "error",
     "traceback": [
      "\u001b[1;31m---------------------------------------------------------------------------\u001b[0m",
      "\u001b[1;31mNameError\u001b[0m                                 Traceback (most recent call last)",
      "Input \u001b[1;32mIn [43]\u001b[0m, in \u001b[0;36m<cell line: 1>\u001b[1;34m()\u001b[0m\n\u001b[1;32m----> 1\u001b[0m \u001b[43mgreet_by_name\u001b[49m()\n",
      "\u001b[1;31mNameError\u001b[0m: name 'greet_by_name' is not defined"
     ]
    }
   ],
   "source": [
    "greet_by_name()"
   ]
  },
  {
   "cell_type": "code",
   "execution_count": 44,
   "id": "4a2ce97e",
   "metadata": {},
   "outputs": [
    {
     "name": "stdout",
     "output_type": "stream",
     "text": [
      "Hi There ! Akshay\n"
     ]
    }
   ],
   "source": [
    "greet_fn()"
   ]
  },
  {
   "cell_type": "code",
   "execution_count": 55,
   "id": "5b23bef9",
   "metadata": {},
   "outputs": [],
   "source": [
    "import random\n",
    "def greet_by_person(name, message):\n",
    "    annotation = [\"_\",\"-\",\"*\",\"^\",\"#\"]\n",
    "    annote = random.choice(annotation)\n",
    "    def hello():\n",
    "        print(annote * 30)\n",
    "        print(name, message)\n",
    "        print(annote * 30)\n",
    "    hello()\n",
    "    return hello"
   ]
  },
  {
   "cell_type": "code",
   "execution_count": 49,
   "id": "c85d7c23",
   "metadata": {},
   "outputs": [
    {
     "name": "stdout",
     "output_type": "stream",
     "text": [
      "******************************\n",
      "akshay How are you\n",
      "******************************\n"
     ]
    },
    {
     "data": {
      "text/plain": [
       "<function __main__.greet_by_person.<locals>.hello()>"
      ]
     },
     "execution_count": 49,
     "metadata": {},
     "output_type": "execute_result"
    }
   ],
   "source": [
    "greet_by_person(\"akshay\", \"How are you\")"
   ]
  },
  {
   "cell_type": "code",
   "execution_count": 52,
   "id": "4ac72227",
   "metadata": {},
   "outputs": [
    {
     "name": "stdout",
     "output_type": "stream",
     "text": [
      "______________________________\n",
      "akshay How are you\n",
      "______________________________\n"
     ]
    },
    {
     "data": {
      "text/plain": [
       "<function __main__.greet_by_person.<locals>.hello()>"
      ]
     },
     "execution_count": 52,
     "metadata": {},
     "output_type": "execute_result"
    }
   ],
   "source": [
    "greet_by_person(\"akshay\", \"How are you\")"
   ]
  },
  {
   "cell_type": "code",
   "execution_count": 56,
   "id": "a0e29260",
   "metadata": {},
   "outputs": [
    {
     "name": "stdout",
     "output_type": "stream",
     "text": [
      "##############################\n",
      "akshay How are you\n",
      "##############################\n"
     ]
    },
    {
     "data": {
      "text/plain": [
       "<function __main__.greet_by_person.<locals>.hello()>"
      ]
     },
     "execution_count": 56,
     "metadata": {},
     "output_type": "execute_result"
    }
   ],
   "source": [
    "greet_by_person(\"akshay\", \"How are you\")"
   ]
  },
  {
   "cell_type": "code",
   "execution_count": 60,
   "id": "d35395b8",
   "metadata": {},
   "outputs": [
    {
     "name": "stdout",
     "output_type": "stream",
     "text": [
      "^^^^^^^^^^^^^^^^^^^^^^^^^^^^^^\n",
      "akshay How are you\n",
      "^^^^^^^^^^^^^^^^^^^^^^^^^^^^^^\n"
     ]
    }
   ],
   "source": [
    "greet_fn_akshay = greet_by_person(\"akshay\", \"How are you\")"
   ]
  },
  {
   "cell_type": "code",
   "execution_count": 61,
   "id": "d479b25f",
   "metadata": {},
   "outputs": [
    {
     "name": "stdout",
     "output_type": "stream",
     "text": [
      "______________________________\n",
      "abc Good Morning\n",
      "______________________________\n"
     ]
    }
   ],
   "source": [
    "greet_fn_abc = greet_by_person(\"abc\", \"Good Morning\")"
   ]
  },
  {
   "cell_type": "code",
   "execution_count": 62,
   "id": "0da9ee72",
   "metadata": {},
   "outputs": [
    {
     "name": "stdout",
     "output_type": "stream",
     "text": [
      "^^^^^^^^^^^^^^^^^^^^^^^^^^^^^^\n",
      "akshay How are you\n",
      "^^^^^^^^^^^^^^^^^^^^^^^^^^^^^^\n"
     ]
    }
   ],
   "source": [
    "greet_fn_akshay()"
   ]
  },
  {
   "cell_type": "code",
   "execution_count": 64,
   "id": "bf782d71",
   "metadata": {},
   "outputs": [
    {
     "name": "stdout",
     "output_type": "stream",
     "text": [
      "______________________________\n",
      "abc Good Morning\n",
      "______________________________\n"
     ]
    }
   ],
   "source": [
    "greet_fn_abc()"
   ]
  },
  {
   "cell_type": "code",
   "execution_count": 66,
   "id": "ccd9f1c1",
   "metadata": {},
   "outputs": [
    {
     "ename": "NameError",
     "evalue": "name 'greet_by_person' is not defined",
     "output_type": "error",
     "traceback": [
      "\u001b[1;31m---------------------------------------------------------------------------\u001b[0m",
      "\u001b[1;31mNameError\u001b[0m                                 Traceback (most recent call last)",
      "Input \u001b[1;32mIn [66]\u001b[0m, in \u001b[0;36m<cell line: 2>\u001b[1;34m()\u001b[0m\n\u001b[0;32m      1\u001b[0m \u001b[38;5;28;01mdel\u001b[39;00m greet_by_person\n\u001b[1;32m----> 2\u001b[0m \u001b[43mgreet_by_person\u001b[49m(\u001b[38;5;124m\"\u001b[39m\u001b[38;5;124mAkshay\u001b[39m\u001b[38;5;124m\"\u001b[39m, \u001b[38;5;124m\"\u001b[39m\u001b[38;5;124mWhats up\u001b[39m\u001b[38;5;124m\"\u001b[39m)\n",
      "\u001b[1;31mNameError\u001b[0m: name 'greet_by_person' is not defined"
     ]
    }
   ],
   "source": [
    "del greet_by_person\n",
    "greet_by_person(\"Akshay\", \"Whats up\")"
   ]
  },
  {
   "cell_type": "code",
   "execution_count": 69,
   "id": "1190b46b",
   "metadata": {},
   "outputs": [
    {
     "name": "stdout",
     "output_type": "stream",
     "text": [
      "^^^^^^^^^^^^^^^^^^^^^^^^^^^^^^\n",
      "akshay How are you\n",
      "^^^^^^^^^^^^^^^^^^^^^^^^^^^^^^\n"
     ]
    }
   ],
   "source": [
    "greet_fn_akshay()"
   ]
  },
  {
   "cell_type": "code",
   "execution_count": 97,
   "id": "f73cfa6d",
   "metadata": {},
   "outputs": [],
   "source": [
    "def enroll_in_college(college_name):\n",
    "    student_list = []\n",
    "    def enroll_student(student_name):\n",
    "        student_list.append(student_name)\n",
    "        print(\"Student\", student_name ,\"has been enrolled in\", college_name)\n",
    "        print(\"Current student enrolled in college\", student_list)\n",
    "    return enroll_student"
   ]
  },
  {
   "cell_type": "code",
   "execution_count": 86,
   "id": "15cc0515",
   "metadata": {},
   "outputs": [],
   "source": [
    "enroll_IITM_fn = enroll_in_college(\"IITM\")"
   ]
  },
  {
   "cell_type": "code",
   "execution_count": 87,
   "id": "4dc332bc",
   "metadata": {},
   "outputs": [],
   "source": [
    "enroll_IITC_fn = enroll_in_college(\"IITC\")"
   ]
  },
  {
   "cell_type": "code",
   "execution_count": 88,
   "id": "e2fd6cbd",
   "metadata": {},
   "outputs": [],
   "source": [
    "enroll_IITK_fn = enroll_in_college(\"IITK\")"
   ]
  },
  {
   "cell_type": "code",
   "execution_count": 89,
   "id": "ce8c5c1e",
   "metadata": {},
   "outputs": [],
   "source": [
    "enroll_IISc_fn = enroll_in_college(\"IISc\")"
   ]
  },
  {
   "cell_type": "code",
   "execution_count": 90,
   "id": "d7c678a1",
   "metadata": {},
   "outputs": [
    {
     "name": "stdout",
     "output_type": "stream",
     "text": [
      "Student Akshay has been enrolled in IITM\n",
      "Current student enrolled in college ['Akshay']\n"
     ]
    }
   ],
   "source": [
    "enroll_IITM_fn(\"Akshay\")"
   ]
  },
  {
   "cell_type": "code",
   "execution_count": 91,
   "id": "5d6835b9",
   "metadata": {},
   "outputs": [
    {
     "name": "stdout",
     "output_type": "stream",
     "text": [
      "Student Jon has been enrolled in IITC\n",
      "Current student enrolled in college ['Jon']\n"
     ]
    }
   ],
   "source": [
    "enroll_IITC_fn(\"Jon\")"
   ]
  },
  {
   "cell_type": "code",
   "execution_count": 92,
   "id": "23c21975",
   "metadata": {},
   "outputs": [
    {
     "name": "stdout",
     "output_type": "stream",
     "text": [
      "Student James has been enrolled in IITK\n",
      "Current student enrolled in college ['James']\n"
     ]
    }
   ],
   "source": [
    "enroll_IITK_fn(\"James\")"
   ]
  },
  {
   "cell_type": "code",
   "execution_count": 94,
   "id": "837d17a3",
   "metadata": {},
   "outputs": [
    {
     "name": "stdout",
     "output_type": "stream",
     "text": [
      "Student yenk has been enrolled in IISc\n",
      "Current student enrolled in college ['yenk']\n"
     ]
    }
   ],
   "source": [
    "enroll_IISc_fn(\"yenk\")"
   ]
  },
  {
   "cell_type": "code",
   "execution_count": 95,
   "id": "a4016913",
   "metadata": {},
   "outputs": [
    {
     "name": "stdout",
     "output_type": "stream",
     "text": [
      "Student yenks has been enrolled in IISc\n",
      "Current student enrolled in college ['yenk', 'yenks']\n",
      "Student ABC has been enrolled in IISc\n",
      "Current student enrolled in college ['yenk', 'yenks', 'ABC']\n",
      "Student hen has been enrolled in IISc\n",
      "Current student enrolled in college ['yenk', 'yenks', 'ABC', 'hen']\n"
     ]
    }
   ],
   "source": [
    "enroll_IISc_fn(\"yenks\")\n",
    "enroll_IISc_fn(\"ABC\")\n",
    "enroll_IISc_fn(\"hen\")"
   ]
  },
  {
   "cell_type": "code",
   "execution_count": null,
   "id": "1ce8437a",
   "metadata": {},
   "outputs": [],
   "source": []
  }
 ],
 "metadata": {
  "kernelspec": {
   "display_name": "Python 3 (ipykernel)",
   "language": "python",
   "name": "python3"
  },
  "language_info": {
   "codemirror_mode": {
    "name": "ipython",
    "version": 3
   },
   "file_extension": ".py",
   "mimetype": "text/x-python",
   "name": "python",
   "nbconvert_exporter": "python",
   "pygments_lexer": "ipython3",
   "version": "3.11.3"
  }
 },
 "nbformat": 4,
 "nbformat_minor": 5
}
