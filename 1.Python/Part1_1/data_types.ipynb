{
 "cells": [
  {
   "cell_type": "code",
   "execution_count": 1,
   "id": "5f03cfa9",
   "metadata": {},
   "outputs": [
    {
     "name": "stdout",
     "output_type": "stream",
     "text": [
      "Data type of 2 is <class 'int'>\n"
     ]
    }
   ],
   "source": [
    "x = 2\n",
    "print(\"Data type of\", x, \"is\", type(x))"
   ]
  },
  {
   "cell_type": "code",
   "execution_count": 2,
   "id": "4b45f4e6",
   "metadata": {},
   "outputs": [
    {
     "name": "stdout",
     "output_type": "stream",
     "text": [
      "Data type of 4.6 is <class 'float'>\n"
     ]
    }
   ],
   "source": [
    "y = 4.6\n",
    "print(\"Data type of\", y, \"is\", type(y))"
   ]
  },
  {
   "cell_type": "code",
   "execution_count": 3,
   "id": "70bf6892",
   "metadata": {},
   "outputs": [
    {
     "name": "stdout",
     "output_type": "stream",
     "text": [
      "Data type of True is <class 'bool'>\n"
     ]
    }
   ],
   "source": [
    "z = True\n",
    "print(\"Data type of\", z, \"is\", type(z))"
   ]
  },
  {
   "cell_type": "code",
   "execution_count": 4,
   "id": "3d81ddf7",
   "metadata": {},
   "outputs": [
    {
     "name": "stdout",
     "output_type": "stream",
     "text": [
      "Data type of 5j is <class 'complex'>\n"
     ]
    }
   ],
   "source": [
    "a = 5j\n",
    "print(\"Data type of\", a, \"is\", type(a))"
   ]
  },
  {
   "cell_type": "code",
   "execution_count": 5,
   "id": "9d19cef5",
   "metadata": {},
   "outputs": [
    {
     "name": "stdout",
     "output_type": "stream",
     "text": [
      "Data type of a is <class 'str'>\n"
     ]
    }
   ],
   "source": [
    "b = \"a\"\n",
    "print(\"Data type of\", b, \"is\", type(b))"
   ]
  },
  {
   "cell_type": "code",
   "execution_count": 6,
   "id": "eb888e83",
   "metadata": {},
   "outputs": [
    {
     "data": {
      "text/plain": [
       "11"
      ]
     },
     "execution_count": 6,
     "metadata": {},
     "output_type": "execute_result"
    }
   ],
   "source": [
    "n1 = 0b1011\n",
    "n1"
   ]
  },
  {
   "cell_type": "code",
   "execution_count": 7,
   "id": "718b05a2",
   "metadata": {},
   "outputs": [
    {
     "data": {
      "text/plain": [
       "39"
      ]
     },
     "execution_count": 7,
     "metadata": {},
     "output_type": "execute_result"
    }
   ],
   "source": [
    "n2 = 0o47\n",
    "n2"
   ]
  },
  {
   "cell_type": "code",
   "execution_count": 8,
   "id": "68e9a82a",
   "metadata": {},
   "outputs": [
    {
     "data": {
      "text/plain": [
       "76485"
      ]
     },
     "execution_count": 8,
     "metadata": {},
     "output_type": "execute_result"
    }
   ],
   "source": [
    "n3 = 0x12AC5\n",
    "n3"
   ]
  },
  {
   "cell_type": "code",
   "execution_count": 12,
   "id": "084920e3",
   "metadata": {},
   "outputs": [
    {
     "name": "stdout",
     "output_type": "stream",
     "text": [
      "<class 'int'> <class 'int'> <class 'int'>\n"
     ]
    }
   ],
   "source": [
    "print(type(n1),type(n2),type(n3))"
   ]
  },
  {
   "cell_type": "code",
   "execution_count": null,
   "id": "61cb1411",
   "metadata": {},
   "outputs": [],
   "source": []
  }
 ],
 "metadata": {
  "kernelspec": {
   "display_name": "Python 3 (ipykernel)",
   "language": "python",
   "name": "python3"
  },
  "language_info": {
   "codemirror_mode": {
    "name": "ipython",
    "version": 3
   },
   "file_extension": ".py",
   "mimetype": "text/x-python",
   "name": "python",
   "nbconvert_exporter": "python",
   "pygments_lexer": "ipython3",
   "version": "3.11.3"
  }
 },
 "nbformat": 4,
 "nbformat_minor": 5
}
