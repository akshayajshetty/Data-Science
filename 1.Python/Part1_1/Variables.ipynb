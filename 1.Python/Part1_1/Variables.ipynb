{
 "cells": [
  {
   "cell_type": "code",
   "execution_count": 1,
   "id": "0c8f4dbd",
   "metadata": {},
   "outputs": [],
   "source": [
    "salary = 25000"
   ]
  },
  {
   "cell_type": "code",
   "execution_count": 2,
   "id": "a098dd35",
   "metadata": {},
   "outputs": [
    {
     "data": {
      "text/plain": [
       "25000"
      ]
     },
     "execution_count": 2,
     "metadata": {},
     "output_type": "execute_result"
    }
   ],
   "source": [
    "salary"
   ]
  },
  {
   "cell_type": "code",
   "execution_count": 3,
   "id": "03a18725",
   "metadata": {},
   "outputs": [],
   "source": [
    "salary = 21000\n",
    "allowance = 4500"
   ]
  },
  {
   "cell_type": "code",
   "execution_count": 4,
   "id": "30cf769a",
   "metadata": {},
   "outputs": [
    {
     "data": {
      "text/plain": [
       "25500"
      ]
     },
     "execution_count": 4,
     "metadata": {},
     "output_type": "execute_result"
    }
   ],
   "source": [
    "total_salary = salary + allowance\n",
    "total_salary"
   ]
  },
  {
   "cell_type": "code",
   "execution_count": 5,
   "id": "03c37641",
   "metadata": {},
   "outputs": [
    {
     "name": "stdout",
     "output_type": "stream",
     "text": [
      "My Total salary of this month : 25500\n",
      "My Total salary of this month : 25500\n"
     ]
    }
   ],
   "source": [
    "print(f\"My Total salary of this month : {total_salary}\")\n",
    "print(\"My Total salary of this month :\", total_salary)"
   ]
  },
  {
   "cell_type": "code",
   "execution_count": 6,
   "id": "e7a8d9e7",
   "metadata": {},
   "outputs": [],
   "source": [
    "x = True\n",
    "y = False"
   ]
  },
  {
   "cell_type": "code",
   "execution_count": 7,
   "id": "dc4ee303",
   "metadata": {},
   "outputs": [
    {
     "name": "stdout",
     "output_type": "stream",
     "text": [
      "x and y is : False\n"
     ]
    }
   ],
   "source": [
    "print(\"x and y is :\" , x and y)"
   ]
  },
  {
   "cell_type": "code",
   "execution_count": 8,
   "id": "045c8cbc",
   "metadata": {},
   "outputs": [
    {
     "name": "stdout",
     "output_type": "stream",
     "text": [
      "x and y is : True\n"
     ]
    }
   ],
   "source": [
    "print(\"x and y is :\" , x or y)"
   ]
  },
  {
   "cell_type": "code",
   "execution_count": 9,
   "id": "f466d8c5",
   "metadata": {},
   "outputs": [
    {
     "name": "stdout",
     "output_type": "stream",
     "text": [
      "x and y is : False\n"
     ]
    }
   ],
   "source": [
    "print(\"x and y is :\" , not x )"
   ]
  },
  {
   "cell_type": "code",
   "execution_count": 10,
   "id": "0c5ef75d",
   "metadata": {},
   "outputs": [
    {
     "name": "stdout",
     "output_type": "stream",
     "text": [
      "x and y is : True\n"
     ]
    }
   ],
   "source": [
    "print(\"x and y is :\" , not y)"
   ]
  },
  {
   "cell_type": "code",
   "execution_count": 11,
   "id": "69fdb4dc",
   "metadata": {},
   "outputs": [
    {
     "data": {
      "text/plain": [
       "'python is awesom'"
      ]
     },
     "execution_count": 11,
     "metadata": {},
     "output_type": "execute_result"
    }
   ],
   "source": [
    "a = \"python is \"\n",
    "b = \"awesom\"\n",
    "c = a + b\n",
    "c"
   ]
  },
  {
   "cell_type": "code",
   "execution_count": 12,
   "id": "c864ba5f",
   "metadata": {},
   "outputs": [
    {
     "name": "stdout",
     "output_type": "stream",
     "text": [
      "AI is awesom\n"
     ]
    }
   ],
   "source": [
    "print(\"AI is \" + b)"
   ]
  },
  {
   "cell_type": "code",
   "execution_count": 13,
   "id": "689125de",
   "metadata": {},
   "outputs": [
    {
     "data": {
      "text/plain": [
       "(10, 6, 16)"
      ]
     },
     "execution_count": 13,
     "metadata": {},
     "output_type": "execute_result"
    }
   ],
   "source": [
    "len(a),len(b),len(c)"
   ]
  },
  {
   "cell_type": "code",
   "execution_count": 14,
   "id": "d1c746fd",
   "metadata": {},
   "outputs": [
    {
     "name": "stdout",
     "output_type": "stream",
     "text": [
      "Python\n",
      "Python\n",
      "Python\n"
     ]
    }
   ],
   "source": [
    "x=y=z=\"Python\"\n",
    "print(x)\n",
    "print(y)\n",
    "print(z)"
   ]
  },
  {
   "cell_type": "code",
   "execution_count": 15,
   "id": "5aa7ffa1",
   "metadata": {},
   "outputs": [
    {
     "name": "stdout",
     "output_type": "stream",
     "text": [
      "PythonPython\n"
     ]
    }
   ],
   "source": [
    "print(x+y)"
   ]
  },
  {
   "cell_type": "code",
   "execution_count": 16,
   "id": "1bf19c4f",
   "metadata": {},
   "outputs": [
    {
     "name": "stdout",
     "output_type": "stream",
     "text": [
      "1\n",
      "3.4\n",
      "A\n"
     ]
    }
   ],
   "source": [
    "n1, n2, n3 = 1, 3.4, \"A\"\n",
    "print(n1)\n",
    "print(n2)\n",
    "print(n3)"
   ]
  },
  {
   "cell_type": "code",
   "execution_count": 17,
   "id": "b5edb9fa",
   "metadata": {},
   "outputs": [
    {
     "name": "stdout",
     "output_type": "stream",
     "text": [
      "Red white Red\n"
     ]
    }
   ],
   "source": [
    "col_1 = \"Red\"\n",
    "col_2 = \"white\"\n",
    "col_3 =  col_1\n",
    "print(col_1,col_2,col_3)"
   ]
  },
  {
   "cell_type": "code",
   "execution_count": 18,
   "id": "eed706ab",
   "metadata": {},
   "outputs": [
    {
     "data": {
      "text/plain": [
       "2939571747952"
      ]
     },
     "execution_count": 18,
     "metadata": {},
     "output_type": "execute_result"
    }
   ],
   "source": [
    "id(col_1)"
   ]
  },
  {
   "cell_type": "code",
   "execution_count": 19,
   "id": "c722972e",
   "metadata": {},
   "outputs": [
    {
     "data": {
      "text/plain": [
       "2939571663728"
      ]
     },
     "execution_count": 19,
     "metadata": {},
     "output_type": "execute_result"
    }
   ],
   "source": [
    "id(col_2)"
   ]
  },
  {
   "cell_type": "code",
   "execution_count": 20,
   "id": "372ef3ed",
   "metadata": {},
   "outputs": [
    {
     "data": {
      "text/plain": [
       "2939571747952"
      ]
     },
     "execution_count": 20,
     "metadata": {},
     "output_type": "execute_result"
    }
   ],
   "source": [
    "id(col_3)"
   ]
  },
  {
   "cell_type": "code",
   "execution_count": 21,
   "id": "c9438ebd",
   "metadata": {},
   "outputs": [
    {
     "data": {
      "text/plain": [
       "True"
      ]
     },
     "execution_count": 21,
     "metadata": {},
     "output_type": "execute_result"
    }
   ],
   "source": [
    "id(col_1) == id(col_3)"
   ]
  },
  {
   "cell_type": "code",
   "execution_count": 25,
   "id": "d210ea4d",
   "metadata": {},
   "outputs": [],
   "source": [
    "n1=35\n",
    "n2=45\n",
    "n3=100"
   ]
  },
  {
   "cell_type": "code",
   "execution_count": 26,
   "id": "1575aceb",
   "metadata": {},
   "outputs": [
    {
     "data": {
      "text/plain": [
       "36"
      ]
     },
     "execution_count": 26,
     "metadata": {},
     "output_type": "execute_result"
    }
   ],
   "source": [
    "n1 = n1 + 1\n",
    "n1"
   ]
  },
  {
   "cell_type": "code",
   "execution_count": 27,
   "id": "438ec938",
   "metadata": {},
   "outputs": [
    {
     "data": {
      "text/plain": [
       "73"
      ]
     },
     "execution_count": 27,
     "metadata": {},
     "output_type": "execute_result"
    }
   ],
   "source": [
    "n1 += n1 + 1\n",
    "n1"
   ]
  },
  {
   "cell_type": "code",
   "execution_count": 28,
   "id": "7ef278b8",
   "metadata": {},
   "outputs": [
    {
     "data": {
      "text/plain": [
       "73"
      ]
     },
     "execution_count": 28,
     "metadata": {},
     "output_type": "execute_result"
    }
   ],
   "source": [
    "37+36"
   ]
  },
  {
   "cell_type": "code",
   "execution_count": 29,
   "id": "4c5899f5",
   "metadata": {},
   "outputs": [
    {
     "data": {
      "text/plain": [
       "55"
      ]
     },
     "execution_count": 29,
     "metadata": {},
     "output_type": "execute_result"
    }
   ],
   "source": [
    "n2 +=10\n",
    "n2"
   ]
  },
  {
   "cell_type": "code",
   "execution_count": 30,
   "id": "56a11cda",
   "metadata": {},
   "outputs": [
    {
     "data": {
      "text/plain": [
       "600"
      ]
     },
     "execution_count": 30,
     "metadata": {},
     "output_type": "execute_result"
    }
   ],
   "source": [
    "n3 *=6\n",
    "n3"
   ]
  },
  {
   "cell_type": "code",
   "execution_count": 31,
   "id": "d2561fb2",
   "metadata": {},
   "outputs": [
    {
     "data": {
      "text/plain": [
       "60.0"
      ]
     },
     "execution_count": 31,
     "metadata": {},
     "output_type": "execute_result"
    }
   ],
   "source": [
    "n3 /=10\n",
    "n3"
   ]
  },
  {
   "cell_type": "code",
   "execution_count": 32,
   "id": "38ec2587",
   "metadata": {},
   "outputs": [],
   "source": [
    "s1 = \"Hello\"\n",
    "s2 = \"Python\""
   ]
  },
  {
   "cell_type": "code",
   "execution_count": 33,
   "id": "bb397e12",
   "metadata": {},
   "outputs": [
    {
     "data": {
      "text/plain": [
       "'HelloPython'"
      ]
     },
     "execution_count": 33,
     "metadata": {},
     "output_type": "execute_result"
    }
   ],
   "source": [
    "string = s1 + s2\n",
    "string"
   ]
  },
  {
   "cell_type": "code",
   "execution_count": 34,
   "id": "98843779",
   "metadata": {},
   "outputs": [
    {
     "data": {
      "text/plain": [
       "'HelloPython'"
      ]
     },
     "execution_count": 34,
     "metadata": {},
     "output_type": "execute_result"
    }
   ],
   "source": [
    "s1 = s1 + s2\n",
    "s1"
   ]
  },
  {
   "cell_type": "code",
   "execution_count": 35,
   "id": "39ece148",
   "metadata": {},
   "outputs": [
    {
     "data": {
      "text/plain": [
       "'Python is usefull'"
      ]
     },
     "execution_count": 35,
     "metadata": {},
     "output_type": "execute_result"
    }
   ],
   "source": [
    "s2 = s2 + \" is usefull\"\n",
    "s2"
   ]
  },
  {
   "cell_type": "code",
   "execution_count": 36,
   "id": "81297e1a",
   "metadata": {},
   "outputs": [
    {
     "data": {
      "text/plain": [
       "100"
      ]
     },
     "execution_count": 36,
     "metadata": {},
     "output_type": "execute_result"
    }
   ],
   "source": [
    "num1 = 100\n",
    "total_num = num1\n",
    "total_num"
   ]
  },
  {
   "cell_type": "code",
   "execution_count": 37,
   "id": "63f48799",
   "metadata": {},
   "outputs": [
    {
     "data": {
      "text/plain": [
       "700"
      ]
     },
     "execution_count": 37,
     "metadata": {},
     "output_type": "execute_result"
    }
   ],
   "source": [
    "num1 *=7\n",
    "num1"
   ]
  },
  {
   "cell_type": "code",
   "execution_count": 38,
   "id": "bb4c5648",
   "metadata": {},
   "outputs": [
    {
     "data": {
      "text/plain": [
       "100"
      ]
     },
     "execution_count": 38,
     "metadata": {},
     "output_type": "execute_result"
    }
   ],
   "source": [
    "total_num"
   ]
  },
  {
   "cell_type": "code",
   "execution_count": null,
   "id": "4604095f",
   "metadata": {},
   "outputs": [],
   "source": []
  }
 ],
 "metadata": {
  "kernelspec": {
   "display_name": "Python 3 (ipykernel)",
   "language": "python",
   "name": "python3"
  },
  "language_info": {
   "codemirror_mode": {
    "name": "ipython",
    "version": 3
   },
   "file_extension": ".py",
   "mimetype": "text/x-python",
   "name": "python",
   "nbconvert_exporter": "python",
   "pygments_lexer": "ipython3",
   "version": "3.11.3"
  }
 },
 "nbformat": 4,
 "nbformat_minor": 5
}
