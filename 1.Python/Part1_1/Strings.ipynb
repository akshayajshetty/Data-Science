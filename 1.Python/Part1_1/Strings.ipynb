{
 "cells": [
  {
   "cell_type": "code",
   "execution_count": 1,
   "id": "630ff258",
   "metadata": {},
   "outputs": [
    {
     "name": "stdout",
     "output_type": "stream",
     "text": [
      "I am single quoted string\n"
     ]
    }
   ],
   "source": [
    "print('I am single quoted string')"
   ]
  },
  {
   "cell_type": "code",
   "execution_count": 2,
   "id": "d26e6202",
   "metadata": {},
   "outputs": [
    {
     "name": "stdout",
     "output_type": "stream",
     "text": [
      "I am double quoted string\n"
     ]
    }
   ],
   "source": [
    "print(\"I am double quoted string\")"
   ]
  },
  {
   "cell_type": "code",
   "execution_count": 5,
   "id": "61da1e3e",
   "metadata": {},
   "outputs": [
    {
     "name": "stdout",
     "output_type": "stream",
     "text": [
      "python is Awesome\n"
     ]
    }
   ],
   "source": [
    "print(\"python \" + 'is ' + \"\"\"Awesome\"\"\")"
   ]
  },
  {
   "cell_type": "code",
   "execution_count": 6,
   "id": "065117e1",
   "metadata": {},
   "outputs": [
    {
     "name": "stdout",
     "output_type": "stream",
     "text": [
      "python python python python \n"
     ]
    }
   ],
   "source": [
    "print(\"python \" * 4)"
   ]
  },
  {
   "cell_type": "code",
   "execution_count": 7,
   "id": "148f0266",
   "metadata": {},
   "outputs": [
    {
     "ename": "TypeError",
     "evalue": "unsupported operand type(s) for -: 'str' and 'int'",
     "output_type": "error",
     "traceback": [
      "\u001b[1;31m---------------------------------------------------------------------------\u001b[0m",
      "\u001b[1;31mTypeError\u001b[0m                                 Traceback (most recent call last)",
      "Input \u001b[1;32mIn [7]\u001b[0m, in \u001b[0;36m<cell line: 1>\u001b[1;34m()\u001b[0m\n\u001b[1;32m----> 1\u001b[0m \u001b[38;5;28mprint\u001b[39m(\u001b[38;5;124;43m\"\u001b[39;49m\u001b[38;5;124;43mpython\u001b[39;49m\u001b[38;5;124;43m\"\u001b[39;49m\u001b[43m \u001b[49m\u001b[38;5;241;43m-\u001b[39;49m\u001b[43m \u001b[49m\u001b[38;5;241;43m3\u001b[39;49m)\n",
      "\u001b[1;31mTypeError\u001b[0m: unsupported operand type(s) for -: 'str' and 'int'"
     ]
    }
   ],
   "source": [
    "print(\"python\" - 3)"
   ]
  },
  {
   "cell_type": "code",
   "execution_count": 14,
   "id": "dde2ac5a",
   "metadata": {},
   "outputs": [
    {
     "name": "stdout",
     "output_type": "stream",
     "text": [
      "Akshay\n",
      "My name is Akshay! Thanks\n"
     ]
    }
   ],
   "source": [
    "Quetion = \"What is your name\"\n",
    "Answer  = input()\n",
    "print(\"My name is \" + Answer + \"!\" + \" Thanks\")"
   ]
  },
  {
   "cell_type": "code",
   "execution_count": 15,
   "id": "216a6b81",
   "metadata": {},
   "outputs": [
    {
     "name": "stdout",
     "output_type": "stream",
     "text": [
      "I'm learning pyton\n"
     ]
    }
   ],
   "source": [
    "print(\"I'm learning pyton\")"
   ]
  },
  {
   "cell_type": "code",
   "execution_count": 16,
   "id": "c9005087",
   "metadata": {},
   "outputs": [
    {
     "name": "stdout",
     "output_type": "stream",
     "text": [
      "He said \"How are you\"\n"
     ]
    }
   ],
   "source": [
    "print('He said \"How are you\"')"
   ]
  },
  {
   "cell_type": "code",
   "execution_count": 18,
   "id": "ea6a1b27",
   "metadata": {},
   "outputs": [
    {
     "name": "stdout",
     "output_type": "stream",
     "text": [
      "I'm learning python\n"
     ]
    }
   ],
   "source": [
    "print('I\\'m learning python')"
   ]
  },
  {
   "cell_type": "code",
   "execution_count": 19,
   "id": "adf97c38",
   "metadata": {},
   "outputs": [
    {
     "name": "stdout",
     "output_type": "stream",
     "text": [
      "I'm learning python. \"That's great\"\n"
     ]
    }
   ],
   "source": [
    "print('I\\'m learning python. \"That\\'s great\"')"
   ]
  },
  {
   "cell_type": "code",
   "execution_count": 21,
   "id": "99d2f305",
   "metadata": {},
   "outputs": [
    {
     "name": "stdout",
     "output_type": "stream",
     "text": [
      "My name is Akshay. \n",
      "What is your name\n"
     ]
    }
   ],
   "source": [
    "print(\"My name is Akshay. \\nWhat is your name\")"
   ]
  },
  {
   "cell_type": "code",
   "execution_count": 25,
   "id": "ea265c6e",
   "metadata": {},
   "outputs": [
    {
     "name": "stdout",
     "output_type": "stream",
     "text": [
      "I am triple quoted string \n"
     ]
    }
   ],
   "source": [
    "print(\"\"\"I am triple quoted string \"\"\")"
   ]
  },
  {
   "cell_type": "code",
   "execution_count": 26,
   "id": "5c96578f",
   "metadata": {},
   "outputs": [
    {
     "name": "stdout",
     "output_type": "stream",
     "text": [
      " I am \n",
      "very long string\n"
     ]
    }
   ],
   "source": [
    "print(''' I am \n",
    "very long string''')"
   ]
  },
  {
   "cell_type": "code",
   "execution_count": 28,
   "id": "5d198fcd",
   "metadata": {},
   "outputs": [
    {
     "ename": "SyntaxError",
     "evalue": "EOL while scanning string literal (1440826280.py, line 1)",
     "output_type": "error",
     "traceback": [
      "\u001b[1;36m  Input \u001b[1;32mIn [28]\u001b[1;36m\u001b[0m\n\u001b[1;33m    print(\"I am\u001b[0m\n\u001b[1;37m                ^\u001b[0m\n\u001b[1;31mSyntaxError\u001b[0m\u001b[1;31m:\u001b[0m EOL while scanning string literal\n"
     ]
    }
   ],
   "source": [
    "print(\"I am \n",
    "too long string\")"
   ]
  },
  {
   "cell_type": "code",
   "execution_count": 31,
   "id": "bad59649",
   "metadata": {},
   "outputs": [
    {
     "name": "stdout",
     "output_type": "stream",
     "text": [
      "A dog barks!\n"
     ]
    }
   ],
   "source": [
    "my_var = \"barks\"\n",
    "print(\"A dog \" + my_var + \"!\")"
   ]
  },
  {
   "cell_type": "code",
   "execution_count": 34,
   "id": "2003ef53",
   "metadata": {},
   "outputs": [
    {
     "name": "stdout",
     "output_type": "stream",
     "text": [
      "A dog barks!\n"
     ]
    }
   ],
   "source": [
    "my_var = \"barks\"\n",
    "print(f\"A dog {my_var}!\")"
   ]
  },
  {
   "cell_type": "code",
   "execution_count": 40,
   "id": "5547ae99",
   "metadata": {},
   "outputs": [
    {
     "name": "stdout",
     "output_type": "stream",
     "text": [
      "A dog barks!\n"
     ]
    }
   ],
   "source": [
    "my_var = \"barks\"\n",
    "print(\"A dog {}!\".format(my_var))"
   ]
  },
  {
   "cell_type": "code",
   "execution_count": 41,
   "id": "5bed096b",
   "metadata": {},
   "outputs": [
    {
     "name": "stdout",
     "output_type": "stream",
     "text": [
      "hellow \t world\n"
     ]
    }
   ],
   "source": [
    "print(\"hellow \\t world\")"
   ]
  },
  {
   "cell_type": "code",
   "execution_count": 3,
   "id": "d6359594",
   "metadata": {},
   "outputs": [
    {
     "name": "stdout",
     "output_type": "stream",
     "text": [
      "C:\\User\\Appdata\n"
     ]
    }
   ],
   "source": [
    "print(\"C:\\\\User\\Appdata\")"
   ]
  },
  {
   "cell_type": "code",
   "execution_count": 1,
   "id": "edad2153",
   "metadata": {},
   "outputs": [
    {
     "data": {
      "text/plain": [
       "'Hello World'"
      ]
     },
     "execution_count": 1,
     "metadata": {},
     "output_type": "execute_result"
    }
   ],
   "source": [
    "my_str = \"Hello World\"\n",
    "my_str"
   ]
  },
  {
   "cell_type": "code",
   "execution_count": 2,
   "id": "448de3d9",
   "metadata": {},
   "outputs": [
    {
     "data": {
      "text/plain": [
       "'H'"
      ]
     },
     "execution_count": 2,
     "metadata": {},
     "output_type": "execute_result"
    }
   ],
   "source": [
    "my_str[0]"
   ]
  },
  {
   "cell_type": "code",
   "execution_count": 3,
   "id": "200cefae",
   "metadata": {},
   "outputs": [
    {
     "ename": "TypeError",
     "evalue": "'str' object does not support item assignment",
     "output_type": "error",
     "traceback": [
      "\u001b[1;31m---------------------------------------------------------------------------\u001b[0m",
      "\u001b[1;31mTypeError\u001b[0m                                 Traceback (most recent call last)",
      "Input \u001b[1;32mIn [3]\u001b[0m, in \u001b[0;36m<cell line: 1>\u001b[1;34m()\u001b[0m\n\u001b[1;32m----> 1\u001b[0m my_str[\u001b[38;5;241m0\u001b[39m] \u001b[38;5;241m=\u001b[39m \u001b[38;5;124m'\u001b[39m\u001b[38;5;124mh\u001b[39m\u001b[38;5;124m'\u001b[39m\n\u001b[0;32m      2\u001b[0m my_str\n",
      "\u001b[1;31mTypeError\u001b[0m: 'str' object does not support item assignment"
     ]
    }
   ],
   "source": [
    "my_str[0] = 'h'\n",
    "my_str"
   ]
  },
  {
   "cell_type": "code",
   "execution_count": 7,
   "id": "9e138993",
   "metadata": {},
   "outputs": [
    {
     "data": {
      "text/plain": [
       "('H', 'e', 'l', 'l')"
      ]
     },
     "execution_count": 7,
     "metadata": {},
     "output_type": "execute_result"
    }
   ],
   "source": [
    "a,b,c,d = my_str[0:4]\n",
    "a,b,c,d\n"
   ]
  },
  {
   "cell_type": "code",
   "execution_count": 12,
   "id": "9b8ba70b",
   "metadata": {},
   "outputs": [
    {
     "data": {
      "text/plain": [
       "('H', 'e', 'l', 'l')"
      ]
     },
     "execution_count": 12,
     "metadata": {},
     "output_type": "execute_result"
    }
   ],
   "source": [
    "a,b,_,_ = my_str[0:4]\n",
    "a,b,_,_"
   ]
  },
  {
   "cell_type": "code",
   "execution_count": 13,
   "id": "4d533884",
   "metadata": {},
   "outputs": [
    {
     "name": "stdout",
     "output_type": "stream",
     "text": [
      "How are you!Good\n"
     ]
    },
    {
     "data": {
      "text/plain": [
       "'Good'"
      ]
     },
     "execution_count": 13,
     "metadata": {},
     "output_type": "execute_result"
    }
   ],
   "source": [
    "input('How are you!')"
   ]
  },
  {
   "cell_type": "code",
   "execution_count": 6,
   "id": "6d8686ea",
   "metadata": {},
   "outputs": [
    {
     "name": "stdin",
     "output_type": "stream",
     "text": [
      "What is your name ? akshay\n"
     ]
    }
   ],
   "source": [
    "name = input(\"What is your name ?\")"
   ]
  },
  {
   "cell_type": "code",
   "execution_count": 9,
   "id": "40c7380b",
   "metadata": {},
   "outputs": [
    {
     "data": {
      "text/plain": [
       "str"
      ]
     },
     "execution_count": 9,
     "metadata": {},
     "output_type": "execute_result"
    }
   ],
   "source": [
    "type(name)"
   ]
  },
  {
   "cell_type": "code",
   "execution_count": 16,
   "id": "5f05f862",
   "metadata": {},
   "outputs": [
    {
     "data": {
      "text/plain": [
       "6"
      ]
     },
     "execution_count": 16,
     "metadata": {},
     "output_type": "execute_result"
    }
   ],
   "source": [
    "len(name)"
   ]
  },
  {
   "cell_type": "code",
   "execution_count": 17,
   "id": "7e7c58e9",
   "metadata": {},
   "outputs": [
    {
     "data": {
      "text/plain": [
       "'y'"
      ]
     },
     "execution_count": 17,
     "metadata": {},
     "output_type": "execute_result"
    }
   ],
   "source": [
    "max(name)"
   ]
  },
  {
   "cell_type": "code",
   "execution_count": 18,
   "id": "1c7f8e6a",
   "metadata": {},
   "outputs": [
    {
     "data": {
      "text/plain": [
       "'A'"
      ]
     },
     "execution_count": 18,
     "metadata": {},
     "output_type": "execute_result"
    }
   ],
   "source": [
    "min(name)"
   ]
  },
  {
   "cell_type": "code",
   "execution_count": 20,
   "id": "ffcefb81",
   "metadata": {},
   "outputs": [
    {
     "data": {
      "text/plain": [
       "'Akshay'"
      ]
     },
     "execution_count": 20,
     "metadata": {},
     "output_type": "execute_result"
    }
   ],
   "source": [
    "name[0:]"
   ]
  },
  {
   "cell_type": "code",
   "execution_count": 22,
   "id": "fe12bdf9",
   "metadata": {},
   "outputs": [
    {
     "data": {
      "text/plain": [
       "'Aksh'"
      ]
     },
     "execution_count": 22,
     "metadata": {},
     "output_type": "execute_result"
    }
   ],
   "source": [
    "name[0:4]"
   ]
  },
  {
   "cell_type": "code",
   "execution_count": 23,
   "id": "4f45259c",
   "metadata": {},
   "outputs": [
    {
     "data": {
      "text/plain": [
       "'Aksha'"
      ]
     },
     "execution_count": 23,
     "metadata": {},
     "output_type": "execute_result"
    }
   ],
   "source": [
    "name[:-1]"
   ]
  },
  {
   "cell_type": "code",
   "execution_count": 25,
   "id": "4b93f5df",
   "metadata": {},
   "outputs": [
    {
     "data": {
      "text/plain": [
       "'Asa'"
      ]
     },
     "execution_count": 25,
     "metadata": {},
     "output_type": "execute_result"
    }
   ],
   "source": [
    "name[0:5:2]"
   ]
  },
  {
   "cell_type": "code",
   "execution_count": 26,
   "id": "0042c874",
   "metadata": {},
   "outputs": [
    {
     "data": {
      "text/plain": [
       "'yahskA'"
      ]
     },
     "execution_count": 26,
     "metadata": {},
     "output_type": "execute_result"
    }
   ],
   "source": [
    "name[::-1]"
   ]
  },
  {
   "cell_type": "code",
   "execution_count": 28,
   "id": "5a176eb2",
   "metadata": {},
   "outputs": [
    {
     "data": {
      "text/plain": [
       "'ksha'"
      ]
     },
     "execution_count": 28,
     "metadata": {},
     "output_type": "execute_result"
    }
   ],
   "source": [
    "name[-5:-1]"
   ]
  },
  {
   "cell_type": "code",
   "execution_count": 8,
   "id": "45e9d246-39fb-47f3-b7af-9ad3ed6a08c2",
   "metadata": {},
   "outputs": [
    {
     "data": {
      "text/plain": [
       "'akshay'"
      ]
     },
     "execution_count": 8,
     "metadata": {},
     "output_type": "execute_result"
    }
   ],
   "source": [
    "name"
   ]
  },
  {
   "cell_type": "code",
   "execution_count": 30,
   "id": "e3baf358",
   "metadata": {},
   "outputs": [
    {
     "data": {
      "text/plain": [
       "'ahsk'"
      ]
     },
     "execution_count": 30,
     "metadata": {},
     "output_type": "execute_result"
    }
   ],
   "source": [
    "name[4:0:-1]"
   ]
  },
  {
   "cell_type": "code",
   "execution_count": 32,
   "id": "224c6839",
   "metadata": {},
   "outputs": [
    {
     "data": {
      "text/plain": [
       "'as'"
      ]
     },
     "execution_count": 32,
     "metadata": {},
     "output_type": "execute_result"
    }
   ],
   "source": [
    "name[4:0:-2]"
   ]
  },
  {
   "cell_type": "code",
   "execution_count": 33,
   "id": "0d1ad3df",
   "metadata": {},
   "outputs": [],
   "source": [
    "del name"
   ]
  },
  {
   "cell_type": "code",
   "execution_count": 34,
   "id": "4634daa1",
   "metadata": {},
   "outputs": [
    {
     "ename": "NameError",
     "evalue": "name 'name' is not defined",
     "output_type": "error",
     "traceback": [
      "\u001b[1;31m---------------------------------------------------------------------------\u001b[0m",
      "\u001b[1;31mNameError\u001b[0m                                 Traceback (most recent call last)",
      "Input \u001b[1;32mIn [34]\u001b[0m, in \u001b[0;36m<cell line: 1>\u001b[1;34m()\u001b[0m\n\u001b[1;32m----> 1\u001b[0m \u001b[43mname\u001b[49m\n",
      "\u001b[1;31mNameError\u001b[0m: name 'name' is not defined"
     ]
    }
   ],
   "source": [
    "name"
   ]
  },
  {
   "cell_type": "code",
   "execution_count": 35,
   "id": "ec83c703",
   "metadata": {},
   "outputs": [
    {
     "data": {
      "text/plain": [
       "'Hello World'"
      ]
     },
     "execution_count": 35,
     "metadata": {},
     "output_type": "execute_result"
    }
   ],
   "source": [
    "my_str"
   ]
  },
  {
   "cell_type": "code",
   "execution_count": 47,
   "id": "e04b9a11",
   "metadata": {},
   "outputs": [
    {
     "name": "stdout",
     "output_type": "stream",
     "text": [
      "True\n",
      "False\n"
     ]
    }
   ],
   "source": [
    "print(my_str.startswith(\"H\"))\n",
    "print(my_str.startswith(\"h\"))"
   ]
  },
  {
   "cell_type": "code",
   "execution_count": 50,
   "id": "f1228f7c",
   "metadata": {},
   "outputs": [
    {
     "name": "stdout",
     "output_type": "stream",
     "text": [
      "True\n",
      "False\n"
     ]
    }
   ],
   "source": [
    "print(my_str.endswith(\"d\"))\n",
    "print(my_str.endswith(\"a\"))"
   ]
  },
  {
   "cell_type": "code",
   "execution_count": 54,
   "id": "8f7fe5f6",
   "metadata": {},
   "outputs": [
    {
     "data": {
      "text/plain": [
       "3"
      ]
     },
     "execution_count": 54,
     "metadata": {},
     "output_type": "execute_result"
    }
   ],
   "source": [
    "my_str.count(\"l\")"
   ]
  },
  {
   "cell_type": "code",
   "execution_count": 55,
   "id": "d8e2a9dc",
   "metadata": {},
   "outputs": [
    {
     "data": {
      "text/plain": [
       "'hello world'"
      ]
     },
     "execution_count": 55,
     "metadata": {},
     "output_type": "execute_result"
    }
   ],
   "source": [
    "my_str_lower = my_str.lower()\n",
    "my_str_lower"
   ]
  },
  {
   "cell_type": "code",
   "execution_count": 57,
   "id": "c88cae9c",
   "metadata": {},
   "outputs": [
    {
     "data": {
      "text/plain": [
       "'HELLO WORLD'"
      ]
     },
     "execution_count": 57,
     "metadata": {},
     "output_type": "execute_result"
    }
   ],
   "source": [
    "my_str_upper = my_str.upper()\n",
    "my_str_upper"
   ]
  },
  {
   "cell_type": "code",
   "execution_count": 59,
   "id": "ea07e781",
   "metadata": {},
   "outputs": [
    {
     "data": {
      "text/plain": [
       "False"
      ]
     },
     "execution_count": 59,
     "metadata": {},
     "output_type": "execute_result"
    }
   ],
   "source": [
    "my_str_lower == my_str_upper == my_str"
   ]
  },
  {
   "cell_type": "code",
   "execution_count": 60,
   "id": "b940d2f2",
   "metadata": {},
   "outputs": [
    {
     "data": {
      "text/plain": [
       "2"
      ]
     },
     "execution_count": 60,
     "metadata": {},
     "output_type": "execute_result"
    }
   ],
   "source": [
    "my_str.find(\"l\")"
   ]
  },
  {
   "cell_type": "code",
   "execution_count": 94,
   "id": "8c76e395",
   "metadata": {},
   "outputs": [
    {
     "data": {
      "text/plain": [
       "-1"
      ]
     },
     "execution_count": 94,
     "metadata": {},
     "output_type": "execute_result"
    }
   ],
   "source": [
    "my_str.find(\"0\")"
   ]
  },
  {
   "cell_type": "code",
   "execution_count": 69,
   "id": "0318a9bc",
   "metadata": {},
   "outputs": [
    {
     "data": {
      "text/plain": [
       "0"
      ]
     },
     "execution_count": 69,
     "metadata": {},
     "output_type": "execute_result"
    }
   ],
   "source": [
    "my_str.index('H')"
   ]
  },
  {
   "cell_type": "code",
   "execution_count": 70,
   "id": "1b67e577",
   "metadata": {},
   "outputs": [
    {
     "ename": "ValueError",
     "evalue": "substring not found",
     "output_type": "error",
     "traceback": [
      "\u001b[1;31m---------------------------------------------------------------------------\u001b[0m",
      "\u001b[1;31mValueError\u001b[0m                                Traceback (most recent call last)",
      "Input \u001b[1;32mIn [70]\u001b[0m, in \u001b[0;36m<cell line: 1>\u001b[1;34m()\u001b[0m\n\u001b[1;32m----> 1\u001b[0m \u001b[43mmy_str\u001b[49m\u001b[38;5;241;43m.\u001b[39;49m\u001b[43mindex\u001b[49m\u001b[43m(\u001b[49m\u001b[38;5;124;43m\"\u001b[39;49m\u001b[38;5;124;43mw\u001b[39;49m\u001b[38;5;124;43m\"\u001b[39;49m\u001b[43m)\u001b[49m\n",
      "\u001b[1;31mValueError\u001b[0m: substring not found"
     ]
    }
   ],
   "source": [
    "my_str.index(\"w\")"
   ]
  },
  {
   "cell_type": "code",
   "execution_count": 83,
   "id": "4e4242c3",
   "metadata": {},
   "outputs": [
    {
     "data": {
      "text/plain": [
       "['Hell', ' W', 'rld']"
      ]
     },
     "execution_count": 83,
     "metadata": {},
     "output_type": "execute_result"
    }
   ],
   "source": [
    "split_my_str = my_str.split(\"o\")\n",
    "split_my_str"
   ]
  },
  {
   "cell_type": "code",
   "execution_count": 85,
   "id": "5bae16e0",
   "metadata": {},
   "outputs": [
    {
     "data": {
      "text/plain": [
       "['Hello', 'World']"
      ]
     },
     "execution_count": 85,
     "metadata": {},
     "output_type": "execute_result"
    }
   ],
   "source": [
    "split_my_str = my_str.split(\" \")\n",
    "split_my_str"
   ]
  },
  {
   "cell_type": "code",
   "execution_count": 92,
   "id": "7ec1d3d5",
   "metadata": {},
   "outputs": [
    {
     "data": {
      "text/plain": [
       "'Hello  World'"
      ]
     },
     "execution_count": 92,
     "metadata": {},
     "output_type": "execute_result"
    }
   ],
   "source": [
    "join_char = \"  \"\n",
    "join_char.join(split_my_str)"
   ]
  },
  {
   "cell_type": "code",
   "execution_count": 93,
   "id": "8baa6230",
   "metadata": {},
   "outputs": [
    {
     "data": {
      "text/plain": [
       "'Hello | World'"
      ]
     },
     "execution_count": 93,
     "metadata": {},
     "output_type": "execute_result"
    }
   ],
   "source": [
    "\" | \".join(split_my_str)"
   ]
  },
  {
   "cell_type": "code",
   "execution_count": 101,
   "id": "27512ce0",
   "metadata": {},
   "outputs": [
    {
     "data": {
      "text/plain": [
       "'Hello World'"
      ]
     },
     "execution_count": 101,
     "metadata": {},
     "output_type": "execute_result"
    }
   ],
   "source": [
    "my_str.upper()"
   ]
  },
  {
   "cell_type": "code",
   "execution_count": 102,
   "id": "261bdf7b",
   "metadata": {},
   "outputs": [
    {
     "data": {
      "text/plain": [
       "True"
      ]
     },
     "execution_count": 102,
     "metadata": {},
     "output_type": "execute_result"
    }
   ],
   "source": [
    "my_str_upper.isupper()"
   ]
  },
  {
   "cell_type": "code",
   "execution_count": 104,
   "id": "9e670208",
   "metadata": {},
   "outputs": [
    {
     "data": {
      "text/plain": [
       "True"
      ]
     },
     "execution_count": 104,
     "metadata": {},
     "output_type": "execute_result"
    }
   ],
   "source": [
    "my_str_lower.islower()"
   ]
  },
  {
   "cell_type": "code",
   "execution_count": null,
   "id": "17264337",
   "metadata": {},
   "outputs": [],
   "source": []
  }
 ],
 "metadata": {
  "kernelspec": {
   "display_name": "Python 3 (ipykernel)",
   "language": "python",
   "name": "python3"
  },
  "language_info": {
   "codemirror_mode": {
    "name": "ipython",
    "version": 3
   },
   "file_extension": ".py",
   "mimetype": "text/x-python",
   "name": "python",
   "nbconvert_exporter": "python",
   "pygments_lexer": "ipython3",
   "version": "3.11.3"
  }
 },
 "nbformat": 4,
 "nbformat_minor": 5
}
