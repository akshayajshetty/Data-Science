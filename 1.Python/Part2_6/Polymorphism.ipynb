{
 "cells": [
  {
   "cell_type": "code",
   "execution_count": 3,
   "id": "19a02678",
   "metadata": {},
   "outputs": [],
   "source": [
    "class Hominidae():\n",
    "    def communication(self):\n",
    "        print(\"Auditory call and visual\")\n",
    "    def walk(self):\n",
    "        print(\"knocle walk\")"
   ]
  },
  {
   "cell_type": "code",
   "execution_count": 4,
   "id": "686601d2",
   "metadata": {},
   "outputs": [],
   "source": [
    "class Human(Hominidae):\n",
    "    def communication(self):\n",
    "        print(\"language\")\n",
    "    def walk(self):\n",
    "        print(\"bipeds\")"
   ]
  },
  {
   "cell_type": "code",
   "execution_count": 5,
   "id": "3ba77d6d",
   "metadata": {},
   "outputs": [],
   "source": [
    "class Gorilla(Hominidae):\n",
    "    def communication(self):\n",
    "        print(\"diffent vocalization\")\n",
    "    def walk(self):\n",
    "        print(\"They knocle walking\")"
   ]
  },
  {
   "cell_type": "code",
   "execution_count": 6,
   "id": "59e189d2",
   "metadata": {},
   "outputs": [],
   "source": [
    "hominidae_1 = Hominidae()\n",
    "human_1 = Human()\n",
    "gorilla_1 = Gorilla()"
   ]
  },
  {
   "cell_type": "code",
   "execution_count": 7,
   "id": "5ef360cf",
   "metadata": {},
   "outputs": [
    {
     "name": "stdout",
     "output_type": "stream",
     "text": [
      "Auditory call and visual\n",
      "language\n",
      "diffent vocalization\n"
     ]
    }
   ],
   "source": [
    "hominidae_1.communication()\n",
    "\n",
    "human_1.communication()\n",
    "\n",
    "gorilla_1.communication()"
   ]
  },
  {
   "cell_type": "code",
   "execution_count": 8,
   "id": "ec627a76",
   "metadata": {},
   "outputs": [
    {
     "name": "stdout",
     "output_type": "stream",
     "text": [
      "knocle walk\n",
      "bipeds\n",
      "They knocle walking\n"
     ]
    }
   ],
   "source": [
    "hominidae_1.walk()\n",
    "\n",
    "human_1.walk()\n",
    "\n",
    "gorilla_1.walk()"
   ]
  },
  {
   "cell_type": "code",
   "execution_count": 4,
   "id": "376df808",
   "metadata": {},
   "outputs": [],
   "source": [
    "class bankdeposit():\n",
    "    def __init__(self,balance):\n",
    "        self.__balance = balance\n",
    "        \n",
    "    def deposit(self,value):\n",
    "        self.__balance = self.__balance + value\n",
    "        \n",
    "        print(\"deposit amounr :\",value)\n",
    "        print(\"Balance amount after deposit :\",self.__balance)\n",
    "        \n",
    "    def withdraw(self,value):\n",
    "        self.__balance = self.__balance - value\n",
    "        \n",
    "        print(\"withdrwa amounr :\",value)\n",
    "        print(\"Balance after withdraw :\",self.__balance)"
   ]
  },
  {
   "cell_type": "code",
   "execution_count": 10,
   "id": "00a4bffc",
   "metadata": {},
   "outputs": [],
   "source": [
    "b1 = bankdeposit(1500)"
   ]
  },
  {
   "cell_type": "code",
   "execution_count": 11,
   "id": "c21b8c6e",
   "metadata": {},
   "outputs": [
    {
     "name": "stdout",
     "output_type": "stream",
     "text": [
      "deposit amounr : 100\n",
      "Balance amount after deposit : 1600\n"
     ]
    }
   ],
   "source": [
    "b1.deposit(100)"
   ]
  },
  {
   "cell_type": "code",
   "execution_count": 12,
   "id": "ecc22634",
   "metadata": {},
   "outputs": [
    {
     "name": "stdout",
     "output_type": "stream",
     "text": [
      "withdrwa amounr : 200\n",
      "Balance after withdraw : 1400\n"
     ]
    }
   ],
   "source": [
    "b1.withdraw(200)"
   ]
  },
  {
   "cell_type": "code",
   "execution_count": 5,
   "id": "71205cd3",
   "metadata": {},
   "outputs": [],
   "source": [
    " class currentaccount(bankdeposit):\n",
    "        def __init__(self,balance):\n",
    "            super().__init__(balance)\n",
    "            \n",
    "        def withdraw(self,value):\n",
    "            if value > 1000 :\n",
    "                print(\"Contact branch manager\")\n",
    "            else :\n",
    "                super().withdraw(value)"
   ]
  },
  {
   "cell_type": "code",
   "execution_count": 6,
   "id": "10ba8762",
   "metadata": {},
   "outputs": [],
   "source": [
    "c = currentaccount(1500)"
   ]
  },
  {
   "cell_type": "code",
   "execution_count": 7,
   "id": "ed503a94",
   "metadata": {},
   "outputs": [
    {
     "name": "stdout",
     "output_type": "stream",
     "text": [
      "deposit amounr : 1000\n",
      "Balance amount after deposit : 2500\n"
     ]
    }
   ],
   "source": [
    "c.deposit(1000)"
   ]
  },
  {
   "cell_type": "code",
   "execution_count": 9,
   "id": "cb851827",
   "metadata": {},
   "outputs": [
    {
     "name": "stdout",
     "output_type": "stream",
     "text": [
      "Contact branch manager\n"
     ]
    }
   ],
   "source": [
    "c.withdraw(1200)"
   ]
  },
  {
   "cell_type": "code",
   "execution_count": 10,
   "id": "14bab0da",
   "metadata": {},
   "outputs": [
    {
     "name": "stdout",
     "output_type": "stream",
     "text": [
      "withdrwa amounr : 200\n",
      "Balance after withdraw : 2300\n"
     ]
    }
   ],
   "source": [
    "c.withdraw(200)"
   ]
  },
  {
   "cell_type": "code",
   "execution_count": 12,
   "id": "d44e7bc2",
   "metadata": {},
   "outputs": [],
   "source": [
    "class Savingaccount(bankdeposit):\n",
    "    def __init__(self,balance):\n",
    "        super().__init__(balance)\n",
    "        \n",
    "    def deposit(self,value):\n",
    "        value += 0.05 * value\n",
    "        \n",
    "        super().deposit(value)   "
   ]
  },
  {
   "cell_type": "code",
   "execution_count": 13,
   "id": "99648380",
   "metadata": {},
   "outputs": [],
   "source": [
    "s = Savingaccount(1500)"
   ]
  },
  {
   "cell_type": "code",
   "execution_count": 14,
   "id": "72555a1e",
   "metadata": {},
   "outputs": [
    {
     "name": "stdout",
     "output_type": "stream",
     "text": [
      "deposit amounr : 105.0\n",
      "Balance amount after deposit : 1605.0\n"
     ]
    }
   ],
   "source": [
    "s.deposit(100)"
   ]
  },
  {
   "cell_type": "code",
   "execution_count": null,
   "id": "2a4ad45d",
   "metadata": {},
   "outputs": [],
   "source": []
  }
 ],
 "metadata": {
  "kernelspec": {
   "display_name": "Python 3 (ipykernel)",
   "language": "python",
   "name": "python3"
  },
  "language_info": {
   "codemirror_mode": {
    "name": "ipython",
    "version": 3
   },
   "file_extension": ".py",
   "mimetype": "text/x-python",
   "name": "python",
   "nbconvert_exporter": "python",
   "pygments_lexer": "ipython3",
   "version": "3.11.3"
  }
 },
 "nbformat": 4,
 "nbformat_minor": 5
}
