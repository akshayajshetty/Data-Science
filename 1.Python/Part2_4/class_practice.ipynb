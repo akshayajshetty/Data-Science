{
 "cells": [
  {
   "cell_type": "code",
   "execution_count": 18,
   "id": "12d854c6",
   "metadata": {},
   "outputs": [],
   "source": [
    "class Students():\n",
    "    def __init__(self,name,gpa):\n",
    "        self.__name = name \n",
    "        self.__gpa = gpa\n",
    "        self.__clubs = set()\n",
    "        self.__active = True\n",
    "        \n",
    "    def set_name(self, name):\n",
    "        self.__name = name\n",
    "        \n",
    "    def set_gpa(self,gpa):\n",
    "        self.__gpa = gpa\n",
    "        \n",
    "    def add_club(self,club):\n",
    "        self.__clubs.add(club)\n",
    "        \n",
    "    def remove_club(self,club):\n",
    "        self.__clubs.remove(club)\n",
    "    \n",
    "    def set_active(self,active):\n",
    "        self.__active = True\n",
    "        \n",
    "    def print_details(self):\n",
    "        print('Student :',self.__name)\n",
    "        print(self.__gpa, self.__clubs, self.__active)\n",
    "        "
   ]
  },
  {
   "cell_type": "code",
   "execution_count": 19,
   "id": "56ae9174",
   "metadata": {},
   "outputs": [
    {
     "name": "stdout",
     "output_type": "stream",
     "text": [
      "Student : akshay\n",
      "4.8 set() True\n"
     ]
    }
   ],
   "source": [
    "s = Students(\"akshay\", 4.8)\n",
    "\n",
    "s.print_details()"
   ]
  },
  {
   "cell_type": "code",
   "execution_count": 6,
   "id": "9299c5b2",
   "metadata": {},
   "outputs": [
    {
     "name": "stdout",
     "output_type": "stream",
     "text": [
      "Student : Akshay\n",
      "4.8 set() True\n"
     ]
    }
   ],
   "source": [
    "s.set_name(\"Akshay\")\n",
    "\n",
    "s.print_details()"
   ]
  },
  {
   "cell_type": "code",
   "execution_count": 7,
   "id": "1fa5d07d",
   "metadata": {},
   "outputs": [
    {
     "name": "stdout",
     "output_type": "stream",
     "text": [
      "Student : Akshay\n",
      "4.9 set() True\n"
     ]
    }
   ],
   "source": [
    "s.set_gpa(4.9)\n",
    "\n",
    "s.print_details()"
   ]
  },
  {
   "cell_type": "code",
   "execution_count": 23,
   "id": "d3f11e3a",
   "metadata": {},
   "outputs": [
    {
     "name": "stdout",
     "output_type": "stream",
     "text": [
      "Student : akshay\n",
      "4.8 {'Green'} True\n"
     ]
    }
   ],
   "source": [
    "s.add_club(\"Green\")\n",
    "\n",
    "s.print_details()"
   ]
  },
  {
   "cell_type": "code",
   "execution_count": 25,
   "id": "2a0a7c9f",
   "metadata": {},
   "outputs": [
    {
     "name": "stdout",
     "output_type": "stream",
     "text": [
      "Student : akshay\n",
      "4.8 {'Green', 'White'} True\n"
     ]
    }
   ],
   "source": [
    "s.add_club(\"White\")\n",
    "\n",
    "s.print_details()"
   ]
  },
  {
   "cell_type": "code",
   "execution_count": 27,
   "id": "aa0247d4",
   "metadata": {},
   "outputs": [
    {
     "name": "stdout",
     "output_type": "stream",
     "text": [
      "Student : akshay\n",
      "4.8 {'Green'} True\n"
     ]
    }
   ],
   "source": [
    "s.remove_club(\"White\")\n",
    "\n",
    "s.print_details()"
   ]
  },
  {
   "cell_type": "code",
   "execution_count": 61,
   "id": "8f77400c",
   "metadata": {},
   "outputs": [],
   "source": [
    "import math\n",
    "\n",
    "class Circle():\n",
    "    def __init__(self,radius):\n",
    "        self.__radius = radius\n",
    "    def area_of_circle(self):\n",
    "        return math.pi * self.__radius * self.__radius\n",
    "    def perimeter_of_circle(self):\n",
    "        return 2 * math.pi * self.__radius\n",
    "    "
   ]
  },
  {
   "cell_type": "code",
   "execution_count": 59,
   "id": "c43644be",
   "metadata": {},
   "outputs": [
    {
     "data": {
      "text/plain": [
       "78.53981633974483"
      ]
     },
     "execution_count": 59,
     "metadata": {},
     "output_type": "execute_result"
    }
   ],
   "source": [
    "c = Circle(5)\n",
    "\n",
    "c.area_of_circle()"
   ]
  },
  {
   "cell_type": "code",
   "execution_count": 62,
   "id": "090adac1",
   "metadata": {},
   "outputs": [
    {
     "data": {
      "text/plain": [
       "12.566370614359172"
      ]
     },
     "execution_count": 62,
     "metadata": {},
     "output_type": "execute_result"
    }
   ],
   "source": [
    "c = Circle(2)\n",
    "\n",
    "c.perimeter_of_circle()"
   ]
  },
  {
   "cell_type": "code",
   "execution_count": null,
   "id": "a8045a28",
   "metadata": {},
   "outputs": [],
   "source": []
  }
 ],
 "metadata": {
  "kernelspec": {
   "display_name": "Python 3 (ipykernel)",
   "language": "python",
   "name": "python3"
  },
  "language_info": {
   "codemirror_mode": {
    "name": "ipython",
    "version": 3
   },
   "file_extension": ".py",
   "mimetype": "text/x-python",
   "name": "python",
   "nbconvert_exporter": "python",
   "pygments_lexer": "ipython3",
   "version": "3.11.3"
  }
 },
 "nbformat": 4,
 "nbformat_minor": 5
}
