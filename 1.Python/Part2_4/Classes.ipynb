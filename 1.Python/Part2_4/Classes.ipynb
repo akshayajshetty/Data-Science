{
 "cells": [
  {
   "cell_type": "code",
   "execution_count": 1,
   "id": "c947f929",
   "metadata": {},
   "outputs": [],
   "source": [
    "class Student :\n",
    "    pass"
   ]
  },
  {
   "cell_type": "code",
   "execution_count": 2,
   "id": "ccf906d2",
   "metadata": {},
   "outputs": [
    {
     "data": {
      "text/plain": [
       "type"
      ]
     },
     "execution_count": 2,
     "metadata": {},
     "output_type": "execute_result"
    }
   ],
   "source": [
    "type(Student)"
   ]
  },
  {
   "cell_type": "code",
   "execution_count": 3,
   "id": "3639b406",
   "metadata": {},
   "outputs": [],
   "source": [
    "object_1 = Student()"
   ]
  },
  {
   "cell_type": "code",
   "execution_count": 4,
   "id": "a805d4e0",
   "metadata": {},
   "outputs": [],
   "source": [
    "object_2 = Student()"
   ]
  },
  {
   "cell_type": "code",
   "execution_count": 5,
   "id": "830b3fe0",
   "metadata": {},
   "outputs": [
    {
     "data": {
      "text/plain": [
       "<__main__.Student at 0x198e5a687c0>"
      ]
     },
     "execution_count": 5,
     "metadata": {},
     "output_type": "execute_result"
    }
   ],
   "source": [
    "object_1"
   ]
  },
  {
   "cell_type": "code",
   "execution_count": 6,
   "id": "5be23be8",
   "metadata": {},
   "outputs": [
    {
     "data": {
      "text/plain": [
       "<__main__.Student at 0x198e5a5d790>"
      ]
     },
     "execution_count": 6,
     "metadata": {},
     "output_type": "execute_result"
    }
   ],
   "source": [
    "object_2"
   ]
  },
  {
   "cell_type": "code",
   "execution_count": 8,
   "id": "5376be5a",
   "metadata": {},
   "outputs": [
    {
     "data": {
      "text/plain": [
       "True"
      ]
     },
     "execution_count": 8,
     "metadata": {},
     "output_type": "execute_result"
    }
   ],
   "source": [
    "isinstance(object_1,Student)"
   ]
  },
  {
   "cell_type": "code",
   "execution_count": 9,
   "id": "61d11543",
   "metadata": {},
   "outputs": [
    {
     "data": {
      "text/plain": [
       "True"
      ]
     },
     "execution_count": 9,
     "metadata": {},
     "output_type": "execute_result"
    }
   ],
   "source": [
    "isinstance(object_2,Student)"
   ]
  },
  {
   "cell_type": "code",
   "execution_count": 11,
   "id": "afb09626",
   "metadata": {},
   "outputs": [
    {
     "ename": "NameError",
     "evalue": "name 'object_3' is not defined",
     "output_type": "error",
     "traceback": [
      "\u001b[1;31m---------------------------------------------------------------------------\u001b[0m",
      "\u001b[1;31mNameError\u001b[0m                                 Traceback (most recent call last)",
      "Input \u001b[1;32mIn [11]\u001b[0m, in \u001b[0;36m<cell line: 1>\u001b[1;34m()\u001b[0m\n\u001b[1;32m----> 1\u001b[0m \u001b[38;5;28misinstance\u001b[39m(\u001b[43mobject_3\u001b[49m,Student)\n",
      "\u001b[1;31mNameError\u001b[0m: name 'object_3' is not defined"
     ]
    }
   ],
   "source": [
    "isinstance(object_3,Student)"
   ]
  },
  {
   "cell_type": "code",
   "execution_count": 12,
   "id": "3540794b",
   "metadata": {},
   "outputs": [],
   "source": [
    "object_3 = []"
   ]
  },
  {
   "cell_type": "code",
   "execution_count": 13,
   "id": "2faab4ba",
   "metadata": {},
   "outputs": [
    {
     "data": {
      "text/plain": [
       "False"
      ]
     },
     "execution_count": 13,
     "metadata": {},
     "output_type": "execute_result"
    }
   ],
   "source": [
    "isinstance(object_3,Student)"
   ]
  },
  {
   "cell_type": "code",
   "execution_count": 14,
   "id": "243fa5ab",
   "metadata": {},
   "outputs": [],
   "source": [
    "object_1.name = \"Akshay\""
   ]
  },
  {
   "cell_type": "code",
   "execution_count": 15,
   "id": "c846e95a",
   "metadata": {},
   "outputs": [],
   "source": [
    "object_1.email = \"akshay@gmail.com\""
   ]
  },
  {
   "cell_type": "code",
   "execution_count": 16,
   "id": "595df9a8",
   "metadata": {},
   "outputs": [
    {
     "data": {
      "text/plain": [
       "'Akshay'"
      ]
     },
     "execution_count": 16,
     "metadata": {},
     "output_type": "execute_result"
    }
   ],
   "source": [
    "object_1.name"
   ]
  },
  {
   "cell_type": "code",
   "execution_count": 17,
   "id": "eab7e936",
   "metadata": {},
   "outputs": [
    {
     "data": {
      "text/plain": [
       "'akshay@gmail.com'"
      ]
     },
     "execution_count": 17,
     "metadata": {},
     "output_type": "execute_result"
    }
   ],
   "source": [
    "object_1.email"
   ]
  },
  {
   "cell_type": "code",
   "execution_count": 18,
   "id": "e708c01d",
   "metadata": {},
   "outputs": [
    {
     "ename": "AttributeError",
     "evalue": "'Student' object has no attribute 'school'",
     "output_type": "error",
     "traceback": [
      "\u001b[1;31m---------------------------------------------------------------------------\u001b[0m",
      "\u001b[1;31mAttributeError\u001b[0m                            Traceback (most recent call last)",
      "Input \u001b[1;32mIn [18]\u001b[0m, in \u001b[0;36m<cell line: 1>\u001b[1;34m()\u001b[0m\n\u001b[1;32m----> 1\u001b[0m \u001b[43mobject_1\u001b[49m\u001b[38;5;241;43m.\u001b[39;49m\u001b[43mschool\u001b[49m\n",
      "\u001b[1;31mAttributeError\u001b[0m: 'Student' object has no attribute 'school'"
     ]
    }
   ],
   "source": [
    "object_1.school"
   ]
  },
  {
   "cell_type": "code",
   "execution_count": 19,
   "id": "4d304ce6",
   "metadata": {},
   "outputs": [],
   "source": [
    "object_2.name = \"Ak\"\n",
    "object_2.email = \"ak@gmail.com\""
   ]
  },
  {
   "cell_type": "code",
   "execution_count": 20,
   "id": "8ffdce81",
   "metadata": {},
   "outputs": [
    {
     "data": {
      "text/plain": [
       "'Ak'"
      ]
     },
     "execution_count": 20,
     "metadata": {},
     "output_type": "execute_result"
    }
   ],
   "source": [
    "object_2.name"
   ]
  },
  {
   "cell_type": "code",
   "execution_count": 21,
   "id": "db40ab50",
   "metadata": {},
   "outputs": [
    {
     "data": {
      "text/plain": [
       "'ak@gmail.com'"
      ]
     },
     "execution_count": 21,
     "metadata": {},
     "output_type": "execute_result"
    }
   ],
   "source": [
    "object_2.email"
   ]
  },
  {
   "cell_type": "code",
   "execution_count": 22,
   "id": "10745029",
   "metadata": {},
   "outputs": [
    {
     "ename": "AttributeError",
     "evalue": "'Student' object has no attribute 'school'",
     "output_type": "error",
     "traceback": [
      "\u001b[1;31m---------------------------------------------------------------------------\u001b[0m",
      "\u001b[1;31mAttributeError\u001b[0m                            Traceback (most recent call last)",
      "Input \u001b[1;32mIn [22]\u001b[0m, in \u001b[0;36m<cell line: 1>\u001b[1;34m()\u001b[0m\n\u001b[1;32m----> 1\u001b[0m \u001b[43mobject_2\u001b[49m\u001b[38;5;241;43m.\u001b[39;49m\u001b[43mschool\u001b[49m\n",
      "\u001b[1;31mAttributeError\u001b[0m: 'Student' object has no attribute 'school'"
     ]
    }
   ],
   "source": [
    "object_2.school"
   ]
  },
  {
   "cell_type": "code",
   "execution_count": 23,
   "id": "3af00cbd",
   "metadata": {},
   "outputs": [],
   "source": [
    "object_3 = Student()"
   ]
  },
  {
   "cell_type": "code",
   "execution_count": 24,
   "id": "78326ccc",
   "metadata": {},
   "outputs": [
    {
     "ename": "AttributeError",
     "evalue": "'Student' object has no attribute 'name'",
     "output_type": "error",
     "traceback": [
      "\u001b[1;31m---------------------------------------------------------------------------\u001b[0m",
      "\u001b[1;31mAttributeError\u001b[0m                            Traceback (most recent call last)",
      "Input \u001b[1;32mIn [24]\u001b[0m, in \u001b[0;36m<cell line: 1>\u001b[1;34m()\u001b[0m\n\u001b[1;32m----> 1\u001b[0m \u001b[43mobject_3\u001b[49m\u001b[38;5;241;43m.\u001b[39;49m\u001b[43mname\u001b[49m\n",
      "\u001b[1;31mAttributeError\u001b[0m: 'Student' object has no attribute 'name'"
     ]
    }
   ],
   "source": [
    "object_3.name"
   ]
  },
  {
   "cell_type": "code",
   "execution_count": 25,
   "id": "05d6344e",
   "metadata": {},
   "outputs": [],
   "source": [
    "class Student():\n",
    "    name = \" \"\n",
    "    score = 0\n",
    "    Active = True"
   ]
  },
  {
   "cell_type": "code",
   "execution_count": 26,
   "id": "ea2eb7bb",
   "metadata": {},
   "outputs": [],
   "source": [
    "s1 = Student()"
   ]
  },
  {
   "cell_type": "code",
   "execution_count": 27,
   "id": "0cf86f90",
   "metadata": {},
   "outputs": [
    {
     "data": {
      "text/plain": [
       "(' ', 0, True)"
      ]
     },
     "execution_count": 27,
     "metadata": {},
     "output_type": "execute_result"
    }
   ],
   "source": [
    "s1.name, s1.score, s1.Active"
   ]
  },
  {
   "cell_type": "code",
   "execution_count": 28,
   "id": "f85f8df0",
   "metadata": {},
   "outputs": [],
   "source": [
    "s1.name = \"Akshay\"\n",
    "s1.score = 98"
   ]
  },
  {
   "cell_type": "code",
   "execution_count": 30,
   "id": "7d04c901",
   "metadata": {},
   "outputs": [
    {
     "data": {
      "text/plain": [
       "('Akshay', 98, True)"
      ]
     },
     "execution_count": 30,
     "metadata": {},
     "output_type": "execute_result"
    }
   ],
   "source": [
    "s1.name, s1.score, s1.Active"
   ]
  },
  {
   "cell_type": "code",
   "execution_count": 31,
   "id": "0e2a12ec",
   "metadata": {},
   "outputs": [],
   "source": [
    "s2 = Student()"
   ]
  },
  {
   "cell_type": "code",
   "execution_count": 32,
   "id": "3971d838",
   "metadata": {},
   "outputs": [
    {
     "data": {
      "text/plain": [
       "(' ', 0, True)"
      ]
     },
     "execution_count": 32,
     "metadata": {},
     "output_type": "execute_result"
    }
   ],
   "source": [
    "s2.name, s2.score, s2.Active"
   ]
  },
  {
   "cell_type": "code",
   "execution_count": 33,
   "id": "d00b1560",
   "metadata": {},
   "outputs": [],
   "source": [
    "s2.name = \"Ak\""
   ]
  },
  {
   "cell_type": "code",
   "execution_count": 34,
   "id": "d278eb7a",
   "metadata": {},
   "outputs": [
    {
     "data": {
      "text/plain": [
       "('Ak', 0, True)"
      ]
     },
     "execution_count": 34,
     "metadata": {},
     "output_type": "execute_result"
    }
   ],
   "source": [
    "s2.name, s2.score, s2.Active"
   ]
  },
  {
   "cell_type": "code",
   "execution_count": 35,
   "id": "de54fc61",
   "metadata": {},
   "outputs": [],
   "source": [
    "s2.Active = False"
   ]
  },
  {
   "cell_type": "code",
   "execution_count": 36,
   "id": "c5a98de5",
   "metadata": {},
   "outputs": [
    {
     "data": {
      "text/plain": [
       "('Ak', 0, False)"
      ]
     },
     "execution_count": 36,
     "metadata": {},
     "output_type": "execute_result"
    }
   ],
   "source": [
    "s2.name, s2.score, s2.Active"
   ]
  },
  {
   "cell_type": "code",
   "execution_count": 37,
   "id": "49c9df2c",
   "metadata": {},
   "outputs": [],
   "source": [
    "class Student() :\n",
    "    def __init__(self):\n",
    "        print(\"Initialize called !\")"
   ]
  },
  {
   "cell_type": "code",
   "execution_count": 38,
   "id": "7b2e4b14",
   "metadata": {},
   "outputs": [
    {
     "name": "stdout",
     "output_type": "stream",
     "text": [
      "Initialize called !\n"
     ]
    }
   ],
   "source": [
    "s1 = Student()"
   ]
  },
  {
   "cell_type": "code",
   "execution_count": 39,
   "id": "aa008a35",
   "metadata": {},
   "outputs": [
    {
     "name": "stdout",
     "output_type": "stream",
     "text": [
      "Initialize called !\n",
      "Initialize called !\n"
     ]
    }
   ],
   "source": [
    "s2 = Student()\n",
    "\n",
    "s3 = Student()"
   ]
  },
  {
   "cell_type": "code",
   "execution_count": 44,
   "id": "61f4d4a0",
   "metadata": {},
   "outputs": [],
   "source": [
    "class Student():\n",
    "    \n",
    "    def __init__():\n",
    "        print(\"Initialize called !\")"
   ]
  },
  {
   "cell_type": "code",
   "execution_count": 45,
   "id": "966f959e",
   "metadata": {},
   "outputs": [
    {
     "ename": "TypeError",
     "evalue": "__init__() takes 0 positional arguments but 1 was given",
     "output_type": "error",
     "traceback": [
      "\u001b[1;31m---------------------------------------------------------------------------\u001b[0m",
      "\u001b[1;31mTypeError\u001b[0m                                 Traceback (most recent call last)",
      "Input \u001b[1;32mIn [45]\u001b[0m, in \u001b[0;36m<cell line: 1>\u001b[1;34m()\u001b[0m\n\u001b[1;32m----> 1\u001b[0m s1 \u001b[38;5;241m=\u001b[39m \u001b[43mStudent\u001b[49m\u001b[43m(\u001b[49m\u001b[43m)\u001b[49m\n",
      "\u001b[1;31mTypeError\u001b[0m: __init__() takes 0 positional arguments but 1 was given"
     ]
    }
   ],
   "source": [
    "s1 = Student()"
   ]
  },
  {
   "cell_type": "code",
   "execution_count": 46,
   "id": "724b3aba",
   "metadata": {},
   "outputs": [],
   "source": [
    "class Student():\n",
    "    \n",
    "    def __init__(g):\n",
    "        print(\"Iniialize called !\")"
   ]
  },
  {
   "cell_type": "code",
   "execution_count": 47,
   "id": "dfab803b",
   "metadata": {},
   "outputs": [
    {
     "name": "stdout",
     "output_type": "stream",
     "text": [
      "Iniialize called !\n"
     ]
    }
   ],
   "source": [
    "s1 = Student()"
   ]
  },
  {
   "cell_type": "code",
   "execution_count": 48,
   "id": "009d8cbe",
   "metadata": {},
   "outputs": [],
   "source": [
    "class Student():\n",
    "    def __init__(self, name):\n",
    "        self.name = name\n",
    "        self.email = name + \"@\" + \"gmail.com\""
   ]
  },
  {
   "cell_type": "code",
   "execution_count": 49,
   "id": "87d530d6",
   "metadata": {},
   "outputs": [
    {
     "ename": "TypeError",
     "evalue": "__init__() missing 1 required positional argument: 'name'",
     "output_type": "error",
     "traceback": [
      "\u001b[1;31m---------------------------------------------------------------------------\u001b[0m",
      "\u001b[1;31mTypeError\u001b[0m                                 Traceback (most recent call last)",
      "Input \u001b[1;32mIn [49]\u001b[0m, in \u001b[0;36m<cell line: 1>\u001b[1;34m()\u001b[0m\n\u001b[1;32m----> 1\u001b[0m s1 \u001b[38;5;241m=\u001b[39m \u001b[43mStudent\u001b[49m\u001b[43m(\u001b[49m\u001b[43m)\u001b[49m\n",
      "\u001b[1;31mTypeError\u001b[0m: __init__() missing 1 required positional argument: 'name'"
     ]
    }
   ],
   "source": [
    "s1 = Student()"
   ]
  },
  {
   "cell_type": "code",
   "execution_count": 51,
   "id": "ec9da41d",
   "metadata": {},
   "outputs": [],
   "source": [
    "s1 = Student(\"Akshay\")"
   ]
  },
  {
   "cell_type": "code",
   "execution_count": 52,
   "id": "be1ce43f",
   "metadata": {},
   "outputs": [
    {
     "data": {
      "text/plain": [
       "'Akshay'"
      ]
     },
     "execution_count": 52,
     "metadata": {},
     "output_type": "execute_result"
    }
   ],
   "source": [
    "s1.name"
   ]
  },
  {
   "cell_type": "code",
   "execution_count": 53,
   "id": "6efd6554",
   "metadata": {},
   "outputs": [
    {
     "data": {
      "text/plain": [
       "'Akshay@gmail.com'"
      ]
     },
     "execution_count": 53,
     "metadata": {},
     "output_type": "execute_result"
    }
   ],
   "source": [
    "s1.email"
   ]
  },
  {
   "cell_type": "code",
   "execution_count": 54,
   "id": "791845a6",
   "metadata": {},
   "outputs": [],
   "source": [
    "s2 = Student(\"Ak\")"
   ]
  },
  {
   "cell_type": "code",
   "execution_count": 55,
   "id": "52942485",
   "metadata": {},
   "outputs": [
    {
     "data": {
      "text/plain": [
       "('Ak', 'Ak@gmail.com')"
      ]
     },
     "execution_count": 55,
     "metadata": {},
     "output_type": "execute_result"
    }
   ],
   "source": [
    "s2.name, s2.email"
   ]
  },
  {
   "cell_type": "code",
   "execution_count": 62,
   "id": "55814ccc",
   "metadata": {},
   "outputs": [],
   "source": [
    "class Student():\n",
    "    def __init__(self,first,last):\n",
    "        self.first = first\n",
    "        self.last = last\n",
    "        self.mail = first + \".\" +last + \"@gmail.com\"\n",
    "        \n",
    "    def fullname(self):\n",
    "        return f'{self.first} {self.last}'"
   ]
  },
  {
   "cell_type": "code",
   "execution_count": 63,
   "id": "d9c0eacb",
   "metadata": {},
   "outputs": [],
   "source": [
    "s1 = Student(\"Akshay\" ,\"Kumar\")"
   ]
  },
  {
   "cell_type": "code",
   "execution_count": 64,
   "id": "641834f2",
   "metadata": {},
   "outputs": [
    {
     "name": "stdout",
     "output_type": "stream",
     "text": [
      "Akshay Kumar\n"
     ]
    }
   ],
   "source": [
    "print(s1.fullname())"
   ]
  },
  {
   "cell_type": "code",
   "execution_count": 67,
   "id": "9fa433a7",
   "metadata": {},
   "outputs": [],
   "source": [
    "s2 = Student(\"AK\",\"AJ\")"
   ]
  },
  {
   "cell_type": "code",
   "execution_count": 68,
   "id": "de3c2b05",
   "metadata": {},
   "outputs": [
    {
     "name": "stdout",
     "output_type": "stream",
     "text": [
      "AK AJ\n"
     ]
    }
   ],
   "source": [
    "print(s2.fullname())"
   ]
  },
  {
   "cell_type": "code",
   "execution_count": 70,
   "id": "0601114e",
   "metadata": {},
   "outputs": [
    {
     "data": {
      "text/plain": [
       "'Akshay Kumar'"
      ]
     },
     "execution_count": 70,
     "metadata": {},
     "output_type": "execute_result"
    }
   ],
   "source": [
    "Student.fullname(s1)"
   ]
  },
  {
   "cell_type": "code",
   "execution_count": 71,
   "id": "e44b3819",
   "metadata": {},
   "outputs": [
    {
     "data": {
      "text/plain": [
       "'AK AJ'"
      ]
     },
     "execution_count": 71,
     "metadata": {},
     "output_type": "execute_result"
    }
   ],
   "source": [
    "Student.fullname(s2)"
   ]
  },
  {
   "cell_type": "code",
   "execution_count": 72,
   "id": "34e4f2fa",
   "metadata": {},
   "outputs": [],
   "source": [
    "s3 = Student(\"aa\",'bb')"
   ]
  },
  {
   "cell_type": "code",
   "execution_count": 73,
   "id": "a1996eac",
   "metadata": {},
   "outputs": [
    {
     "data": {
      "text/plain": [
       "'aa bb'"
      ]
     },
     "execution_count": 73,
     "metadata": {},
     "output_type": "execute_result"
    }
   ],
   "source": [
    "Student.fullname(s3)"
   ]
  },
  {
   "cell_type": "code",
   "execution_count": 74,
   "id": "6fa98a11",
   "metadata": {},
   "outputs": [],
   "source": [
    "s4 = Student('A','K')"
   ]
  },
  {
   "cell_type": "code",
   "execution_count": 75,
   "id": "95a29375",
   "metadata": {},
   "outputs": [],
   "source": [
    "del s4.first"
   ]
  },
  {
   "cell_type": "code",
   "execution_count": 76,
   "id": "28407450",
   "metadata": {},
   "outputs": [
    {
     "ename": "AttributeError",
     "evalue": "'Student' object has no attribute 'first'",
     "output_type": "error",
     "traceback": [
      "\u001b[1;31m---------------------------------------------------------------------------\u001b[0m",
      "\u001b[1;31mAttributeError\u001b[0m                            Traceback (most recent call last)",
      "Input \u001b[1;32mIn [76]\u001b[0m, in \u001b[0;36m<cell line: 1>\u001b[1;34m()\u001b[0m\n\u001b[1;32m----> 1\u001b[0m \u001b[43ms4\u001b[49m\u001b[38;5;241;43m.\u001b[39;49m\u001b[43mfirst\u001b[49m\n",
      "\u001b[1;31mAttributeError\u001b[0m: 'Student' object has no attribute 'first'"
     ]
    }
   ],
   "source": [
    "s4.first"
   ]
  },
  {
   "cell_type": "code",
   "execution_count": 77,
   "id": "6ec5019c",
   "metadata": {},
   "outputs": [
    {
     "data": {
      "text/plain": [
       "'K'"
      ]
     },
     "execution_count": 77,
     "metadata": {},
     "output_type": "execute_result"
    }
   ],
   "source": [
    "s4.last"
   ]
  },
  {
   "cell_type": "code",
   "execution_count": 78,
   "id": "52751827",
   "metadata": {},
   "outputs": [
    {
     "ename": "AttributeError",
     "evalue": "'Student' object has no attribute 'first'",
     "output_type": "error",
     "traceback": [
      "\u001b[1;31m---------------------------------------------------------------------------\u001b[0m",
      "\u001b[1;31mAttributeError\u001b[0m                            Traceback (most recent call last)",
      "Input \u001b[1;32mIn [78]\u001b[0m, in \u001b[0;36m<cell line: 1>\u001b[1;34m()\u001b[0m\n\u001b[1;32m----> 1\u001b[0m \u001b[43ms4\u001b[49m\u001b[38;5;241;43m.\u001b[39;49m\u001b[43mfullname\u001b[49m\u001b[43m(\u001b[49m\u001b[43m)\u001b[49m\n",
      "Input \u001b[1;32mIn [62]\u001b[0m, in \u001b[0;36mStudent.fullname\u001b[1;34m(self)\u001b[0m\n\u001b[0;32m      7\u001b[0m \u001b[38;5;28;01mdef\u001b[39;00m \u001b[38;5;21mfullname\u001b[39m(\u001b[38;5;28mself\u001b[39m):\n\u001b[1;32m----> 8\u001b[0m     \u001b[38;5;28;01mreturn\u001b[39;00m \u001b[38;5;124mf\u001b[39m\u001b[38;5;124m'\u001b[39m\u001b[38;5;132;01m{\u001b[39;00m\u001b[38;5;28mself\u001b[39m\u001b[38;5;241m.\u001b[39mfirst\u001b[38;5;132;01m}\u001b[39;00m\u001b[38;5;124m \u001b[39m\u001b[38;5;132;01m{\u001b[39;00m\u001b[38;5;28mself\u001b[39m\u001b[38;5;241m.\u001b[39mlast\u001b[38;5;132;01m}\u001b[39;00m\u001b[38;5;124m'\u001b[39m\n",
      "\u001b[1;31mAttributeError\u001b[0m: 'Student' object has no attribute 'first'"
     ]
    }
   ],
   "source": [
    "s4.fullname()"
   ]
  },
  {
   "cell_type": "code",
   "execution_count": 79,
   "id": "2981a729",
   "metadata": {},
   "outputs": [
    {
     "data": {
      "text/plain": [
       "'aa bb'"
      ]
     },
     "execution_count": 79,
     "metadata": {},
     "output_type": "execute_result"
    }
   ],
   "source": [
    "s3.fullname()"
   ]
  },
  {
   "cell_type": "code",
   "execution_count": 93,
   "id": "b1bd1661",
   "metadata": {},
   "outputs": [],
   "source": [
    "class Student():\n",
    "    def __init__(self,first,last):\n",
    "        self.first = first\n",
    "        self.last = last\n",
    "        self.mail = first + \".\" + last + \"@gmail.com\"\n",
    "    def fullname(self):\n",
    "        return f'{self.first} {self.last}'\n",
    "    def uppercase(self):\n",
    "        self.first = self.first.upper()\n",
    "        self.last = self.last.upper()"
   ]
  },
  {
   "cell_type": "code",
   "execution_count": 94,
   "id": "958fd742",
   "metadata": {},
   "outputs": [],
   "source": [
    "s1 = Student(\"Akshay\",\"Kumar\")\n",
    "s2 = Student(\"Aj\",'Shetty')"
   ]
  },
  {
   "cell_type": "code",
   "execution_count": 84,
   "id": "b1afc682",
   "metadata": {},
   "outputs": [
    {
     "name": "stdout",
     "output_type": "stream",
     "text": [
      "Akshay Kumar\n",
      "Aj Shetty\n"
     ]
    }
   ],
   "source": [
    "print(s1.fullname())\n",
    "print(s2.fullname())"
   ]
  },
  {
   "cell_type": "code",
   "execution_count": 95,
   "id": "0cd60df1",
   "metadata": {},
   "outputs": [],
   "source": [
    "s1.uppercase()"
   ]
  },
  {
   "cell_type": "code",
   "execution_count": 96,
   "id": "70615e2d",
   "metadata": {},
   "outputs": [
    {
     "data": {
      "text/plain": [
       "'AKSHAY KUMAR'"
      ]
     },
     "execution_count": 96,
     "metadata": {},
     "output_type": "execute_result"
    }
   ],
   "source": [
    "s1.fullname()"
   ]
  },
  {
   "cell_type": "code",
   "execution_count": 97,
   "id": "9b6076ac",
   "metadata": {},
   "outputs": [
    {
     "data": {
      "text/plain": [
       "'Aj Shetty'"
      ]
     },
     "execution_count": 97,
     "metadata": {},
     "output_type": "execute_result"
    }
   ],
   "source": [
    "s2.fullname()"
   ]
  },
  {
   "cell_type": "markdown",
   "id": "9931262d",
   "metadata": {},
   "source": [
    "# Class variables"
   ]
  },
  {
   "cell_type": "code",
   "execution_count": 104,
   "id": "a9baa5b7",
   "metadata": {},
   "outputs": [],
   "source": [
    "class competetion():\n",
    "    raise_amount = 1.5\n",
    "    def __init__(self,name,prize):\n",
    "        self.name = name\n",
    "        self.prize = prize\n",
    "    def raise_prize(self):\n",
    "        self.prize = self.prize * raise_amount"
   ]
  },
  {
   "cell_type": "code",
   "execution_count": 105,
   "id": "8ebddce0",
   "metadata": {},
   "outputs": [],
   "source": [
    "debate = competetion(\"Debate\", 5000)"
   ]
  },
  {
   "cell_type": "code",
   "execution_count": 109,
   "id": "d54a7297",
   "metadata": {},
   "outputs": [
    {
     "data": {
      "text/plain": [
       "1.5"
      ]
     },
     "execution_count": 109,
     "metadata": {},
     "output_type": "execute_result"
    }
   ],
   "source": [
    "debate.raise_amount"
   ]
  },
  {
   "cell_type": "code",
   "execution_count": 110,
   "id": "1d584fe1",
   "metadata": {},
   "outputs": [
    {
     "data": {
      "text/plain": [
       "1.5"
      ]
     },
     "execution_count": 110,
     "metadata": {},
     "output_type": "execute_result"
    }
   ],
   "source": [
    "competetion.raise_amount"
   ]
  },
  {
   "cell_type": "code",
   "execution_count": 112,
   "id": "507cc13d",
   "metadata": {},
   "outputs": [
    {
     "ename": "NameError",
     "evalue": "name 'raise_amount' is not defined",
     "output_type": "error",
     "traceback": [
      "\u001b[1;31m---------------------------------------------------------------------------\u001b[0m",
      "\u001b[1;31mNameError\u001b[0m                                 Traceback (most recent call last)",
      "Input \u001b[1;32mIn [112]\u001b[0m, in \u001b[0;36m<cell line: 1>\u001b[1;34m()\u001b[0m\n\u001b[1;32m----> 1\u001b[0m \u001b[43mdebate\u001b[49m\u001b[38;5;241;43m.\u001b[39;49m\u001b[43mraise_prize\u001b[49m\u001b[43m(\u001b[49m\u001b[43m)\u001b[49m\n",
      "Input \u001b[1;32mIn [104]\u001b[0m, in \u001b[0;36mcompetetion.raise_prize\u001b[1;34m(self)\u001b[0m\n\u001b[0;32m      6\u001b[0m \u001b[38;5;28;01mdef\u001b[39;00m \u001b[38;5;21mraise_prize\u001b[39m(\u001b[38;5;28mself\u001b[39m):\n\u001b[1;32m----> 7\u001b[0m     \u001b[38;5;28mself\u001b[39m\u001b[38;5;241m.\u001b[39mprize \u001b[38;5;241m=\u001b[39m \u001b[38;5;28mself\u001b[39m\u001b[38;5;241m.\u001b[39mprize \u001b[38;5;241m*\u001b[39m \u001b[43mraise_amount\u001b[49m\n",
      "\u001b[1;31mNameError\u001b[0m: name 'raise_amount' is not defined"
     ]
    }
   ],
   "source": [
    "debate.raise_prize()"
   ]
  },
  {
   "cell_type": "code",
   "execution_count": 118,
   "id": "32f82a5c",
   "metadata": {},
   "outputs": [],
   "source": [
    "class Competetion():\n",
    "    raise_amount = 1.5\n",
    "    def __init__(self,name,prize):\n",
    "        self.name = name\n",
    "        self.prize = prize\n",
    "    def raise_prize(self):\n",
    "        self.prize = self.prize * Competetion.raise_amount"
   ]
  },
  {
   "cell_type": "code",
   "execution_count": 121,
   "id": "d4bd3499",
   "metadata": {},
   "outputs": [],
   "source": [
    "essay = Competetion(\"essay\",500)"
   ]
  },
  {
   "cell_type": "code",
   "execution_count": 122,
   "id": "bca44198",
   "metadata": {},
   "outputs": [
    {
     "data": {
      "text/plain": [
       "500"
      ]
     },
     "execution_count": 122,
     "metadata": {},
     "output_type": "execute_result"
    }
   ],
   "source": [
    "essay.prize"
   ]
  },
  {
   "cell_type": "code",
   "execution_count": 123,
   "id": "39b18607",
   "metadata": {},
   "outputs": [],
   "source": [
    "essay.raise_prize()"
   ]
  },
  {
   "cell_type": "code",
   "execution_count": 124,
   "id": "0b8fbbfb",
   "metadata": {},
   "outputs": [
    {
     "data": {
      "text/plain": [
       "750.0"
      ]
     },
     "execution_count": 124,
     "metadata": {},
     "output_type": "execute_result"
    }
   ],
   "source": [
    "essay.prize"
   ]
  },
  {
   "cell_type": "code",
   "execution_count": 125,
   "id": "b7fbd634",
   "metadata": {},
   "outputs": [],
   "source": [
    "class Competetion():\n",
    "    raise_amount = 1.5\n",
    "    def __init__(self,name,prize):\n",
    "        self.name = name\n",
    "        self.prize = prize\n",
    "    def raise_prize(self):\n",
    "        self.prize = self.prize * self.raise_amount"
   ]
  },
  {
   "cell_type": "code",
   "execution_count": 126,
   "id": "b9c97475",
   "metadata": {},
   "outputs": [],
   "source": [
    "simulation = Competetion(\"simulation\",100)"
   ]
  },
  {
   "cell_type": "code",
   "execution_count": 127,
   "id": "0bcfa21a",
   "metadata": {},
   "outputs": [
    {
     "data": {
      "text/plain": [
       "100"
      ]
     },
     "execution_count": 127,
     "metadata": {},
     "output_type": "execute_result"
    }
   ],
   "source": [
    "simulation.prize"
   ]
  },
  {
   "cell_type": "code",
   "execution_count": 128,
   "id": "934d68ce",
   "metadata": {},
   "outputs": [],
   "source": [
    "simulation.raise_prize()"
   ]
  },
  {
   "cell_type": "code",
   "execution_count": 129,
   "id": "ea16b763",
   "metadata": {},
   "outputs": [
    {
     "data": {
      "text/plain": [
       "150.0"
      ]
     },
     "execution_count": 129,
     "metadata": {},
     "output_type": "execute_result"
    }
   ],
   "source": [
    "simulation.prize"
   ]
  },
  {
   "cell_type": "code",
   "execution_count": 130,
   "id": "cc9df557",
   "metadata": {},
   "outputs": [
    {
     "data": {
      "text/plain": [
       "1.5"
      ]
     },
     "execution_count": 130,
     "metadata": {},
     "output_type": "execute_result"
    }
   ],
   "source": [
    "Competetion.raise_amount"
   ]
  },
  {
   "cell_type": "code",
   "execution_count": 131,
   "id": "6c1d32d0",
   "metadata": {},
   "outputs": [
    {
     "data": {
      "text/plain": [
       "1.5"
      ]
     },
     "execution_count": 131,
     "metadata": {},
     "output_type": "execute_result"
    }
   ],
   "source": [
    "simulation.raise_amount"
   ]
  },
  {
   "cell_type": "code",
   "execution_count": 132,
   "id": "24193ccf",
   "metadata": {},
   "outputs": [
    {
     "data": {
      "text/plain": [
       "{'name': 'simulation', 'prize': 150.0}"
      ]
     },
     "execution_count": 132,
     "metadata": {},
     "output_type": "execute_result"
    }
   ],
   "source": [
    "simulation.__dict__"
   ]
  },
  {
   "cell_type": "code",
   "execution_count": 133,
   "id": "d7cc4dda",
   "metadata": {},
   "outputs": [
    {
     "data": {
      "text/plain": [
       "mappingproxy({'__module__': '__main__',\n",
       "              'raise_amount': 1.5,\n",
       "              '__init__': <function __main__.Competetion.__init__(self, name, prize)>,\n",
       "              'raise_prize': <function __main__.Competetion.raise_prize(self)>,\n",
       "              '__dict__': <attribute '__dict__' of 'Competetion' objects>,\n",
       "              '__weakref__': <attribute '__weakref__' of 'Competetion' objects>,\n",
       "              '__doc__': None})"
      ]
     },
     "execution_count": 133,
     "metadata": {},
     "output_type": "execute_result"
    }
   ],
   "source": [
    "Competetion.__dict__"
   ]
  },
  {
   "cell_type": "code",
   "execution_count": 134,
   "id": "d72c4534",
   "metadata": {},
   "outputs": [],
   "source": [
    "racing = Competetion(\"Racing\", 200)"
   ]
  },
  {
   "cell_type": "code",
   "execution_count": 135,
   "id": "496e0157",
   "metadata": {},
   "outputs": [],
   "source": [
    "Competetion.raise_amount = 1.05"
   ]
  },
  {
   "cell_type": "code",
   "execution_count": 136,
   "id": "b2196ffb",
   "metadata": {},
   "outputs": [
    {
     "data": {
      "text/plain": [
       "1.05"
      ]
     },
     "execution_count": 136,
     "metadata": {},
     "output_type": "execute_result"
    }
   ],
   "source": [
    "Competetion.raise_amount"
   ]
  },
  {
   "cell_type": "code",
   "execution_count": 137,
   "id": "10b9f3b7",
   "metadata": {},
   "outputs": [
    {
     "data": {
      "text/plain": [
       "1.05"
      ]
     },
     "execution_count": 137,
     "metadata": {},
     "output_type": "execute_result"
    }
   ],
   "source": [
    "simulation.raise_amount"
   ]
  },
  {
   "cell_type": "code",
   "execution_count": 138,
   "id": "54dbf807",
   "metadata": {},
   "outputs": [
    {
     "data": {
      "text/plain": [
       "1.05"
      ]
     },
     "execution_count": 138,
     "metadata": {},
     "output_type": "execute_result"
    }
   ],
   "source": [
    "racing.raise_amount"
   ]
  },
  {
   "cell_type": "code",
   "execution_count": 139,
   "id": "547666f7",
   "metadata": {},
   "outputs": [],
   "source": [
    "racing.raise_prize()"
   ]
  },
  {
   "cell_type": "code",
   "execution_count": 140,
   "id": "ac823252",
   "metadata": {},
   "outputs": [
    {
     "data": {
      "text/plain": [
       "210.0"
      ]
     },
     "execution_count": 140,
     "metadata": {},
     "output_type": "execute_result"
    }
   ],
   "source": [
    "racing.prize"
   ]
  },
  {
   "cell_type": "code",
   "execution_count": 141,
   "id": "dec7e007",
   "metadata": {},
   "outputs": [
    {
     "data": {
      "text/plain": [
       "(1.05, 2, 1.05)"
      ]
     },
     "execution_count": 141,
     "metadata": {},
     "output_type": "execute_result"
    }
   ],
   "source": [
    "simulation.raise_amount = 2\n",
    "\n",
    "Competetion.raise_amount, simulation.raise_amount, racing.raise_amount"
   ]
  },
  {
   "cell_type": "code",
   "execution_count": 143,
   "id": "d62b72db",
   "metadata": {},
   "outputs": [
    {
     "data": {
      "text/plain": [
       "(1.05, 2, 6)"
      ]
     },
     "execution_count": 143,
     "metadata": {},
     "output_type": "execute_result"
    }
   ],
   "source": [
    "racing.raise_amount = 6\n",
    "\n",
    "Competetion.raise_amount, simulation.raise_amount, racing.raise_amount"
   ]
  },
  {
   "cell_type": "code",
   "execution_count": 144,
   "id": "cfbc56a7",
   "metadata": {},
   "outputs": [
    {
     "data": {
      "text/plain": [
       "mappingproxy({'__module__': '__main__',\n",
       "              'raise_amount': 1.05,\n",
       "              '__init__': <function __main__.Competetion.__init__(self, name, prize)>,\n",
       "              'raise_prize': <function __main__.Competetion.raise_prize(self)>,\n",
       "              '__dict__': <attribute '__dict__' of 'Competetion' objects>,\n",
       "              '__weakref__': <attribute '__weakref__' of 'Competetion' objects>,\n",
       "              '__doc__': None})"
      ]
     },
     "execution_count": 144,
     "metadata": {},
     "output_type": "execute_result"
    }
   ],
   "source": [
    "Competetion.__dict__"
   ]
  },
  {
   "cell_type": "code",
   "execution_count": 145,
   "id": "dfc6d9d4",
   "metadata": {},
   "outputs": [
    {
     "data": {
      "text/plain": [
       "{'name': 'simulation', 'prize': 150.0, 'raise_amount': 2}"
      ]
     },
     "execution_count": 145,
     "metadata": {},
     "output_type": "execute_result"
    }
   ],
   "source": [
    "simulation.__dict__"
   ]
  },
  {
   "cell_type": "code",
   "execution_count": 146,
   "id": "19c9380a",
   "metadata": {},
   "outputs": [
    {
     "data": {
      "text/plain": [
       "{'name': 'Racing', 'prize': 210.0, 'raise_amount': 6}"
      ]
     },
     "execution_count": 146,
     "metadata": {},
     "output_type": "execute_result"
    }
   ],
   "source": [
    "racing.__dict__"
   ]
  },
  {
   "cell_type": "markdown",
   "id": "a03c0f63",
   "metadata": {},
   "source": [
    "# Class variables share memory"
   ]
  },
  {
   "cell_type": "code",
   "execution_count": 147,
   "id": "3494d19a",
   "metadata": {},
   "outputs": [],
   "source": [
    "class Competetion():\n",
    "    participants = []\n",
    "    def __init__(self,name,prize):\n",
    "        self.name = name\n",
    "        self.prize = prize"
   ]
  },
  {
   "cell_type": "code",
   "execution_count": 148,
   "id": "ed6d0a0b",
   "metadata": {},
   "outputs": [],
   "source": [
    "debate = Competetion(\"Debate\", 100)"
   ]
  },
  {
   "cell_type": "code",
   "execution_count": 149,
   "id": "37a87463",
   "metadata": {},
   "outputs": [
    {
     "data": {
      "text/plain": [
       "[]"
      ]
     },
     "execution_count": 149,
     "metadata": {},
     "output_type": "execute_result"
    }
   ],
   "source": [
    "debate.participants"
   ]
  },
  {
   "cell_type": "code",
   "execution_count": 151,
   "id": "3c18fa59",
   "metadata": {},
   "outputs": [],
   "source": [
    "Competetion.participants.append(\"akshay\")"
   ]
  },
  {
   "cell_type": "code",
   "execution_count": 152,
   "id": "ea0e5b5c",
   "metadata": {},
   "outputs": [
    {
     "data": {
      "text/plain": [
       "['akshay']"
      ]
     },
     "execution_count": 152,
     "metadata": {},
     "output_type": "execute_result"
    }
   ],
   "source": [
    "Competetion.participants"
   ]
  },
  {
   "cell_type": "code",
   "execution_count": 155,
   "id": "87221463",
   "metadata": {},
   "outputs": [
    {
     "data": {
      "text/plain": [
       "['akshay', 'AK']"
      ]
     },
     "execution_count": 155,
     "metadata": {},
     "output_type": "execute_result"
    }
   ],
   "source": [
    "debate.participants.append(\"AK\")\n",
    "debate.participants"
   ]
  },
  {
   "cell_type": "code",
   "execution_count": 156,
   "id": "385414b7",
   "metadata": {},
   "outputs": [
    {
     "data": {
      "text/plain": [
       "['akshay', 'AK']"
      ]
     },
     "execution_count": 156,
     "metadata": {},
     "output_type": "execute_result"
    }
   ],
   "source": [
    "Competetion.participants"
   ]
  },
  {
   "cell_type": "code",
   "execution_count": 157,
   "id": "c3525dfe",
   "metadata": {},
   "outputs": [],
   "source": [
    "swimming = Competetion(\"Swimming\",500)"
   ]
  },
  {
   "cell_type": "code",
   "execution_count": 158,
   "id": "1879bf97",
   "metadata": {},
   "outputs": [
    {
     "data": {
      "text/plain": [
       "['akshay', 'AK']"
      ]
     },
     "execution_count": 158,
     "metadata": {},
     "output_type": "execute_result"
    }
   ],
   "source": [
    "swimming.participants"
   ]
  },
  {
   "cell_type": "code",
   "execution_count": 159,
   "id": "2531bcbb",
   "metadata": {},
   "outputs": [],
   "source": [
    "debate.participants.append(\"AJ\")"
   ]
  },
  {
   "cell_type": "code",
   "execution_count": 160,
   "id": "81e76095",
   "metadata": {},
   "outputs": [
    {
     "data": {
      "text/plain": [
       "['akshay', 'AK', 'AJ']"
      ]
     },
     "execution_count": 160,
     "metadata": {},
     "output_type": "execute_result"
    }
   ],
   "source": [
    "debate.participants"
   ]
  },
  {
   "cell_type": "code",
   "execution_count": 161,
   "id": "70338379",
   "metadata": {},
   "outputs": [
    {
     "data": {
      "text/plain": [
       "['akshay', 'AK', 'AJ']"
      ]
     },
     "execution_count": 161,
     "metadata": {},
     "output_type": "execute_result"
    }
   ],
   "source": [
    "swimming.participants"
   ]
  },
  {
   "cell_type": "code",
   "execution_count": 163,
   "id": "3c82519b",
   "metadata": {},
   "outputs": [
    {
     "data": {
      "text/plain": [
       "['akshay', 'AK', 'AJ']"
      ]
     },
     "execution_count": 163,
     "metadata": {},
     "output_type": "execute_result"
    }
   ],
   "source": [
    "Competetion.participants"
   ]
  },
  {
   "cell_type": "code",
   "execution_count": 164,
   "id": "e0f3e6a8",
   "metadata": {},
   "outputs": [
    {
     "data": {
      "text/plain": [
       "mappingproxy({'__module__': '__main__',\n",
       "              'participants': ['akshay', 'AK', 'AJ'],\n",
       "              '__init__': <function __main__.Competetion.__init__(self, name, prize)>,\n",
       "              '__dict__': <attribute '__dict__' of 'Competetion' objects>,\n",
       "              '__weakref__': <attribute '__weakref__' of 'Competetion' objects>,\n",
       "              '__doc__': None})"
      ]
     },
     "execution_count": 164,
     "metadata": {},
     "output_type": "execute_result"
    }
   ],
   "source": [
    "Competetion.__dict__"
   ]
  },
  {
   "cell_type": "code",
   "execution_count": 165,
   "id": "81d7a66c",
   "metadata": {},
   "outputs": [
    {
     "data": {
      "text/plain": [
       "{'name': 'Debate', 'prize': 100}"
      ]
     },
     "execution_count": 165,
     "metadata": {},
     "output_type": "execute_result"
    }
   ],
   "source": [
    "debate.__dict__"
   ]
  },
  {
   "cell_type": "code",
   "execution_count": 166,
   "id": "13a88d5d",
   "metadata": {},
   "outputs": [
    {
     "data": {
      "text/plain": [
       "{'name': 'Swimming', 'prize': 500}"
      ]
     },
     "execution_count": 166,
     "metadata": {},
     "output_type": "execute_result"
    }
   ],
   "source": [
    "swimming.__dict__"
   ]
  },
  {
   "cell_type": "markdown",
   "id": "857515eb",
   "metadata": {},
   "source": [
    "# Instance variables"
   ]
  },
  {
   "cell_type": "code",
   "execution_count": 167,
   "id": "dc3404b4",
   "metadata": {},
   "outputs": [],
   "source": [
    "class Competetion():\n",
    "    def __init__(self,name,prize):\n",
    "        self.name = name\n",
    "        self.prize = prize\n",
    "        self.participants = []"
   ]
  },
  {
   "cell_type": "code",
   "execution_count": 168,
   "id": "7a83bbc1",
   "metadata": {},
   "outputs": [
    {
     "data": {
      "text/plain": [
       "[]"
      ]
     },
     "execution_count": 168,
     "metadata": {},
     "output_type": "execute_result"
    }
   ],
   "source": [
    "debate = Competetion(\"Debate\",100)\n",
    "\n",
    "debate.participants"
   ]
  },
  {
   "cell_type": "code",
   "execution_count": 169,
   "id": "c36284a2",
   "metadata": {},
   "outputs": [],
   "source": [
    "debate.participants.append(\"Akshay\")"
   ]
  },
  {
   "cell_type": "code",
   "execution_count": 170,
   "id": "1ea4b7e8",
   "metadata": {},
   "outputs": [
    {
     "data": {
      "text/plain": [
       "['Akshay']"
      ]
     },
     "execution_count": 170,
     "metadata": {},
     "output_type": "execute_result"
    }
   ],
   "source": [
    "debate.participants"
   ]
  },
  {
   "cell_type": "code",
   "execution_count": 171,
   "id": "5520b77c",
   "metadata": {},
   "outputs": [
    {
     "data": {
      "text/plain": [
       "[]"
      ]
     },
     "execution_count": 171,
     "metadata": {},
     "output_type": "execute_result"
    }
   ],
   "source": [
    "essay = Competetion(\"Essay\",150)\n",
    "\n",
    "essay.participants"
   ]
  },
  {
   "cell_type": "code",
   "execution_count": 172,
   "id": "48821471",
   "metadata": {},
   "outputs": [
    {
     "data": {
      "text/plain": [
       "['Ak']"
      ]
     },
     "execution_count": 172,
     "metadata": {},
     "output_type": "execute_result"
    }
   ],
   "source": [
    "essay.participants.append(\"Ak\")\n",
    "\n",
    "essay.participants"
   ]
  },
  {
   "cell_type": "code",
   "execution_count": 173,
   "id": "76c736df",
   "metadata": {},
   "outputs": [
    {
     "ename": "AttributeError",
     "evalue": "type object 'Competetion' has no attribute 'participants'",
     "output_type": "error",
     "traceback": [
      "\u001b[1;31m---------------------------------------------------------------------------\u001b[0m",
      "\u001b[1;31mAttributeError\u001b[0m                            Traceback (most recent call last)",
      "Input \u001b[1;32mIn [173]\u001b[0m, in \u001b[0;36m<cell line: 1>\u001b[1;34m()\u001b[0m\n\u001b[1;32m----> 1\u001b[0m \u001b[43mCompetetion\u001b[49m\u001b[38;5;241;43m.\u001b[39;49m\u001b[43mparticipants\u001b[49m\n",
      "\u001b[1;31mAttributeError\u001b[0m: type object 'Competetion' has no attribute 'participants'"
     ]
    }
   ],
   "source": [
    "Competetion.participants"
   ]
  },
  {
   "cell_type": "code",
   "execution_count": 174,
   "id": "16c62387",
   "metadata": {},
   "outputs": [
    {
     "data": {
      "text/plain": [
       "['Akshay', 'AJ']"
      ]
     },
     "execution_count": 174,
     "metadata": {},
     "output_type": "execute_result"
    }
   ],
   "source": [
    "debate.participants.append('AJ')\n",
    "\n",
    "debate.participants"
   ]
  },
  {
   "cell_type": "code",
   "execution_count": 175,
   "id": "bd8c86e6",
   "metadata": {},
   "outputs": [
    {
     "data": {
      "text/plain": [
       "{'name': 'Debate', 'prize': 100, 'participants': ['Akshay', 'AJ']}"
      ]
     },
     "execution_count": 175,
     "metadata": {},
     "output_type": "execute_result"
    }
   ],
   "source": [
    "debate.__dict__"
   ]
  },
  {
   "cell_type": "code",
   "execution_count": 176,
   "id": "974de5a6",
   "metadata": {},
   "outputs": [
    {
     "data": {
      "text/plain": [
       "{'name': 'Essay', 'prize': 150, 'participants': ['Ak']}"
      ]
     },
     "execution_count": 176,
     "metadata": {},
     "output_type": "execute_result"
    }
   ],
   "source": [
    "essay.__dict__"
   ]
  },
  {
   "cell_type": "code",
   "execution_count": 177,
   "id": "0d460902",
   "metadata": {},
   "outputs": [
    {
     "data": {
      "text/plain": [
       "mappingproxy({'__module__': '__main__',\n",
       "              '__init__': <function __main__.Competetion.__init__(self, name, prize)>,\n",
       "              '__dict__': <attribute '__dict__' of 'Competetion' objects>,\n",
       "              '__weakref__': <attribute '__weakref__' of 'Competetion' objects>,\n",
       "              '__doc__': None})"
      ]
     },
     "execution_count": 177,
     "metadata": {},
     "output_type": "execute_result"
    }
   ],
   "source": [
    "Competetion.__dict__"
   ]
  },
  {
   "cell_type": "markdown",
   "id": "c712a39c",
   "metadata": {},
   "source": [
    "# Private variables"
   ]
  },
  {
   "cell_type": "code",
   "execution_count": 178,
   "id": "b8dd958a",
   "metadata": {},
   "outputs": [],
   "source": [
    "class Dog():\n",
    "    def __init__(self,name,breed):\n",
    "        self.name = name\n",
    "        self.breed = breed\n",
    "    def print_details(self):\n",
    "        print(f'My name is {self.name} and I am a {self.breed}')"
   ]
  },
  {
   "cell_type": "code",
   "execution_count": 179,
   "id": "36fba39a",
   "metadata": {},
   "outputs": [],
   "source": [
    "d1 = Dog(\"Oba\", \"labrador\")"
   ]
  },
  {
   "cell_type": "code",
   "execution_count": 181,
   "id": "d7993075",
   "metadata": {},
   "outputs": [
    {
     "name": "stdout",
     "output_type": "stream",
     "text": [
      "My name is Oba and I am a labrador\n"
     ]
    }
   ],
   "source": [
    "d1.print_details()"
   ]
  },
  {
   "cell_type": "code",
   "execution_count": 182,
   "id": "d5e843ef",
   "metadata": {},
   "outputs": [
    {
     "name": "stdout",
     "output_type": "stream",
     "text": [
      "My name is Tommy and I am a labrador\n"
     ]
    }
   ],
   "source": [
    "d1.name = \"Tommy\"\n",
    "\n",
    "d1.print_details()"
   ]
  },
  {
   "cell_type": "code",
   "execution_count": 183,
   "id": "aa47e5a5",
   "metadata": {},
   "outputs": [
    {
     "name": "stdout",
     "output_type": "stream",
     "text": [
      "My name is Tommy and I am a Golden Retriever\n"
     ]
    }
   ],
   "source": [
    "d1.breed = \"Golden Retriever\"\n",
    "\n",
    "d1.print_details()"
   ]
  },
  {
   "cell_type": "code",
   "execution_count": 185,
   "id": "f33b8494",
   "metadata": {},
   "outputs": [
    {
     "data": {
      "text/plain": [
       "mappingproxy({'__module__': '__main__',\n",
       "              '__init__': <function __main__.Dog.__init__(self, name, breed)>,\n",
       "              'print_details': <function __main__.Dog.print_details(self)>,\n",
       "              '__dict__': <attribute '__dict__' of 'Dog' objects>,\n",
       "              '__weakref__': <attribute '__weakref__' of 'Dog' objects>,\n",
       "              '__doc__': None})"
      ]
     },
     "execution_count": 185,
     "metadata": {},
     "output_type": "execute_result"
    }
   ],
   "source": [
    "Dog.__dict__"
   ]
  },
  {
   "cell_type": "code",
   "execution_count": 186,
   "id": "4323affb",
   "metadata": {},
   "outputs": [
    {
     "data": {
      "text/plain": [
       "{'name': 'Tommy', 'breed': 'Golden Retriever'}"
      ]
     },
     "execution_count": 186,
     "metadata": {},
     "output_type": "execute_result"
    }
   ],
   "source": [
    "d1.__dict__"
   ]
  },
  {
   "cell_type": "code",
   "execution_count": 194,
   "id": "93d91a37",
   "metadata": {},
   "outputs": [],
   "source": [
    "class Dog():\n",
    "    def __init__(self,name,breed):\n",
    "        self.__name = name\n",
    "        self.__breed = breed\n",
    "    def print_details(self):\n",
    "        print(f'My name is {self.__name} and I am a {self.__breed}')"
   ]
  },
  {
   "cell_type": "code",
   "execution_count": 199,
   "id": "4a4fb87c",
   "metadata": {},
   "outputs": [
    {
     "name": "stdout",
     "output_type": "stream",
     "text": [
      "My name is Neo and I am a Golden Retriver\n"
     ]
    }
   ],
   "source": [
    "d2 = Dog(\"Neo\", \"Golden Retriver\")\n",
    "\n",
    "d2.print_details()"
   ]
  },
  {
   "cell_type": "code",
   "execution_count": 200,
   "id": "f8489af6",
   "metadata": {},
   "outputs": [
    {
     "data": {
      "text/plain": [
       "{'_Dog__name': 'Neo', '_Dog__breed': 'Golden Retriver'}"
      ]
     },
     "execution_count": 200,
     "metadata": {},
     "output_type": "execute_result"
    }
   ],
   "source": [
    "d2.__dict__"
   ]
  },
  {
   "cell_type": "code",
   "execution_count": 201,
   "id": "22e4889b",
   "metadata": {},
   "outputs": [
    {
     "name": "stdout",
     "output_type": "stream",
     "text": [
      "My name is Neo and I am a Golden Retriver\n"
     ]
    }
   ],
   "source": [
    "d2.__name = \"Tommy\"\n",
    "\n",
    "d2.print_details()"
   ]
  },
  {
   "cell_type": "code",
   "execution_count": 202,
   "id": "72ae8ce3",
   "metadata": {},
   "outputs": [
    {
     "data": {
      "text/plain": [
       "{'_Dog__name': 'Neo', '_Dog__breed': 'Golden Retriver', '__name': 'Tommy'}"
      ]
     },
     "execution_count": 202,
     "metadata": {},
     "output_type": "execute_result"
    }
   ],
   "source": [
    "d2.__dict__"
   ]
  },
  {
   "cell_type": "code",
   "execution_count": 204,
   "id": "a09cad83",
   "metadata": {},
   "outputs": [
    {
     "name": "stdout",
     "output_type": "stream",
     "text": [
      "My name is Neo and I am a Husky\n"
     ]
    }
   ],
   "source": [
    "d2._Dog__breed = \"Husky\"\n",
    "\n",
    "d2.print_details()"
   ]
  },
  {
   "cell_type": "code",
   "execution_count": 205,
   "id": "9ef4f22c",
   "metadata": {},
   "outputs": [
    {
     "data": {
      "text/plain": [
       "{'_Dog__name': 'Neo',\n",
       " '_Dog__breed': 'Husky',\n",
       " '__name': 'Tommy',\n",
       " '_Dod__breed': 'Husky'}"
      ]
     },
     "execution_count": 205,
     "metadata": {},
     "output_type": "execute_result"
    }
   ],
   "source": [
    "d2.__dict__"
   ]
  },
  {
   "cell_type": "code",
   "execution_count": 206,
   "id": "fe0b8da8",
   "metadata": {},
   "outputs": [],
   "source": [
    "class Dog():\n",
    "    def __init__(self,name,breed):\n",
    "        self.__name = name\n",
    "        self.__breed = breed\n",
    "    def print_details(self):\n",
    "        print(f'My name is {self.__name} and I am a {self.__breed}')\n",
    "    def change_name(self,name):\n",
    "        self.__name = name"
   ]
  },
  {
   "cell_type": "code",
   "execution_count": 207,
   "id": "1c44921a",
   "metadata": {},
   "outputs": [
    {
     "name": "stdout",
     "output_type": "stream",
     "text": [
      "My name is Oba and I am a Husky\n"
     ]
    }
   ],
   "source": [
    "d1 = Dog(\"Oba\",\"Husky\")\n",
    "\n",
    "d1.print_details()"
   ]
  },
  {
   "cell_type": "code",
   "execution_count": 208,
   "id": "0306959a",
   "metadata": {},
   "outputs": [
    {
     "name": "stdout",
     "output_type": "stream",
     "text": [
      "My name is Neo and I am a Husky\n"
     ]
    }
   ],
   "source": [
    "d1.change_name('Neo')\n",
    "\n",
    "d1.print_details()"
   ]
  },
  {
   "cell_type": "code",
   "execution_count": 211,
   "id": "9992bcba",
   "metadata": {},
   "outputs": [],
   "source": [
    "class Dog():\n",
    "    \n",
    "    __species = \"Canine\"\n",
    "    \n",
    "    def __init__(self,name,breed):\n",
    "        self.__name = name\n",
    "        self.__breed = breed\n",
    "        self.__tricks= []\n",
    "    \n",
    "    def get_name (self):\n",
    "        return self.__name\n",
    "    \n",
    "    def set_name(self,name):\n",
    "        self.__name = name\n",
    "        \n",
    "    def get_breed(self):\n",
    "        return self.__breed\n",
    "    \n",
    "    def set_breed(self,breed):\n",
    "        self.__breed = breed\n",
    "        \n",
    "    def add_trick(self,trick):\n",
    "        self.__tricks.append(trick)\n",
    "        \n",
    "    def print_details(self):\n",
    "        print(f'My anme is {self.__name}, I am a {self.__breed} and I can do tricks {self.__tricks}')\n",
    "        "
   ]
  },
  {
   "cell_type": "code",
   "execution_count": 212,
   "id": "996ff796",
   "metadata": {},
   "outputs": [
    {
     "name": "stdout",
     "output_type": "stream",
     "text": [
      "My anme is Neo, I am a Husky and I can do tricks []\n"
     ]
    }
   ],
   "source": [
    "d1 = Dog(\"Neo\",\"Husky\")\n",
    "\n",
    "d1.print_details()"
   ]
  },
  {
   "cell_type": "code",
   "execution_count": 213,
   "id": "219bd558",
   "metadata": {},
   "outputs": [
    {
     "name": "stdout",
     "output_type": "stream",
     "text": [
      "My anme is Neo, I am a Husky and I can do tricks ['Roll Over']\n"
     ]
    }
   ],
   "source": [
    "d1.add_trick(\"Roll Over\")\n",
    "\n",
    "d1.print_details()"
   ]
  },
  {
   "cell_type": "code",
   "execution_count": 214,
   "id": "a6a4d417",
   "metadata": {},
   "outputs": [
    {
     "name": "stdout",
     "output_type": "stream",
     "text": [
      "My anme is Neo, I am a labrador and I can do tricks ['Roll Over']\n"
     ]
    }
   ],
   "source": [
    "d1.set_breed('labrador')\n",
    "\n",
    "d1.print_details()"
   ]
  },
  {
   "cell_type": "code",
   "execution_count": 242,
   "id": "dc288f0a",
   "metadata": {},
   "outputs": [],
   "source": [
    "class Dog():\n",
    "    ''' This is a class which defines a dog,\n",
    "   this include cute and forecius dogs '''\n",
    "    \n",
    "    def __init__(self,name,breed):\n",
    "        self.__name = name\n",
    "        self.__breed = breed\n",
    "        self.__tricks= []\n",
    "        \n",
    "    def print_details(self):\n",
    "        print(f'My anme is {self.__name} and I am a {self.__breed}')\n",
    "        print(\"here I can do some tricks\", self.__tricks)\n",
    "        \n",
    "    def change_name(self,name):\n",
    "        self.__name = name\n",
    "    \n",
    "    def change_breed(self,breed):\n",
    "        self.__breed = breed\n",
    "        \n",
    "    def change_nameandbreed(self,name,breed):\n",
    "        self.change_name(name)\n",
    "        self.change_breed(breed)\n",
    "        \n",
    "    def add_trick(self,trick):\n",
    "        self.__tricks.append(trick)\n",
    "        "
   ]
  },
  {
   "cell_type": "code",
   "execution_count": 244,
   "id": "f85723ad",
   "metadata": {},
   "outputs": [
    {
     "name": "stdout",
     "output_type": "stream",
     "text": [
      "My anme is Pummy and I am a Husky\n",
      "here I can do some tricks []\n"
     ]
    }
   ],
   "source": [
    "d1 = Dog(\"Pummy\",\"Husky\")\n",
    "\n",
    "d1.print_details()"
   ]
  },
  {
   "cell_type": "code",
   "execution_count": 245,
   "id": "4da963d0",
   "metadata": {},
   "outputs": [
    {
     "name": "stdout",
     "output_type": "stream",
     "text": [
      "My anme is Toomy and I am a Golden Retriever\n",
      "here I can do some tricks []\n"
     ]
    }
   ],
   "source": [
    "d1.change_nameandbreed(\"Toomy\",\"Golden Retriever\")\n",
    "\n",
    "d1.print_details()"
   ]
  },
  {
   "cell_type": "code",
   "execution_count": 246,
   "id": "61ae5411",
   "metadata": {},
   "outputs": [
    {
     "name": "stdout",
     "output_type": "stream",
     "text": [
      "My anme is Toomy and I am a Golden Retriever\n",
      "here I can do some tricks ['roll']\n"
     ]
    }
   ],
   "source": [
    "d1.add_trick(\"roll\")\n",
    "\n",
    "d1.print_details()"
   ]
  },
  {
   "cell_type": "code",
   "execution_count": null,
   "id": "e3372683",
   "metadata": {},
   "outputs": [],
   "source": []
  }
 ],
 "metadata": {
  "kernelspec": {
   "display_name": "Python 3 (ipykernel)",
   "language": "python",
   "name": "python3"
  },
  "language_info": {
   "codemirror_mode": {
    "name": "ipython",
    "version": 3
   },
   "file_extension": ".py",
   "mimetype": "text/x-python",
   "name": "python",
   "nbconvert_exporter": "python",
   "pygments_lexer": "ipython3",
   "version": "3.11.3"
  }
 },
 "nbformat": 4,
 "nbformat_minor": 5
}
