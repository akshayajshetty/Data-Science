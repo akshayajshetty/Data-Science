{
 "cells": [
  {
   "cell_type": "markdown",
   "id": "2ea50e82",
   "metadata": {},
   "source": [
    "# calss method and Static method"
   ]
  },
  {
   "cell_type": "code",
   "execution_count": 2,
   "id": "87ccbac2",
   "metadata": {},
   "outputs": [],
   "source": [
    "class Competetion():\n",
    "    __raise_amount = 1.5\n",
    "    def __init__(self,name,prize):\n",
    "        self.__name = name\n",
    "        self.__prize = prize\n",
    "        \n",
    "    def raise_ptrize(self):\n",
    "        self.__prize = self.__prize * Competetion.__raise_amount\n",
    "        \n",
    "    def print_details(self):\n",
    "        return f'Competetion name is {self.__name} and prize is {self.__prize}'\n",
    "    \n",
    "    @classmethod\n",
    "    def get_raise_amount(cls):\n",
    "        return cls.__raise_amount\n",
    "    \n",
    "    @classmethod\n",
    "    def set_raise_amount(cls,amount):\n",
    "        cls.__raise_amount = amount\n",
    "        "
   ]
  },
  {
   "cell_type": "code",
   "execution_count": 5,
   "id": "21481592",
   "metadata": {},
   "outputs": [],
   "source": [
    "swimming = Competetion(\"Swimm\",1000)"
   ]
  },
  {
   "cell_type": "code",
   "execution_count": 7,
   "id": "548e8dba",
   "metadata": {},
   "outputs": [
    {
     "data": {
      "text/plain": [
       "'Competetion name is Swimm and prize is 1000'"
      ]
     },
     "execution_count": 7,
     "metadata": {},
     "output_type": "execute_result"
    }
   ],
   "source": [
    "swimming.print_details()"
   ]
  },
  {
   "cell_type": "code",
   "execution_count": 8,
   "id": "1ee9943b",
   "metadata": {},
   "outputs": [
    {
     "data": {
      "text/plain": [
       "1.5"
      ]
     },
     "execution_count": 8,
     "metadata": {},
     "output_type": "execute_result"
    }
   ],
   "source": [
    "Competetion.get_raise_amount()"
   ]
  },
  {
   "cell_type": "code",
   "execution_count": 9,
   "id": "8d094550",
   "metadata": {},
   "outputs": [
    {
     "data": {
      "text/plain": [
       "1.5"
      ]
     },
     "execution_count": 9,
     "metadata": {},
     "output_type": "execute_result"
    }
   ],
   "source": [
    "swimming.get_raise_amount()"
   ]
  },
  {
   "cell_type": "code",
   "execution_count": 10,
   "id": "38f65c59",
   "metadata": {},
   "outputs": [],
   "source": [
    "swimming.set_raise_amount(1.6)"
   ]
  },
  {
   "cell_type": "code",
   "execution_count": 11,
   "id": "cbda8879",
   "metadata": {},
   "outputs": [
    {
     "data": {
      "text/plain": [
       "1.6"
      ]
     },
     "execution_count": 11,
     "metadata": {},
     "output_type": "execute_result"
    }
   ],
   "source": [
    "swimming.get_raise_amount()"
   ]
  },
  {
   "cell_type": "code",
   "execution_count": 12,
   "id": "3af1b5af",
   "metadata": {},
   "outputs": [
    {
     "data": {
      "text/plain": [
       "1.6"
      ]
     },
     "execution_count": 12,
     "metadata": {},
     "output_type": "execute_result"
    }
   ],
   "source": [
    "Competetion.get_raise_amount()"
   ]
  },
  {
   "cell_type": "code",
   "execution_count": 14,
   "id": "71520fd2",
   "metadata": {},
   "outputs": [],
   "source": [
    "swimming_str = \"Swimming-1000\""
   ]
  },
  {
   "cell_type": "code",
   "execution_count": 15,
   "id": "8a518711",
   "metadata": {},
   "outputs": [],
   "source": [
    "name,amount = swimming_str.split('-')"
   ]
  },
  {
   "cell_type": "code",
   "execution_count": 16,
   "id": "b019d18a",
   "metadata": {},
   "outputs": [
    {
     "data": {
      "text/plain": [
       "('Swimming', '1000')"
      ]
     },
     "execution_count": 16,
     "metadata": {},
     "output_type": "execute_result"
    }
   ],
   "source": [
    "name,amount"
   ]
  },
  {
   "cell_type": "code",
   "execution_count": 17,
   "id": "be13e534",
   "metadata": {},
   "outputs": [],
   "source": [
    "class Competetion():\n",
    "    __raise_amount = 1.5\n",
    "    def __init__(self,name,prize):\n",
    "        self.__name = name\n",
    "        self.__prize = prize\n",
    "        \n",
    "    def raise_prize(self):\n",
    "        self.__prize = self.__prize * Competetion.__raise_amount\n",
    "        \n",
    "    def print_details(self):\n",
    "        return f'name is {self.__name} and prize {self.__prize}'\n",
    "    \n",
    "    @classmethod\n",
    "    def get_raise_amount(cla):\n",
    "        return cls.__raise_amount\n",
    "    \n",
    "    @classmethod\n",
    "    def set_raise_amount(cls,amount):\n",
    "        cls.__raise_amount = amount\n",
    "        \n",
    "    @classmethod\n",
    "    def from_str(cls,competetion_str):\n",
    "        name, prize = competetion_str.split('-')\n",
    "        return cls(name,prize)\n",
    "    "
   ]
  },
  {
   "cell_type": "code",
   "execution_count": 18,
   "id": "a712291c",
   "metadata": {},
   "outputs": [],
   "source": [
    "archery_str = \"Archery-1000\""
   ]
  },
  {
   "cell_type": "code",
   "execution_count": 19,
   "id": "438db376",
   "metadata": {},
   "outputs": [],
   "source": [
    "archerry = Competetion.from_str(archery_str)"
   ]
  },
  {
   "cell_type": "code",
   "execution_count": 21,
   "id": "4cb7930f",
   "metadata": {},
   "outputs": [
    {
     "data": {
      "text/plain": [
       "'name is Archery and prize 1000'"
      ]
     },
     "execution_count": 21,
     "metadata": {},
     "output_type": "execute_result"
    }
   ],
   "source": [
    "archerry.print_details()"
   ]
  },
  {
   "cell_type": "markdown",
   "id": "25fa16e7",
   "metadata": {},
   "source": [
    "# Static method"
   ]
  },
  {
   "cell_type": "code",
   "execution_count": 23,
   "id": "f16083a8",
   "metadata": {},
   "outputs": [],
   "source": [
    "class Rectangle():\n",
    "    def area(x,y):\n",
    "        return x * y"
   ]
  },
  {
   "cell_type": "code",
   "execution_count": 25,
   "id": "ec8c6b7e",
   "metadata": {},
   "outputs": [],
   "source": [
    "Rectangle.area = staticmethod(Rectangle.area)"
   ]
  },
  {
   "cell_type": "code",
   "execution_count": 27,
   "id": "8c59caad",
   "metadata": {},
   "outputs": [
    {
     "name": "stdout",
     "output_type": "stream",
     "text": [
      "Are of rectangle is : 80\n"
     ]
    }
   ],
   "source": [
    "print(\"Are of rectangle is :\",Rectangle.area(10,8))"
   ]
  },
  {
   "cell_type": "code",
   "execution_count": 28,
   "id": "f7e73f01",
   "metadata": {},
   "outputs": [],
   "source": [
    "class Rectangle():\n",
    "    @staticmethod\n",
    "    def area(x,y):\n",
    "        return x * y"
   ]
  },
  {
   "cell_type": "code",
   "execution_count": 29,
   "id": "a77bcabe",
   "metadata": {},
   "outputs": [
    {
     "name": "stdout",
     "output_type": "stream",
     "text": [
      "Area of rectangle is : 60\n"
     ]
    }
   ],
   "source": [
    "print(\"Area of rectangle is :\",Rectangle.area(10,6))"
   ]
  },
  {
   "cell_type": "markdown",
   "id": "8b1fc3c3",
   "metadata": {},
   "source": [
    "# Abstract Base class"
   ]
  },
  {
   "cell_type": "code",
   "execution_count": 31,
   "id": "33700ae9",
   "metadata": {},
   "outputs": [],
   "source": [
    "from abc import ABC, abstractmethod"
   ]
  },
  {
   "cell_type": "code",
   "execution_count": 32,
   "id": "51b982e6",
   "metadata": {},
   "outputs": [],
   "source": [
    "class Hominidae():\n",
    "    def diet(self):\n",
    "        pass\n",
    "    def walk(self):\n",
    "        pass\n",
    "    def behaviour(self):\n",
    "        print(\"Show complex facial expression\")"
   ]
  },
  {
   "cell_type": "code",
   "execution_count": 33,
   "id": "b858c37f",
   "metadata": {},
   "outputs": [],
   "source": [
    "chmpanzee = Hominidae()"
   ]
  },
  {
   "cell_type": "code",
   "execution_count": 34,
   "id": "9df469e2",
   "metadata": {},
   "outputs": [
    {
     "name": "stdout",
     "output_type": "stream",
     "text": [
      "Show complex facial expression\n"
     ]
    }
   ],
   "source": [
    "chmpanzee.behaviour()"
   ]
  },
  {
   "cell_type": "code",
   "execution_count": 35,
   "id": "568dab50",
   "metadata": {},
   "outputs": [],
   "source": [
    "chmpanzee.diet()"
   ]
  },
  {
   "cell_type": "code",
   "execution_count": 36,
   "id": "50d87a42",
   "metadata": {},
   "outputs": [],
   "source": [
    "chmpanzee.walk()"
   ]
  },
  {
   "cell_type": "code",
   "execution_count": 39,
   "id": "22cc7a6a",
   "metadata": {},
   "outputs": [],
   "source": [
    "class Human(Hominidae):\n",
    "    def diet(self):\n",
    "        print(\"Omnivorous\")\n",
    "    def walk(self):\n",
    "        print('bipad')"
   ]
  },
  {
   "cell_type": "code",
   "execution_count": 40,
   "id": "03863a3c",
   "metadata": {},
   "outputs": [],
   "source": [
    "human = Human()"
   ]
  },
  {
   "cell_type": "code",
   "execution_count": 41,
   "id": "94a30474",
   "metadata": {},
   "outputs": [
    {
     "name": "stdout",
     "output_type": "stream",
     "text": [
      "Omnivorous\n"
     ]
    }
   ],
   "source": [
    "human.diet()"
   ]
  },
  {
   "cell_type": "code",
   "execution_count": 42,
   "id": "65d5861e",
   "metadata": {},
   "outputs": [
    {
     "name": "stdout",
     "output_type": "stream",
     "text": [
      "bipad\n"
     ]
    }
   ],
   "source": [
    "human.walk()"
   ]
  },
  {
   "cell_type": "code",
   "execution_count": 43,
   "id": "ef087d11",
   "metadata": {},
   "outputs": [
    {
     "name": "stdout",
     "output_type": "stream",
     "text": [
      "Show complex facial expression\n"
     ]
    }
   ],
   "source": [
    "human.behaviour()"
   ]
  },
  {
   "cell_type": "code",
   "execution_count": 44,
   "id": "ecf2991c",
   "metadata": {},
   "outputs": [],
   "source": [
    "class Hominidae(ABC):\n",
    "    def diet(self):\n",
    "        pass\n",
    "    def walk(self):\n",
    "        pass\n",
    "    def behaviour(self):\n",
    "        print(\"Show complex facial expression\")"
   ]
  },
  {
   "cell_type": "code",
   "execution_count": 45,
   "id": "7507392a",
   "metadata": {},
   "outputs": [],
   "source": [
    "cimpanzee = Hominidae()"
   ]
  },
  {
   "cell_type": "code",
   "execution_count": 46,
   "id": "769c8e75",
   "metadata": {},
   "outputs": [
    {
     "name": "stdout",
     "output_type": "stream",
     "text": [
      "Show complex facial expression\n"
     ]
    }
   ],
   "source": [
    "cimpanzee.behaviour()"
   ]
  },
  {
   "cell_type": "code",
   "execution_count": 47,
   "id": "23522413",
   "metadata": {},
   "outputs": [],
   "source": [
    "class Human(Hominidae):\n",
    "    def diet(self):\n",
    "        print(\"Omnivorous\")\n",
    "    def walk(self):\n",
    "        print('bipad')"
   ]
  },
  {
   "cell_type": "code",
   "execution_count": 48,
   "id": "1ca53b44",
   "metadata": {},
   "outputs": [],
   "source": [
    "human = Human()"
   ]
  },
  {
   "cell_type": "code",
   "execution_count": 49,
   "id": "549ebe2e",
   "metadata": {},
   "outputs": [
    {
     "name": "stdout",
     "output_type": "stream",
     "text": [
      "Omnivorous\n",
      "bipad\n"
     ]
    }
   ],
   "source": [
    "human.diet()\n",
    "\n",
    "human.walk()"
   ]
  },
  {
   "cell_type": "code",
   "execution_count": 50,
   "id": "aabf9164",
   "metadata": {},
   "outputs": [
    {
     "name": "stdout",
     "output_type": "stream",
     "text": [
      "Help on class ABC in module abc:\n",
      "\n",
      "class ABC(builtins.object)\n",
      " |  Helper class that provides a standard way to create an ABC using\n",
      " |  inheritance.\n",
      " |  \n",
      " |  Data and other attributes defined here:\n",
      " |  \n",
      " |  __abstractmethods__ = frozenset()\n",
      "\n"
     ]
    }
   ],
   "source": [
    "help(ABC)"
   ]
  },
  {
   "cell_type": "code",
   "execution_count": 51,
   "id": "52dbb0fe",
   "metadata": {},
   "outputs": [],
   "source": [
    "class Hominidae(ABC):\n",
    "    @abstractmethod\n",
    "    def diet(self):\n",
    "        pass\n",
    "    def walk(self):\n",
    "        pass\n",
    "    def behaviour(self):\n",
    "        print(\"Show complex facial expression\")"
   ]
  },
  {
   "cell_type": "code",
   "execution_count": 52,
   "id": "0f4a0eb9",
   "metadata": {},
   "outputs": [
    {
     "ename": "TypeError",
     "evalue": "Can't instantiate abstract class Hominidae with abstract method diet",
     "output_type": "error",
     "traceback": [
      "\u001b[1;31m---------------------------------------------------------------------------\u001b[0m",
      "\u001b[1;31mTypeError\u001b[0m                                 Traceback (most recent call last)",
      "Input \u001b[1;32mIn [52]\u001b[0m, in \u001b[0;36m<cell line: 1>\u001b[1;34m()\u001b[0m\n\u001b[1;32m----> 1\u001b[0m apes \u001b[38;5;241m=\u001b[39m \u001b[43mHominidae\u001b[49m\u001b[43m(\u001b[49m\u001b[43m)\u001b[49m\n",
      "\u001b[1;31mTypeError\u001b[0m: Can't instantiate abstract class Hominidae with abstract method diet"
     ]
    }
   ],
   "source": [
    "apes = Hominidae()"
   ]
  },
  {
   "cell_type": "code",
   "execution_count": 53,
   "id": "575add31",
   "metadata": {},
   "outputs": [],
   "source": [
    "class Human(Hominidae):\n",
    "    def diet(self):\n",
    "        print(\"Omnivorous\")\n",
    "    def walk(self):\n",
    "        print('bipad')"
   ]
  },
  {
   "cell_type": "code",
   "execution_count": 54,
   "id": "791136ae",
   "metadata": {},
   "outputs": [],
   "source": [
    "human = Human()"
   ]
  },
  {
   "cell_type": "code",
   "execution_count": 55,
   "id": "1a8a1b8d",
   "metadata": {},
   "outputs": [
    {
     "name": "stdout",
     "output_type": "stream",
     "text": [
      "Omnivorous\n",
      "bipad\n"
     ]
    }
   ],
   "source": [
    "human.diet()\n",
    "human.walk()"
   ]
  },
  {
   "cell_type": "code",
   "execution_count": 57,
   "id": "63c43534",
   "metadata": {},
   "outputs": [],
   "source": [
    "class Hominidae(ABC):\n",
    "    @abstractmethod\n",
    "    def diet(self):\n",
    "        pass\n",
    "    @abstractmethod\n",
    "    def walk(self):\n",
    "        pass"
   ]
  },
  {
   "cell_type": "code",
   "execution_count": 58,
   "id": "5d858659",
   "metadata": {},
   "outputs": [],
   "source": [
    "class Human(Hominidae):\n",
    "    def diet(self):\n",
    "        print(\"Omnivorous\")"
   ]
  },
  {
   "cell_type": "code",
   "execution_count": 59,
   "id": "c73acc11",
   "metadata": {},
   "outputs": [
    {
     "ename": "TypeError",
     "evalue": "Can't instantiate abstract class Human with abstract method walk",
     "output_type": "error",
     "traceback": [
      "\u001b[1;31m---------------------------------------------------------------------------\u001b[0m",
      "\u001b[1;31mTypeError\u001b[0m                                 Traceback (most recent call last)",
      "Input \u001b[1;32mIn [59]\u001b[0m, in \u001b[0;36m<cell line: 1>\u001b[1;34m()\u001b[0m\n\u001b[1;32m----> 1\u001b[0m human \u001b[38;5;241m=\u001b[39m \u001b[43mHuman\u001b[49m\u001b[43m(\u001b[49m\u001b[43m)\u001b[49m\n",
      "\u001b[1;31mTypeError\u001b[0m: Can't instantiate abstract class Human with abstract method walk"
     ]
    }
   ],
   "source": [
    "human = Human()"
   ]
  },
  {
   "cell_type": "code",
   "execution_count": 60,
   "id": "179715a7",
   "metadata": {},
   "outputs": [],
   "source": [
    "class Human(Hominidae):\n",
    "    def diet(self):\n",
    "        print(\"Omnivorous\")\n",
    "    def walk(self):\n",
    "        print('bipad')"
   ]
  },
  {
   "cell_type": "code",
   "execution_count": 61,
   "id": "f126849c",
   "metadata": {},
   "outputs": [],
   "source": [
    "human = Human()"
   ]
  },
  {
   "cell_type": "code",
   "execution_count": 62,
   "id": "e002aef1",
   "metadata": {},
   "outputs": [
    {
     "name": "stdout",
     "output_type": "stream",
     "text": [
      "Omnivorous\n",
      "bipad\n"
     ]
    }
   ],
   "source": [
    "human.diet()\n",
    "\n",
    "human.walk()"
   ]
  },
  {
   "cell_type": "code",
   "execution_count": null,
   "id": "22c0bf03",
   "metadata": {},
   "outputs": [],
   "source": []
  }
 ],
 "metadata": {
  "kernelspec": {
   "display_name": "Python 3 (ipykernel)",
   "language": "python",
   "name": "python3"
  },
  "language_info": {
   "codemirror_mode": {
    "name": "ipython",
    "version": 3
   },
   "file_extension": ".py",
   "mimetype": "text/x-python",
   "name": "python",
   "nbconvert_exporter": "python",
   "pygments_lexer": "ipython3",
   "version": "3.11.3"
  }
 },
 "nbformat": 4,
 "nbformat_minor": 5
}
