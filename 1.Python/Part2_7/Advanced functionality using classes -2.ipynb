{
 "cells": [
  {
   "cell_type": "code",
   "execution_count": 15,
   "id": "5b1c993a",
   "metadata": {},
   "outputs": [],
   "source": [
    "class Partecepants():\n",
    "    def __init__(self):\n",
    "        self.__partecipants = []\n",
    "        self.__index = 0\n",
    "        \n",
    "    def add_partecipants(self,name):\n",
    "        self.__partecipants.append(name)\n",
    "        \n",
    "    def __len__(self):\n",
    "        return len(self.__partecipants)\n",
    "    \n",
    "    def __iter__(self):\n",
    "        self.__index = 0\n",
    "        return self\n",
    "    \n",
    "    def __next__(self):\n",
    "        if self.__index == len(self.__partecipants):\n",
    "            raise StopIteration\n",
    "        p = self.__partecipants[self.__index]\n",
    "        \n",
    "        self.__index += 1\n",
    "        \n",
    "        return p\n",
    "        "
   ]
  },
  {
   "cell_type": "code",
   "execution_count": 21,
   "id": "e5379d66",
   "metadata": {},
   "outputs": [],
   "source": [
    "particepant = Partecepants()"
   ]
  },
  {
   "cell_type": "code",
   "execution_count": 22,
   "id": "439a1132",
   "metadata": {},
   "outputs": [],
   "source": [
    "particepant.add_partecipants(\"Akshay\")\n",
    "particepant.add_partecipants(\"Aksh\")\n",
    "particepant.add_partecipants(\"Aks\")\n",
    "particepant.add_partecipants(\"Ak\")"
   ]
  },
  {
   "cell_type": "code",
   "execution_count": 24,
   "id": "5b6f7b2f",
   "metadata": {},
   "outputs": [
    {
     "name": "stdout",
     "output_type": "stream",
     "text": [
      "Akshay\n",
      "Aksh\n",
      "Aks\n",
      "Ak\n"
     ]
    }
   ],
   "source": [
    "for p in particepant :\n",
    "    print(p)"
   ]
  },
  {
   "cell_type": "code",
   "execution_count": 25,
   "id": "cc3cdb7c",
   "metadata": {},
   "outputs": [
    {
     "data": {
      "text/plain": [
       "<__main__.Partecepants at 0x23dffdec370>"
      ]
     },
     "execution_count": 25,
     "metadata": {},
     "output_type": "execute_result"
    }
   ],
   "source": [
    "iter(particepant)"
   ]
  },
  {
   "cell_type": "code",
   "execution_count": 26,
   "id": "24293d5e",
   "metadata": {},
   "outputs": [
    {
     "data": {
      "text/plain": [
       "'Akshay'"
      ]
     },
     "execution_count": 26,
     "metadata": {},
     "output_type": "execute_result"
    }
   ],
   "source": [
    "next(particepant)"
   ]
  },
  {
   "cell_type": "code",
   "execution_count": 27,
   "id": "baabee39",
   "metadata": {},
   "outputs": [
    {
     "data": {
      "text/plain": [
       "'Aksh'"
      ]
     },
     "execution_count": 27,
     "metadata": {},
     "output_type": "execute_result"
    }
   ],
   "source": [
    "next(particepant)"
   ]
  },
  {
   "cell_type": "code",
   "execution_count": 28,
   "id": "2f3fe264",
   "metadata": {},
   "outputs": [
    {
     "data": {
      "text/plain": [
       "'Aks'"
      ]
     },
     "execution_count": 28,
     "metadata": {},
     "output_type": "execute_result"
    }
   ],
   "source": [
    "next(particepant)"
   ]
  },
  {
   "cell_type": "code",
   "execution_count": 29,
   "id": "1499fee8",
   "metadata": {},
   "outputs": [
    {
     "data": {
      "text/plain": [
       "'Ak'"
      ]
     },
     "execution_count": 29,
     "metadata": {},
     "output_type": "execute_result"
    }
   ],
   "source": [
    "next(particepant)"
   ]
  },
  {
   "cell_type": "code",
   "execution_count": 30,
   "id": "5a9134d4",
   "metadata": {},
   "outputs": [
    {
     "ename": "StopIteration",
     "evalue": "",
     "output_type": "error",
     "traceback": [
      "\u001b[1;31m---------------------------------------------------------------------------\u001b[0m",
      "\u001b[1;31mStopIteration\u001b[0m                             Traceback (most recent call last)",
      "Input \u001b[1;32mIn [30]\u001b[0m, in \u001b[0;36m<cell line: 1>\u001b[1;34m()\u001b[0m\n\u001b[1;32m----> 1\u001b[0m \u001b[38;5;28;43mnext\u001b[39;49m\u001b[43m(\u001b[49m\u001b[43mparticepant\u001b[49m\u001b[43m)\u001b[49m\n",
      "Input \u001b[1;32mIn [15]\u001b[0m, in \u001b[0;36mPartecepants.__next__\u001b[1;34m(self)\u001b[0m\n\u001b[0;32m     16\u001b[0m \u001b[38;5;28;01mdef\u001b[39;00m \u001b[38;5;21m__next__\u001b[39m(\u001b[38;5;28mself\u001b[39m):\n\u001b[0;32m     17\u001b[0m     \u001b[38;5;28;01mif\u001b[39;00m \u001b[38;5;28mself\u001b[39m\u001b[38;5;241m.\u001b[39m__index \u001b[38;5;241m==\u001b[39m \u001b[38;5;28mlen\u001b[39m(\u001b[38;5;28mself\u001b[39m\u001b[38;5;241m.\u001b[39m__partecipants):\n\u001b[1;32m---> 18\u001b[0m         \u001b[38;5;28;01mraise\u001b[39;00m \u001b[38;5;167;01mStopIteration\u001b[39;00m\n\u001b[0;32m     19\u001b[0m     p \u001b[38;5;241m=\u001b[39m \u001b[38;5;28mself\u001b[39m\u001b[38;5;241m.\u001b[39m__partecipants[\u001b[38;5;28mself\u001b[39m\u001b[38;5;241m.\u001b[39m__index]\n\u001b[0;32m     21\u001b[0m     \u001b[38;5;28mself\u001b[39m\u001b[38;5;241m.\u001b[39m__index \u001b[38;5;241m+\u001b[39m\u001b[38;5;241m=\u001b[39m \u001b[38;5;241m1\u001b[39m\n",
      "\u001b[1;31mStopIteration\u001b[0m: "
     ]
    }
   ],
   "source": [
    "next(particepant)"
   ]
  },
  {
   "cell_type": "markdown",
   "id": "f19835bb",
   "metadata": {},
   "source": [
    "# Getter, Setter and deleter"
   ]
  },
  {
   "cell_type": "code",
   "execution_count": 35,
   "id": "6c8d9f88",
   "metadata": {},
   "outputs": [],
   "source": [
    "class Wrestler():\n",
    "    def __init__(self):\n",
    "        self.__name = ''\n",
    "        \n",
    "    def set_name(self,name):\n",
    "        self.__name = name\n",
    "        \n",
    "    def get_name(self):\n",
    "        return self.__name"
   ]
  },
  {
   "cell_type": "code",
   "execution_count": 36,
   "id": "9d038742",
   "metadata": {},
   "outputs": [],
   "source": [
    "w = Wrestler()"
   ]
  },
  {
   "cell_type": "code",
   "execution_count": 37,
   "id": "0f5982f5",
   "metadata": {},
   "outputs": [],
   "source": [
    "w.set_name(\"Akshay\")"
   ]
  },
  {
   "cell_type": "code",
   "execution_count": 38,
   "id": "2d60d18c",
   "metadata": {},
   "outputs": [
    {
     "data": {
      "text/plain": [
       "'Akshay'"
      ]
     },
     "execution_count": 38,
     "metadata": {},
     "output_type": "execute_result"
    }
   ],
   "source": [
    "w.get_name()"
   ]
  },
  {
   "cell_type": "code",
   "execution_count": 39,
   "id": "2c24ca0a",
   "metadata": {},
   "outputs": [
    {
     "ename": "AttributeError",
     "evalue": "'Wrestler' object has no attribute 'name'",
     "output_type": "error",
     "traceback": [
      "\u001b[1;31m---------------------------------------------------------------------------\u001b[0m",
      "\u001b[1;31mAttributeError\u001b[0m                            Traceback (most recent call last)",
      "Input \u001b[1;32mIn [39]\u001b[0m, in \u001b[0;36m<cell line: 1>\u001b[1;34m()\u001b[0m\n\u001b[1;32m----> 1\u001b[0m \u001b[43mw\u001b[49m\u001b[38;5;241;43m.\u001b[39;49m\u001b[43mname\u001b[49m\n",
      "\u001b[1;31mAttributeError\u001b[0m: 'Wrestler' object has no attribute 'name'"
     ]
    }
   ],
   "source": [
    "w.name"
   ]
  },
  {
   "cell_type": "code",
   "execution_count": 40,
   "id": "9f1d419c",
   "metadata": {},
   "outputs": [
    {
     "data": {
      "text/plain": [
       "{'_Wrestler__name': 'Akshay'}"
      ]
     },
     "execution_count": 40,
     "metadata": {},
     "output_type": "execute_result"
    }
   ],
   "source": [
    "w.__dict__"
   ]
  },
  {
   "cell_type": "code",
   "execution_count": 43,
   "id": "f2ac68f2",
   "metadata": {},
   "outputs": [
    {
     "data": {
      "text/plain": [
       "'Akshay'"
      ]
     },
     "execution_count": 43,
     "metadata": {},
     "output_type": "execute_result"
    }
   ],
   "source": [
    "w._Wrestler__name"
   ]
  },
  {
   "cell_type": "code",
   "execution_count": 48,
   "id": "82942549",
   "metadata": {},
   "outputs": [],
   "source": [
    "class Wrestler():\n",
    "    def __init__(self):\n",
    "        self.__name = ''\n",
    "        \n",
    "    def set_name(self,name):\n",
    "        print(\"Setter method called\")\n",
    "        self.__name = name\n",
    "        \n",
    "    def get_name (self):\n",
    "        print(\"Getter method called\")\n",
    "        return self.__name\n",
    "    \n",
    "    name = property(get_name,set_name)        #property(fget,fset,fdel,fdoc)"
   ]
  },
  {
   "cell_type": "code",
   "execution_count": 45,
   "id": "227e9f78",
   "metadata": {},
   "outputs": [],
   "source": [
    "w = Wrestler()"
   ]
  },
  {
   "cell_type": "code",
   "execution_count": 46,
   "id": "5eca9195",
   "metadata": {},
   "outputs": [
    {
     "name": "stdout",
     "output_type": "stream",
     "text": [
      "Setter method called\n"
     ]
    }
   ],
   "source": [
    "w.name = \"Akshay\""
   ]
  },
  {
   "cell_type": "code",
   "execution_count": 47,
   "id": "394dfe98",
   "metadata": {},
   "outputs": [
    {
     "name": "stdout",
     "output_type": "stream",
     "text": [
      "Getter method called\n"
     ]
    },
    {
     "data": {
      "text/plain": [
       "'Akshay'"
      ]
     },
     "execution_count": 47,
     "metadata": {},
     "output_type": "execute_result"
    }
   ],
   "source": [
    "w.name"
   ]
  },
  {
   "cell_type": "code",
   "execution_count": 49,
   "id": "a21296bc",
   "metadata": {},
   "outputs": [],
   "source": [
    "class Wrestler():\n",
    "    def _init__(self):\n",
    "        self.__name = ''\n",
    "        \n",
    "    def set_name(self,name):\n",
    "        print(\"setter function called\")\n",
    "        self.__name = name\n",
    "        \n",
    "    def get_name(self):\n",
    "        print(\"Getter function called\")\n",
    "        return self.__name\n",
    "    \n",
    "    def del_fun(self):\n",
    "        print(\"del function called\")\n",
    "        del self.__name\n",
    "        \n",
    "    name = property(get_name,set_name,del_fun)"
   ]
  },
  {
   "cell_type": "code",
   "execution_count": 50,
   "id": "60751c1b",
   "metadata": {},
   "outputs": [],
   "source": [
    "w = Wrestler()"
   ]
  },
  {
   "cell_type": "code",
   "execution_count": 51,
   "id": "84dfef6a",
   "metadata": {},
   "outputs": [
    {
     "name": "stdout",
     "output_type": "stream",
     "text": [
      "setter function called\n"
     ]
    }
   ],
   "source": [
    "w.name = \"Akshay\""
   ]
  },
  {
   "cell_type": "code",
   "execution_count": 52,
   "id": "22555515",
   "metadata": {},
   "outputs": [
    {
     "name": "stdout",
     "output_type": "stream",
     "text": [
      "Getter function called\n"
     ]
    },
    {
     "data": {
      "text/plain": [
       "'Akshay'"
      ]
     },
     "execution_count": 52,
     "metadata": {},
     "output_type": "execute_result"
    }
   ],
   "source": [
    "w.name"
   ]
  },
  {
   "cell_type": "code",
   "execution_count": 53,
   "id": "b24e838e",
   "metadata": {},
   "outputs": [
    {
     "name": "stdout",
     "output_type": "stream",
     "text": [
      "setter function called\n"
     ]
    }
   ],
   "source": [
    "w.name = \"Ak\""
   ]
  },
  {
   "cell_type": "code",
   "execution_count": 54,
   "id": "0247b43a",
   "metadata": {},
   "outputs": [
    {
     "name": "stdout",
     "output_type": "stream",
     "text": [
      "Getter function called\n"
     ]
    },
    {
     "data": {
      "text/plain": [
       "'Ak'"
      ]
     },
     "execution_count": 54,
     "metadata": {},
     "output_type": "execute_result"
    }
   ],
   "source": [
    "w.name"
   ]
  },
  {
   "cell_type": "code",
   "execution_count": 55,
   "id": "fea94b9b",
   "metadata": {},
   "outputs": [
    {
     "name": "stdout",
     "output_type": "stream",
     "text": [
      "del function called\n"
     ]
    }
   ],
   "source": [
    "del w.name"
   ]
  },
  {
   "cell_type": "code",
   "execution_count": 56,
   "id": "04dbc41b",
   "metadata": {},
   "outputs": [
    {
     "name": "stdout",
     "output_type": "stream",
     "text": [
      "Getter function called\n"
     ]
    },
    {
     "ename": "AttributeError",
     "evalue": "'Wrestler' object has no attribute '_Wrestler__name'",
     "output_type": "error",
     "traceback": [
      "\u001b[1;31m---------------------------------------------------------------------------\u001b[0m",
      "\u001b[1;31mAttributeError\u001b[0m                            Traceback (most recent call last)",
      "Input \u001b[1;32mIn [56]\u001b[0m, in \u001b[0;36m<cell line: 1>\u001b[1;34m()\u001b[0m\n\u001b[1;32m----> 1\u001b[0m \u001b[43mw\u001b[49m\u001b[38;5;241;43m.\u001b[39;49m\u001b[43mname\u001b[49m\n",
      "Input \u001b[1;32mIn [49]\u001b[0m, in \u001b[0;36mWrestler.get_name\u001b[1;34m(self)\u001b[0m\n\u001b[0;32m      9\u001b[0m \u001b[38;5;28;01mdef\u001b[39;00m \u001b[38;5;21mget_name\u001b[39m(\u001b[38;5;28mself\u001b[39m):\n\u001b[0;32m     10\u001b[0m     \u001b[38;5;28mprint\u001b[39m(\u001b[38;5;124m\"\u001b[39m\u001b[38;5;124mGetter function called\u001b[39m\u001b[38;5;124m\"\u001b[39m)\n\u001b[1;32m---> 11\u001b[0m     \u001b[38;5;28;01mreturn\u001b[39;00m \u001b[38;5;28;43mself\u001b[39;49m\u001b[38;5;241;43m.\u001b[39;49m\u001b[43m__name\u001b[49m\n",
      "\u001b[1;31mAttributeError\u001b[0m: 'Wrestler' object has no attribute '_Wrestler__name'"
     ]
    }
   ],
   "source": [
    "w.name"
   ]
  },
  {
   "cell_type": "code",
   "execution_count": 59,
   "id": "1aa950cb",
   "metadata": {},
   "outputs": [],
   "source": [
    "class Wrestler():\n",
    "    def __init__(self,name):\n",
    "        self.__name = name\n",
    "    \n",
    "    @property   \n",
    "    def name(self):\n",
    "        print(\"getter function called\")\n",
    "        return self.__name\n",
    "    \n",
    "    @name.setter\n",
    "    def name(self,value):\n",
    "        print(\"setter function called\")\n",
    "        self.__name = value\n",
    "        \n",
    "    @name.deleter    \n",
    "    def name(self):\n",
    "        print(\"del function called\")\n",
    "        del self.__name"
   ]
  },
  {
   "cell_type": "code",
   "execution_count": 60,
   "id": "8ca04a89",
   "metadata": {},
   "outputs": [],
   "source": [
    "w = Wrestler(\"akshay\")"
   ]
  },
  {
   "cell_type": "code",
   "execution_count": 61,
   "id": "072329dd",
   "metadata": {},
   "outputs": [
    {
     "name": "stdout",
     "output_type": "stream",
     "text": [
      "getter function called\n"
     ]
    },
    {
     "data": {
      "text/plain": [
       "'akshay'"
      ]
     },
     "execution_count": 61,
     "metadata": {},
     "output_type": "execute_result"
    }
   ],
   "source": [
    "w.name"
   ]
  },
  {
   "cell_type": "code",
   "execution_count": 64,
   "id": "ecd51350",
   "metadata": {},
   "outputs": [
    {
     "name": "stdout",
     "output_type": "stream",
     "text": [
      "setter function called\n"
     ]
    }
   ],
   "source": [
    "w.name = \"ak\""
   ]
  },
  {
   "cell_type": "code",
   "execution_count": 65,
   "id": "906b5db5",
   "metadata": {},
   "outputs": [
    {
     "name": "stdout",
     "output_type": "stream",
     "text": [
      "getter function called\n"
     ]
    },
    {
     "data": {
      "text/plain": [
       "'ak'"
      ]
     },
     "execution_count": 65,
     "metadata": {},
     "output_type": "execute_result"
    }
   ],
   "source": [
    "w.name"
   ]
  },
  {
   "cell_type": "code",
   "execution_count": 66,
   "id": "8a01ec24",
   "metadata": {},
   "outputs": [
    {
     "name": "stdout",
     "output_type": "stream",
     "text": [
      "del function called\n"
     ]
    }
   ],
   "source": [
    "del w.name"
   ]
  },
  {
   "cell_type": "code",
   "execution_count": 67,
   "id": "ecd5c303",
   "metadata": {},
   "outputs": [
    {
     "name": "stdout",
     "output_type": "stream",
     "text": [
      "getter function called\n"
     ]
    },
    {
     "ename": "AttributeError",
     "evalue": "'Wrestler' object has no attribute '_Wrestler__name'",
     "output_type": "error",
     "traceback": [
      "\u001b[1;31m---------------------------------------------------------------------------\u001b[0m",
      "\u001b[1;31mAttributeError\u001b[0m                            Traceback (most recent call last)",
      "Input \u001b[1;32mIn [67]\u001b[0m, in \u001b[0;36m<cell line: 1>\u001b[1;34m()\u001b[0m\n\u001b[1;32m----> 1\u001b[0m \u001b[43mw\u001b[49m\u001b[38;5;241;43m.\u001b[39;49m\u001b[43mname\u001b[49m\n",
      "Input \u001b[1;32mIn [59]\u001b[0m, in \u001b[0;36mWrestler.name\u001b[1;34m(self)\u001b[0m\n\u001b[0;32m      5\u001b[0m \u001b[38;5;129m@property\u001b[39m   \n\u001b[0;32m      6\u001b[0m \u001b[38;5;28;01mdef\u001b[39;00m \u001b[38;5;21mname\u001b[39m(\u001b[38;5;28mself\u001b[39m):\n\u001b[0;32m      7\u001b[0m     \u001b[38;5;28mprint\u001b[39m(\u001b[38;5;124m\"\u001b[39m\u001b[38;5;124mgetter function called\u001b[39m\u001b[38;5;124m\"\u001b[39m)\n\u001b[1;32m----> 8\u001b[0m     \u001b[38;5;28;01mreturn\u001b[39;00m \u001b[38;5;28;43mself\u001b[39;49m\u001b[38;5;241;43m.\u001b[39;49m\u001b[43m__name\u001b[49m\n",
      "\u001b[1;31mAttributeError\u001b[0m: 'Wrestler' object has no attribute '_Wrestler__name'"
     ]
    }
   ],
   "source": [
    "w.name"
   ]
  },
  {
   "cell_type": "code",
   "execution_count": 74,
   "id": "4763727b",
   "metadata": {},
   "outputs": [],
   "source": [
    "class Wrestler():\n",
    "    def __init__(self,name,age):\n",
    "        self.__name = name\n",
    "        self.__age = age\n",
    "        \n",
    "    @property\n",
    "    def name(self):\n",
    "        print(\"getter function called\")\n",
    "        return self.__name\n",
    "    \n",
    "    @name.setter\n",
    "    def name(self,value):\n",
    "        print(\"setter function called\")\n",
    "        self.__name = value\n",
    "        \n",
    "    @name.deleter\n",
    "    def name(self):\n",
    "        print(\"deleter function called\")\n",
    "        del self.__name\n",
    "        \n",
    "    @property\n",
    "    def age(self):\n",
    "        print(\"getter function called\")\n",
    "        return self.__age\n",
    "    \n",
    "    @age.setter\n",
    "    def age(self,value):\n",
    "        print(\"setter function called\")\n",
    "        self.__age = value\n",
    "        \n",
    "    @age.deleter\n",
    "    def age(self):\n",
    "        print(\"deleter function called\")\n",
    "        del self.__age"
   ]
  },
  {
   "cell_type": "code",
   "execution_count": 75,
   "id": "71581c85",
   "metadata": {},
   "outputs": [],
   "source": [
    "w = Wrestler(\"Akshay\",24)"
   ]
  },
  {
   "cell_type": "code",
   "execution_count": 76,
   "id": "42d668f8",
   "metadata": {},
   "outputs": [
    {
     "name": "stdout",
     "output_type": "stream",
     "text": [
      "getter function called\n"
     ]
    },
    {
     "data": {
      "text/plain": [
       "'Akshay'"
      ]
     },
     "execution_count": 76,
     "metadata": {},
     "output_type": "execute_result"
    }
   ],
   "source": [
    "w.name"
   ]
  },
  {
   "cell_type": "code",
   "execution_count": 77,
   "id": "b777ab1e",
   "metadata": {},
   "outputs": [
    {
     "name": "stdout",
     "output_type": "stream",
     "text": [
      "setter function called\n"
     ]
    }
   ],
   "source": [
    "w.name = \"Ak\""
   ]
  },
  {
   "cell_type": "code",
   "execution_count": 78,
   "id": "c15c89dc",
   "metadata": {},
   "outputs": [
    {
     "name": "stdout",
     "output_type": "stream",
     "text": [
      "getter function called\n"
     ]
    },
    {
     "data": {
      "text/plain": [
       "'Ak'"
      ]
     },
     "execution_count": 78,
     "metadata": {},
     "output_type": "execute_result"
    }
   ],
   "source": [
    "w.name"
   ]
  },
  {
   "cell_type": "code",
   "execution_count": 79,
   "id": "3f6210bd",
   "metadata": {},
   "outputs": [
    {
     "name": "stdout",
     "output_type": "stream",
     "text": [
      "deleter function called\n"
     ]
    }
   ],
   "source": [
    "del w.name"
   ]
  },
  {
   "cell_type": "code",
   "execution_count": 80,
   "id": "6ce88c0a",
   "metadata": {},
   "outputs": [
    {
     "name": "stdout",
     "output_type": "stream",
     "text": [
      "getter function called\n"
     ]
    },
    {
     "ename": "AttributeError",
     "evalue": "'Wrestler' object has no attribute '_Wrestler__name'",
     "output_type": "error",
     "traceback": [
      "\u001b[1;31m---------------------------------------------------------------------------\u001b[0m",
      "\u001b[1;31mAttributeError\u001b[0m                            Traceback (most recent call last)",
      "Input \u001b[1;32mIn [80]\u001b[0m, in \u001b[0;36m<cell line: 1>\u001b[1;34m()\u001b[0m\n\u001b[1;32m----> 1\u001b[0m \u001b[43mw\u001b[49m\u001b[38;5;241;43m.\u001b[39;49m\u001b[43mname\u001b[49m\n",
      "Input \u001b[1;32mIn [74]\u001b[0m, in \u001b[0;36mWrestler.name\u001b[1;34m(self)\u001b[0m\n\u001b[0;32m      6\u001b[0m \u001b[38;5;129m@property\u001b[39m\n\u001b[0;32m      7\u001b[0m \u001b[38;5;28;01mdef\u001b[39;00m \u001b[38;5;21mname\u001b[39m(\u001b[38;5;28mself\u001b[39m):\n\u001b[0;32m      8\u001b[0m     \u001b[38;5;28mprint\u001b[39m(\u001b[38;5;124m\"\u001b[39m\u001b[38;5;124mgetter function called\u001b[39m\u001b[38;5;124m\"\u001b[39m)\n\u001b[1;32m----> 9\u001b[0m     \u001b[38;5;28;01mreturn\u001b[39;00m \u001b[38;5;28;43mself\u001b[39;49m\u001b[38;5;241;43m.\u001b[39;49m\u001b[43m__name\u001b[49m\n",
      "\u001b[1;31mAttributeError\u001b[0m: 'Wrestler' object has no attribute '_Wrestler__name'"
     ]
    }
   ],
   "source": [
    "w.name"
   ]
  },
  {
   "cell_type": "code",
   "execution_count": 81,
   "id": "8ae792dc",
   "metadata": {},
   "outputs": [
    {
     "name": "stdout",
     "output_type": "stream",
     "text": [
      "getter function called\n"
     ]
    },
    {
     "data": {
      "text/plain": [
       "24"
      ]
     },
     "execution_count": 81,
     "metadata": {},
     "output_type": "execute_result"
    }
   ],
   "source": [
    "w.age"
   ]
  },
  {
   "cell_type": "code",
   "execution_count": 82,
   "id": "18ff70c4",
   "metadata": {},
   "outputs": [
    {
     "name": "stdout",
     "output_type": "stream",
     "text": [
      "setter function called\n"
     ]
    }
   ],
   "source": [
    "w.age = 25"
   ]
  },
  {
   "cell_type": "code",
   "execution_count": 83,
   "id": "a5f016f6",
   "metadata": {},
   "outputs": [
    {
     "name": "stdout",
     "output_type": "stream",
     "text": [
      "getter function called\n"
     ]
    },
    {
     "data": {
      "text/plain": [
       "25"
      ]
     },
     "execution_count": 83,
     "metadata": {},
     "output_type": "execute_result"
    }
   ],
   "source": [
    "w.age"
   ]
  },
  {
   "cell_type": "code",
   "execution_count": 84,
   "id": "0d076fbf",
   "metadata": {},
   "outputs": [
    {
     "name": "stdout",
     "output_type": "stream",
     "text": [
      "deleter function called\n"
     ]
    }
   ],
   "source": [
    "del w.age"
   ]
  },
  {
   "cell_type": "code",
   "execution_count": 85,
   "id": "248f40a4",
   "metadata": {},
   "outputs": [
    {
     "name": "stdout",
     "output_type": "stream",
     "text": [
      "getter function called\n"
     ]
    },
    {
     "ename": "AttributeError",
     "evalue": "'Wrestler' object has no attribute '_Wrestler__age'",
     "output_type": "error",
     "traceback": [
      "\u001b[1;31m---------------------------------------------------------------------------\u001b[0m",
      "\u001b[1;31mAttributeError\u001b[0m                            Traceback (most recent call last)",
      "Input \u001b[1;32mIn [85]\u001b[0m, in \u001b[0;36m<cell line: 1>\u001b[1;34m()\u001b[0m\n\u001b[1;32m----> 1\u001b[0m \u001b[43mw\u001b[49m\u001b[38;5;241;43m.\u001b[39;49m\u001b[43mage\u001b[49m\n",
      "Input \u001b[1;32mIn [74]\u001b[0m, in \u001b[0;36mWrestler.age\u001b[1;34m(self)\u001b[0m\n\u001b[0;32m     21\u001b[0m \u001b[38;5;129m@property\u001b[39m\n\u001b[0;32m     22\u001b[0m \u001b[38;5;28;01mdef\u001b[39;00m \u001b[38;5;21mage\u001b[39m(\u001b[38;5;28mself\u001b[39m):\n\u001b[0;32m     23\u001b[0m     \u001b[38;5;28mprint\u001b[39m(\u001b[38;5;124m\"\u001b[39m\u001b[38;5;124mgetter function called\u001b[39m\u001b[38;5;124m\"\u001b[39m)\n\u001b[1;32m---> 24\u001b[0m     \u001b[38;5;28;01mreturn\u001b[39;00m \u001b[38;5;28;43mself\u001b[39;49m\u001b[38;5;241;43m.\u001b[39;49m\u001b[43m__age\u001b[49m\n",
      "\u001b[1;31mAttributeError\u001b[0m: 'Wrestler' object has no attribute '_Wrestler__age'"
     ]
    }
   ],
   "source": [
    "w.age"
   ]
  },
  {
   "cell_type": "code",
   "execution_count": null,
   "id": "5a1c1ecb",
   "metadata": {},
   "outputs": [],
   "source": []
  }
 ],
 "metadata": {
  "kernelspec": {
   "display_name": "Python 3 (ipykernel)",
   "language": "python",
   "name": "python3"
  },
  "language_info": {
   "codemirror_mode": {
    "name": "ipython",
    "version": 3
   },
   "file_extension": ".py",
   "mimetype": "text/x-python",
   "name": "python",
   "nbconvert_exporter": "python",
   "pygments_lexer": "ipython3",
   "version": "3.11.3"
  }
 },
 "nbformat": 4,
 "nbformat_minor": 5
}
