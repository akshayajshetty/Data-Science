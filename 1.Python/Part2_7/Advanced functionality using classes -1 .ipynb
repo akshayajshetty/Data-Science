{
 "cells": [
  {
   "cell_type": "markdown",
   "id": "88e3c643",
   "metadata": {},
   "source": [
    "# Special methods"
   ]
  },
  {
   "cell_type": "code",
   "execution_count": 2,
   "id": "e5b0e2f2",
   "metadata": {},
   "outputs": [],
   "source": [
    "class Competetion():\n",
    "    def __init__(self,name):\n",
    "        self.__name = name\n",
    "        #self.__prize = prize"
   ]
  },
  {
   "cell_type": "code",
   "execution_count": 3,
   "id": "0cf64ca8",
   "metadata": {},
   "outputs": [],
   "source": [
    "race = Competetion(\"race\")"
   ]
  },
  {
   "cell_type": "code",
   "execution_count": 4,
   "id": "b8af210d",
   "metadata": {},
   "outputs": [
    {
     "data": {
      "text/plain": [
       "{'_Competetion__name': 'race'}"
      ]
     },
     "execution_count": 4,
     "metadata": {},
     "output_type": "execute_result"
    }
   ],
   "source": [
    "race.__dict__"
   ]
  },
  {
   "cell_type": "code",
   "execution_count": 3,
   "id": "ec97847e",
   "metadata": {},
   "outputs": [
    {
     "name": "stdout",
     "output_type": "stream",
     "text": [
      "<__main__.Competetion object at 0x000001F83837FB50>\n"
     ]
    }
   ],
   "source": [
    "print(race)"
   ]
  },
  {
   "cell_type": "code",
   "execution_count": 5,
   "id": "fa6ae259",
   "metadata": {},
   "outputs": [],
   "source": [
    "class Competetaion():\n",
    "    def __init__(self,name,prize):\n",
    "        self.__name = name\n",
    "        self.__prize = prize\n",
    "        \n",
    "    def __repr__(self):\n",
    "        return f'({self.__name}, {self.__prize})'"
   ]
  },
  {
   "cell_type": "code",
   "execution_count": 8,
   "id": "ee64a77a",
   "metadata": {},
   "outputs": [],
   "source": [
    "archery = Competetaion(\"Archery\", 700)"
   ]
  },
  {
   "cell_type": "code",
   "execution_count": 9,
   "id": "6e7d2c1f",
   "metadata": {},
   "outputs": [
    {
     "name": "stdout",
     "output_type": "stream",
     "text": [
      "(Archery, 700)\n"
     ]
    }
   ],
   "source": [
    "print(archery)"
   ]
  },
  {
   "cell_type": "code",
   "execution_count": 23,
   "id": "05e939a8",
   "metadata": {},
   "outputs": [
    {
     "data": {
      "text/plain": [
       "'(Archery, 700)'"
      ]
     },
     "execution_count": 23,
     "metadata": {},
     "output_type": "execute_result"
    }
   ],
   "source": [
    "repr(archery)"
   ]
  },
  {
   "cell_type": "code",
   "execution_count": 24,
   "id": "9d328be3",
   "metadata": {},
   "outputs": [
    {
     "data": {
      "text/plain": [
       "'(Archery, 700)'"
      ]
     },
     "execution_count": 24,
     "metadata": {},
     "output_type": "execute_result"
    }
   ],
   "source": [
    "str(archery)"
   ]
  },
  {
   "cell_type": "code",
   "execution_count": 25,
   "id": "cee7b972",
   "metadata": {},
   "outputs": [],
   "source": [
    "class competetion():\n",
    "    def __init__(self,name,country,prize):\n",
    "        self.__name = name\n",
    "        self.__country = country\n",
    "        self.__prize = prize\n",
    "        \n",
    "    def get_name_country(self):\n",
    "        return '{} {}'.format(self.__name, self.__country)\n",
    "    \n",
    "    def __repr__(self):\n",
    "        return 'Competetion : {} held in {}'.format(self.__name,self.__country)\n",
    "    \n",
    "    def __str__(self):\n",
    "        return '{} - {} '.format(self.get_name_country(),self.__prize)"
   ]
  },
  {
   "cell_type": "code",
   "execution_count": 27,
   "id": "6f193642",
   "metadata": {},
   "outputs": [],
   "source": [
    "chess = competetion(\"Chess\",\"India\",1000)"
   ]
  },
  {
   "cell_type": "code",
   "execution_count": 28,
   "id": "f040fce2",
   "metadata": {},
   "outputs": [
    {
     "data": {
      "text/plain": [
       "Competetion : Chess held in India"
      ]
     },
     "execution_count": 28,
     "metadata": {},
     "output_type": "execute_result"
    }
   ],
   "source": [
    "chess"
   ]
  },
  {
   "cell_type": "code",
   "execution_count": 29,
   "id": "e39e8e83",
   "metadata": {},
   "outputs": [
    {
     "data": {
      "text/plain": [
       "'Chess India'"
      ]
     },
     "execution_count": 29,
     "metadata": {},
     "output_type": "execute_result"
    }
   ],
   "source": [
    "chess.get_name_country()"
   ]
  },
  {
   "cell_type": "code",
   "execution_count": 30,
   "id": "20bd6296",
   "metadata": {},
   "outputs": [
    {
     "data": {
      "text/plain": [
       "'Chess India - 1000 '"
      ]
     },
     "execution_count": 30,
     "metadata": {},
     "output_type": "execute_result"
    }
   ],
   "source": [
    "str(chess)"
   ]
  },
  {
   "cell_type": "code",
   "execution_count": 31,
   "id": "8d5f2b51",
   "metadata": {},
   "outputs": [
    {
     "name": "stdout",
     "output_type": "stream",
     "text": [
      "Chess India - 1000 \n"
     ]
    }
   ],
   "source": [
    "print(chess)"
   ]
  },
  {
   "cell_type": "code",
   "execution_count": 32,
   "id": "1521721f",
   "metadata": {},
   "outputs": [
    {
     "data": {
      "text/plain": [
       "'Competetion : Chess held in India'"
      ]
     },
     "execution_count": 32,
     "metadata": {},
     "output_type": "execute_result"
    }
   ],
   "source": [
    "chess.__repr__()"
   ]
  },
  {
   "cell_type": "code",
   "execution_count": 33,
   "id": "6a1bdd6d",
   "metadata": {},
   "outputs": [
    {
     "data": {
      "text/plain": [
       "'Chess India - 1000 '"
      ]
     },
     "execution_count": 33,
     "metadata": {},
     "output_type": "execute_result"
    }
   ],
   "source": [
    "chess.__str__()"
   ]
  },
  {
   "cell_type": "code",
   "execution_count": 34,
   "id": "0fcdd809",
   "metadata": {},
   "outputs": [
    {
     "data": {
      "text/plain": [
       "3"
      ]
     },
     "execution_count": 34,
     "metadata": {},
     "output_type": "execute_result"
    }
   ],
   "source": [
    "1 + 2"
   ]
  },
  {
   "cell_type": "code",
   "execution_count": 35,
   "id": "e18f82a0",
   "metadata": {},
   "outputs": [
    {
     "data": {
      "text/plain": [
       "3"
      ]
     },
     "execution_count": 35,
     "metadata": {},
     "output_type": "execute_result"
    }
   ],
   "source": [
    "int.__add__(1,2)"
   ]
  },
  {
   "cell_type": "code",
   "execution_count": 36,
   "id": "fa40322f",
   "metadata": {},
   "outputs": [
    {
     "data": {
      "text/plain": [
       "'ab'"
      ]
     },
     "execution_count": 36,
     "metadata": {},
     "output_type": "execute_result"
    }
   ],
   "source": [
    "'a' + 'b'"
   ]
  },
  {
   "cell_type": "code",
   "execution_count": 38,
   "id": "b242a82c",
   "metadata": {},
   "outputs": [
    {
     "data": {
      "text/plain": [
       "'ab'"
      ]
     },
     "execution_count": 38,
     "metadata": {},
     "output_type": "execute_result"
    }
   ],
   "source": [
    "str.__add__(\"a\",\"b\")"
   ]
  },
  {
   "cell_type": "code",
   "execution_count": 50,
   "id": "674d7b83",
   "metadata": {},
   "outputs": [],
   "source": [
    "class Savings():\n",
    "    def __init__(self,amount):\n",
    "        self.__amount = amount"
   ]
  },
  {
   "cell_type": "code",
   "execution_count": 51,
   "id": "e9f89c48",
   "metadata": {},
   "outputs": [],
   "source": [
    "s1 = Savings(1000)\n",
    "\n",
    "s2 = Savings(2000)"
   ]
  },
  {
   "cell_type": "code",
   "execution_count": 52,
   "id": "4005eb88",
   "metadata": {},
   "outputs": [
    {
     "ename": "TypeError",
     "evalue": "unsupported operand type(s) for +: 'Savings' and 'Savings'",
     "output_type": "error",
     "traceback": [
      "\u001b[1;31m---------------------------------------------------------------------------\u001b[0m",
      "\u001b[1;31mTypeError\u001b[0m                                 Traceback (most recent call last)",
      "Input \u001b[1;32mIn [52]\u001b[0m, in \u001b[0;36m<cell line: 1>\u001b[1;34m()\u001b[0m\n\u001b[1;32m----> 1\u001b[0m \u001b[43ms1\u001b[49m\u001b[43m \u001b[49m\u001b[38;5;241;43m+\u001b[39;49m\u001b[43m \u001b[49m\u001b[43ms2\u001b[49m\n",
      "\u001b[1;31mTypeError\u001b[0m: unsupported operand type(s) for +: 'Savings' and 'Savings'"
     ]
    }
   ],
   "source": [
    "s1 + s2"
   ]
  },
  {
   "cell_type": "code",
   "execution_count": 4,
   "id": "fc8ce54c",
   "metadata": {},
   "outputs": [],
   "source": [
    "class Savings():\n",
    "    def __init__(self,amount):\n",
    "        self.__amount = amount\n",
    "        \n",
    "    def __add__(self,other):\n",
    "        return self.__amount + other.__amount"
   ]
  },
  {
   "cell_type": "code",
   "execution_count": 5,
   "id": "0872a12b",
   "metadata": {},
   "outputs": [],
   "source": [
    "s1 = Savings(100)\n",
    "\n",
    "s2 = Savings(200)"
   ]
  },
  {
   "cell_type": "code",
   "execution_count": 6,
   "id": "07aec2b4",
   "metadata": {},
   "outputs": [
    {
     "data": {
      "text/plain": [
       "300"
      ]
     },
     "execution_count": 6,
     "metadata": {},
     "output_type": "execute_result"
    }
   ],
   "source": [
    "s1 + s2"
   ]
  },
  {
   "cell_type": "code",
   "execution_count": 7,
   "id": "e67d8363",
   "metadata": {},
   "outputs": [],
   "source": [
    "class Methodsub():\n",
    "    def __init__(self,amount):\n",
    "        self.__amount = amount\n",
    "        \n",
    "    def __sub__(self,other):\n",
    "        return self.__amount - other.__amount\n",
    "    "
   ]
  },
  {
   "cell_type": "code",
   "execution_count": 8,
   "id": "276322e2",
   "metadata": {},
   "outputs": [],
   "source": [
    "s1 = Methodsub(200)\n",
    "\n",
    "s2 = Methodsub(100)"
   ]
  },
  {
   "cell_type": "code",
   "execution_count": 9,
   "id": "0d114662",
   "metadata": {},
   "outputs": [
    {
     "data": {
      "text/plain": [
       "100"
      ]
     },
     "execution_count": 9,
     "metadata": {},
     "output_type": "execute_result"
    }
   ],
   "source": [
    "s1 - s2"
   ]
  },
  {
   "cell_type": "code",
   "execution_count": 10,
   "id": "f2662d78",
   "metadata": {},
   "outputs": [
    {
     "data": {
      "text/plain": [
       "2.1"
      ]
     },
     "execution_count": 10,
     "metadata": {},
     "output_type": "execute_result"
    }
   ],
   "source": [
    "1.0 * 2.1"
   ]
  },
  {
   "cell_type": "code",
   "execution_count": 12,
   "id": "0acb8980",
   "metadata": {},
   "outputs": [
    {
     "data": {
      "text/plain": [
       "2.1"
      ]
     },
     "execution_count": 12,
     "metadata": {},
     "output_type": "execute_result"
    }
   ],
   "source": [
    "float.__mul__(1.0,2.1)"
   ]
  },
  {
   "cell_type": "code",
   "execution_count": 13,
   "id": "a3f87974",
   "metadata": {},
   "outputs": [
    {
     "ename": "TypeError",
     "evalue": "descriptor '__mul__' requires a 'float' object but received a 'int'",
     "output_type": "error",
     "traceback": [
      "\u001b[1;31m---------------------------------------------------------------------------\u001b[0m",
      "\u001b[1;31mTypeError\u001b[0m                                 Traceback (most recent call last)",
      "Input \u001b[1;32mIn [13]\u001b[0m, in \u001b[0;36m<cell line: 1>\u001b[1;34m()\u001b[0m\n\u001b[1;32m----> 1\u001b[0m \u001b[38;5;28;43mfloat\u001b[39;49m\u001b[38;5;241;43m.\u001b[39;49m\u001b[38;5;21;43m__mul__\u001b[39;49m\u001b[43m(\u001b[49m\u001b[38;5;241;43m1\u001b[39;49m\u001b[43m,\u001b[49m\u001b[38;5;241;43m2.1\u001b[39;49m\u001b[43m)\u001b[49m\n",
      "\u001b[1;31mTypeError\u001b[0m: descriptor '__mul__' requires a 'float' object but received a 'int'"
     ]
    }
   ],
   "source": [
    "float.__mul__(1,2.1)"
   ]
  },
  {
   "cell_type": "code",
   "execution_count": 22,
   "id": "ff786612",
   "metadata": {},
   "outputs": [],
   "source": [
    "class Savings():\n",
    "    def __init__(self,amount):\n",
    "        self.__amount = amount\n",
    "        \n",
    "    def __add__(self,other):\n",
    "        return self.__amount + other.__amount\n",
    "    \n",
    "    def __mul__(self,other):\n",
    "        if type(other) == int or type(other) == float :\n",
    "            return self.__amount * other\n",
    "        else :\n",
    "            raise ValueError(\"Only multiply by int or float\")"
   ]
  },
  {
   "cell_type": "code",
   "execution_count": 23,
   "id": "49b6d132",
   "metadata": {},
   "outputs": [],
   "source": [
    "s1 = Savings(100)\n",
    "\n",
    "s2 = Savings(200)"
   ]
  },
  {
   "cell_type": "code",
   "execution_count": 20,
   "id": "5983a58a",
   "metadata": {},
   "outputs": [
    {
     "data": {
      "text/plain": [
       "300"
      ]
     },
     "execution_count": 20,
     "metadata": {},
     "output_type": "execute_result"
    }
   ],
   "source": [
    "s1 + s2"
   ]
  },
  {
   "cell_type": "code",
   "execution_count": 24,
   "id": "b27f3e75",
   "metadata": {},
   "outputs": [
    {
     "ename": "ValueError",
     "evalue": "Only multiply by int or float",
     "output_type": "error",
     "traceback": [
      "\u001b[1;31m---------------------------------------------------------------------------\u001b[0m",
      "\u001b[1;31mValueError\u001b[0m                                Traceback (most recent call last)",
      "Input \u001b[1;32mIn [24]\u001b[0m, in \u001b[0;36m<cell line: 1>\u001b[1;34m()\u001b[0m\n\u001b[1;32m----> 1\u001b[0m \u001b[43ms1\u001b[49m\u001b[43m \u001b[49m\u001b[38;5;241;43m*\u001b[39;49m\u001b[43m \u001b[49m\u001b[43ms2\u001b[49m\n",
      "Input \u001b[1;32mIn [22]\u001b[0m, in \u001b[0;36mSavings.__mul__\u001b[1;34m(self, other)\u001b[0m\n\u001b[0;32m     10\u001b[0m     \u001b[38;5;28;01mreturn\u001b[39;00m \u001b[38;5;28mself\u001b[39m\u001b[38;5;241m.\u001b[39m__amount \u001b[38;5;241m*\u001b[39m other\n\u001b[0;32m     11\u001b[0m \u001b[38;5;28;01melse\u001b[39;00m :\n\u001b[1;32m---> 12\u001b[0m     \u001b[38;5;28;01mraise\u001b[39;00m \u001b[38;5;167;01mValueError\u001b[39;00m(\u001b[38;5;124m\"\u001b[39m\u001b[38;5;124mOnly multiply by int or float\u001b[39m\u001b[38;5;124m\"\u001b[39m)\n",
      "\u001b[1;31mValueError\u001b[0m: Only multiply by int or float"
     ]
    }
   ],
   "source": [
    "s1 * s2"
   ]
  },
  {
   "cell_type": "code",
   "execution_count": 25,
   "id": "cb60dd61",
   "metadata": {},
   "outputs": [
    {
     "data": {
      "text/plain": [
       "200"
      ]
     },
     "execution_count": 25,
     "metadata": {},
     "output_type": "execute_result"
    }
   ],
   "source": [
    "s1 * 2"
   ]
  },
  {
   "cell_type": "code",
   "execution_count": 26,
   "id": "59e3c2ac",
   "metadata": {},
   "outputs": [
    {
     "data": {
      "text/plain": [
       "600"
      ]
     },
     "execution_count": 26,
     "metadata": {},
     "output_type": "execute_result"
    }
   ],
   "source": [
    "s2 * 3"
   ]
  },
  {
   "cell_type": "code",
   "execution_count": 27,
   "id": "4cc7b5f1",
   "metadata": {},
   "outputs": [
    {
     "ename": "TypeError",
     "evalue": "unsupported operand type(s) for *: 'int' and 'Savings'",
     "output_type": "error",
     "traceback": [
      "\u001b[1;31m---------------------------------------------------------------------------\u001b[0m",
      "\u001b[1;31mTypeError\u001b[0m                                 Traceback (most recent call last)",
      "Input \u001b[1;32mIn [27]\u001b[0m, in \u001b[0;36m<cell line: 1>\u001b[1;34m()\u001b[0m\n\u001b[1;32m----> 1\u001b[0m \u001b[38;5;241;43m2\u001b[39;49m\u001b[43m \u001b[49m\u001b[38;5;241;43m*\u001b[39;49m\u001b[43m \u001b[49m\u001b[43ms1\u001b[49m\n",
      "\u001b[1;31mTypeError\u001b[0m: unsupported operand type(s) for *: 'int' and 'Savings'"
     ]
    }
   ],
   "source": [
    "2 * s1"
   ]
  },
  {
   "cell_type": "code",
   "execution_count": 28,
   "id": "9a1e6c3b",
   "metadata": {},
   "outputs": [
    {
     "data": {
      "text/plain": [
       "3"
      ]
     },
     "execution_count": 28,
     "metadata": {},
     "output_type": "execute_result"
    }
   ],
   "source": [
    "10 // 3"
   ]
  },
  {
   "cell_type": "code",
   "execution_count": 29,
   "id": "1bb8d482",
   "metadata": {},
   "outputs": [],
   "source": [
    "class Floordiv():\n",
    "    def __init__(self,amount):\n",
    "        self.__amount = amount\n",
    "        \n",
    "    def __floordiv__(self,other):\n",
    "        return self.__amount //other.__amount"
   ]
  },
  {
   "cell_type": "code",
   "execution_count": 30,
   "id": "c3fcf1ff",
   "metadata": {},
   "outputs": [],
   "source": [
    "s1 = Floordiv(10)\n",
    "\n",
    "s2 = Floordiv(3)"
   ]
  },
  {
   "cell_type": "code",
   "execution_count": 31,
   "id": "0a51878e",
   "metadata": {},
   "outputs": [
    {
     "data": {
      "text/plain": [
       "3"
      ]
     },
     "execution_count": 31,
     "metadata": {},
     "output_type": "execute_result"
    }
   ],
   "source": [
    "s1 // s2"
   ]
  },
  {
   "cell_type": "code",
   "execution_count": 32,
   "id": "864a03ca",
   "metadata": {},
   "outputs": [
    {
     "data": {
      "text/plain": [
       "0"
      ]
     },
     "execution_count": 32,
     "metadata": {},
     "output_type": "execute_result"
    }
   ],
   "source": [
    "4 % 2"
   ]
  },
  {
   "cell_type": "code",
   "execution_count": 33,
   "id": "ffd5c861",
   "metadata": {},
   "outputs": [
    {
     "data": {
      "text/plain": [
       "1"
      ]
     },
     "execution_count": 33,
     "metadata": {},
     "output_type": "execute_result"
    }
   ],
   "source": [
    "5 % 2"
   ]
  },
  {
   "cell_type": "code",
   "execution_count": 34,
   "id": "51559c2a",
   "metadata": {},
   "outputs": [
    {
     "data": {
      "text/plain": [
       "0"
      ]
     },
     "execution_count": 34,
     "metadata": {},
     "output_type": "execute_result"
    }
   ],
   "source": [
    "int.__mod__(4,2)"
   ]
  },
  {
   "cell_type": "code",
   "execution_count": 36,
   "id": "449abb79",
   "metadata": {},
   "outputs": [
    {
     "data": {
      "text/plain": [
       "1.6"
      ]
     },
     "execution_count": 36,
     "metadata": {},
     "output_type": "execute_result"
    }
   ],
   "source": [
    "float.__mod__(1.6,2.4)"
   ]
  },
  {
   "cell_type": "code",
   "execution_count": 37,
   "id": "d798a08f",
   "metadata": {},
   "outputs": [],
   "source": [
    "class Modulo():\n",
    "    def __init__(self,amount):\n",
    "        self.__amount = amount\n",
    "        \n",
    "    def __mod__(self,other):\n",
    "        return self.__amount % other.__amount\n",
    "        "
   ]
  },
  {
   "cell_type": "code",
   "execution_count": 38,
   "id": "26e7c42a",
   "metadata": {},
   "outputs": [],
   "source": [
    "s1 = Modulo(10)\n",
    "\n",
    "s2 = Modulo(2)"
   ]
  },
  {
   "cell_type": "code",
   "execution_count": 39,
   "id": "29c74ca5",
   "metadata": {},
   "outputs": [
    {
     "data": {
      "text/plain": [
       "0"
      ]
     },
     "execution_count": 39,
     "metadata": {},
     "output_type": "execute_result"
    }
   ],
   "source": [
    "s1 % s2"
   ]
  },
  {
   "cell_type": "code",
   "execution_count": 40,
   "id": "dce1ce9a",
   "metadata": {},
   "outputs": [
    {
     "data": {
      "text/plain": [
       "25"
      ]
     },
     "execution_count": 40,
     "metadata": {},
     "output_type": "execute_result"
    }
   ],
   "source": [
    "5**2"
   ]
  },
  {
   "cell_type": "code",
   "execution_count": 41,
   "id": "aa450ccb",
   "metadata": {},
   "outputs": [
    {
     "data": {
      "text/plain": [
       "1000"
      ]
     },
     "execution_count": 41,
     "metadata": {},
     "output_type": "execute_result"
    }
   ],
   "source": [
    "int.__pow__(10,3)"
   ]
  },
  {
   "cell_type": "code",
   "execution_count": 48,
   "id": "9300c682",
   "metadata": {},
   "outputs": [],
   "source": [
    "class Powerof():\n",
    "    def __init__(self,amount):\n",
    "        self.__amount = amount\n",
    "        \n",
    "    def __pow__(self,other):\n",
    "        return self.__amount ** other.__amount"
   ]
  },
  {
   "cell_type": "code",
   "execution_count": 49,
   "id": "3f004c46",
   "metadata": {},
   "outputs": [],
   "source": [
    "s1 = Powerof(10)\n",
    "\n",
    "s2 = Powerof(2)"
   ]
  },
  {
   "cell_type": "code",
   "execution_count": 50,
   "id": "356df13d",
   "metadata": {},
   "outputs": [
    {
     "data": {
      "text/plain": [
       "100"
      ]
     },
     "execution_count": 50,
     "metadata": {},
     "output_type": "execute_result"
    }
   ],
   "source": [
    "s1 ** s2"
   ]
  },
  {
   "cell_type": "code",
   "execution_count": 51,
   "id": "5f0a1a07",
   "metadata": {},
   "outputs": [
    {
     "data": {
      "text/plain": [
       "1024"
      ]
     },
     "execution_count": 51,
     "metadata": {},
     "output_type": "execute_result"
    }
   ],
   "source": [
    "s2 ** s1"
   ]
  },
  {
   "cell_type": "code",
   "execution_count": 52,
   "id": "fb8f8ef0",
   "metadata": {},
   "outputs": [
    {
     "data": {
      "text/plain": [
       "4"
      ]
     },
     "execution_count": 52,
     "metadata": {},
     "output_type": "execute_result"
    }
   ],
   "source": [
    "len('test')"
   ]
  },
  {
   "cell_type": "code",
   "execution_count": 53,
   "id": "33efb9a4",
   "metadata": {},
   "outputs": [
    {
     "data": {
      "text/plain": [
       "5"
      ]
     },
     "execution_count": 53,
     "metadata": {},
     "output_type": "execute_result"
    }
   ],
   "source": [
    "some_list = [1,2,3,4,5]\n",
    "\n",
    "len(some_list)"
   ]
  },
  {
   "cell_type": "code",
   "execution_count": 54,
   "id": "638dde37",
   "metadata": {},
   "outputs": [],
   "source": [
    "class Partecipants():\n",
    "    def __init__(self):\n",
    "        self.__particepants = []\n",
    "        \n",
    "    def add_particepants(self,name):\n",
    "        self.__particepants.append(name)\n",
    "        \n",
    "    def __len__(self):\n",
    "        return len(self.__particepants)"
   ]
  },
  {
   "cell_type": "code",
   "execution_count": 56,
   "id": "b6e1e126",
   "metadata": {},
   "outputs": [],
   "source": [
    "s1 = Partecipants()"
   ]
  },
  {
   "cell_type": "code",
   "execution_count": 57,
   "id": "904b2ad6",
   "metadata": {},
   "outputs": [],
   "source": [
    "s1.add_particepants(\"Akshay\")"
   ]
  },
  {
   "cell_type": "code",
   "execution_count": 58,
   "id": "ed4d56d7",
   "metadata": {},
   "outputs": [
    {
     "data": {
      "text/plain": [
       "1"
      ]
     },
     "execution_count": 58,
     "metadata": {},
     "output_type": "execute_result"
    }
   ],
   "source": [
    "len(s1)"
   ]
  },
  {
   "cell_type": "code",
   "execution_count": 59,
   "id": "a4de892f",
   "metadata": {},
   "outputs": [],
   "source": [
    "s1.add_particepants(\"AK\")"
   ]
  },
  {
   "cell_type": "code",
   "execution_count": 60,
   "id": "3ee9cf98",
   "metadata": {},
   "outputs": [
    {
     "data": {
      "text/plain": [
       "2"
      ]
     },
     "execution_count": 60,
     "metadata": {},
     "output_type": "execute_result"
    }
   ],
   "source": [
    "len(s1)"
   ]
  },
  {
   "cell_type": "code",
   "execution_count": null,
   "id": "3878e85b",
   "metadata": {},
   "outputs": [],
   "source": []
  }
 ],
 "metadata": {
  "kernelspec": {
   "display_name": "Python 3 (ipykernel)",
   "language": "python",
   "name": "python3"
  },
  "language_info": {
   "codemirror_mode": {
    "name": "ipython",
    "version": 3
   },
   "file_extension": ".py",
   "mimetype": "text/x-python",
   "name": "python",
   "nbconvert_exporter": "python",
   "pygments_lexer": "ipython3",
   "version": "3.9.12"
  }
 },
 "nbformat": 4,
 "nbformat_minor": 5
}
