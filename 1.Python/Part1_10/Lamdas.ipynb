{
 "cells": [
  {
   "cell_type": "code",
   "execution_count": 3,
   "id": "19cb42ca",
   "metadata": {},
   "outputs": [],
   "source": [
    "def sqare(x):\n",
    "    return x*x"
   ]
  },
  {
   "cell_type": "code",
   "execution_count": 4,
   "id": "f46baae5",
   "metadata": {},
   "outputs": [
    {
     "data": {
      "text/plain": [
       "16"
      ]
     },
     "execution_count": 4,
     "metadata": {},
     "output_type": "execute_result"
    }
   ],
   "source": [
    "sqare(4)"
   ]
  },
  {
   "cell_type": "code",
   "execution_count": 7,
   "id": "72fbba18",
   "metadata": {},
   "outputs": [
    {
     "data": {
      "text/plain": [
       "<function __main__.sqare(x)>"
      ]
     },
     "execution_count": 7,
     "metadata": {},
     "output_type": "execute_result"
    }
   ],
   "source": [
    "sqare"
   ]
  },
  {
   "cell_type": "code",
   "execution_count": 5,
   "id": "79529b8b",
   "metadata": {},
   "outputs": [],
   "source": [
    "cube_of = lambda x : x * x* x"
   ]
  },
  {
   "cell_type": "code",
   "execution_count": 6,
   "id": "a5eceaf5",
   "metadata": {},
   "outputs": [
    {
     "data": {
      "text/plain": [
       "125"
      ]
     },
     "execution_count": 6,
     "metadata": {},
     "output_type": "execute_result"
    }
   ],
   "source": [
    "cube_of(5)"
   ]
  },
  {
   "cell_type": "code",
   "execution_count": 8,
   "id": "c8b5a825",
   "metadata": {},
   "outputs": [
    {
     "data": {
      "text/plain": [
       "<function __main__.<lambda>(x)>"
      ]
     },
     "execution_count": 8,
     "metadata": {},
     "output_type": "execute_result"
    }
   ],
   "source": [
    "cube_of"
   ]
  },
  {
   "cell_type": "code",
   "execution_count": 12,
   "id": "e24506e0",
   "metadata": {},
   "outputs": [],
   "source": [
    "add = lambda x,y : x+y"
   ]
  },
  {
   "cell_type": "code",
   "execution_count": 13,
   "id": "18b128df",
   "metadata": {},
   "outputs": [],
   "source": [
    "sub = lambda x,y : x-y"
   ]
  },
  {
   "cell_type": "code",
   "execution_count": 14,
   "id": "543d0af4",
   "metadata": {},
   "outputs": [],
   "source": [
    "mul = lambda x,y : x*y"
   ]
  },
  {
   "cell_type": "code",
   "execution_count": 15,
   "id": "f1ad608d",
   "metadata": {},
   "outputs": [],
   "source": [
    "div = lambda x,y : x/y"
   ]
  },
  {
   "cell_type": "code",
   "execution_count": 16,
   "id": "d75bf012",
   "metadata": {},
   "outputs": [
    {
     "data": {
      "text/plain": [
       "13"
      ]
     },
     "execution_count": 16,
     "metadata": {},
     "output_type": "execute_result"
    }
   ],
   "source": [
    "add(5,8)"
   ]
  },
  {
   "cell_type": "code",
   "execution_count": 17,
   "id": "00c31097",
   "metadata": {},
   "outputs": [
    {
     "data": {
      "text/plain": [
       "3"
      ]
     },
     "execution_count": 17,
     "metadata": {},
     "output_type": "execute_result"
    }
   ],
   "source": [
    "sub(7,4)"
   ]
  },
  {
   "cell_type": "code",
   "execution_count": 18,
   "id": "81c1dbdd",
   "metadata": {},
   "outputs": [
    {
     "data": {
      "text/plain": [
       "20"
      ]
     },
     "execution_count": 18,
     "metadata": {},
     "output_type": "execute_result"
    }
   ],
   "source": [
    "mul(5,4)"
   ]
  },
  {
   "cell_type": "code",
   "execution_count": 19,
   "id": "40984e30",
   "metadata": {},
   "outputs": [
    {
     "data": {
      "text/plain": [
       "0.7142857142857143"
      ]
     },
     "execution_count": 19,
     "metadata": {},
     "output_type": "execute_result"
    }
   ],
   "source": [
    "div(5,7)"
   ]
  },
  {
   "cell_type": "code",
   "execution_count": 20,
   "id": "2ebe0f97",
   "metadata": {},
   "outputs": [],
   "source": [
    "def calculate(x,y,operation):\n",
    "    if operation == \"add\":\n",
    "        return add(x,y)\n",
    "    if operation == \"sub\":\n",
    "        return sub(x,y)\n",
    "    if operation == \"mul\":\n",
    "        return mul(x,y)\n",
    "    if operation == \"div\":\n",
    "        return div(x,y)\n"
   ]
  },
  {
   "cell_type": "code",
   "execution_count": 21,
   "id": "8f538330",
   "metadata": {},
   "outputs": [
    {
     "data": {
      "text/plain": [
       "11"
      ]
     },
     "execution_count": 21,
     "metadata": {},
     "output_type": "execute_result"
    }
   ],
   "source": [
    "calculate(5,6,'add')"
   ]
  },
  {
   "cell_type": "code",
   "execution_count": 22,
   "id": "755af344",
   "metadata": {},
   "outputs": [
    {
     "data": {
      "text/plain": [
       "30"
      ]
     },
     "execution_count": 22,
     "metadata": {},
     "output_type": "execute_result"
    }
   ],
   "source": [
    "calculate(5,6,'mul')"
   ]
  },
  {
   "cell_type": "code",
   "execution_count": 27,
   "id": "768e0ac8",
   "metadata": {},
   "outputs": [],
   "source": [
    "def calculate(*args,operation=\"add\"):\n",
    "    if operation == \"add\":\n",
    "        return add(*args)\n",
    "    if operation == \"sub\":\n",
    "        return sub(*args)\n",
    "    if operation == \"mul\":\n",
    "        return mul(*args)\n",
    "    if operation == \"div\":\n",
    "        return div(*args)"
   ]
  },
  {
   "cell_type": "code",
   "execution_count": 25,
   "id": "cc6458eb",
   "metadata": {},
   "outputs": [
    {
     "data": {
      "text/plain": [
       "4.0"
      ]
     },
     "execution_count": 25,
     "metadata": {},
     "output_type": "execute_result"
    }
   ],
   "source": [
    "calculate(8,2,operation=\"div\")"
   ]
  },
  {
   "cell_type": "code",
   "execution_count": 28,
   "id": "8beab3cf",
   "metadata": {},
   "outputs": [
    {
     "data": {
      "text/plain": [
       "123"
      ]
     },
     "execution_count": 28,
     "metadata": {},
     "output_type": "execute_result"
    }
   ],
   "source": [
    "calculate(45,78)"
   ]
  },
  {
   "cell_type": "code",
   "execution_count": 29,
   "id": "fdabeb85",
   "metadata": {},
   "outputs": [],
   "source": [
    "def calculates(*args,operation=add):\n",
    "    return operation(*args)"
   ]
  },
  {
   "cell_type": "code",
   "execution_count": 33,
   "id": "6d585fb1",
   "metadata": {},
   "outputs": [
    {
     "data": {
      "text/plain": [
       "13"
      ]
     },
     "execution_count": 33,
     "metadata": {},
     "output_type": "execute_result"
    }
   ],
   "source": [
    "calculates(6,7)"
   ]
  },
  {
   "cell_type": "code",
   "execution_count": 34,
   "id": "c38383fc",
   "metadata": {},
   "outputs": [
    {
     "data": {
      "text/plain": [
       "54"
      ]
     },
     "execution_count": 34,
     "metadata": {},
     "output_type": "execute_result"
    }
   ],
   "source": [
    "calculates(6,9,operation=mul)"
   ]
  },
  {
   "cell_type": "code",
   "execution_count": 35,
   "id": "e4528d9f",
   "metadata": {},
   "outputs": [
    {
     "data": {
      "text/plain": [
       "4096"
      ]
     },
     "execution_count": 35,
     "metadata": {},
     "output_type": "execute_result"
    }
   ],
   "source": [
    "calculates(4,6,operation=lambda x,y : x ** y)"
   ]
  },
  {
   "cell_type": "code",
   "execution_count": 37,
   "id": "263df913",
   "metadata": {},
   "outputs": [
    {
     "data": {
      "text/plain": [
       "12"
      ]
     },
     "execution_count": 37,
     "metadata": {},
     "output_type": "execute_result"
    }
   ],
   "source": [
    "(lambda x : x + 2)(10)               #Invoking directly"
   ]
  },
  {
   "cell_type": "code",
   "execution_count": 38,
   "id": "65f0b9fd",
   "metadata": {},
   "outputs": [
    {
     "data": {
      "text/plain": [
       "64"
      ]
     },
     "execution_count": 38,
     "metadata": {},
     "output_type": "execute_result"
    }
   ],
   "source": [
    "(lambda x,y : x ** y)(4,3)"
   ]
  },
  {
   "cell_type": "code",
   "execution_count": 40,
   "id": "474d9c2c",
   "metadata": {},
   "outputs": [],
   "source": [
    "def if_even(x):\n",
    "    assert x % 2 == 0"
   ]
  },
  {
   "cell_type": "code",
   "execution_count": 41,
   "id": "4f296dfc",
   "metadata": {},
   "outputs": [],
   "source": [
    "if_even(4)"
   ]
  },
  {
   "cell_type": "code",
   "execution_count": 42,
   "id": "64e0d6b6",
   "metadata": {},
   "outputs": [
    {
     "ename": "AssertionError",
     "evalue": "",
     "output_type": "error",
     "traceback": [
      "\u001b[1;31m---------------------------------------------------------------------------\u001b[0m",
      "\u001b[1;31mAssertionError\u001b[0m                            Traceback (most recent call last)",
      "Input \u001b[1;32mIn [42]\u001b[0m, in \u001b[0;36m<cell line: 1>\u001b[1;34m()\u001b[0m\n\u001b[1;32m----> 1\u001b[0m \u001b[43mif_even\u001b[49m\u001b[43m(\u001b[49m\u001b[38;5;241;43m5\u001b[39;49m\u001b[43m)\u001b[49m\n",
      "Input \u001b[1;32mIn [40]\u001b[0m, in \u001b[0;36mif_even\u001b[1;34m(x)\u001b[0m\n\u001b[0;32m      1\u001b[0m \u001b[38;5;28;01mdef\u001b[39;00m \u001b[38;5;21mif_even\u001b[39m(x):\n\u001b[1;32m----> 2\u001b[0m     \u001b[38;5;28;01massert\u001b[39;00m x \u001b[38;5;241m%\u001b[39m \u001b[38;5;241m2\u001b[39m \u001b[38;5;241m==\u001b[39m \u001b[38;5;241m0\u001b[39m\n",
      "\u001b[1;31mAssertionError\u001b[0m: "
     ]
    }
   ],
   "source": [
    "if_even(5)"
   ]
  },
  {
   "cell_type": "code",
   "execution_count": 44,
   "id": "7f7461f0",
   "metadata": {},
   "outputs": [
    {
     "ename": "SyntaxError",
     "evalue": "invalid syntax (156378666.py, line 1)",
     "output_type": "error",
     "traceback": [
      "\u001b[1;36m  Input \u001b[1;32mIn [44]\u001b[1;36m\u001b[0m\n\u001b[1;33m    if_even_lambda = lambda x : assert x % 2 == 0\u001b[0m\n\u001b[1;37m                                ^\u001b[0m\n\u001b[1;31mSyntaxError\u001b[0m\u001b[1;31m:\u001b[0m invalid syntax\n"
     ]
    }
   ],
   "source": [
    "if_even_lambda = lambda x : assert x % 2 == 0"
   ]
  },
  {
   "cell_type": "code",
   "execution_count": 46,
   "id": "cff407fa",
   "metadata": {},
   "outputs": [],
   "source": [
    "total_score = lambda P,C,M,B : P+C+M+B"
   ]
  },
  {
   "cell_type": "code",
   "execution_count": 47,
   "id": "baaaba97",
   "metadata": {},
   "outputs": [
    {
     "data": {
      "text/plain": [
       "94"
      ]
     },
     "execution_count": 47,
     "metadata": {},
     "output_type": "execute_result"
    }
   ],
   "source": [
    "total_score(22,23,25,24)"
   ]
  },
  {
   "cell_type": "code",
   "execution_count": 51,
   "id": "9be629cc",
   "metadata": {},
   "outputs": [
    {
     "data": {
      "text/plain": [
       "94"
      ]
     },
     "execution_count": 51,
     "metadata": {},
     "output_type": "execute_result"
    }
   ],
   "source": [
    "total_score(P=22,C=23,M=25,B=24)"
   ]
  },
  {
   "cell_type": "code",
   "execution_count": 52,
   "id": "d9cd6ce2",
   "metadata": {},
   "outputs": [],
   "source": [
    "total_score = lambda P,C,M,B=24 : P+C+M+B"
   ]
  },
  {
   "cell_type": "code",
   "execution_count": 53,
   "id": "912eded6",
   "metadata": {},
   "outputs": [
    {
     "data": {
      "text/plain": [
       "94"
      ]
     },
     "execution_count": 53,
     "metadata": {},
     "output_type": "execute_result"
    }
   ],
   "source": [
    "total_score(P=22,C=23,M=25)"
   ]
  },
  {
   "cell_type": "code",
   "execution_count": 54,
   "id": "3be17705",
   "metadata": {},
   "outputs": [
    {
     "ename": "TypeError",
     "evalue": "<lambda>() missing 1 required positional argument: 'M'",
     "output_type": "error",
     "traceback": [
      "\u001b[1;31m---------------------------------------------------------------------------\u001b[0m",
      "\u001b[1;31mTypeError\u001b[0m                                 Traceback (most recent call last)",
      "Input \u001b[1;32mIn [54]\u001b[0m, in \u001b[0;36m<cell line: 1>\u001b[1;34m()\u001b[0m\n\u001b[1;32m----> 1\u001b[0m \u001b[43mtotal_score\u001b[49m\u001b[43m(\u001b[49m\u001b[43mP\u001b[49m\u001b[38;5;241;43m=\u001b[39;49m\u001b[38;5;241;43m22\u001b[39;49m\u001b[43m,\u001b[49m\u001b[43mC\u001b[49m\u001b[38;5;241;43m=\u001b[39;49m\u001b[38;5;241;43m23\u001b[39;49m\u001b[43m)\u001b[49m\n",
      "\u001b[1;31mTypeError\u001b[0m: <lambda>() missing 1 required positional argument: 'M'"
     ]
    }
   ],
   "source": [
    "total_score(P=22,C=23)"
   ]
  },
  {
   "cell_type": "code",
   "execution_count": 57,
   "id": "51eb2faa",
   "metadata": {},
   "outputs": [
    {
     "data": {
      "text/plain": [
       "27"
      ]
     },
     "execution_count": 57,
     "metadata": {},
     "output_type": "execute_result"
    }
   ],
   "source": [
    "(lambda *number : sum(number))(2,3,4,5,6,7)"
   ]
  },
  {
   "cell_type": "code",
   "execution_count": 58,
   "id": "6df6258a",
   "metadata": {},
   "outputs": [
    {
     "data": {
      "text/plain": [
       "15"
      ]
     },
     "execution_count": 58,
     "metadata": {},
     "output_type": "execute_result"
    }
   ],
   "source": [
    "(lambda **num_dict : sum(num_dict.values()))(a=2,b=5,c=8)"
   ]
  },
  {
   "cell_type": "code",
   "execution_count": null,
   "id": "2787a9ba",
   "metadata": {},
   "outputs": [],
   "source": []
  }
 ],
 "metadata": {
  "kernelspec": {
   "display_name": "Python 3 (ipykernel)",
   "language": "python",
   "name": "python3"
  },
  "language_info": {
   "codemirror_mode": {
    "name": "ipython",
    "version": 3
   },
   "file_extension": ".py",
   "mimetype": "text/x-python",
   "name": "python",
   "nbconvert_exporter": "python",
   "pygments_lexer": "ipython3",
   "version": "3.11.3"
  }
 },
 "nbformat": 4,
 "nbformat_minor": 5
}
