{
 "cells": [
  {
   "cell_type": "code",
   "execution_count": 7,
   "id": "eecc9ac9",
   "metadata": {},
   "outputs": [],
   "source": [
    "num_list = [1,2,45,32,12,67,43,33,25,33,25]"
   ]
  },
  {
   "cell_type": "code",
   "execution_count": 3,
   "id": "8819e2e0",
   "metadata": {},
   "outputs": [
    {
     "data": {
      "text/plain": [
       "<filter at 0x20a187a3160>"
      ]
     },
     "execution_count": 3,
     "metadata": {},
     "output_type": "execute_result"
    }
   ],
   "source": [
    "filter(lambda x : x > 10,num_list)"
   ]
  },
  {
   "cell_type": "code",
   "execution_count": 8,
   "id": "a6a1b358",
   "metadata": {},
   "outputs": [
    {
     "data": {
      "text/plain": [
       "[45, 32, 12, 67, 43, 33, 25, 33, 25]"
      ]
     },
     "execution_count": 8,
     "metadata": {},
     "output_type": "execute_result"
    }
   ],
   "source": [
    "greater_than_10 = list(filter(lambda x : x > 10,num_list))\n",
    "greater_than_10"
   ]
  },
  {
   "cell_type": "code",
   "execution_count": 9,
   "id": "151e8e0c",
   "metadata": {},
   "outputs": [
    {
     "data": {
      "text/plain": [
       "(45, 32, 12, 67, 43, 33, 25, 33, 25)"
      ]
     },
     "execution_count": 9,
     "metadata": {},
     "output_type": "execute_result"
    }
   ],
   "source": [
    "greater_than_10 = tuple(filter(lambda x : x > 10,num_list))\n",
    "greater_than_10"
   ]
  },
  {
   "cell_type": "code",
   "execution_count": 10,
   "id": "613d621a",
   "metadata": {},
   "outputs": [
    {
     "data": {
      "text/plain": [
       "{12, 25, 32, 33, 43, 45, 67}"
      ]
     },
     "execution_count": 10,
     "metadata": {},
     "output_type": "execute_result"
    }
   ],
   "source": [
    "greater_than_10 = set(filter(lambda x : x > 10,num_list))\n",
    "greater_than_10"
   ]
  },
  {
   "cell_type": "code",
   "execution_count": 12,
   "id": "a3fed4bd",
   "metadata": {},
   "outputs": [
    {
     "data": {
      "text/plain": [
       "[2, 32, 12]"
      ]
     },
     "execution_count": 12,
     "metadata": {},
     "output_type": "execute_result"
    }
   ],
   "source": [
    "even_list = list(filter(lambda x : x % 2 == 0, num_list))\n",
    "even_list"
   ]
  },
  {
   "cell_type": "code",
   "execution_count": null,
   "id": "e151ca91",
   "metadata": {},
   "outputs": [],
   "source": []
  }
 ],
 "metadata": {
  "kernelspec": {
   "display_name": "Python 3 (ipykernel)",
   "language": "python",
   "name": "python3"
  },
  "language_info": {
   "codemirror_mode": {
    "name": "ipython",
    "version": 3
   },
   "file_extension": ".py",
   "mimetype": "text/x-python",
   "name": "python",
   "nbconvert_exporter": "python",
   "pygments_lexer": "ipython3",
   "version": "3.11.3"
  }
 },
 "nbformat": 4,
 "nbformat_minor": 5
}
