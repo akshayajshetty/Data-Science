{
 "cells": [
  {
   "cell_type": "markdown",
   "id": "55e752f5",
   "metadata": {},
   "source": [
    "# Passing by value -------------------- (Not modify out side data)"
   ]
  },
  {
   "cell_type": "code",
   "execution_count": 29,
   "id": "d4f830a9",
   "metadata": {},
   "outputs": [],
   "source": [
    "salary = 20000\n",
    "expenses = 6000\n",
    "\n",
    "name = \"akshay\"\n",
    "IR = 0.04"
   ]
  },
  {
   "cell_type": "code",
   "execution_count": 7,
   "id": "ea453fb6",
   "metadata": {},
   "outputs": [],
   "source": [
    "def saving_details():\n",
    "    print(\"Nem of the account :\",name)\n",
    "    saving = salary - expenses\n",
    "    print(\"Saving amount is :\",saving)\n",
    "    print(\"Interest rate is : \", IR)\n",
    "    print(\"Total amount in account is :\", saving+(saving*IR))"
   ]
  },
  {
   "cell_type": "code",
   "execution_count": 8,
   "id": "fa70bb09",
   "metadata": {},
   "outputs": [
    {
     "name": "stdout",
     "output_type": "stream",
     "text": [
      "Nem of the account : akshay\n",
      "Saving amount is : 14000\n",
      "Interest rate is :  0.04\n",
      "Total amount in account is : 14560.0\n"
     ]
    }
   ],
   "source": [
    "saving_details()"
   ]
  },
  {
   "cell_type": "code",
   "execution_count": 9,
   "id": "3357a73f",
   "metadata": {},
   "outputs": [],
   "source": [
    "def saving_details(name,IR,salary,expenses):\n",
    "    print(\"Nem of the account :\",name)\n",
    "    saving = salary - expenses\n",
    "    print(\"Saving amount is :\",saving)\n",
    "    print(\"Interest rate is : \", IR)\n",
    "    print(\"Total amount in account is :\", saving+(saving*IR))"
   ]
  },
  {
   "cell_type": "code",
   "execution_count": 10,
   "id": "47018695",
   "metadata": {},
   "outputs": [
    {
     "name": "stdout",
     "output_type": "stream",
     "text": [
      "Nem of the account : akshay\n",
      "Saving amount is : 14000\n",
      "Interest rate is :  0.04\n",
      "Total amount in account is : 14560.0\n"
     ]
    }
   ],
   "source": [
    "saving_details(name,IR,salary,expenses) "
   ]
  },
  {
   "cell_type": "code",
   "execution_count": 11,
   "id": "c73499be",
   "metadata": {},
   "outputs": [
    {
     "name": "stdout",
     "output_type": "stream",
     "text": [
      "Nem of the account : James\n",
      "Saving amount is : 16350\n",
      "Interest rate is :  0.05\n",
      "Total amount in account is : 17167.5\n"
     ]
    }
   ],
   "source": [
    "saving_details(\"James\",0.05,25000,8650)"
   ]
  },
  {
   "cell_type": "code",
   "execution_count": 13,
   "id": "e572d66f",
   "metadata": {},
   "outputs": [],
   "source": [
    "def saving_details(name,IR,salary,expenses):\n",
    "    print(\"Nem of the account :\",name)\n",
    "    expenses = expenses + 300\n",
    "    saving = salary - expenses\n",
    "    print(\"Saving amount is :\",saving)\n",
    "    print(\"Interest rate is : \", IR)\n",
    "    print(\"Total amount in account is :\", saving+(saving*IR))"
   ]
  },
  {
   "cell_type": "code",
   "execution_count": 14,
   "id": "8903b2c0",
   "metadata": {},
   "outputs": [
    {
     "name": "stdout",
     "output_type": "stream",
     "text": [
      "Nem of the account : akshay\n",
      "Saving amount is : 13700\n",
      "Interest rate is :  0.04\n",
      "Total amount in account is : 14248.0\n"
     ]
    }
   ],
   "source": [
    "saving_details(name,IR,salary,expenses)"
   ]
  },
  {
   "cell_type": "code",
   "execution_count": 15,
   "id": "fe4ed04d",
   "metadata": {},
   "outputs": [
    {
     "data": {
      "text/plain": [
       "('akshay', 0.04, 20000, 6000)"
      ]
     },
     "execution_count": 15,
     "metadata": {},
     "output_type": "execute_result"
    }
   ],
   "source": [
    "name,IR,salary,expenses"
   ]
  },
  {
   "cell_type": "code",
   "execution_count": 16,
   "id": "a4dd2afd",
   "metadata": {},
   "outputs": [],
   "source": [
    "def saving_details(name,IR,salary,expenses):\n",
    "    name = \"Akshay Kumar\"\n",
    "    print(\"Nem of the account :\",name)\n",
    "    salary = salary + 5000\n",
    "    expenses = expenses + 300\n",
    "    saving = salary - expenses\n",
    "    IR = IR + 0.05\n",
    "    print(\"Saving amount is :\",saving)\n",
    "    print(\"Interest rate is : \", IR)\n",
    "    print(\"Total amount in account is :\", saving+(saving*IR))"
   ]
  },
  {
   "cell_type": "code",
   "execution_count": 18,
   "id": "04fd304e",
   "metadata": {},
   "outputs": [
    {
     "name": "stdout",
     "output_type": "stream",
     "text": [
      "Nem of the account : Akshay Kumar\n",
      "Saving amount is : 18700\n",
      "Interest rate is :  0.09\n",
      "Total amount in account is : 20383.0\n"
     ]
    }
   ],
   "source": [
    "saving_details(name,IR,salary,expenses)"
   ]
  },
  {
   "cell_type": "code",
   "execution_count": 19,
   "id": "d3e95e67",
   "metadata": {},
   "outputs": [
    {
     "data": {
      "text/plain": [
       "('akshay', 0.04, 20000, 6000)"
      ]
     },
     "execution_count": 19,
     "metadata": {},
     "output_type": "execute_result"
    }
   ],
   "source": [
    "name,IR,salary,expenses"
   ]
  },
  {
   "cell_type": "code",
   "execution_count": 20,
   "id": "b826d0e7",
   "metadata": {},
   "outputs": [],
   "source": [
    "fruit_list = [\"Apple\",\"Banana\",\"Grapes\"]"
   ]
  },
  {
   "cell_type": "code",
   "execution_count": 21,
   "id": "861993e9",
   "metadata": {},
   "outputs": [
    {
     "name": "stdout",
     "output_type": "stream",
     "text": [
      "Inside function list : ['Orange', 'Kiwi']\n",
      "\n",
      "Outside function : ['Apple', 'Banana', 'Grapes']\n"
     ]
    }
   ],
   "source": [
    "def fruit_fun(fruit_list):\n",
    "    fruit_list = [\"Orange\",\"Kiwi\"]\n",
    "    print(\"Inside function list :\",fruit_list)\n",
    "fruit_fun(fruit_list)\n",
    "print()\n",
    "print(\"Outside function :\",fruit_list)"
   ]
  },
  {
   "cell_type": "code",
   "execution_count": 22,
   "id": "9cf3211e",
   "metadata": {},
   "outputs": [],
   "source": [
    "fruit_list = [\"mango\",\"Cherry\"]"
   ]
  },
  {
   "cell_type": "code",
   "execution_count": 23,
   "id": "e2d2e422",
   "metadata": {},
   "outputs": [
    {
     "name": "stdout",
     "output_type": "stream",
     "text": [
      "Inside function list : ['Orange', 'Kiwi']\n"
     ]
    }
   ],
   "source": [
    "fruit_fun(fruit_list)"
   ]
  },
  {
   "cell_type": "code",
   "execution_count": 24,
   "id": "cd0e8721",
   "metadata": {},
   "outputs": [],
   "source": [
    "car_tuple = (\"Audi\",\"Benz\",\"BMW\",\"Honda\")"
   ]
  },
  {
   "cell_type": "code",
   "execution_count": 25,
   "id": "3ad91b1e",
   "metadata": {},
   "outputs": [
    {
     "name": "stdout",
     "output_type": "stream",
     "text": [
      "Inside function : ('swift', 'Tata')\n",
      "\n",
      "Outside function : ('Audi', 'Benz', 'BMW', 'Honda')\n"
     ]
    }
   ],
   "source": [
    "def car_fun(car_tuple):\n",
    "    car_tuple = (\"swift\",\"Tata\")\n",
    "    print(\"Inside function :\",car_tuple)\n",
    "car_fun(car_tuple)\n",
    "print()\n",
    "print(\"Outside function :\",car_tuple)"
   ]
  },
  {
   "cell_type": "code",
   "execution_count": 26,
   "id": "f2a91031",
   "metadata": {},
   "outputs": [
    {
     "name": "stdout",
     "output_type": "stream",
     "text": [
      "Inside function : This is car tuple\n",
      "\n",
      "Outside function : ('Audi', 'Benz', 'BMW', 'Honda')\n"
     ]
    }
   ],
   "source": [
    "def car_fun(car_tuple):\n",
    "    car_tuple = 'This is car tuple'\n",
    "    print(\"Inside function :\",car_tuple)\n",
    "car_fun(car_tuple)\n",
    "print()\n",
    "print(\"Outside function :\",car_tuple)"
   ]
  },
  {
   "cell_type": "code",
   "execution_count": 27,
   "id": "e1c61233",
   "metadata": {},
   "outputs": [],
   "source": [
    "bike_dict = {\"Hero\":2400,\n",
    "            \"honda\":4653,\n",
    "            \"bajaj\":6453,\n",
    "            \"Yamaha\":5466}"
   ]
  },
  {
   "cell_type": "code",
   "execution_count": 28,
   "id": "b73753cf",
   "metadata": {},
   "outputs": [
    {
     "name": "stdout",
     "output_type": "stream",
     "text": [
      "Inside function : {'BMW': 7875}\n",
      "\n",
      "Outside function : {'Hero': 2400, 'honda': 4653, 'bajaj': 6453, 'Yamaha': 5466}\n"
     ]
    }
   ],
   "source": [
    "def bike_fun(bike_dict):\n",
    "    bike_dict = {\"BMW\":7875}\n",
    "    print(\"Inside function :\",bike_dict)\n",
    "bike_fun(bike_dict)\n",
    "print()\n",
    "print(\"Outside function :\",bike_dict)"
   ]
  },
  {
   "cell_type": "markdown",
   "id": "30387821",
   "metadata": {},
   "source": [
    "# Passing by refference ---------------------- (Modify the out side data as well)\n",
    "\n"
   ]
  },
  {
   "cell_type": "code",
   "execution_count": 30,
   "id": "7674e0a7",
   "metadata": {},
   "outputs": [],
   "source": [
    "fruit_list = [\"Apple\",\"Orangr\",\"Kiwi\",\"Cherry\"]"
   ]
  },
  {
   "cell_type": "code",
   "execution_count": 31,
   "id": "068c757b",
   "metadata": {},
   "outputs": [
    {
     "name": "stdout",
     "output_type": "stream",
     "text": [
      "Insede function : ['Green Apple', 'Orangr', 'Kiwi', 'Cherry']\n",
      "\n",
      "Outside function : ['Green Apple', 'Orangr', 'Kiwi', 'Cherry']\n"
     ]
    }
   ],
   "source": [
    "def fruit_fn(fruit_list):\n",
    "    fruit_list[0] = \"Green Apple\"\n",
    "    print(\"Insede function :\",fruit_list)\n",
    "fruit_fn(fruit_list)\n",
    "print()\n",
    "print(\"Outside function :\",fruit_list)"
   ]
  },
  {
   "cell_type": "code",
   "execution_count": 32,
   "id": "2b12bd36",
   "metadata": {},
   "outputs": [],
   "source": [
    "fruit_list =[\"Watermelon\",\"strawberry\"]"
   ]
  },
  {
   "cell_type": "code",
   "execution_count": 33,
   "id": "6d05b568",
   "metadata": {},
   "outputs": [
    {
     "name": "stdout",
     "output_type": "stream",
     "text": [
      "Insede function : ['Green Apple', 'strawberry']\n"
     ]
    }
   ],
   "source": [
    "fruit_fn(fruit_list)"
   ]
  },
  {
   "cell_type": "code",
   "execution_count": 34,
   "id": "7173d643",
   "metadata": {},
   "outputs": [
    {
     "data": {
      "text/plain": [
       "['Green Apple', 'strawberry']"
      ]
     },
     "execution_count": 34,
     "metadata": {},
     "output_type": "execute_result"
    }
   ],
   "source": [
    "fruit_list"
   ]
  },
  {
   "cell_type": "code",
   "execution_count": 35,
   "id": "319c1fde",
   "metadata": {},
   "outputs": [
    {
     "name": "stdout",
     "output_type": "stream",
     "text": [
      "Insede function : ['Apple', 'Orangr', 'Kiwi', 'Cherry', 'BlueBerry']\n",
      "\n",
      "Outside function : ['Apple', 'Orangr', 'Kiwi', 'Cherry', 'BlueBerry']\n"
     ]
    }
   ],
   "source": [
    "fruit_list = [\"Apple\",\"Orangr\",\"Kiwi\",\"Cherry\"]\n",
    "def fruit_fn(fruit_list):\n",
    "    fruit_list.append(\"BlueBerry\")\n",
    "    print(\"Insede function :\",fruit_list)\n",
    "fruit_fn(fruit_list)\n",
    "print()\n",
    "print(\"Outside function :\",fruit_list)"
   ]
  },
  {
   "cell_type": "code",
   "execution_count": 38,
   "id": "aebab259",
   "metadata": {},
   "outputs": [
    {
     "name": "stdout",
     "output_type": "stream",
     "text": [
      "Inside function : ['Apple', 'Cherry', 'Kiwi']\n",
      "\n",
      "Outside function : ['Apple', 'Cherry', 'Kiwi']\n"
     ]
    }
   ],
   "source": [
    "fruit_list = [\"Apple\",\"Orangr\",\"Kiwi\",\"Cherry\"]\n",
    "def fruit_fn(my_list):\n",
    "    my_list.sort()\n",
    "    my_list.pop()\n",
    "    print(\"Inside function :\",my_list)\n",
    "fruit_fn(fruit_list)\n",
    "print()\n",
    "print(\"Outside function :\",fruit_list)"
   ]
  },
  {
   "cell_type": "code",
   "execution_count": 40,
   "id": "6a0bedfe",
   "metadata": {},
   "outputs": [],
   "source": [
    "bike_price_dict = {\"Hero\":2400,\n",
    "            \"honda\":4653,\n",
    "            \"bajaj\":6453,\n",
    "            \"Yamaha\":5466}"
   ]
  },
  {
   "cell_type": "code",
   "execution_count": 45,
   "id": "5abf490f",
   "metadata": {},
   "outputs": [
    {
     "name": "stdout",
     "output_type": "stream",
     "text": [
      "Inside function : {'Hero': 6666, 'honda': 4653, 'bajaj': 6453, 'Yamaha': 5466}\n",
      "\n",
      "Outside the function : {'Hero': 6666, 'honda': 4653, 'bajaj': 6453, 'Yamaha': 5466}\n"
     ]
    }
   ],
   "source": [
    "def bike_price_fun(bike_dict):\n",
    "    bike_dict[\"Hero\"] = 6666\n",
    "    print(\"Inside function :\", bike_dict)\n",
    "bike_price_fun(bike_price_dict)\n",
    "print()\n",
    "print(\"Outside the function :\",bike_price_dict)  "
   ]
  },
  {
   "cell_type": "code",
   "execution_count": 46,
   "id": "fab887d3",
   "metadata": {},
   "outputs": [
    {
     "name": "stdout",
     "output_type": "stream",
     "text": [
      "Inside function : {'Hero': 6666, 'honda': 4653, 'bajaj': 6453, 'Yamaha': 5466, 'BMW': 10000}\n",
      "\n",
      "Outside the function : {'Hero': 6666, 'honda': 4653, 'bajaj': 6453, 'Yamaha': 5466, 'BMW': 10000}\n"
     ]
    }
   ],
   "source": [
    "def bike_price_fun(bike_dict):\n",
    "    bike_dict[\"BMW\"] = 10000\n",
    "    print(\"Inside function :\", bike_dict)\n",
    "bike_price_fun(bike_price_dict)\n",
    "print()\n",
    "print(\"Outside the function :\",bike_price_dict) "
   ]
  },
  {
   "cell_type": "code",
   "execution_count": 49,
   "id": "154df113",
   "metadata": {},
   "outputs": [
    {
     "name": "stdout",
     "output_type": "stream",
     "text": [
      "Inside function : {'Hero': 6666, 'honda': 4653, 'bajaj': 6453, 'Yamaha': 5466}\n",
      "\n",
      "Outside the function : {'Hero': 6666, 'honda': 4653, 'bajaj': 6453, 'Yamaha': 5466}\n"
     ]
    }
   ],
   "source": [
    "def bike_price_fun(bike_dict):\n",
    "     del bike_dict[\"BMW\"]\n",
    "     print(\"Inside function :\", bike_dict)\n",
    "bike_price_fun(bike_price_dict)\n",
    "print()\n",
    "print(\"Outside the function :\",bike_price_dict) "
   ]
  },
  {
   "cell_type": "code",
   "execution_count": null,
   "id": "519a9eb6",
   "metadata": {},
   "outputs": [],
   "source": []
  }
 ],
 "metadata": {
  "kernelspec": {
   "display_name": "Python 3 (ipykernel)",
   "language": "python",
   "name": "python3"
  },
  "language_info": {
   "codemirror_mode": {
    "name": "ipython",
    "version": 3
   },
   "file_extension": ".py",
   "mimetype": "text/x-python",
   "name": "python",
   "nbconvert_exporter": "python",
   "pygments_lexer": "ipython3",
   "version": "3.11.3"
  }
 },
 "nbformat": 4,
 "nbformat_minor": 5
}
