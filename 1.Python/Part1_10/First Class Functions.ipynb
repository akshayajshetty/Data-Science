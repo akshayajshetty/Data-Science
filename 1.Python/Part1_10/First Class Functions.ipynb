{
 "cells": [
  {
   "cell_type": "markdown",
   "id": "0a6b7e65",
   "metadata": {},
   "source": [
    "# Functions as arguments - input arguments"
   ]
  },
  {
   "cell_type": "code",
   "execution_count": 1,
   "id": "d729840f",
   "metadata": {},
   "outputs": [],
   "source": [
    "def hello(name):\n",
    "    print(\"Hello \",name)"
   ]
  },
  {
   "cell_type": "code",
   "execution_count": 2,
   "id": "a0fcb9a3",
   "metadata": {},
   "outputs": [
    {
     "name": "stdout",
     "output_type": "stream",
     "text": [
      "Hello  Akshay\n"
     ]
    }
   ],
   "source": [
    "hello(\"Akshay\")"
   ]
  },
  {
   "cell_type": "code",
   "execution_count": 4,
   "id": "20723c9a",
   "metadata": {},
   "outputs": [
    {
     "data": {
      "text/plain": [
       "<function __main__.hello(name)>"
      ]
     },
     "execution_count": 4,
     "metadata": {},
     "output_type": "execute_result"
    }
   ],
   "source": [
    "hello"
   ]
  },
  {
   "cell_type": "code",
   "execution_count": 5,
   "id": "dd9b077a",
   "metadata": {},
   "outputs": [],
   "source": [
    "greet = hello"
   ]
  },
  {
   "cell_type": "code",
   "execution_count": 6,
   "id": "794ff7cd",
   "metadata": {},
   "outputs": [
    {
     "name": "stdout",
     "output_type": "stream",
     "text": [
      "Hello  Akshay\n"
     ]
    }
   ],
   "source": [
    "greet(\"Akshay\")"
   ]
  },
  {
   "cell_type": "code",
   "execution_count": 9,
   "id": "092dba05",
   "metadata": {},
   "outputs": [],
   "source": [
    "calculate = len"
   ]
  },
  {
   "cell_type": "code",
   "execution_count": 10,
   "id": "10bb536f",
   "metadata": {},
   "outputs": [
    {
     "data": {
      "text/plain": [
       "9"
      ]
     },
     "execution_count": 10,
     "metadata": {},
     "output_type": "execute_result"
    }
   ],
   "source": [
    "calculate(\"Something\")"
   ]
  },
  {
   "cell_type": "code",
   "execution_count": 11,
   "id": "3eda81e2",
   "metadata": {},
   "outputs": [
    {
     "data": {
      "text/plain": [
       "True"
      ]
     },
     "execution_count": 11,
     "metadata": {},
     "output_type": "execute_result"
    }
   ],
   "source": [
    "calculate == len"
   ]
  },
  {
   "cell_type": "code",
   "execution_count": 12,
   "id": "1a89333a",
   "metadata": {},
   "outputs": [
    {
     "data": {
      "text/plain": [
       "6"
      ]
     },
     "execution_count": 12,
     "metadata": {},
     "output_type": "execute_result"
    }
   ],
   "source": [
    "calculate([1,2,3,4,5,6])"
   ]
  },
  {
   "cell_type": "code",
   "execution_count": 13,
   "id": "ef7987b3",
   "metadata": {},
   "outputs": [],
   "source": [
    "import math"
   ]
  },
  {
   "cell_type": "code",
   "execution_count": 15,
   "id": "5fc27b66",
   "metadata": {},
   "outputs": [],
   "source": [
    "def area_of_circle(radius):\n",
    "    return math.pi * radius * radius"
   ]
  },
  {
   "cell_type": "code",
   "execution_count": 19,
   "id": "f8a6ea8a",
   "metadata": {},
   "outputs": [],
   "source": [
    "def perimeter_of_circle(radius):\n",
    "    return 2 * math.pi * radius"
   ]
  },
  {
   "cell_type": "code",
   "execution_count": 20,
   "id": "4a20fe5d",
   "metadata": {},
   "outputs": [],
   "source": [
    "def diameter_of_circle(radius):\n",
    "    return 2 * radius"
   ]
  },
  {
   "cell_type": "code",
   "execution_count": 26,
   "id": "b5e696a3",
   "metadata": {},
   "outputs": [],
   "source": [
    "def calculate_of_circle(radius,fn):\n",
    "    return fn(radius)"
   ]
  },
  {
   "cell_type": "code",
   "execution_count": 22,
   "id": "75d76594",
   "metadata": {},
   "outputs": [
    {
     "data": {
      "text/plain": [
       "113.09733552923255"
      ]
     },
     "execution_count": 22,
     "metadata": {},
     "output_type": "execute_result"
    }
   ],
   "source": [
    "calculate_of_circle(6,area_of_circle)"
   ]
  },
  {
   "cell_type": "code",
   "execution_count": 23,
   "id": "2c3da39e",
   "metadata": {},
   "outputs": [
    {
     "data": {
      "text/plain": [
       "37.69911184307752"
      ]
     },
     "execution_count": 23,
     "metadata": {},
     "output_type": "execute_result"
    }
   ],
   "source": [
    "calculate_of_circle(6,perimeter_of_circle)"
   ]
  },
  {
   "cell_type": "code",
   "execution_count": 24,
   "id": "a03c80d4",
   "metadata": {},
   "outputs": [
    {
     "data": {
      "text/plain": [
       "12"
      ]
     },
     "execution_count": 24,
     "metadata": {},
     "output_type": "execute_result"
    }
   ],
   "source": [
    "calculate_of_circle(6,diameter_of_circle)"
   ]
  },
  {
   "cell_type": "markdown",
   "id": "c5e6e6fc",
   "metadata": {},
   "source": [
    "# Functions as arguments - variable arguments"
   ]
  },
  {
   "cell_type": "code",
   "execution_count": 33,
   "id": "14029bb0",
   "metadata": {},
   "outputs": [],
   "source": [
    "def calculate(*args,fn):\n",
    "    return fn(*args)"
   ]
  },
  {
   "cell_type": "code",
   "execution_count": 36,
   "id": "ebedd419",
   "metadata": {},
   "outputs": [
    {
     "data": {
      "text/plain": [
       "20"
      ]
     },
     "execution_count": 36,
     "metadata": {},
     "output_type": "execute_result"
    }
   ],
   "source": [
    "calculate(10,fn=diameter_of_circle)"
   ]
  },
  {
   "cell_type": "code",
   "execution_count": 37,
   "id": "e0da8e53",
   "metadata": {},
   "outputs": [
    {
     "data": {
      "text/plain": [
       "62.83185307179586"
      ]
     },
     "execution_count": 37,
     "metadata": {},
     "output_type": "execute_result"
    }
   ],
   "source": [
    "calculate(10,fn=perimeter_of_circle)"
   ]
  },
  {
   "cell_type": "code",
   "execution_count": 40,
   "id": "49520d06",
   "metadata": {},
   "outputs": [],
   "source": [
    "def area_of_rectangle(breadth, width):\n",
    "    return breadth * width  "
   ]
  },
  {
   "cell_type": "code",
   "execution_count": 41,
   "id": "00961e7b",
   "metadata": {},
   "outputs": [
    {
     "data": {
      "text/plain": [
       "200"
      ]
     },
     "execution_count": 41,
     "metadata": {},
     "output_type": "execute_result"
    }
   ],
   "source": [
    "calculate(10,20,fn=area_of_rectangle)"
   ]
  },
  {
   "cell_type": "code",
   "execution_count": 42,
   "id": "3e1759fb",
   "metadata": {},
   "outputs": [
    {
     "ename": "TypeError",
     "evalue": "area_of_rectangle() missing 1 required positional argument: 'width'",
     "output_type": "error",
     "traceback": [
      "\u001b[1;31m---------------------------------------------------------------------------\u001b[0m",
      "\u001b[1;31mTypeError\u001b[0m                                 Traceback (most recent call last)",
      "Input \u001b[1;32mIn [42]\u001b[0m, in \u001b[0;36m<cell line: 1>\u001b[1;34m()\u001b[0m\n\u001b[1;32m----> 1\u001b[0m \u001b[43mcalculate\u001b[49m\u001b[43m(\u001b[49m\u001b[38;5;241;43m10\u001b[39;49m\u001b[43m,\u001b[49m\u001b[43mfn\u001b[49m\u001b[38;5;241;43m=\u001b[39;49m\u001b[43marea_of_rectangle\u001b[49m\u001b[43m)\u001b[49m\n",
      "Input \u001b[1;32mIn [33]\u001b[0m, in \u001b[0;36mcalculate\u001b[1;34m(fn, *args)\u001b[0m\n\u001b[0;32m      1\u001b[0m \u001b[38;5;28;01mdef\u001b[39;00m \u001b[38;5;21mcalculate\u001b[39m(\u001b[38;5;241m*\u001b[39margs,fn):\n\u001b[1;32m----> 2\u001b[0m     \u001b[38;5;28;01mreturn\u001b[39;00m \u001b[43mfn\u001b[49m\u001b[43m(\u001b[49m\u001b[38;5;241;43m*\u001b[39;49m\u001b[43margs\u001b[49m\u001b[43m)\u001b[49m\n",
      "\u001b[1;31mTypeError\u001b[0m: area_of_rectangle() missing 1 required positional argument: 'width'"
     ]
    }
   ],
   "source": [
    "calculate(10,fn=area_of_rectangle)"
   ]
  },
  {
   "cell_type": "markdown",
   "id": "0acc8e75",
   "metadata": {},
   "source": [
    "# Functions as return value"
   ]
  },
  {
   "cell_type": "code",
   "execution_count": 44,
   "id": "a6e0f3e8",
   "metadata": {},
   "outputs": [],
   "source": [
    "def add(a,b):\n",
    "    return a+b\n",
    "def sub(a,b):\n",
    "    return a-b\n",
    "def mul(a,b):\n",
    "    return a*b\n",
    "def div(a,b):\n",
    "    return a/b"
   ]
  },
  {
   "cell_type": "code",
   "execution_count": 72,
   "id": "2f7a4784",
   "metadata": {},
   "outputs": [],
   "source": [
    "def get_function(operator=\"+\"):\n",
    "    if operator == \"+\":\n",
    "        return add\n",
    "    if operator == \"-\":\n",
    "        return sub\n",
    "    if operator == \"*\":\n",
    "        return mul\n",
    "    if operator == \"/\":\n",
    "        return div\n",
    "    "
   ]
  },
  {
   "cell_type": "code",
   "execution_count": 54,
   "id": "57ef83e6",
   "metadata": {},
   "outputs": [
    {
     "data": {
      "text/plain": [
       "<function __main__.add(a, b)>"
      ]
     },
     "execution_count": 54,
     "metadata": {},
     "output_type": "execute_result"
    }
   ],
   "source": [
    "fun = get_function(\"+\")\n",
    "fun"
   ]
  },
  {
   "cell_type": "code",
   "execution_count": 55,
   "id": "6d956932",
   "metadata": {},
   "outputs": [
    {
     "data": {
      "text/plain": [
       "11"
      ]
     },
     "execution_count": 55,
     "metadata": {},
     "output_type": "execute_result"
    }
   ],
   "source": [
    "fun(4,7)"
   ]
  },
  {
   "cell_type": "code",
   "execution_count": 56,
   "id": "b3e36654",
   "metadata": {},
   "outputs": [
    {
     "data": {
      "text/plain": [
       "<function __main__.sub(a, b)>"
      ]
     },
     "execution_count": 56,
     "metadata": {},
     "output_type": "execute_result"
    }
   ],
   "source": [
    "fun = get_function(\"-\")\n",
    "fun"
   ]
  },
  {
   "cell_type": "code",
   "execution_count": 57,
   "id": "44e328ae",
   "metadata": {},
   "outputs": [
    {
     "data": {
      "text/plain": [
       "2"
      ]
     },
     "execution_count": 57,
     "metadata": {},
     "output_type": "execute_result"
    }
   ],
   "source": [
    "fun(5,3)"
   ]
  },
  {
   "cell_type": "code",
   "execution_count": 58,
   "id": "5c4fd5d4",
   "metadata": {},
   "outputs": [],
   "source": [
    "calc_dictionary = {\"+\":add,\n",
    "                  \"-\":sub,\n",
    "                   \"*\":mul,\n",
    "                   \"/\":div}"
   ]
  },
  {
   "cell_type": "code",
   "execution_count": 64,
   "id": "b7e8dfa2",
   "metadata": {},
   "outputs": [
    {
     "data": {
      "text/plain": [
       "<function __main__.div(a, b)>"
      ]
     },
     "execution_count": 64,
     "metadata": {},
     "output_type": "execute_result"
    }
   ],
   "source": [
    "fun = calc_dictionary[\"/\"]\n",
    "fun"
   ]
  },
  {
   "cell_type": "code",
   "execution_count": 65,
   "id": "a10b8612",
   "metadata": {},
   "outputs": [
    {
     "data": {
      "text/plain": [
       "0.6666666666666666"
      ]
     },
     "execution_count": 65,
     "metadata": {},
     "output_type": "execute_result"
    }
   ],
   "source": [
    "fun(4,6)"
   ]
  },
  {
   "cell_type": "code",
   "execution_count": 73,
   "id": "3dd8ffe4",
   "metadata": {},
   "outputs": [
    {
     "data": {
      "text/plain": [
       "48"
      ]
     },
     "execution_count": 73,
     "metadata": {},
     "output_type": "execute_result"
    }
   ],
   "source": [
    "calc_dictionary[\"*\"](6,8)"
   ]
  },
  {
   "cell_type": "code",
   "execution_count": null,
   "id": "4903e9c7",
   "metadata": {},
   "outputs": [],
   "source": []
  }
 ],
 "metadata": {
  "kernelspec": {
   "display_name": "Python 3 (ipykernel)",
   "language": "python",
   "name": "python3"
  },
  "language_info": {
   "codemirror_mode": {
    "name": "ipython",
    "version": 3
   },
   "file_extension": ".py",
   "mimetype": "text/x-python",
   "name": "python",
   "nbconvert_exporter": "python",
   "pygments_lexer": "ipython3",
   "version": "3.11.3"
  }
 },
 "nbformat": 4,
 "nbformat_minor": 5
}
