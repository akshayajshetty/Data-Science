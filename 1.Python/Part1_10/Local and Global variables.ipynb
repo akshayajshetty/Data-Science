{
 "cells": [
  {
   "cell_type": "code",
   "execution_count": 30,
   "id": "89a5d4c2",
   "metadata": {},
   "outputs": [],
   "source": [
    "country = \"India\"\n",
    "city = \"Bengalore\"                        #Global variables"
   ]
  },
  {
   "cell_type": "code",
   "execution_count": 4,
   "id": "cbd9db48",
   "metadata": {},
   "outputs": [],
   "source": [
    "def some():\n",
    "    print(\"Country :\",country)\n",
    "    print(\"City :\",city)"
   ]
  },
  {
   "cell_type": "code",
   "execution_count": 5,
   "id": "44ec9c11",
   "metadata": {},
   "outputs": [
    {
     "name": "stdout",
     "output_type": "stream",
     "text": [
      "Country : India\n",
      "City : Bengalore\n"
     ]
    }
   ],
   "source": [
    "some()"
   ]
  },
  {
   "cell_type": "code",
   "execution_count": 6,
   "id": "84e54631",
   "metadata": {},
   "outputs": [],
   "source": [
    "def some():\n",
    "    country = \"USA\"\n",
    "    print(\"Country :\",country)\n",
    "    print(\"City :\",city)                 # ountry = \"USA\"  is local variable"
   ]
  },
  {
   "cell_type": "code",
   "execution_count": 7,
   "id": "4219e928",
   "metadata": {},
   "outputs": [
    {
     "name": "stdout",
     "output_type": "stream",
     "text": [
      "Country : USA\n",
      "City : Bengalore\n"
     ]
    }
   ],
   "source": [
    "some()"
   ]
  },
  {
   "cell_type": "code",
   "execution_count": 9,
   "id": "9fe45319",
   "metadata": {},
   "outputs": [
    {
     "data": {
      "text/plain": [
       "('India', 'Bengalore')"
      ]
     },
     "execution_count": 9,
     "metadata": {},
     "output_type": "execute_result"
    }
   ],
   "source": [
    "country,city"
   ]
  },
  {
   "cell_type": "code",
   "execution_count": 10,
   "id": "13712f0f",
   "metadata": {},
   "outputs": [],
   "source": [
    "def some():\n",
    "    city = \"Delhi\"\n",
    "    print(\"Country :\",country)\n",
    "    print(\"City :\",city) "
   ]
  },
  {
   "cell_type": "code",
   "execution_count": 11,
   "id": "5a68ce18",
   "metadata": {},
   "outputs": [
    {
     "name": "stdout",
     "output_type": "stream",
     "text": [
      "Country : India\n",
      "City : Delhi\n"
     ]
    }
   ],
   "source": [
    "some()"
   ]
  },
  {
   "cell_type": "code",
   "execution_count": 12,
   "id": "581a94aa",
   "metadata": {},
   "outputs": [
    {
     "data": {
      "text/plain": [
       "('India', 'Bengalore')"
      ]
     },
     "execution_count": 12,
     "metadata": {},
     "output_type": "execute_result"
    }
   ],
   "source": [
    "country,city"
   ]
  },
  {
   "cell_type": "code",
   "execution_count": 13,
   "id": "7dc181db",
   "metadata": {},
   "outputs": [],
   "source": [
    "def some():\n",
    "    city = city + \"Delhi\"\n",
    "    print(\"Country :\",country)\n",
    "    print(\"City :\",city) "
   ]
  },
  {
   "cell_type": "code",
   "execution_count": 14,
   "id": "42c771bc",
   "metadata": {},
   "outputs": [
    {
     "ename": "UnboundLocalError",
     "evalue": "local variable 'city' referenced before assignment",
     "output_type": "error",
     "traceback": [
      "\u001b[1;31m---------------------------------------------------------------------------\u001b[0m",
      "\u001b[1;31mUnboundLocalError\u001b[0m                         Traceback (most recent call last)",
      "Input \u001b[1;32mIn [14]\u001b[0m, in \u001b[0;36m<cell line: 1>\u001b[1;34m()\u001b[0m\n\u001b[1;32m----> 1\u001b[0m \u001b[43msome\u001b[49m\u001b[43m(\u001b[49m\u001b[43m)\u001b[49m\n",
      "Input \u001b[1;32mIn [13]\u001b[0m, in \u001b[0;36msome\u001b[1;34m()\u001b[0m\n\u001b[0;32m      1\u001b[0m \u001b[38;5;28;01mdef\u001b[39;00m \u001b[38;5;21msome\u001b[39m():\n\u001b[1;32m----> 2\u001b[0m     city \u001b[38;5;241m=\u001b[39m \u001b[43mcity\u001b[49m \u001b[38;5;241m+\u001b[39m \u001b[38;5;124m\"\u001b[39m\u001b[38;5;124mDelhi\u001b[39m\u001b[38;5;124m\"\u001b[39m\n\u001b[0;32m      3\u001b[0m     \u001b[38;5;28mprint\u001b[39m(\u001b[38;5;124m\"\u001b[39m\u001b[38;5;124mCountry :\u001b[39m\u001b[38;5;124m\"\u001b[39m,country)\n\u001b[0;32m      4\u001b[0m     \u001b[38;5;28mprint\u001b[39m(\u001b[38;5;124m\"\u001b[39m\u001b[38;5;124mCity :\u001b[39m\u001b[38;5;124m\"\u001b[39m,city)\n",
      "\u001b[1;31mUnboundLocalError\u001b[0m: local variable 'city' referenced before assignment"
     ]
    }
   ],
   "source": [
    "some()"
   ]
  },
  {
   "cell_type": "code",
   "execution_count": 15,
   "id": "f9fccd22",
   "metadata": {},
   "outputs": [],
   "source": [
    "def some():\n",
    "    city = \"Bengalore\"\n",
    "    city = city + \"-Delhi\"\n",
    "    print(\"Country :\",country)\n",
    "    print(\"City :\",city) "
   ]
  },
  {
   "cell_type": "code",
   "execution_count": 16,
   "id": "3f6ed01b",
   "metadata": {},
   "outputs": [
    {
     "name": "stdout",
     "output_type": "stream",
     "text": [
      "Country : India\n",
      "City : Bengalore-Delhi\n"
     ]
    }
   ],
   "source": [
    "some()"
   ]
  },
  {
   "cell_type": "code",
   "execution_count": 17,
   "id": "89413c35",
   "metadata": {},
   "outputs": [
    {
     "data": {
      "text/plain": [
       "('India', 'Bengalore')"
      ]
     },
     "execution_count": 17,
     "metadata": {},
     "output_type": "execute_result"
    }
   ],
   "source": [
    "country,city"
   ]
  },
  {
   "cell_type": "code",
   "execution_count": 18,
   "id": "5d68112e",
   "metadata": {},
   "outputs": [],
   "source": [
    "def some(country,city):\n",
    "    print(\"Country :\",country)\n",
    "    print(\"City :\",city) "
   ]
  },
  {
   "cell_type": "code",
   "execution_count": 19,
   "id": "a4944f93",
   "metadata": {},
   "outputs": [
    {
     "name": "stdout",
     "output_type": "stream",
     "text": [
      "Country : USA\n",
      "City : Washington\n"
     ]
    }
   ],
   "source": [
    "some(\"USA\",\"Washington\")"
   ]
  },
  {
   "cell_type": "code",
   "execution_count": 33,
   "id": "fe4b5597",
   "metadata": {},
   "outputs": [],
   "source": [
    "def some():\n",
    "    global city\n",
    "    city = city + \"-Mumbai\"\n",
    "    print(\"Country :\",country)\n",
    "    print(\"City :\",city) "
   ]
  },
  {
   "cell_type": "code",
   "execution_count": 34,
   "id": "28dcfb80",
   "metadata": {},
   "outputs": [
    {
     "name": "stdout",
     "output_type": "stream",
     "text": [
      "Country : India\n",
      "City : Bengalore-Mumbai\n"
     ]
    }
   ],
   "source": [
    "some()"
   ]
  },
  {
   "cell_type": "code",
   "execution_count": 37,
   "id": "39af8c41",
   "metadata": {},
   "outputs": [],
   "source": [
    "country\n",
    "city=\"Bengalore\""
   ]
  },
  {
   "cell_type": "code",
   "execution_count": 38,
   "id": "688f1a6e",
   "metadata": {},
   "outputs": [],
   "source": [
    "def some():\n",
    "    global city,country\n",
    "    country = country + \"-World\"\n",
    "    city = city + \"-Mumbai\"\n",
    "    print(\"Country :\",country)\n",
    "    print(\"City :\",city) "
   ]
  },
  {
   "cell_type": "code",
   "execution_count": 39,
   "id": "356be78d",
   "metadata": {},
   "outputs": [
    {
     "name": "stdout",
     "output_type": "stream",
     "text": [
      "Country : India-World\n",
      "City : Bengalore-Mumbai\n"
     ]
    }
   ],
   "source": [
    "some()"
   ]
  },
  {
   "cell_type": "code",
   "execution_count": null,
   "id": "e50f7c9a",
   "metadata": {},
   "outputs": [],
   "source": []
  }
 ],
 "metadata": {
  "kernelspec": {
   "display_name": "Python 3 (ipykernel)",
   "language": "python",
   "name": "python3"
  },
  "language_info": {
   "codemirror_mode": {
    "name": "ipython",
    "version": 3
   },
   "file_extension": ".py",
   "mimetype": "text/x-python",
   "name": "python",
   "nbconvert_exporter": "python",
   "pygments_lexer": "ipython3",
   "version": "3.11.3"
  }
 },
 "nbformat": 4,
 "nbformat_minor": 5
}
